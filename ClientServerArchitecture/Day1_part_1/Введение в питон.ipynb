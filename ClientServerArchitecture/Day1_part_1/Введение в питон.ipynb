{
 "cells": [
  {
   "cell_type": "markdown",
   "metadata": {},
   "source": [
    "# Введение"
   ]
  },
  {
   "cell_type": "markdown",
   "metadata": {},
   "source": [
    "Краткая справка: \n",
    "Код пишется в блоках ниже. \n",
    "Код запускается нажатием __shift+enter__"
   ]
  },
  {
   "cell_type": "code",
   "execution_count": 1,
   "metadata": {
    "collapsed": false
   },
   "outputs": [
    {
     "name": "stdout",
     "output_type": "stream",
     "text": [
      "Printing: здесь напишите то, что хотите увидеть\n"
     ]
    }
   ],
   "source": [
    "print \"Printing: \" + \"здесь напишите то, что хотите увидеть\""
   ]
  },
  {
   "cell_type": "markdown",
   "metadata": {},
   "source": [
    "# Основы python"
   ]
  },
  {
   "cell_type": "markdown",
   "metadata": {},
   "source": [
    "## операции"
   ]
  },
  {
   "cell_type": "code",
   "execution_count": 8,
   "metadata": {
    "collapsed": false
   },
   "outputs": [
    {
     "name": "stdout",
     "output_type": "stream",
     "text": [
      "2\n",
      "5\n",
      "-1\n",
      "-5\n"
     ]
    }
   ],
   "source": [
    "print 1+1\n",
    "print 2+3\n",
    "\n",
    "print 2-3\n",
    "print 5-10"
   ]
  },
  {
   "cell_type": "code",
   "execution_count": 7,
   "metadata": {
    "collapsed": false
   },
   "outputs": [
    {
     "name": "stdout",
     "output_type": "stream",
     "text": [
      "6\n",
      "50\n",
      "1024\n",
      "27\n"
     ]
    }
   ],
   "source": [
    "print 2*3\n",
    "print 5*10\n",
    "\n",
    "# строчки ниже - возведение в степень\n",
    "print 2**10\n",
    "print 3**3"
   ]
  },
  {
   "cell_type": "markdown",
   "metadata": {},
   "source": [
    "Питон поддерживает длинную арифметику \"из коробки\""
   ]
  },
  {
   "cell_type": "code",
   "execution_count": 9,
   "metadata": {
    "collapsed": false
   },
   "outputs": [
    {
     "name": "stdout",
     "output_type": "stream",
     "text": [
      "512457227660167652919721216816298450174082579578141321414949405057376701667864944761946512604878280970954895517166660784669535067223776456995955367539450864513317608107459099530181582907549083015757513460695798749619562450736053146868171870251599313177981845657548585765554078334956377334446910990143952144627431424418746280088728554377476598885356187784547299171800766083569138013272203518042882085661164825284152702064013923237334020997919430381708552278707763648774321918404687260445188855608577257870167224513353440101231509405764502749723340699501026999490254558171129110247489696851219515119346549938559274426812749750560286664023034961804812216630491334788741110907635367662320278106636213136164039583026517516941050248797023068140570535141543124368007868639068641651344166307446804891693896722089788471612463756501862347598685490276574906110846963337013328297278639921470526279912175409596013438428162150685223262482022818573344642493674086259433546546657265530526028524650085879056539966802039733915080922533271458566188380967816906549893479078430521414735637870314289422433695525660309191669609698010791353542267282196962430513568872515694514447210163857531873274898322299277805373915319921462559628044902807941560828510135034938404952418245928010254583321021897876964693254202875162790732917865457123208507570741590360064\n"
     ]
    }
   ],
   "source": [
    "print 12**1234"
   ]
  },
  {
   "cell_type": "markdown",
   "metadata": {},
   "source": [
    "Отдельного внимания заслуживает деление. \n",
    "\n",
    "Оператор деления является целочисленным делением, если оба его операнда являются целыми числами. \n",
    "Если хотябы один из операндов является числом с плавающей запятой, результатом деления является также число с плавающей запятой."
   ]
  },
  {
   "cell_type": "code",
   "execution_count": 10,
   "metadata": {
    "collapsed": false
   },
   "outputs": [
    {
     "name": "stdout",
     "output_type": "stream",
     "text": [
      "15/4= 3\n",
      "15.0/4= 3.75\n",
      "15/4.= 3.75\n",
      "15.0/4.0= 3.75\n"
     ]
    }
   ],
   "source": [
    "print \"15/4=\", 15/4\n",
    "print \"15.0/4=\", 15.0/4\n",
    "print \"15/4.=\", 15/4.\n",
    "print \"15.0/4.0=\", 15.0/4.0"
   ]
  },
  {
   "cell_type": "markdown",
   "metadata": {},
   "source": [
    "__%__ - остаток от деления"
   ]
  },
  {
   "cell_type": "code",
   "execution_count": 11,
   "metadata": {
    "collapsed": false
   },
   "outputs": [
    {
     "name": "stdout",
     "output_type": "stream",
     "text": [
      "15 = 3 * 4 + 3\n"
     ]
    }
   ],
   "source": [
    "print \"15 =\", 15/4, \"* 4 +\", 15%4"
   ]
  },
  {
   "cell_type": "markdown",
   "metadata": {},
   "source": [
    "# Задания"
   ]
  },
  {
   "cell_type": "markdown",
   "metadata": {},
   "source": [
    "## Посчитать площадь прямоугольника со сторонами 15.342 и 51.223"
   ]
  },
  {
   "cell_type": "code",
   "execution_count": 12,
   "metadata": {
    "collapsed": false
   },
   "outputs": [
    {
     "name": "stdout",
     "output_type": "stream",
     "text": [
      "785.863266\n"
     ]
    }
   ],
   "source": [
    "print ???"
   ]
  },
  {
   "cell_type": "markdown",
   "metadata": {},
   "source": [
    "## Посчитать объем цилиндра с радиусом 221 и высотой 14 \n",
    "Note: считать\n",
    "$$\\pi=3.14$$ "
   ]
  },
  {
   "cell_type": "code",
   "execution_count": 15,
   "metadata": {
    "collapsed": false
   },
   "outputs": [
    {
     "name": "stdout",
     "output_type": "stream",
     "text": [
      "2147050.36\n"
     ]
    }
   ],
   "source": [
    "print ???"
   ]
  },
  {
   "cell_type": "markdown",
   "metadata": {},
   "source": [
    "## Посчитать тангенс угла A с противолежащим катетом 25 и прилежащим катетом 6"
   ]
  },
  {
   "cell_type": "code",
   "execution_count": null,
   "metadata": {
    "collapsed": true
   },
   "outputs": [],
   "source": []
  },
  {
   "cell_type": "markdown",
   "metadata": {},
   "source": [
    "## * Посчитать площадь правильного тринадцатиугольника с радиусом описанной окружности 220"
   ]
  },
  {
   "cell_type": "code",
   "execution_count": null,
   "metadata": {
    "collapsed": true
   },
   "outputs": [],
   "source": []
  },
  {
   "cell_type": "markdown",
   "metadata": {},
   "source": [
    "# Переменные"
   ]
  },
  {
   "cell_type": "markdown",
   "metadata": {},
   "source": [
    "Питон поддерживает переменные \"тип\" переменных. Однако в отличие от многих других языков питон является языком с \"динамической типизацией\", т.е. тип переменной определяется в момент присваивания значения"
   ]
  },
  {
   "cell_type": "code",
   "execution_count": 19,
   "metadata": {
    "collapsed": false
   },
   "outputs": [
    {
     "name": "stdout",
     "output_type": "stream",
     "text": [
      "<type 'int'> a = 1\n",
      "<type 'float'> b = 1.2\n",
      "<type 'str'> c = Stroka\n",
      "<type 'str'> d = Drugaia stroka\n",
      "\n",
      "<type 'str'> a = Теперь строка\n"
     ]
    }
   ],
   "source": [
    "a = 1\n",
    "b = 1.2\n",
    "c = \"Stroka\"\n",
    "d = 'Drugaia stroka'\n",
    "\n",
    "print type(a), \"a =\", a \n",
    "print type(b), \"b =\", b \n",
    "print type(c), \"c =\", c \n",
    "print type(d), \"d =\", d \n",
    "\n",
    "# целочисленной переменной можно присвоить значение строки, и у нее сменится тип:\n",
    "a = 'Теперь строка'\n",
    "print\n",
    "print type(a), \"a =\", a "
   ]
  },
  {
   "cell_type": "markdown",
   "metadata": {},
   "source": [
    "# Задачи"
   ]
  },
  {
   "cell_type": "markdown",
   "metadata": {},
   "source": [
    "## Поменять местами значение двух переменных"
   ]
  },
  {
   "cell_type": "code",
   "execution_count": 20,
   "metadata": {
    "collapsed": false
   },
   "outputs": [
    {
     "name": "stdout",
     "output_type": "stream",
     "text": [
      "a = 2\n",
      "b = 1\n"
     ]
    }
   ],
   "source": [
    "a = 1\n",
    "b = 2\n",
    "# Весь ваш код должен быть ниже этого комментария\n",
    "\n",
    "# Весь ваш код должен быть выше этого комментария\n",
    "print \"a =\", a\n",
    "print \"b =\", b"
   ]
  },
  {
   "cell_type": "markdown",
   "metadata": {},
   "source": [
    "# Условия"
   ]
  },
  {
   "cell_type": "markdown",
   "metadata": {},
   "source": [
    "В питоне идентефикатором \"блока\" является отступ. При объявлении блока __if__ все, что дальше будет считаться внутри условия."
   ]
  },
  {
   "cell_type": "code",
   "execution_count": 21,
   "metadata": {
    "collapsed": false
   },
   "outputs": [
    {
     "name": "stdout",
     "output_type": "stream",
     "text": [
      "А это напечатается\n",
      "Внутри блока\n",
      "снаружи блока\n"
     ]
    }
   ],
   "source": [
    "if False:\n",
    "    print \"Это не напечатается\"\n",
    "print \"А это напечатается\"\n",
    "\n",
    "if True:\n",
    "    print \"Внутри блока\"\n",
    "print 'Снаружи блока'"
   ]
  },
  {
   "cell_type": "markdown",
   "metadata": {},
   "source": [
    "Полностью условные операторы выглядят как __if:__   __elif:__ __else:__"
   ]
  },
  {
   "cell_type": "code",
   "execution_count": 22,
   "metadata": {
    "collapsed": false
   },
   "outputs": [
    {
     "name": "stdout",
     "output_type": "stream",
     "text": [
      "in [1,10]\n"
     ]
    }
   ],
   "source": [
    "a = 1\n",
    "if a < 0:\n",
    "    print 'negative'\n",
    "elif a < 1:\n",
    "    print 'in [0,1)'\n",
    "elif a > 10:\n",
    "    print 'a > 10'\n",
    "else:\n",
    "    print 'in [1,10]'\n",
    "    "
   ]
  },
  {
   "cell_type": "markdown",
   "metadata": {},
   "source": [
    "Переменные с условиями поддерживают операции __or__ , __and__ , __not__ "
   ]
  },
  {
   "cell_type": "code",
   "execution_count": 27,
   "metadata": {
    "collapsed": false
   },
   "outputs": [
    {
     "name": "stdout",
     "output_type": "stream",
     "text": [
      "a and a\n",
      "\n",
      "a or b\n",
      "a or a\n",
      "\n",
      "a and not b\n"
     ]
    }
   ],
   "source": [
    "a = True\n",
    "b = False\n",
    "\n",
    "if a and b:\n",
    "    print 'a and b'\n",
    "if a and a:\n",
    "    print 'a and a'\n",
    "if b and b:\n",
    "    print 'b and b'\n",
    "\n",
    "print \n",
    "    \n",
    "if a or b:\n",
    "    print 'a or b'\n",
    "if a or a:\n",
    "    print 'a or a'\n",
    "if b or b:\n",
    "    print 'b or b'\n",
    "\n",
    "print\n",
    "    \n",
    "if a and not b:\n",
    "    print 'a and not b'\n",
    "if not a and b:\n",
    "    print 'not a and b'\n"
   ]
  },
  {
   "cell_type": "markdown",
   "metadata": {},
   "source": [
    "# Задачи"
   ]
  },
  {
   "cell_type": "markdown",
   "metadata": {},
   "source": [
    "## даны координаты x,y. Узнать, лежит ли точка в круге радиусом 2 с центром с точке (2,2)"
   ]
  },
  {
   "cell_type": "code",
   "execution_count": 28,
   "metadata": {
    "collapsed": false
   },
   "outputs": [
    {
     "name": "stdout",
     "output_type": "stream",
     "text": [
      "yes\n"
     ]
    }
   ],
   "source": [
    "x = 3\n",
    "y = 2\n",
    "\n",
    "# Весь ваш код должен быть ниже этого комментария\n",
    "\n",
    "# Весь ваш код должен быть выше этого комментария"
   ]
  },
  {
   "cell_type": "markdown",
   "metadata": {},
   "source": [
    "# Контейнеры"
   ]
  },
  {
   "cell_type": "markdown",
   "metadata": {},
   "source": [
    "## Туплы"
   ]
  },
  {
   "cell_type": "markdown",
   "metadata": {},
   "source": [
    "Тупл (по нашему - кортеж), это список фиксированной длины. Например, точка"
   ]
  },
  {
   "cell_type": "code",
   "execution_count": 30,
   "metadata": {
    "collapsed": false
   },
   "outputs": [
    {
     "name": "stdout",
     "output_type": "stream",
     "text": [
      "(1, 2)\n",
      "(1, 2, 3)\n"
     ]
    }
   ],
   "source": [
    "print (1,2)\n",
    "\n",
    "print (1,2,3)"
   ]
  },
  {
   "cell_type": "markdown",
   "metadata": {},
   "source": [
    "Элементы тупла можно прочитать \"по индексу\", но нельзя модифицировать:"
   ]
  },
  {
   "cell_type": "code",
   "execution_count": 32,
   "metadata": {
    "collapsed": false
   },
   "outputs": [
    {
     "name": "stdout",
     "output_type": "stream",
     "text": [
      "1\n",
      "2\n"
     ]
    }
   ],
   "source": [
    "p = (1,2)\n",
    "\n",
    "print p[0]\n",
    "print p[1]\n",
    "\n",
    "# TypeError: 'tuple' object does not support item assignment\n",
    "# p[1] = 123"
   ]
  },
  {
   "cell_type": "markdown",
   "metadata": {},
   "source": [
    "Туплы созданы для хешируемых списков, а так же для некоторого синтаксического сахара:"
   ]
  },
  {
   "cell_type": "code",
   "execution_count": 33,
   "metadata": {
    "collapsed": false
   },
   "outputs": [
    {
     "name": "stdout",
     "output_type": "stream",
     "text": [
      "x = 1 y = 0\n"
     ]
    }
   ],
   "source": [
    "x = 0\n",
    "y = 1\n",
    "\n",
    "x,y = (y,x)\n",
    "\n",
    "print \"x =\", x, \"y =\", y"
   ]
  },
  {
   "cell_type": "markdown",
   "metadata": {},
   "source": [
    "## Списки"
   ]
  },
  {
   "cell_type": "markdown",
   "metadata": {},
   "source": [
    "Списки - это именно то, что кажется: контейнер с индексами и произвольным доступом."
   ]
  },
  {
   "cell_type": "code",
   "execution_count": 35,
   "metadata": {
    "collapsed": false
   },
   "outputs": [
    {
     "name": "stdout",
     "output_type": "stream",
     "text": [
      "[1, 2, 3, 4]\n",
      "2 4\n"
     ]
    }
   ],
   "source": [
    "l = [1,2,3,4]\n",
    "print l\n",
    "\n",
    "print l[1], l[3]"
   ]
  },
  {
   "cell_type": "markdown",
   "metadata": {},
   "source": [
    "Списки могут содержать элементы разных типов:"
   ]
  },
  {
   "cell_type": "code",
   "execution_count": 36,
   "metadata": {
    "collapsed": false
   },
   "outputs": [
    {
     "name": "stdout",
     "output_type": "stream",
     "text": [
      "[1, 2.0, 'qwe']\n"
     ]
    }
   ],
   "source": [
    "print [1, 2.0, 'qwe']"
   ]
  },
  {
   "cell_type": "markdown",
   "metadata": {},
   "source": [
    "Списки можно склеивать, можно брать подсписки по разным правилам:"
   ]
  },
  {
   "cell_type": "code",
   "execution_count": 39,
   "metadata": {
    "collapsed": false
   },
   "outputs": [
    {
     "name": "stdout",
     "output_type": "stream",
     "text": [
      "[1, 2, 3, 4, 5, 6, 7, 8, 9]\n",
      "from 1 to 3: [2, 3]\n",
      "from begin to 3: [1, 2, 3]\n",
      "from 1 to end: [2, 3, 4, 5, 6, 7, 8, 9]\n",
      "from begin to last by one: [1, 2, 3, 4, 5, 6, 7, 8]\n",
      "\n",
      "from begin to 5 by one in reverse order: [9, 8, 7]\n",
      "reverse list: [9, 8, 7, 6, 5, 4, 3, 2, 1]\n"
     ]
    }
   ],
   "source": [
    "l = [1,2,3,4,5] + [6,7,8,9]\n",
    "print l\n",
    "\n",
    "print \"from 1 to 3:\", l[1:3]\n",
    "print \"from begin to 3:\", l[:3]\n",
    "print \"from 1 to end:\", l[1:]\n",
    "print \"from begin to last by one:\", l[:-1]\n",
    "print \n",
    "print \"from end to 5 by one in reverse order:\", l[:5:-1]\n",
    "print \"reverse list:\", l[::-1]"
   ]
  },
  {
   "cell_type": "markdown",
   "metadata": {},
   "source": [
    "списки можно генерировать командой range:"
   ]
  },
  {
   "cell_type": "code",
   "execution_count": 40,
   "metadata": {
    "collapsed": false
   },
   "outputs": [
    {
     "name": "stdout",
     "output_type": "stream",
     "text": [
      "[0, 1, 2, 3, 4]\n",
      "[3, 4]\n",
      "[3, 5, 7, 9]\n",
      "[5, 4]\n"
     ]
    }
   ],
   "source": [
    "print range(5)\n",
    "print range(3,5)\n",
    "print range(3,10,2)\n",
    "print range(5,3,-1)"
   ]
  },
  {
   "cell_type": "markdown",
   "metadata": {},
   "source": [
    "## Словари"
   ]
  },
  {
   "cell_type": "markdown",
   "metadata": {},
   "source": [
    "Словари - это ассоциативный контейнер \"ключ\" - \"значение\". Ключом может выступать любой хешируемый объект, значением любой объект. "
   ]
  },
  {
   "cell_type": "code",
   "execution_count": 42,
   "metadata": {
    "collapsed": false
   },
   "outputs": [
    {
     "name": "stdout",
     "output_type": "stream",
     "text": [
      "{'three': 3, 'two': 2, 'one': 1}\n",
      "d[\"one\"] = 1\n",
      "{'four': 4, 'three': 3, 'two': 2, 'one': 1}\n"
     ]
    }
   ],
   "source": [
    "d = { \"one\" : 1, \"two\" : 2, \"three\": 3}\n",
    "print d \n",
    "\n",
    "print 'd[\"one\"] =', d[\"one\"]\n",
    "\n",
    "d[\"four\"] = 4\n",
    "print d"
   ]
  },
  {
   "cell_type": "code",
   "execution_count": 44,
   "metadata": {
    "collapsed": false
   },
   "outputs": [
    {
     "name": "stdout",
     "output_type": "stream",
     "text": [
      "value: 2\n",
      "four not found\n"
     ]
    }
   ],
   "source": [
    "d = { \"one\" : 1, \"two\" : 2, \"three\": 3}\n",
    "key = \"two\"\n",
    "if key in d:\n",
    "    print \"value:\",d[key]\n",
    "else:\n",
    "    print \"key not found\"\n",
    "\n",
    "key = \"four\"\n",
    "if key in d:\n",
    "    print \"value:\",d[key]\n",
    "else:\n",
    "    print \"key not found\"\n",
    "    "
   ]
  },
  {
   "cell_type": "markdown",
   "metadata": {},
   "source": [
    "# Задачи"
   ]
  },
  {
   "cell_type": "markdown",
   "metadata": {},
   "source": [
    "## Напечатать список всех четных чисел от 0 до 100 включительно"
   ]
  },
  {
   "cell_type": "code",
   "execution_count": null,
   "metadata": {
    "collapsed": true
   },
   "outputs": [],
   "source": []
  },
  {
   "cell_type": "markdown",
   "metadata": {},
   "source": [
    "## Заполнить словарь ключами - натуральными числами до 20, значениями - квадратами этих чисел"
   ]
  },
  {
   "cell_type": "code",
   "execution_count": null,
   "metadata": {
    "collapsed": true
   },
   "outputs": [],
   "source": []
  },
  {
   "cell_type": "markdown",
   "metadata": {},
   "source": [
    "# Циклы"
   ]
  },
  {
   "cell_type": "markdown",
   "metadata": {},
   "source": [
    "## итеративный"
   ]
  },
  {
   "cell_type": "markdown",
   "metadata": {},
   "source": [
    "Цикл __for__ проходит по итерируемому контейнеру. "
   ]
  },
  {
   "cell_type": "code",
   "execution_count": 46,
   "metadata": {
    "collapsed": false
   },
   "outputs": [
    {
     "name": "stdout",
     "output_type": "stream",
     "text": [
      "1\n",
      "2\n",
      "3\n",
      "\n",
      "0\n",
      "1\n",
      "2\n",
      "3\n",
      "4\n"
     ]
    }
   ],
   "source": [
    "for i in [1,2,3]:\n",
    "    print i\n",
    "print\n",
    "for i in range(5):\n",
    "    print i"
   ]
  },
  {
   "cell_type": "code",
   "execution_count": 47,
   "metadata": {
    "collapsed": false
   },
   "outputs": [
    {
     "name": "stdout",
     "output_type": "stream",
     "text": [
      "two\n",
      "one\n"
     ]
    }
   ],
   "source": [
    "for i in {\"one\": 1, \"two\": 2}:\n",
    "    print i"
   ]
  },
  {
   "cell_type": "code",
   "execution_count": 49,
   "metadata": {
    "collapsed": false
   },
   "outputs": [
    {
     "name": "stdout",
     "output_type": "stream",
     "text": [
      "two : 2\n",
      "one : 1\n"
     ]
    }
   ],
   "source": [
    "d = {\"one\": 1, \"two\": 2}\n",
    "for i in d:\n",
    "    print i, \":\", d[i]"
   ]
  },
  {
   "cell_type": "markdown",
   "metadata": {},
   "source": [
    "## Условный"
   ]
  },
  {
   "cell_type": "markdown",
   "metadata": {},
   "source": [
    "## Цикл __while__ выполняется пока верно условие"
   ]
  },
  {
   "cell_type": "code",
   "execution_count": 50,
   "metadata": {
    "collapsed": false
   },
   "outputs": [
    {
     "name": "stdout",
     "output_type": "stream",
     "text": [
      "5\n",
      "4\n",
      "3\n",
      "2\n",
      "1\n"
     ]
    }
   ],
   "source": [
    "i = 5\n",
    "while i > 0:\n",
    "    print i\n",
    "    i = i - 1"
   ]
  },
  {
   "cell_type": "markdown",
   "metadata": {},
   "source": [
    "# Задачи"
   ]
  },
  {
   "cell_type": "markdown",
   "metadata": {},
   "source": [
    "## Напечатать все натуральные числа от 0 до 100 включительно, кратные и 3-м и 5-и"
   ]
  },
  {
   "cell_type": "code",
   "execution_count": null,
   "metadata": {
    "collapsed": true
   },
   "outputs": [],
   "source": []
  },
  {
   "cell_type": "markdown",
   "metadata": {},
   "source": [
    "## Напечатать все натуральные числа от 0 до 100 включительно, кратные 3-м но не кратные 5-и"
   ]
  },
  {
   "cell_type": "code",
   "execution_count": null,
   "metadata": {
    "collapsed": true
   },
   "outputs": [],
   "source": []
  },
  {
   "cell_type": "markdown",
   "metadata": {},
   "source": [
    "## Найти сумму натуральных чисел от 0 до n включительно"
   ]
  },
  {
   "cell_type": "code",
   "execution_count": null,
   "metadata": {
    "collapsed": true
   },
   "outputs": [],
   "source": [
    "n = 10\n",
    "s = 0\n",
    "for i in range(n+1):\n",
    "    s += ???\n",
    "print s"
   ]
  },
  {
   "cell_type": "markdown",
   "metadata": {},
   "source": [
    "## Найти сумму $$ \\sum_{i=1}^{n}{\\frac{1}{i}}$$"
   ]
  },
  {
   "cell_type": "code",
   "execution_count": null,
   "metadata": {
    "collapsed": true
   },
   "outputs": [],
   "source": []
  },
  {
   "cell_type": "markdown",
   "metadata": {},
   "source": [
    "## Для заданного $n$ вывести все такие $k$, что $n \\ge k $ и  $k$ - точный квадрат натурального числа"
   ]
  },
  {
   "cell_type": "code",
   "execution_count": null,
   "metadata": {
    "collapsed": true
   },
   "outputs": [],
   "source": [
    "n = 20"
   ]
  },
  {
   "cell_type": "markdown",
   "metadata": {},
   "source": [
    "Числа Фибоначи определяются следующим образом:\n",
    "$$F_0=1$$\n",
    "$$F_1=1$$\n",
    "$$F_i=F_{i-1}+F_{i-2}, \\forall i \\ge 2$$\n",
    "\n",
    "Задача: вывести первые n чисел фибоначи."
   ]
  },
  {
   "cell_type": "markdown",
   "metadata": {},
   "source": [
    "# Функции"
   ]
  },
  {
   "cell_type": "markdown",
   "metadata": {},
   "source": [
    "## Функции - возможность определить небольшой кусок кода для его переиспользования"
   ]
  },
  {
   "cell_type": "code",
   "execution_count": 51,
   "metadata": {
    "collapsed": false
   },
   "outputs": [
    {
     "name": "stdout",
     "output_type": "stream",
     "text": [
      "6\n"
     ]
    }
   ],
   "source": [
    "def mult(a,b):\n",
    "    return a*b\n",
    "\n",
    "print mult(2,3)"
   ]
  },
  {
   "cell_type": "code",
   "execution_count": 52,
   "metadata": {
    "collapsed": false
   },
   "outputs": [
    {
     "name": "stdout",
     "output_type": "stream",
     "text": [
      "(9, 5)\n",
      "5 9\n",
      "9 5\n"
     ]
    }
   ],
   "source": [
    "def swap(a,b):\n",
    "    return (b,a)\n",
    "\n",
    "x = 5\n",
    "y = 9\n",
    "\n",
    "print swap(x,y)\n",
    "print x,y\n",
    "x,y = swap(x,y)\n",
    "print x,y"
   ]
  },
  {
   "cell_type": "code",
   "execution_count": 53,
   "metadata": {
    "collapsed": false
   },
   "outputs": [
    {
     "name": "stdout",
     "output_type": "stream",
     "text": [
      "        0\n",
      "      0 1 0\n",
      "    0 1 2 1 0\n",
      "  0 1 2 3 2 1 0\n",
      "0 1 2 3 4 3 2 1 0\n",
      "        0\n",
      "      0 1 0\n",
      "    0 1 2 1 0\n",
      "  0 1 2 3 2 1 0\n",
      "0 1 2 3 4 3 2 1 0\n",
      "        0\n",
      "      0 1 0\n",
      "    0 1 2 1 0\n",
      "  0 1 2 3 2 1 0\n",
      "0 1 2 3 4 3 2 1 0\n",
      "        0\n",
      "      0 1 0\n",
      "    0 1 2 1 0\n",
      "  0 1 2 3 2 1 0\n",
      "0 1 2 3 4 3 2 1 0\n"
     ]
    }
   ],
   "source": [
    "def spruce(n):\n",
    "    for i in range(n):\n",
    "        for j in range(n-i-1):\n",
    "            print ' ',\n",
    "        for j in range(i+1):\n",
    "            print j,\n",
    "        for j in range(i):\n",
    "            print i-j-1,\n",
    "        print\n",
    "\n",
    "spruce(5)\n",
    "spruce(5)\n",
    "spruce(5)\n",
    "spruce(5)"
   ]
  },
  {
   "cell_type": "markdown",
   "metadata": {},
   "source": [
    "# Задачи"
   ]
  },
  {
   "cell_type": "markdown",
   "metadata": {},
   "source": [
    "## Написать функцию, решающуб квадратное уравнение вида $a x^2 + b x + c = 0 $"
   ]
  },
  {
   "cell_type": "code",
   "execution_count": null,
   "metadata": {
    "collapsed": true
   },
   "outputs": [],
   "source": [
    "def solve(a,b,c):\n",
    "    ???\n",
    "\n",
    "x1, x2 = solve(12,13,11)\n",
    "print x1\n",
    "print x2"
   ]
  },
  {
   "cell_type": "code",
   "execution_count": null,
   "metadata": {
    "collapsed": true
   },
   "outputs": [],
   "source": []
  }
 ],
 "metadata": {
  "kernelspec": {
   "display_name": "Python 2",
   "language": "python",
   "name": "python2"
  },
  "language_info": {
   "codemirror_mode": {
    "name": "ipython",
    "version": 2
   },
   "file_extension": ".py",
   "mimetype": "text/x-python",
   "name": "python",
   "nbconvert_exporter": "python",
   "pygments_lexer": "ipython2",
   "version": "2.7.12"
  }
 },
 "nbformat": 4,
 "nbformat_minor": 0
}
