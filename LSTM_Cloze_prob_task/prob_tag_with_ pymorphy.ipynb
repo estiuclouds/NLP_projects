{
 "cells": [
  {
   "cell_type": "code",
   "execution_count": 1,
   "metadata": {},
   "outputs": [],
   "source": [
    "t_to_pm = {'A':'ADJ', 'ADJF':'ADJ', 'ADJS':'ADJ', 'ADV':'ADVB', 'ADVPRO':'ADVB', 'ANUM':'NUMR', \n",
    "             'APRO':'ADJ', 'NUM':'NUMR', 'PART':'PRCL', 'PRTF' : 'VERB', 'PRTS' : 'VERB',\n",
    "             'PR':'PREP', 'S':'NOUN', 'SPRO':'NPRO', 'V':'VERB', 'COMP' : 'ADJ'}\n"
   ]
  },
  {
   "cell_type": "code",
   "execution_count": 9,
   "metadata": {},
   "outputs": [
    {
     "name": "stdout",
     "output_type": "stream",
     "text": [
      "(57836, 16)\n",
      "(57804, 16)\n",
      "(57346, 16)\n"
     ]
    }
   ],
   "source": [
    "res = data\n",
    "res = res[res['shown']!='Введите первое слово']\n",
    "print(res.shape)\n",
    "res = res.dropna(subset=['answer'])\n",
    "print(res.shape)\n",
    "def clear(x):\n",
    "    flag=0\n",
    "    if (len(x)==1) and (x not in 'ксявуоиа'):\n",
    "        flag+=1\n",
    "    for i in x:\n",
    "        if i not in 'ячсмитьбюэждлорпавыфйцукенгшщзхъЯЧСМИТЬБЮФЫВАПРОЛДЖЭЪХЗЩЙЦШУГКНЕ':\n",
    "             flag+=1\n",
    "    if flag==0:\n",
    "        return x\n",
    "    else:\n",
    "        return 0\n",
    "res.answer = res.answer.astype(str)\n",
    "res.answer = res.answer.apply(clear)\n",
    "res = res[res['answer']!=0]\n",
    "print(res.shape)"
   ]
  },
  {
   "cell_type": "code",
   "execution_count": 4,
   "metadata": {},
   "outputs": [],
   "source": [
    "import pandas as pd\n",
    "data = pd.read_excel('cloze_task_raw_data.xlsx')"
   ]
  },
  {
   "cell_type": "code",
   "execution_count": 11,
   "metadata": {},
   "outputs": [],
   "source": [
    "import pymorphy2\n",
    "morph = pymorphy2.MorphAnalyzer()\n",
    "\n",
    "def tagging(x):\n",
    "    return str(morph.parse(x)[0].tag.POS)\n",
    "\n",
    "res['pymor'] = res['answer'].apply(tagging)"
   ]
  },
  {
   "cell_type": "code",
   "execution_count": 10,
   "metadata": {},
   "outputs": [
    {
     "data": {
      "text/plain": [
       "array(['V', 'A', 'S', 'PR', 'SPRO', 'CONJ', 'PART', 'APRO', 'ADV', 'NUM',\n",
       "       'ADVPRO', 'ANUM'], dtype=object)"
      ]
     },
     "execution_count": 10,
     "metadata": {},
     "output_type": "execute_result"
    }
   ],
   "source": [
    "res.POS.unique()"
   ]
  },
  {
   "cell_type": "code",
   "execution_count": 13,
   "metadata": {},
   "outputs": [
    {
     "data": {
      "text/plain": [
       "array(['PRCL', 'ADVB', 'NPRO', 'CONJ', 'NOUN', 'ADJF', 'INTJ', 'COMP',\n",
       "       'PRED', 'PREP', 'VERB', 'INFN', 'PRTS', 'PRTF', 'NUMR', 'ADJS',\n",
       "       'GRND'], dtype=object)"
      ]
     },
     "execution_count": 13,
     "metadata": {},
     "output_type": "execute_result"
    }
   ],
   "source": [
    "res.pymor.unique()"
   ]
  },
  {
   "cell_type": "code",
   "execution_count": null,
   "metadata": {},
   "outputs": [],
   "source": []
  }
 ],
 "metadata": {
  "kernelspec": {
   "display_name": "Python 3",
   "language": "python",
   "name": "python3"
  },
  "language_info": {
   "codemirror_mode": {
    "name": "ipython",
    "version": 3
   },
   "file_extension": ".py",
   "mimetype": "text/x-python",
   "name": "python",
   "nbconvert_exporter": "python",
   "pygments_lexer": "ipython3",
   "version": "3.6.7"
  }
 },
 "nbformat": 4,
 "nbformat_minor": 2
}
