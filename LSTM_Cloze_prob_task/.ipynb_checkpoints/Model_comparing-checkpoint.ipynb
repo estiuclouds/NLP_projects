{
 "cells": [
  {
   "cell_type": "markdown",
   "metadata": {},
   "source": [
    "## Cloze task data filtering"
   ]
  },
  {
   "cell_type": "markdown",
   "metadata": {},
   "source": [
    "drop all rows were we don't have a contex as a stimulus"
   ]
  },
  {
   "cell_type": "code",
   "execution_count": 1,
   "metadata": {},
   "outputs": [
    {
     "name": "stdout",
     "output_type": "stream",
     "text": [
      "(64645, 16)\n",
      "(57836, 16)\n"
     ]
    }
   ],
   "source": [
    "import pandas as pd\n",
    "row_data = pd.read_excel('cloze_task_raw_data.xlsx')\n",
    "print(row_data.shape)\n",
    "row_data = row_data[row_data['shown'] != 'Введите первое слово']\n",
    "print(row_data.shape)"
   ]
  },
  {
   "cell_type": "code",
   "execution_count": 2,
   "metadata": {},
   "outputs": [
    {
     "data": {
      "text/plain": [
       "(57346, 16)"
      ]
     },
     "execution_count": 2,
     "metadata": {},
     "output_type": "execute_result"
    }
   ],
   "source": [
    "def clear(x):\n",
    "    flag=0\n",
    "    if x.isdigit():\n",
    "        return 0\n",
    "    if (len(x)==1) and (x not in 'ксявуоиа'):\n",
    "        flag+=1\n",
    "    for i in x:\n",
    "        if i not in 'ячсмитьбюэждлорпавыфйцукенгшщзхъЯЧСМИТЬБЮФЫВАПРОЛДЖЭЪХЗЩЙЦШУГКНЕ':\n",
    "             flag+=1\n",
    "    if flag==0:\n",
    "        return x\n",
    "    else:\n",
    "        return 0\n",
    "row_data.answer = row_data.answer.astype(str)\n",
    "row_data.answer = row_data.answer.apply(clear)\n",
    "row_data = row_data[row_data['answer']!=0]\n",
    "row_data.shape"
   ]
  },
  {
   "cell_type": "markdown",
   "metadata": {},
   "source": [
    "Count number of different answer for each stimulus and alse a index of confusion for rows.\n",
    "If in experement we have 16 attempts to add the contex, when index of confusion is equel 16/max(all quantities of responses for each stimulus). Smaller the value of confuision, than we can be more confident about this example)"
   ]
  },
  {
   "cell_type": "code",
   "execution_count": 3,
   "metadata": {},
   "outputs": [
    {
     "data": {
      "text/html": [
       "<div>\n",
       "<style scoped>\n",
       "    .dataframe tbody tr th:only-of-type {\n",
       "        vertical-align: middle;\n",
       "    }\n",
       "\n",
       "    .dataframe tbody tr th {\n",
       "        vertical-align: top;\n",
       "    }\n",
       "\n",
       "    .dataframe thead th {\n",
       "        text-align: right;\n",
       "    }\n",
       "</style>\n",
       "<table border=\"1\" class=\"dataframe\">\n",
       "  <thead>\n",
       "    <tr style=\"text-align: right;\">\n",
       "      <th></th>\n",
       "      <th>shown</th>\n",
       "      <th>summ</th>\n",
       "      <th>confusion</th>\n",
       "    </tr>\n",
       "  </thead>\n",
       "  <tbody>\n",
       "    <tr>\n",
       "      <th>0</th>\n",
       "      <td>А</td>\n",
       "      <td>15</td>\n",
       "      <td>0.978571</td>\n",
       "    </tr>\n",
       "    <tr>\n",
       "      <th>1</th>\n",
       "      <td>А промывать</td>\n",
       "      <td>15</td>\n",
       "      <td>0.978571</td>\n",
       "    </tr>\n",
       "    <tr>\n",
       "      <th>2</th>\n",
       "      <td>А промывать манную</td>\n",
       "      <td>15</td>\n",
       "      <td>0.978571</td>\n",
       "    </tr>\n",
       "    <tr>\n",
       "      <th>3</th>\n",
       "      <td>А промывать манную крупу</td>\n",
       "      <td>15</td>\n",
       "      <td>0.978571</td>\n",
       "    </tr>\n",
       "    <tr>\n",
       "      <th>4</th>\n",
       "      <td>А промывать манную крупу перед</td>\n",
       "      <td>15</td>\n",
       "      <td>0.978571</td>\n",
       "    </tr>\n",
       "  </tbody>\n",
       "</table>\n",
       "</div>"
      ],
      "text/plain": [
       "                            shown  summ  confusion\n",
       "0                               А    15   0.978571\n",
       "1                     А промывать    15   0.978571\n",
       "2              А промывать манную    15   0.978571\n",
       "3        А промывать манную крупу    15   0.978571\n",
       "4  А промывать манную крупу перед    15   0.978571"
      ]
     },
     "execution_count": 3,
     "metadata": {},
     "output_type": "execute_result"
    }
   ],
   "source": [
    "sub_data = row_data[['shown', 'answer', 'word.id']]\n",
    "grop_data = sub_data[['shown', 'answer']].groupby('shown').size()\n",
    "grop_data = grop_data.reset_index(level=['shown'])\n",
    "grop_data.columns = ['shown', 'summ']\n",
    "grop_data['confusion'] = 1 - grop_data.summ/max(grop_data['summ'])\n",
    "grop_data.head()"
   ]
  },
  {
   "cell_type": "markdown",
   "metadata": {},
   "source": [
    "Count the quantity of different response for each stimulus "
   ]
  },
  {
   "cell_type": "code",
   "execution_count": 4,
   "metadata": {},
   "outputs": [
    {
     "data": {
      "text/html": [
       "<div>\n",
       "<style scoped>\n",
       "    .dataframe tbody tr th:only-of-type {\n",
       "        vertical-align: middle;\n",
       "    }\n",
       "\n",
       "    .dataframe tbody tr th {\n",
       "        vertical-align: top;\n",
       "    }\n",
       "\n",
       "    .dataframe thead th {\n",
       "        text-align: right;\n",
       "    }\n",
       "</style>\n",
       "<table border=\"1\" class=\"dataframe\">\n",
       "  <thead>\n",
       "    <tr style=\"text-align: right;\">\n",
       "      <th></th>\n",
       "      <th>shown</th>\n",
       "      <th>answer</th>\n",
       "      <th>freq</th>\n",
       "    </tr>\n",
       "  </thead>\n",
       "  <tbody>\n",
       "    <tr>\n",
       "      <th>0</th>\n",
       "      <td>А</td>\n",
       "      <td>вот</td>\n",
       "      <td>1</td>\n",
       "    </tr>\n",
       "    <tr>\n",
       "      <th>1</th>\n",
       "      <td>А</td>\n",
       "      <td>где</td>\n",
       "      <td>1</td>\n",
       "    </tr>\n",
       "    <tr>\n",
       "      <th>2</th>\n",
       "      <td>А</td>\n",
       "      <td>ему</td>\n",
       "      <td>1</td>\n",
       "    </tr>\n",
       "    <tr>\n",
       "      <th>3</th>\n",
       "      <td>А</td>\n",
       "      <td>зачем</td>\n",
       "      <td>1</td>\n",
       "    </tr>\n",
       "    <tr>\n",
       "      <th>4</th>\n",
       "      <td>А</td>\n",
       "      <td>знаете</td>\n",
       "      <td>1</td>\n",
       "    </tr>\n",
       "  </tbody>\n",
       "</table>\n",
       "</div>"
      ],
      "text/plain": [
       "  shown  answer  freq\n",
       "0     А     вот     1\n",
       "1     А     где     1\n",
       "2     А     ему     1\n",
       "3     А   зачем     1\n",
       "4     А  знаете     1"
      ]
     },
     "execution_count": 4,
     "metadata": {},
     "output_type": "execute_result"
    }
   ],
   "source": [
    "grop_dats_0 = sub_data[['shown', 'answer']].groupby(['shown','answer']).size()\n",
    "grop_dats_0 = grop_dats_0.reset_index(level=['shown', 'answer'])\n",
    "grop_dats_0.columns = ['shown', 'answer', 'freq']\n",
    "grop_dats_0.head()"
   ]
  },
  {
   "cell_type": "markdown",
   "metadata": {},
   "source": [
    "Merge tables"
   ]
  },
  {
   "cell_type": "code",
   "execution_count": 5,
   "metadata": {},
   "outputs": [
    {
     "data": {
      "text/html": [
       "<div>\n",
       "<style scoped>\n",
       "    .dataframe tbody tr th:only-of-type {\n",
       "        vertical-align: middle;\n",
       "    }\n",
       "\n",
       "    .dataframe tbody tr th {\n",
       "        vertical-align: top;\n",
       "    }\n",
       "\n",
       "    .dataframe thead th {\n",
       "        text-align: right;\n",
       "    }\n",
       "</style>\n",
       "<table border=\"1\" class=\"dataframe\">\n",
       "  <thead>\n",
       "    <tr style=\"text-align: right;\">\n",
       "      <th></th>\n",
       "      <th>shown</th>\n",
       "      <th>answer</th>\n",
       "      <th>word.id</th>\n",
       "      <th>summ</th>\n",
       "      <th>confusion</th>\n",
       "      <th>freq</th>\n",
       "    </tr>\n",
       "  </thead>\n",
       "  <tbody>\n",
       "    <tr>\n",
       "      <th>0</th>\n",
       "      <td>А</td>\n",
       "      <td>вот</td>\n",
       "      <td>промывать</td>\n",
       "      <td>15</td>\n",
       "      <td>0.978571</td>\n",
       "      <td>1</td>\n",
       "    </tr>\n",
       "    <tr>\n",
       "      <th>1</th>\n",
       "      <td>А</td>\n",
       "      <td>где</td>\n",
       "      <td>промывать</td>\n",
       "      <td>15</td>\n",
       "      <td>0.978571</td>\n",
       "      <td>1</td>\n",
       "    </tr>\n",
       "    <tr>\n",
       "      <th>2</th>\n",
       "      <td>А</td>\n",
       "      <td>ему</td>\n",
       "      <td>промывать</td>\n",
       "      <td>15</td>\n",
       "      <td>0.978571</td>\n",
       "      <td>1</td>\n",
       "    </tr>\n",
       "    <tr>\n",
       "      <th>3</th>\n",
       "      <td>А</td>\n",
       "      <td>зачем</td>\n",
       "      <td>промывать</td>\n",
       "      <td>15</td>\n",
       "      <td>0.978571</td>\n",
       "      <td>1</td>\n",
       "    </tr>\n",
       "    <tr>\n",
       "      <th>4</th>\n",
       "      <td>А</td>\n",
       "      <td>знаете</td>\n",
       "      <td>промывать</td>\n",
       "      <td>15</td>\n",
       "      <td>0.978571</td>\n",
       "      <td>1</td>\n",
       "    </tr>\n",
       "  </tbody>\n",
       "</table>\n",
       "</div>"
      ],
      "text/plain": [
       "  shown  answer    word.id  summ  confusion  freq\n",
       "0     А     вот  промывать    15   0.978571     1\n",
       "1     А     где  промывать    15   0.978571     1\n",
       "2     А     ему  промывать    15   0.978571     1\n",
       "3     А   зачем  промывать    15   0.978571     1\n",
       "4     А  знаете  промывать    15   0.978571     1"
      ]
     },
     "execution_count": 5,
     "metadata": {},
     "output_type": "execute_result"
    }
   ],
   "source": [
    "data_res =  sub_data.merge(grop_data, left_on='shown', right_on='shown', how='outer')\n",
    "data_res =  data_res.merge(grop_dats_0, left_on=['shown','answer'], right_on=['shown','answer'], how='outer')\n",
    "data_res.head()"
   ]
  },
  {
   "cell_type": "markdown",
   "metadata": {},
   "source": [
    "count the prob"
   ]
  },
  {
   "cell_type": "code",
   "execution_count": 6,
   "metadata": {},
   "outputs": [
    {
     "data": {
      "text/html": [
       "<div>\n",
       "<style scoped>\n",
       "    .dataframe tbody tr th:only-of-type {\n",
       "        vertical-align: middle;\n",
       "    }\n",
       "\n",
       "    .dataframe tbody tr th {\n",
       "        vertical-align: top;\n",
       "    }\n",
       "\n",
       "    .dataframe thead th {\n",
       "        text-align: right;\n",
       "    }\n",
       "</style>\n",
       "<table border=\"1\" class=\"dataframe\">\n",
       "  <thead>\n",
       "    <tr style=\"text-align: right;\">\n",
       "      <th></th>\n",
       "      <th>shown</th>\n",
       "      <th>answer</th>\n",
       "      <th>word.id</th>\n",
       "      <th>summ</th>\n",
       "      <th>confusion</th>\n",
       "      <th>freq</th>\n",
       "      <th>prob</th>\n",
       "    </tr>\n",
       "  </thead>\n",
       "  <tbody>\n",
       "    <tr>\n",
       "      <th>0</th>\n",
       "      <td>А</td>\n",
       "      <td>вот</td>\n",
       "      <td>промывать</td>\n",
       "      <td>15</td>\n",
       "      <td>0.978571</td>\n",
       "      <td>1</td>\n",
       "      <td>0.0</td>\n",
       "    </tr>\n",
       "    <tr>\n",
       "      <th>1</th>\n",
       "      <td>А</td>\n",
       "      <td>где</td>\n",
       "      <td>промывать</td>\n",
       "      <td>15</td>\n",
       "      <td>0.978571</td>\n",
       "      <td>1</td>\n",
       "      <td>0.0</td>\n",
       "    </tr>\n",
       "    <tr>\n",
       "      <th>2</th>\n",
       "      <td>А</td>\n",
       "      <td>ему</td>\n",
       "      <td>промывать</td>\n",
       "      <td>15</td>\n",
       "      <td>0.978571</td>\n",
       "      <td>1</td>\n",
       "      <td>0.0</td>\n",
       "    </tr>\n",
       "    <tr>\n",
       "      <th>3</th>\n",
       "      <td>А</td>\n",
       "      <td>зачем</td>\n",
       "      <td>промывать</td>\n",
       "      <td>15</td>\n",
       "      <td>0.978571</td>\n",
       "      <td>1</td>\n",
       "      <td>0.0</td>\n",
       "    </tr>\n",
       "    <tr>\n",
       "      <th>4</th>\n",
       "      <td>А</td>\n",
       "      <td>знаете</td>\n",
       "      <td>промывать</td>\n",
       "      <td>15</td>\n",
       "      <td>0.978571</td>\n",
       "      <td>1</td>\n",
       "      <td>0.0</td>\n",
       "    </tr>\n",
       "  </tbody>\n",
       "</table>\n",
       "</div>"
      ],
      "text/plain": [
       "  shown  answer    word.id  summ  confusion  freq  prob\n",
       "0     А     вот  промывать    15   0.978571     1   0.0\n",
       "1     А     где  промывать    15   0.978571     1   0.0\n",
       "2     А     ему  промывать    15   0.978571     1   0.0\n",
       "3     А   зачем  промывать    15   0.978571     1   0.0\n",
       "4     А  знаете  промывать    15   0.978571     1   0.0"
      ]
     },
     "execution_count": 6,
     "metadata": {},
     "output_type": "execute_result"
    }
   ],
   "source": [
    "import numpy as np\n",
    "data_res['prob'] = np.where(data_res['word.id']==data_res['answer'], data_res.freq/data_res.summ, 0)\n",
    "data_res.head()"
   ]
  },
  {
   "cell_type": "markdown",
   "metadata": {},
   "source": [
    "check: did I lost some examples or not, as we can see the "
   ]
  },
  {
   "cell_type": "code",
   "execution_count": 7,
   "metadata": {},
   "outputs": [
    {
     "name": "stdout",
     "output_type": "stream",
     "text": [
      "(1853, 4) (1222, 3)\n"
     ]
    },
    {
     "data": {
      "text/html": [
       "<div>\n",
       "<style scoped>\n",
       "    .dataframe tbody tr th:only-of-type {\n",
       "        vertical-align: middle;\n",
       "    }\n",
       "\n",
       "    .dataframe tbody tr th {\n",
       "        vertical-align: top;\n",
       "    }\n",
       "\n",
       "    .dataframe thead th {\n",
       "        text-align: right;\n",
       "    }\n",
       "</style>\n",
       "<table border=\"1\" class=\"dataframe\">\n",
       "  <thead>\n",
       "    <tr style=\"text-align: right;\">\n",
       "      <th></th>\n",
       "      <th>shown</th>\n",
       "      <th>word.id</th>\n",
       "      <th>prob</th>\n",
       "      <th>confusion</th>\n",
       "      <th>is_dub</th>\n",
       "    </tr>\n",
       "  </thead>\n",
       "  <tbody>\n",
       "    <tr>\n",
       "      <th>0</th>\n",
       "      <td>А</td>\n",
       "      <td>промывать</td>\n",
       "      <td>0.000000</td>\n",
       "      <td>0.978571</td>\n",
       "      <td>False</td>\n",
       "    </tr>\n",
       "    <tr>\n",
       "      <th>15</th>\n",
       "      <td>А промывать</td>\n",
       "      <td>манную</td>\n",
       "      <td>0.000000</td>\n",
       "      <td>0.978571</td>\n",
       "      <td>False</td>\n",
       "    </tr>\n",
       "    <tr>\n",
       "      <th>40</th>\n",
       "      <td>А промывать манную</td>\n",
       "      <td>крупу</td>\n",
       "      <td>0.333333</td>\n",
       "      <td>0.978571</td>\n",
       "      <td>True</td>\n",
       "    </tr>\n",
       "    <tr>\n",
       "      <th>45</th>\n",
       "      <td>А промывать манную крупу</td>\n",
       "      <td>перед</td>\n",
       "      <td>0.000000</td>\n",
       "      <td>0.978571</td>\n",
       "      <td>False</td>\n",
       "    </tr>\n",
       "    <tr>\n",
       "      <th>60</th>\n",
       "      <td>А промывать манную крупу перед</td>\n",
       "      <td>тем</td>\n",
       "      <td>0.000000</td>\n",
       "      <td>0.978571</td>\n",
       "      <td>False</td>\n",
       "    </tr>\n",
       "  </tbody>\n",
       "</table>\n",
       "</div>"
      ],
      "text/plain": [
       "                             shown    word.id      prob  confusion  is_dub\n",
       "0                                А  промывать  0.000000   0.978571   False\n",
       "15                     А промывать     манную  0.000000   0.978571   False\n",
       "40              А промывать манную      крупу  0.333333   0.978571    True\n",
       "45        А промывать манную крупу      перед  0.000000   0.978571   False\n",
       "60  А промывать манную крупу перед        тем  0.000000   0.978571   False"
      ]
     },
     "execution_count": 7,
     "metadata": {},
     "output_type": "execute_result"
    }
   ],
   "source": [
    "data_res = data_res.drop_duplicates()\n",
    "j = data_res[['shown', 'prob']].groupby('shown').sum()\n",
    "j = j.reset_index(level=['shown'])\n",
    "k =  j.merge(data_res[['shown','word.id']], left_on=['shown'], right_on=['shown'], how='outer')\n",
    "k = k.drop_duplicates()\n",
    "s = k.groupby(['shown','word.id']).sum()\n",
    "s = s.reset_index(level=['shown', 'word.id'])\n",
    "result = data_res[['shown', 'word.id', 'prob', 'confusion']]\n",
    "result = result.drop_duplicates()\n",
    "print(result.shape, s.shape)\n",
    "result['is_dub'] = result[['shown', 'word.id', 'confusion']].duplicated(keep=False)\n",
    "g =  result.query('(is_dub == True & prob > 0)|(is_dub==False)')\n",
    "g.head()"
   ]
  },
  {
   "cell_type": "code",
   "execution_count": 8,
   "metadata": {},
   "outputs": [
    {
     "data": {
      "text/plain": [
       "(1222, 2)"
      ]
     },
     "execution_count": 8,
     "metadata": {},
     "output_type": "execute_result"
    }
   ],
   "source": [
    "sub_data[['shown','word.id']].drop_duplicates().shape"
   ]
  },
  {
   "cell_type": "markdown",
   "metadata": {},
   "source": [
    "The window above can show us how the mean of probabilities is distributed by the lenght of the previos context. I do think that distribution of cloze task is close to slow expanencial(but only up on some threshold, in our case it is ten-word-context). "
   ]
  },
  {
   "cell_type": "code",
   "execution_count": 9,
   "metadata": {},
   "outputs": [
    {
     "name": "stderr",
     "output_type": "stream",
     "text": [
      "/home/semen/.local/lib/python3.6/site-packages/ipykernel_launcher.py:8: SettingWithCopyWarning: \n",
      "A value is trying to be set on a copy of a slice from a DataFrame.\n",
      "Try using .loc[row_indexer,col_indexer] = value instead\n",
      "\n",
      "See the caveats in the documentation: http://pandas.pydata.org/pandas-docs/stable/indexing.html#indexing-view-versus-copy\n",
      "  \n"
     ]
    },
    {
     "data": {
      "text/plain": [
       "<Figure size 640x480 with 2 Axes>"
      ]
     },
     "metadata": {},
     "output_type": "display_data"
    }
   ],
   "source": [
    "import matplotlib.pyplot as plt \n",
    "\n",
    "plot_data = g[['shown', 'prob']]\n",
    "def get_len(x):\n",
    "    return len(x.split())\n",
    "\n",
    "def plot_mean_prob_distribution(plot_data, y_lbl):\n",
    "    plot_data['context_len'] = plot_data.shown.apply(get_len)\n",
    "    x1 = plot_data.groupby('context_len').sum()\n",
    "    x1 = x1.reset_index(level=['context_len'])\n",
    "    x2 = plot_data.groupby('context_len').size()\n",
    "    x2 = x2.reset_index(level=['context_len'])\n",
    "    plotting = x1.merge(x2, left_on = 'context_len', right_on = 'context_len', how = 'outer')\n",
    "    plotting.columns = ['context_len', 'prob', 'abs_freq']\n",
    "    plotting['frequency'] = plotting['prob']/plotting['abs_freq']\n",
    "    \n",
    "    plt.subplot(221)\n",
    "    plot1, =plt.plot(plotting.context_len.tolist(), plotting.frequency.tolist(), 'b--', label=\"$y=x^2$\")\n",
    "    plt.ylim(0,y_lbl)\n",
    "    plt.grid()\n",
    "\n",
    "    plt.subplot(222)\n",
    "    plt.bar(x= plotting.context_len.tolist(), height = plotting.frequency.tolist())\n",
    "    plt.ylim(0,y_lbl)\n",
    "\n",
    "    _=plt.show()\n",
    "    \n",
    "plot_mean_prob_distribution(plot_data, 0.5)"
   ]
  },
  {
   "cell_type": "markdown",
   "metadata": {},
   "source": [
    "Compute median and plot it. Why it is also necessary? Because the median values are more stable and less dependant on the \"emmissions\" of the model."
   ]
  },
  {
   "cell_type": "code",
   "execution_count": 10,
   "metadata": {},
   "outputs": [
    {
     "name": "stderr",
     "output_type": "stream",
     "text": [
      "/home/semen/.local/lib/python3.6/site-packages/ipykernel_launcher.py:13: SettingWithCopyWarning: \n",
      "A value is trying to be set on a copy of a slice from a DataFrame.\n",
      "Try using .loc[row_indexer,col_indexer] = value instead\n",
      "\n",
      "See the caveats in the documentation: http://pandas.pydata.org/pandas-docs/stable/indexing.html#indexing-view-versus-copy\n",
      "  del sys.path[0]\n",
      "/home/semen/.local/lib/python3.6/site-packages/pandas/core/generic.py:4405: SettingWithCopyWarning: \n",
      "A value is trying to be set on a copy of a slice from a DataFrame.\n",
      "Try using .loc[row_indexer,col_indexer] = value instead\n",
      "\n",
      "See the caveats in the documentation: http://pandas.pydata.org/pandas-docs/stable/indexing.html#indexing-view-versus-copy\n",
      "  self[name] = value\n"
     ]
    },
    {
     "data": {
      "image/png": "[encoded data removed]",
      "text/plain": [
       "<Figure size 432x288 with 3 Axes>"
      ]
     },
     "metadata": {
      "needs_background": "light"
     },
     "output_type": "display_data"
    }
   ],
   "source": [
    "import numpy as np\n",
    "\n",
    "def tl(x):\n",
    "    d = []\n",
    "    d.append(x)\n",
    "    return d\n",
    "\n",
    "def mediann(x):\n",
    "    return np.median(x)\n",
    "\n",
    "def plot_median_distribution(plot_data, y_lbl):\n",
    "    \n",
    "    plot_data['context_len'] = plot_data.shown.apply(get_len)\n",
    "    plot_data.prob = plot_data.prob.apply(tl)\n",
    "    x1 = plot_data.groupby('context_len').sum()\n",
    "    x1 = x1.reset_index(level=['context_len'])\n",
    "    plotting = x1\n",
    "\n",
    "    plotting['mediann'] = plotting['prob'].apply(mediann)\n",
    "    \n",
    "    data = np.array(plotting.prob)\n",
    "\n",
    "    plt.subplot(221)\n",
    "    plot1, =plt.plot(plotting.context_len.tolist(), plotting.mediann.tolist(), 'b--', label=\"$y=x^2$\")\n",
    "    plt.ylim(0,y_lbl)\n",
    "    plt.grid()\n",
    "\n",
    "    plt.subplot(222)\n",
    "    plt.bar(x= plotting.context_len.tolist(), height = plotting.mediann.tolist())\n",
    "    plt.ylim(0,y_lbl)\n",
    "    \n",
    "    plt.subplot(212)\n",
    "    plt.boxplot(data)\n",
    "    \n",
    "\n",
    "    _=plt.show()\n",
    "\n",
    "    \n",
    "plot_median_distribution(plot_data, 0.5)"
   ]
  },
  {
   "cell_type": "markdown",
   "metadata": {},
   "source": [
    "## LSTM Data"
   ]
  },
  {
   "cell_type": "code",
   "execution_count": 11,
   "metadata": {},
   "outputs": [],
   "source": [
    "lstm = pd.read_excel('LSTM_prob_w_pos.xlsx')"
   ]
  },
  {
   "cell_type": "code",
   "execution_count": 12,
   "metadata": {},
   "outputs": [
    {
     "data": {
      "text/plain": [
       "(1312, 2)"
      ]
     },
     "execution_count": 12,
     "metadata": {},
     "output_type": "execute_result"
    }
   ],
   "source": [
    "lstm[['shown','answer']].drop_duplicates().shape"
   ]
  },
  {
   "cell_type": "code",
   "execution_count": 13,
   "metadata": {},
   "outputs": [
    {
     "data": {
      "text/plain": [
       "(1223, 4)"
      ]
     },
     "execution_count": 13,
     "metadata": {},
     "output_type": "execute_result"
    }
   ],
   "source": [
    "sub_lstm = lstm[['shown','answer', 'prob', 'pos.tag']]\n",
    "sub_lstm = sub_lstm[sub_lstm.shown != 'Введите первое слово']\n",
    "sub_lstm.shape"
   ]
  },
  {
   "cell_type": "code",
   "execution_count": 14,
   "metadata": {},
   "outputs": [
    {
     "name": "stderr",
     "output_type": "stream",
     "text": [
      "/home/semen/.local/lib/python3.6/site-packages/ipykernel_launcher.py:8: SettingWithCopyWarning: \n",
      "A value is trying to be set on a copy of a slice from a DataFrame.\n",
      "Try using .loc[row_indexer,col_indexer] = value instead\n",
      "\n",
      "See the caveats in the documentation: http://pandas.pydata.org/pandas-docs/stable/indexing.html#indexing-view-versus-copy\n",
      "  \n"
     ]
    },
    {
     "data": {
      "image/png": "[encoded data removed]",
      "text/plain": [
       "<Figure size 432x288 with 2 Axes>"
      ]
     },
     "metadata": {
      "needs_background": "light"
     },
     "output_type": "display_data"
    }
   ],
   "source": [
    "plot_data_lstm = sub_lstm[['shown', 'prob']]\n",
    "plot_mean_prob_distribution(plot_data_lstm, 0.5)"
   ]
  },
  {
   "cell_type": "code",
   "execution_count": 15,
   "metadata": {},
   "outputs": [
    {
     "name": "stderr",
     "output_type": "stream",
     "text": [
      "/home/semen/.local/lib/python3.6/site-packages/ipykernel_launcher.py:13: SettingWithCopyWarning: \n",
      "A value is trying to be set on a copy of a slice from a DataFrame.\n",
      "Try using .loc[row_indexer,col_indexer] = value instead\n",
      "\n",
      "See the caveats in the documentation: http://pandas.pydata.org/pandas-docs/stable/indexing.html#indexing-view-versus-copy\n",
      "  del sys.path[0]\n"
     ]
    },
    {
     "data": {
      "image/png": "[encoded data removed]",
      "text/plain": [
       "<Figure size 432x288 with 3 Axes>"
      ]
     },
     "metadata": {
      "needs_background": "light"
     },
     "output_type": "display_data"
    }
   ],
   "source": [
    "plot_median_distribution(plot_data_lstm,0.5)"
   ]
  },
  {
   "cell_type": "code",
   "execution_count": 16,
   "metadata": {
    "scrolled": true
   },
   "outputs": [
    {
     "data": {
      "text/html": [
       "<div>\n",
       "<style scoped>\n",
       "    .dataframe tbody tr th:only-of-type {\n",
       "        vertical-align: middle;\n",
       "    }\n",
       "\n",
       "    .dataframe tbody tr th {\n",
       "        vertical-align: top;\n",
       "    }\n",
       "\n",
       "    .dataframe thead th {\n",
       "        text-align: right;\n",
       "    }\n",
       "</style>\n",
       "<table border=\"1\" class=\"dataframe\">\n",
       "  <thead>\n",
       "    <tr style=\"text-align: right;\">\n",
       "      <th></th>\n",
       "      <th>shown</th>\n",
       "      <th>word.id</th>\n",
       "      <th>prob_x</th>\n",
       "      <th>confusion</th>\n",
       "      <th>prob_y</th>\n",
       "      <th>pos.tag</th>\n",
       "    </tr>\n",
       "  </thead>\n",
       "  <tbody>\n",
       "    <tr>\n",
       "      <th>0</th>\n",
       "      <td>А</td>\n",
       "      <td>промывать</td>\n",
       "      <td>0.000000</td>\n",
       "      <td>0.978571</td>\n",
       "      <td>1.986770e-07</td>\n",
       "      <td>INFN</td>\n",
       "    </tr>\n",
       "    <tr>\n",
       "      <th>1</th>\n",
       "      <td>А промывать</td>\n",
       "      <td>манную</td>\n",
       "      <td>0.000000</td>\n",
       "      <td>0.978571</td>\n",
       "      <td>9.952960e-06</td>\n",
       "      <td>ADJF</td>\n",
       "    </tr>\n",
       "    <tr>\n",
       "      <th>2</th>\n",
       "      <td>А промывать манную</td>\n",
       "      <td>крупу</td>\n",
       "      <td>0.333333</td>\n",
       "      <td>0.978571</td>\n",
       "      <td>9.152956e-02</td>\n",
       "      <td>NOUN</td>\n",
       "    </tr>\n",
       "    <tr>\n",
       "      <th>3</th>\n",
       "      <td>А промывать манную крупу</td>\n",
       "      <td>перед</td>\n",
       "      <td>0.000000</td>\n",
       "      <td>0.978571</td>\n",
       "      <td>7.796750e-04</td>\n",
       "      <td>PREP</td>\n",
       "    </tr>\n",
       "    <tr>\n",
       "      <th>4</th>\n",
       "      <td>А промывать манную крупу перед</td>\n",
       "      <td>тем</td>\n",
       "      <td>0.000000</td>\n",
       "      <td>0.978571</td>\n",
       "      <td>1.503523e-02</td>\n",
       "      <td>CONJ</td>\n",
       "    </tr>\n",
       "  </tbody>\n",
       "</table>\n",
       "</div>"
      ],
      "text/plain": [
       "                            shown    word.id    prob_x  confusion  \\\n",
       "0                               А  промывать  0.000000   0.978571   \n",
       "1                     А промывать     манную  0.000000   0.978571   \n",
       "2              А промывать манную      крупу  0.333333   0.978571   \n",
       "3        А промывать манную крупу      перед  0.000000   0.978571   \n",
       "4  А промывать манную крупу перед        тем  0.000000   0.978571   \n",
       "\n",
       "         prob_y pos.tag  \n",
       "0  1.986770e-07    INFN  \n",
       "1  9.952960e-06    ADJF  \n",
       "2  9.152956e-02    NOUN  \n",
       "3  7.796750e-04    PREP  \n",
       "4  1.503523e-02    CONJ  "
      ]
     },
     "execution_count": 16,
     "metadata": {},
     "output_type": "execute_result"
    }
   ],
   "source": [
    "ggg = g.merge(sub_lstm, left_on=['shown','word.id'], right_on=['shown','answer'], how='outer')\n",
    "ress = ggg[['shown','word.id', 'prob_x', 'confusion', 'prob_y', 'pos.tag']]\n",
    "ress.head()"
   ]
  },
  {
   "cell_type": "markdown",
   "metadata": {},
   "source": [
    "## Comparing"
   ]
  },
  {
   "cell_type": "code",
   "execution_count": 17,
   "metadata": {
    "scrolled": false
   },
   "outputs": [
    {
     "name": "stdout",
     "output_type": "stream",
     "text": [
      "55.21226830615383\n"
     ]
    },
    {
     "name": "stderr",
     "output_type": "stream",
     "text": [
      "/home/semen/.local/lib/python3.6/site-packages/ipykernel_launcher.py:1: SettingWithCopyWarning: \n",
      "A value is trying to be set on a copy of a slice from a DataFrame.\n",
      "Try using .loc[row_indexer,col_indexer] = value instead\n",
      "\n",
      "See the caveats in the documentation: http://pandas.pydata.org/pandas-docs/stable/indexing.html#indexing-view-versus-copy\n",
      "  \"\"\"Entry point for launching an IPython kernel.\n"
     ]
    }
   ],
   "source": [
    "ress['diff'] = (ress.prob_x - ress.prob_y)**2\n",
    "print(sum(ress['diff']))"
   ]
  },
  {
   "cell_type": "code",
   "execution_count": 18,
   "metadata": {},
   "outputs": [
    {
     "data": {
      "image/png": "[encoded data removed]",
      "text/plain": [
       "<Figure size 432x288 with 1 Axes>"
      ]
     },
     "metadata": {
      "needs_background": "light"
     },
     "output_type": "display_data"
    }
   ],
   "source": [
    "import numpy as np\n",
    "import matplotlib.pyplot as plt \n",
    "from scipy import stats\n",
    "\n",
    "gradient, intercept, r_value, p_value, std_err = stats.linregress(ress.prob_x, ress.prob_y)\n",
    "mn=np.min(ress.prob_x)\n",
    "mx=np.max(ress.prob_y)\n",
    "x1=np.linspace(mn,mx,500)\n",
    "y1=gradient*x1+intercept\n",
    "plt.plot(ress.prob_x,ress.prob_y,'ob')\n",
    "plt.plot(x1,y1,'-r')\n",
    "plt.show()"
   ]
  },
  {
   "cell_type": "code",
   "execution_count": 19,
   "metadata": {},
   "outputs": [
    {
     "data": {
      "text/plain": [
       "3.6634010037120004"
      ]
     },
     "execution_count": 19,
     "metadata": {},
     "output_type": "execute_result"
    }
   ],
   "source": [
    "from sklearn.metrics import mutual_info_score\n",
    "MI = mutual_info_score(ress.prob_x, ress.prob_y)\n",
    "MI"
   ]
  },
  {
   "cell_type": "markdown",
   "metadata": {},
   "source": [
    "## Cloze task pos tagging with pymorthy"
   ]
  },
  {
   "cell_type": "code",
   "execution_count": 53,
   "metadata": {},
   "outputs": [
    {
     "data": {
      "text/plain": [
       "(1222, 2)"
      ]
     },
     "execution_count": 53,
     "metadata": {},
     "output_type": "execute_result"
    }
   ],
   "source": [
    "data = row_data[['shown','answer','word.id']]\n",
    "k = data[['shown','word.id']].drop_duplicates()\n",
    "k.shape"
   ]
  },
  {
   "cell_type": "code",
   "execution_count": 54,
   "metadata": {},
   "outputs": [],
   "source": [
    "import pymorphy2\n",
    "morph = pymorphy2.MorphAnalyzer()\n",
    "def pos_t_cor_w(cor_w):\n",
    "    ps = {}\n",
    "    for indx, pos_variant in enumerate(morph.parse(cor_w)):\n",
    "        if pos_variant.tag.POS not in ps:\n",
    "            ps[pos_variant.tag.POS] = pos_variant.score\n",
    "        else:\n",
    "            ps[pos_variant.tag.POS] += pos_variant.score\n",
    "            \n",
    "    return list(ps.items())"
   ]
  },
  {
   "cell_type": "code",
   "execution_count": 55,
   "metadata": {},
   "outputs": [],
   "source": [
    "correct_word_tags = {}\n",
    "for context, word in list(zip( k['shown'].tolist(), k['word.id'].tolist())):\n",
    "    correct_word_tags[(context,word)] = pos_t_cor_w(word)"
   ]
  },
  {
   "cell_type": "code",
   "execution_count": 56,
   "metadata": {},
   "outputs": [],
   "source": [
    "def tolist_(x):\n",
    "    return [x]\n",
    "data.answer = data.answer.apply(tolist_)"
   ]
  },
  {
   "cell_type": "code",
   "execution_count": 57,
   "metadata": {},
   "outputs": [
    {
     "data": {
      "text/html": [
       "<div>\n",
       "<style scoped>\n",
       "    .dataframe tbody tr th:only-of-type {\n",
       "        vertical-align: middle;\n",
       "    }\n",
       "\n",
       "    .dataframe tbody tr th {\n",
       "        vertical-align: top;\n",
       "    }\n",
       "\n",
       "    .dataframe thead th {\n",
       "        text-align: right;\n",
       "    }\n",
       "</style>\n",
       "<table border=\"1\" class=\"dataframe\">\n",
       "  <thead>\n",
       "    <tr style=\"text-align: right;\">\n",
       "      <th></th>\n",
       "      <th>shown</th>\n",
       "      <th>word.id</th>\n",
       "      <th>answer</th>\n",
       "    </tr>\n",
       "  </thead>\n",
       "  <tbody>\n",
       "    <tr>\n",
       "      <th>0</th>\n",
       "      <td>А</td>\n",
       "      <td>промывать</td>\n",
       "      <td>[вот, где, ему, зачем, знаете, зори, когда, кт...</td>\n",
       "    </tr>\n",
       "    <tr>\n",
       "      <th>1</th>\n",
       "      <td>А промывать</td>\n",
       "      <td>манную</td>\n",
       "      <td>[глаза, горло, желудок, ли, макароны, мозги, м...</td>\n",
       "    </tr>\n",
       "    <tr>\n",
       "      <th>2</th>\n",
       "      <td>А промывать манную</td>\n",
       "      <td>крупу</td>\n",
       "      <td>[кашу, кашу, кашу, кашу, кашу, кашу, кашу, каш...</td>\n",
       "    </tr>\n",
       "    <tr>\n",
       "      <th>3</th>\n",
       "      <td>А промывать манную крупу</td>\n",
       "      <td>перед</td>\n",
       "      <td>[блин, лучше, лучше, не, не, не, не, не, не, н...</td>\n",
       "    </tr>\n",
       "    <tr>\n",
       "      <th>4</th>\n",
       "      <td>А промывать манную крупу перед</td>\n",
       "      <td>тем</td>\n",
       "      <td>[варкой, варкой, варкой, варкой, варкой, варко...</td>\n",
       "    </tr>\n",
       "  </tbody>\n",
       "</table>\n",
       "</div>"
      ],
      "text/plain": [
       "                            shown    word.id  \\\n",
       "0                               А  промывать   \n",
       "1                     А промывать     манную   \n",
       "2              А промывать манную      крупу   \n",
       "3        А промывать манную крупу      перед   \n",
       "4  А промывать манную крупу перед        тем   \n",
       "\n",
       "                                              answer  \n",
       "0  [вот, где, ему, зачем, знаете, зори, когда, кт...  \n",
       "1  [глаза, горло, желудок, ли, макароны, мозги, м...  \n",
       "2  [кашу, кашу, кашу, кашу, кашу, кашу, кашу, каш...  \n",
       "3  [блин, лучше, лучше, не, не, не, не, не, не, н...  \n",
       "4  [варкой, варкой, варкой, варкой, варкой, варко...  "
      ]
     },
     "execution_count": 57,
     "metadata": {},
     "output_type": "execute_result"
    }
   ],
   "source": [
    "nt = data[['shown', 'answer', 'word.id']].groupby(['shown', 'word.id']).sum()\n",
    "nt = nt.reset_index()\n",
    "nt.head()"
   ]
  },
  {
   "cell_type": "code",
   "execution_count": 58,
   "metadata": {},
   "outputs": [],
   "source": [
    "f = list(zip(nt['shown'].tolist(), nt['word.id'].tolist()))\n",
    "answer_dict = {}\n",
    "for indx,i in enumerate(f):\n",
    "    answer_dict[i] = nt.answer.tolist()[indx] "
   ]
  },
  {
   "cell_type": "code",
   "execution_count": 59,
   "metadata": {},
   "outputs": [],
   "source": [
    "import pymorphy2\n",
    "morph = pymorphy2.MorphAnalyzer()\n",
    "def pos_t_ans(true_tag_distr, answers):\n",
    "    normalize = len(answers)\n",
    "    res = 0\n",
    "    for answer in answers:\n",
    "        ps = {}\n",
    "        for indx, pos_variant in enumerate(morph.parse(answer)):\n",
    "            if pos_variant.tag.POS not in ps:\n",
    "                ps[pos_variant.tag.POS] = pos_variant.score\n",
    "            else:\n",
    "                ps[pos_variant.tag.POS] += pos_variant.score\n",
    "     \n",
    "        for tag, prob in true_tag_distr:\n",
    "            if tag in ps:\n",
    "                res += ps[tag]*prob\n",
    "    res /=normalize     \n",
    "        \n",
    "    return res"
   ]
  },
  {
   "cell_type": "code",
   "execution_count": 60,
   "metadata": {},
   "outputs": [
    {
     "name": "stdout",
     "output_type": "stream",
     "text": [
      "1222\n"
     ]
    }
   ],
   "source": [
    "i = 0\n",
    "res = []\n",
    "for cont_word, answers in answer_dict.items():\n",
    "    res.append(pos_t_ans(correct_word_tags[cont_word],answers))\n",
    "print(len(res))\n",
    "nt['prob'] = res"
   ]
  },
  {
   "cell_type": "code",
   "execution_count": 37,
   "metadata": {},
   "outputs": [
    {
     "name": "stderr",
     "output_type": "stream",
     "text": [
      "/home/semen/.local/lib/python3.6/site-packages/ipykernel_launcher.py:8: SettingWithCopyWarning: \n",
      "A value is trying to be set on a copy of a slice from a DataFrame.\n",
      "Try using .loc[row_indexer,col_indexer] = value instead\n",
      "\n",
      "See the caveats in the documentation: http://pandas.pydata.org/pandas-docs/stable/indexing.html#indexing-view-versus-copy\n",
      "  \n"
     ]
    },
    {
     "data": {
      "image/png": "[encoded data removed]",
      "text/plain": [
       "<Figure size 432x288 with 2 Axes>"
      ]
     },
     "metadata": {
      "needs_background": "light"
     },
     "output_type": "display_data"
    }
   ],
   "source": [
    "plot_data = nt[['shown', 'prob']]\n",
    "plot_mean_prob_distribution(plot_data,1)"
   ]
  },
  {
   "cell_type": "code",
   "execution_count": 38,
   "metadata": {},
   "outputs": [
    {
     "name": "stderr",
     "output_type": "stream",
     "text": [
      "/home/semen/.local/lib/python3.6/site-packages/ipykernel_launcher.py:13: SettingWithCopyWarning: \n",
      "A value is trying to be set on a copy of a slice from a DataFrame.\n",
      "Try using .loc[row_indexer,col_indexer] = value instead\n",
      "\n",
      "See the caveats in the documentation: http://pandas.pydata.org/pandas-docs/stable/indexing.html#indexing-view-versus-copy\n",
      "  del sys.path[0]\n"
     ]
    },
    {
     "data": {
      "image/png": "[encoded data removed]",
      "text/plain": [
       "<Figure size 432x288 with 3 Axes>"
      ]
     },
     "metadata": {
      "needs_background": "light"
     },
     "output_type": "display_data"
    }
   ],
   "source": [
    "plot_median_distribution(plot_data,1)"
   ]
  },
  {
   "cell_type": "markdown",
   "metadata": {},
   "source": [
    "## LSTM data pos tagging"
   ]
  },
  {
   "cell_type": "code",
   "execution_count": 69,
   "metadata": {},
   "outputs": [],
   "source": [
    "import pymorphy2\n",
    "morph = pymorphy2.MorphAnalyzer()\n",
    "import re\n",
    "def pos_t_ans(answers_prob):\n",
    "    tags_prob = {'NOUN':0, 'ADJF':0, 'ADJS':0,'COMP':0,'VERB':0,'INFN':0,\n",
    "'PRTF':0,'PRTS':0, 'GRND':0, 'NUMR':0, 'ADVB':0, 'NPRO':0, 'PRED':0,\n",
    "'PREP':0, 'CONJ':0,'PRCL':0,'INTJ':0}\n",
    "    tags_count = {'NOUN':0, 'ADJF':0, 'ADJS':0,'COMP':0,'VERB':0,'INFN':0,\n",
    "'PRTF':0,'PRTS':0, 'GRND':0, 'NUMR':0, 'ADVB':0, 'NPRO':0, 'PRED':0,\n",
    "'PREP':0, 'CONJ':0,'PRCL':0,'INTJ':0}\n",
    "    for answer,prob in answers_prob:\n",
    "        k = re.findall('[а-яА-Я]+',answer)\n",
    "        if len(k)>0:\n",
    "            answer = k[0]\n",
    "            for indx, pos_variant in enumerate(morph.parse(answer)):\n",
    "                if pos_variant.tag.POS!=None:\n",
    "                    tags_prob[pos_variant.tag.POS] += (pos_variant.score*prob)\n",
    "                    if pos_variant.score>0:\n",
    "                        tags_count[pos_variant.tag.POS] += 1\n",
    "\n",
    "    t_p = list(tags_prob.items())\n",
    "    t_p.sort(key = lambda x:x[1])\n",
    "    pos, prob = t_p[-1]\n",
    "    if prob!=0:\n",
    "        prob /=tags_count[pos]\n",
    "    return pos, prob"
   ]
  },
  {
   "cell_type": "code",
   "execution_count": 70,
   "metadata": {},
   "outputs": [
    {
     "name": "stdout",
     "output_type": "stream",
     "text": [
      "1187\n"
     ]
    }
   ],
   "source": [
    "import json\n",
    "json_data=open('data.json').read()\n",
    "data = json.loads(json_data)\n",
    "lstm_tag_max_prob = []\n",
    "lstm_best_tag = []\n",
    "for context in list(data.keys()):\n",
    "    pos, prob = pos_t_ans(data.get(context))\n",
    "    lstm_tag_max_prob.append((context,prob))\n",
    "    lstm_best_tag.append((context,pos))\n",
    "print(len(lstm_best_tag))"
   ]
  },
  {
   "cell_type": "code",
   "execution_count": 71,
   "metadata": {},
   "outputs": [
    {
     "data": {
      "text/html": [
       "<div>\n",
       "<style scoped>\n",
       "    .dataframe tbody tr th:only-of-type {\n",
       "        vertical-align: middle;\n",
       "    }\n",
       "\n",
       "    .dataframe tbody tr th {\n",
       "        vertical-align: top;\n",
       "    }\n",
       "\n",
       "    .dataframe thead th {\n",
       "        text-align: right;\n",
       "    }\n",
       "</style>\n",
       "<table border=\"1\" class=\"dataframe\">\n",
       "  <thead>\n",
       "    <tr style=\"text-align: right;\">\n",
       "      <th></th>\n",
       "      <th>shown</th>\n",
       "      <th>prob</th>\n",
       "      <th>tag</th>\n",
       "    </tr>\n",
       "  </thead>\n",
       "  <tbody>\n",
       "    <tr>\n",
       "      <th>0</th>\n",
       "      <td>на</td>\n",
       "      <td>0.001498</td>\n",
       "      <td>ADJF</td>\n",
       "    </tr>\n",
       "    <tr>\n",
       "      <th>1</th>\n",
       "      <td>на болотах</td>\n",
       "      <td>0.005946</td>\n",
       "      <td>PREP</td>\n",
       "    </tr>\n",
       "    <tr>\n",
       "      <th>2</th>\n",
       "      <td>на болотах оставался</td>\n",
       "      <td>0.001779</td>\n",
       "      <td>ADJF</td>\n",
       "    </tr>\n",
       "    <tr>\n",
       "      <th>3</th>\n",
       "      <td>на болотах оставался ещё</td>\n",
       "      <td>0.009875</td>\n",
       "      <td>ADJF</td>\n",
       "    </tr>\n",
       "    <tr>\n",
       "      <th>4</th>\n",
       "      <td>на болотах оставался ещё лёд</td>\n",
       "      <td>0.001179</td>\n",
       "      <td>NOUN</td>\n",
       "    </tr>\n",
       "  </tbody>\n",
       "</table>\n",
       "</div>"
      ],
      "text/plain": [
       "                          shown      prob   tag\n",
       "0                            на  0.001498  ADJF\n",
       "1                    на болотах  0.005946  PREP\n",
       "2          на болотах оставался  0.001779  ADJF\n",
       "3      на болотах оставался ещё  0.009875  ADJF\n",
       "4  на болотах оставался ещё лёд  0.001179  NOUN"
      ]
     },
     "execution_count": 71,
     "metadata": {},
     "output_type": "execute_result"
    }
   ],
   "source": [
    "Context = [i for i, j in lstm_tag_max_prob]\n",
    "Probs_lstm_tag = [j for i, j in lstm_tag_max_prob]\n",
    "lstm_best_tag = [j for i, j in lstm_best_tag]\n",
    "lstm_tags_prob = pd.DataFrame({'shown' :Context, 'prob' : Probs_lstm_tag, 'tag':lstm_best_tag })\n",
    "lstm_tags_prob.head()\n"
   ]
  },
  {
   "cell_type": "code",
   "execution_count": 74,
   "metadata": {
    "scrolled": true
   },
   "outputs": [
    {
     "data": {
      "image/png": "[encoded data removed]",
      "text/plain": [
       "<Figure size 432x288 with 2 Axes>"
      ]
     },
     "metadata": {
      "needs_background": "light"
     },
     "output_type": "display_data"
    }
   ],
   "source": [
    "def prep(x):\n",
    "    h = x.replace(' - ', '-')\n",
    "    h = h.replace(' : \" ', ' ')\n",
    "    return h\n",
    "plot_data = lstm_tags_prob[['shown', 'prob']]\n",
    "plot_data.shown = plot_data.shown.apply(prep)\n",
    "plot_mean_prob_distribution(plot_data, 0.1)"
   ]
  },
  {
   "cell_type": "code",
   "execution_count": 75,
   "metadata": {},
   "outputs": [
    {
     "data": {
      "image/png": "[encoded data removed]",
      "text/plain": [
       "<Figure size 432x288 with 3 Axes>"
      ]
     },
     "metadata": {
      "needs_background": "light"
     },
     "output_type": "display_data"
    }
   ],
   "source": [
    "plot_median_distribution(plot_data,0.1)"
   ]
  },
  {
   "cell_type": "markdown",
   "metadata": {},
   "source": [
    "## Tag models comparing"
   ]
  },
  {
   "cell_type": "code",
   "execution_count": 76,
   "metadata": {},
   "outputs": [
    {
     "name": "stdout",
     "output_type": "stream",
     "text": [
      "478.63920646844656\n"
     ]
    }
   ],
   "source": [
    "lstm_tags_prob['diff'] = (nt['prob'] - lstm_tags_prob.prob)**2\n",
    "print(sum(lstm_tags_prob['diff']))"
   ]
  },
  {
   "cell_type": "code",
   "execution_count": 77,
   "metadata": {},
   "outputs": [
    {
     "data": {
      "image/png": "[encoded data removed]",
      "text/plain": [
       "<Figure size 432x288 with 1 Axes>"
      ]
     },
     "metadata": {
      "needs_background": "light"
     },
     "output_type": "display_data"
    }
   ],
   "source": [
    "import numpy as np\n",
    "import matplotlib.pyplot as plt \n",
    "from scipy import stats\n",
    "\n",
    "\n",
    "gradient, intercept, r_value, p_value, std_err = stats.linregress(nt['prob'][:1187], lstm_tags_prob.prob)\n",
    "mn=np.min(nt['prob'][:1187])\n",
    "mx=np.max(lstm_tags_prob.prob)\n",
    "x1=np.linspace(mn,mx,500)\n",
    "y1=gradient*x1+intercept\n",
    "plt.plot(nt['prob'][:1187],lstm_tags_prob.prob,'ob')\n",
    "plt.plot(x1,y1,'-r')\n",
    "plt.show()"
   ]
  },
  {
   "cell_type": "code",
   "execution_count": 78,
   "metadata": {},
   "outputs": [
    {
     "data": {
      "text/plain": [
       "6.722463492206198"
      ]
     },
     "execution_count": 78,
     "metadata": {},
     "output_type": "execute_result"
    }
   ],
   "source": [
    "from sklearn.metrics import mutual_info_score\n",
    "MI = mutual_info_score(lstm_tags_prob.prob, nt['prob'][:1187])\n",
    "MI"
   ]
  },
  {
   "cell_type": "markdown",
   "metadata": {},
   "source": [
    "## Cloze task data semantic research"
   ]
  },
  {
   "cell_type": "code",
   "execution_count": 44,
   "metadata": {},
   "outputs": [],
   "source": [
    "h = open('Close_task_answers.vec.vec', 'r').readlines()\n",
    "word2ind = {}\n",
    "vecs = []\n",
    "for ind, j in enumerate(h[1:]):\n",
    "    word2ind[j.split(' ')[0]] = ind\n",
    "    vecs.append(j.split(' ')[1:])"
   ]
  },
  {
   "cell_type": "code",
   "execution_count": 45,
   "metadata": {},
   "outputs": [],
   "source": [
    "import numpy as np\n",
    "from sklearn.cluster import KMeans\n",
    "km = KMeans(n_clusters=40, init='k-means++', n_init=10, max_iter=500).fit_predict(np.array(vecs))"
   ]
  },
  {
   "cell_type": "code",
   "execution_count": 46,
   "metadata": {},
   "outputs": [],
   "source": [
    "ind2word = {j:i for i,j in word2ind.items()}"
   ]
  },
  {
   "cell_type": "code",
   "execution_count": 47,
   "metadata": {},
   "outputs": [
    {
     "name": "stdout",
     "output_type": "stream",
     "text": [
      "9294\n"
     ]
    }
   ],
   "source": [
    "clusters = []\n",
    "for word_cluster in range(40):\n",
    "    new_cluster = []\n",
    "    for ind, i in enumerate(km):\n",
    "        if i == word_cluster:\n",
    "            new_cluster.append(ind2word[ind])\n",
    "    clusters.append(new_cluster)\n",
    "print(sum(len(i) for i in clusters))"
   ]
  },
  {
   "cell_type": "code",
   "execution_count": 49,
   "metadata": {},
   "outputs": [
    {
     "name": "stdout",
     "output_type": "stream",
     "text": [
      "была, она, которая, стала, эта, первая, должна, получила, вышла, та\n",
      "###############################\n",
      "увидел, стоял, бежал, спас, упал, поднялся, сел, встал, поднял, разбил\n",
      "###############################\n",
      "чтобы, сделать, использовать, найти, делать, писать, работать, оставить, стать, создать\n",
      "###############################\n",
      "болезни, крови, врач, лечения, тяжело, больных, больницы, кровь, болезнь, больнице\n",
      "###############################\n",
      "жизни, жизнь, мир, любовь, образ, голос, природы, любви, ради, бога\n",
      "###############################\n",
      "однажды, случайно, ночью, домой, убить, любит, неожиданно, утром, вдруг, вечером\n",
      "###############################\n",
      "были, стали, известные, появились, могли, получили, начали, жители, вошли, работали\n",
      "###############################\n",
      "растений, растения, леса, листья, дерево, насекомые, лесной, деревьев, дерева, ветви\n",
      "###############################\n",
      "смерти, род, родился, сын, женщин, отец, детей, семье, мужчин, дочь\n",
      "###############################\n",
      "нам, ты, моя, народ, наш, тебя, наша, слава, тебе, завтра\n",
      "###############################\n",
      "станции, проекта, работ, производства, строительства, операции, производство, сети, боевых, завода\n",
      "###############################\n",
      "они, могут, являются, должны, имеют, люди, будут, находятся, называют, используются\n",
      "###############################\n",
      "воды, земле, климат, ночь, температура, земля, свет, воду, огонь, вода\n",
      "###############################\n",
      "мира, игры, клуб, команда, лучший, матче, игра, кубок, игре, победы\n",
      "###############################\n",
      "не, что, о, это, то, так, если, есть, статьи, можно\n",
      "###############################\n",
      "красной, цвета, красного, тела, тело, белый, красная, глаза, белые, фигуры\n",
      "###############################\n",
      "яйца, рис, вина, пищи, пищу, приготовления, кофе, мясо, вкус, лук\n",
      "###############################\n",
      "был, он, стал, получил, работал, сам, начал, назначен, должен, умер\n",
      "###############################\n",
      "я, вы, статью, мне, да, кто, про, вот, надо, мы\n",
      "###############################\n",
      "против, дело, отношения, прав, действий, ответ, дела, лица, смерть, письмо\n",
      "###############################\n",
      "дом, церковь, музей, дома, доме, улице, замок, сад, домов, здании\n",
      "###############################\n",
      "животных, животные, птицы, кот, рыбы, рыб, птица, жуков, лошадей, собак\n",
      "###############################\n",
      "в, и, на, с, по, года, а, к, году, как\n",
      "###############################\n",
      "поверхности, веществ, воде, вещества, водой, поверхность, теплота, продуктов, кипения, изделий\n",
      "###############################\n",
      "вид, который, этот, первый, большой, новый, свой, такой, главный, данный\n",
      "###############################\n",
      "оружие, руки, голову, руках, камень, кольцо, вниз, вверх, ноги, правой\n",
      "###############################\n",
      "является, может, будет, имеет, находится, входит, занимает, относится, существует, используется\n",
      "###############################\n",
      "из, более, которые, один, список, несколько, которых, других, среди, всех\n",
      "###############################\n",
      "ткани, кожи, волосы, одежду, одежда, костюм, волос, украшения, шлем, платье\n",
      "###############################\n",
      "области, россии, ссср, войны, населения, центра, страны, центр, церкви, сельского\n",
      "###############################\n",
      "район, района, города, село, реки, город, улица, площади, река, берегу\n",
      "###############################\n",
      "участник, москва, николай, русский, иван, герой, король, андрей, алексей, виктор\n",
      "###############################\n",
      "для, или, без, описание, размер, индекс, работы, системы, виде, такие\n",
      "###############################\n",
      "таким, одним, первым, этим, своим, другим, самым, всем, главным, большим\n",
      "###############################\n",
      "мм, корпус, машины, конструкции, двигатель, устройства, установки, автомобиль, машина, питания\n",
      "###############################\n",
      "язык, университета, наук, образования, институт, образование, окончил, школы, университет, языка\n",
      "###############################\n",
      "свою, эту, работу, которую, первую, одну, всю, историю, сторону, группу\n",
      "###############################\n",
      "песни, книги, фильма, театра, роли, театр, кино, книга, искусства, альбома\n",
      "###############################\n",
      "иванович, николаевич, васильевич, петрович, анна, ольга, павлович, татьяна, ивановна, надежда\n",
      "###############################\n",
      "карты, компании, компания, долларов, средства, средств, рублей, компанией, деньги, сеть\n",
      "###############################\n"
     ]
    }
   ],
   "source": [
    "for i in [j[:10] for j in clusters]:\n",
    "    print (', '.join(i))\n",
    "    print('###############################')\n"
   ]
  },
  {
   "cell_type": "code",
   "execution_count": null,
   "metadata": {},
   "outputs": [],
   "source": []
  }
 ],
 "metadata": {
  "kernelspec": {
   "display_name": "Python 3",
   "language": "python",
   "name": "python3"
  },
  "language_info": {
   "codemirror_mode": {
    "name": "ipython",
    "version": 3
   },
   "file_extension": ".py",
   "mimetype": "text/x-python",
   "name": "python",
   "nbconvert_exporter": "python",
   "pygments_lexer": "ipython3",
   "version": "3.6.7"
  }
 },
 "nbformat": 4,
 "nbformat_minor": 2
}
