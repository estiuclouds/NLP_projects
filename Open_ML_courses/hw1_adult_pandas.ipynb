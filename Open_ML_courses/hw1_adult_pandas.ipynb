{
 "cells": [
  {
   "cell_type": "markdown",
   "metadata": {},
   "source": [
    "<center>\n",
    "<img src=\"../../img/ods_stickers.jpg\">\n",
    "## Открытый курс по машинному обучению\n",
    "</center>\n",
    "Автор материала: программист-исследователь Mail.ru Group, старший преподаватель Факультета Компьютерных Наук ВШЭ Юрий Кашницкий. Материал распространяется на условиях лицензии [Creative Commons CC BY-NC-SA 4.0](https://creativecommons.org/licenses/by-nc-sa/4.0/). Можно использовать в любых целях (редактировать, поправлять и брать за основу), кроме коммерческих, но с обязательным упоминанием автора материала."
   ]
  },
  {
   "cell_type": "markdown",
   "metadata": {},
   "source": [
    "# <center>Домашнее задание 1. <br> Анализ данных по доходу населения UCI Adult</center>"
   ]
  },
  {
   "cell_type": "markdown",
   "metadata": {},
   "source": [
    "**В задании предлагается с помощью Pandas ответить на несколько вопросов по данным репозитория UCI [Adult](https://archive.ics.uci.edu/ml/datasets/Adult) (качать данные не надо – они уже есть в репозитории). Для отправки решений используйте [онлайн-форму](https://goo.gl/forms/pB1tDIArMvTUsIUg2).**"
   ]
  },
  {
   "cell_type": "markdown",
   "metadata": {},
   "source": [
    "Уникальные значения признаков (больше информации по ссылке выше):\n",
    "- age: continuous.\n",
    "- workclass: Private, Self-emp-not-inc, Self-emp-inc, Federal-gov, Local-gov, State-gov, Without-pay, Never-worked.\n",
    "- fnlwgt: continuous.\n",
    "- education: Bachelors, Some-college, 11th, HS-grad, Prof-school, Assoc-acdm, Assoc-voc, 9th, 7th-8th, 12th, Masters, 1st-4th, 10th, Doctorate, 5th-6th, Preschool.\n",
    "- education-num: continuous.\n",
    "- marital-status: Married-civ-spouse, Divorced, Never-married, Separated, Widowed, Married-spouse-absent, Married-AF-spouse.\n",
    "- occupation: Tech-support, Craft-repair, Other-service, Sales, Exec-managerial, Prof-specialty, Handlers-cleaners, Machine-op-inspct, Adm-clerical, Farming-fishing, Transport-moving, Priv-house-serv, Protective-serv, Armed-Forces.\n",
    "- relationship: Wife, Own-child, Husband, Not-in-family, Other-relative, Unmarried.\n",
    "- race: White, Asian-Pac-Islander, Amer-Indian-Eskimo, Other, Black.\n",
    "- sex: Female, Male.\n",
    "- capital-gain: continuous.\n",
    "- capital-loss: continuous.\n",
    "- hours-per-week: continuous.\n",
    "- native-country: United-States, Cambodia, England, Puerto-Rico, Canada, Germany, Outlying-US(Guam-USVI-etc), India, Japan, Greece, South, China, Cuba, Iran, Honduras, Philippines, Italy, Poland, Jamaica, Vietnam, Mexico, Portugal, Ireland, France, Dominican-Republic, Laos, Ecuador, Taiwan, Haiti, Columbia, Hungary, Guatemala, Nicaragua, Scotland, Thailand, Yugoslavia, El-Salvador, Trinadad&Tobago, Peru, Hong, Holand-Netherlands.   \n",
    "- salary: >50K,<=50K"
   ]
  },
  {
   "cell_type": "code",
   "execution_count": 3,
   "metadata": {
    "collapsed": true
   },
   "outputs": [],
   "source": [
    "import pandas as pd\n",
    "# чтоб картинки рисовались в тетрадке\n",
    "%matplotlib inline \n",
    "import matplotlib.pyplot as plt\n",
    "import seaborn as sns\n",
    "plt.rcParams['figure.figsize'] = (10, 8)"
   ]
  },
  {
   "cell_type": "code",
   "execution_count": 4,
   "metadata": {},
   "outputs": [
    {
     "data": {
      "text/html": [
       "<div>\n",
       "<style>\n",
       "    .dataframe thead tr:only-child th {\n",
       "        text-align: right;\n",
       "    }\n",
       "\n",
       "    .dataframe thead th {\n",
       "        text-align: left;\n",
       "    }\n",
       "\n",
       "    .dataframe tbody tr th {\n",
       "        vertical-align: top;\n",
       "    }\n",
       "</style>\n",
       "<table border=\"1\" class=\"dataframe\">\n",
       "  <thead>\n",
       "    <tr style=\"text-align: right;\">\n",
       "      <th></th>\n",
       "      <th>age</th>\n",
       "      <th>workclass</th>\n",
       "      <th>fnlwgt</th>\n",
       "      <th>education</th>\n",
       "      <th>education_num</th>\n",
       "      <th>marital_status</th>\n",
       "      <th>occupation</th>\n",
       "      <th>relationship</th>\n",
       "      <th>race</th>\n",
       "      <th>sex</th>\n",
       "      <th>capital_gain</th>\n",
       "      <th>capital_loss</th>\n",
       "      <th>hours_per_week</th>\n",
       "      <th>native_country</th>\n",
       "      <th>capital</th>\n",
       "    </tr>\n",
       "  </thead>\n",
       "  <tbody>\n",
       "    <tr>\n",
       "      <th>0</th>\n",
       "      <td>39</td>\n",
       "      <td>State-gov</td>\n",
       "      <td>77516</td>\n",
       "      <td>Bachelors</td>\n",
       "      <td>13</td>\n",
       "      <td>Never-married</td>\n",
       "      <td>Adm-clerical</td>\n",
       "      <td>Not-in-family</td>\n",
       "      <td>White</td>\n",
       "      <td>Male</td>\n",
       "      <td>2174</td>\n",
       "      <td>0</td>\n",
       "      <td>40</td>\n",
       "      <td>United-States</td>\n",
       "      <td>&lt;=50K</td>\n",
       "    </tr>\n",
       "    <tr>\n",
       "      <th>1</th>\n",
       "      <td>50</td>\n",
       "      <td>Self-emp-not-inc</td>\n",
       "      <td>83311</td>\n",
       "      <td>Bachelors</td>\n",
       "      <td>13</td>\n",
       "      <td>Married-civ-spouse</td>\n",
       "      <td>Exec-managerial</td>\n",
       "      <td>Husband</td>\n",
       "      <td>White</td>\n",
       "      <td>Male</td>\n",
       "      <td>0</td>\n",
       "      <td>0</td>\n",
       "      <td>13</td>\n",
       "      <td>United-States</td>\n",
       "      <td>&lt;=50K</td>\n",
       "    </tr>\n",
       "    <tr>\n",
       "      <th>2</th>\n",
       "      <td>38</td>\n",
       "      <td>Private</td>\n",
       "      <td>215646</td>\n",
       "      <td>HS-grad</td>\n",
       "      <td>9</td>\n",
       "      <td>Divorced</td>\n",
       "      <td>Handlers-cleaners</td>\n",
       "      <td>Not-in-family</td>\n",
       "      <td>White</td>\n",
       "      <td>Male</td>\n",
       "      <td>0</td>\n",
       "      <td>0</td>\n",
       "      <td>40</td>\n",
       "      <td>United-States</td>\n",
       "      <td>&lt;=50K</td>\n",
       "    </tr>\n",
       "    <tr>\n",
       "      <th>3</th>\n",
       "      <td>53</td>\n",
       "      <td>Private</td>\n",
       "      <td>234721</td>\n",
       "      <td>11th</td>\n",
       "      <td>7</td>\n",
       "      <td>Married-civ-spouse</td>\n",
       "      <td>Handlers-cleaners</td>\n",
       "      <td>Husband</td>\n",
       "      <td>Black</td>\n",
       "      <td>Male</td>\n",
       "      <td>0</td>\n",
       "      <td>0</td>\n",
       "      <td>40</td>\n",
       "      <td>United-States</td>\n",
       "      <td>&lt;=50K</td>\n",
       "    </tr>\n",
       "    <tr>\n",
       "      <th>4</th>\n",
       "      <td>28</td>\n",
       "      <td>Private</td>\n",
       "      <td>338409</td>\n",
       "      <td>Bachelors</td>\n",
       "      <td>13</td>\n",
       "      <td>Married-civ-spouse</td>\n",
       "      <td>Prof-specialty</td>\n",
       "      <td>Wife</td>\n",
       "      <td>Black</td>\n",
       "      <td>Female</td>\n",
       "      <td>0</td>\n",
       "      <td>0</td>\n",
       "      <td>40</td>\n",
       "      <td>Cuba</td>\n",
       "      <td>&lt;=50K</td>\n",
       "    </tr>\n",
       "  </tbody>\n",
       "</table>\n",
       "</div>"
      ],
      "text/plain": [
       "   age          workclass  fnlwgt   education  education_num  \\\n",
       "0   39          State-gov   77516   Bachelors             13   \n",
       "1   50   Self-emp-not-inc   83311   Bachelors             13   \n",
       "2   38            Private  215646     HS-grad              9   \n",
       "3   53            Private  234721        11th              7   \n",
       "4   28            Private  338409   Bachelors             13   \n",
       "\n",
       "        marital_status          occupation    relationship    race      sex  \\\n",
       "0        Never-married        Adm-clerical   Not-in-family   White     Male   \n",
       "1   Married-civ-spouse     Exec-managerial         Husband   White     Male   \n",
       "2             Divorced   Handlers-cleaners   Not-in-family   White     Male   \n",
       "3   Married-civ-spouse   Handlers-cleaners         Husband   Black     Male   \n",
       "4   Married-civ-spouse      Prof-specialty            Wife   Black   Female   \n",
       "\n",
       "   capital_gain  capital_loss  hours_per_week  native_country capital  \n",
       "0          2174             0              40   United-States   <=50K  \n",
       "1             0             0              13   United-States   <=50K  \n",
       "2             0             0              40   United-States   <=50K  \n",
       "3             0             0              40   United-States   <=50K  \n",
       "4             0             0              40            Cuba   <=50K  "
      ]
     },
     "execution_count": 4,
     "metadata": {},
     "output_type": "execute_result"
    }
   ],
   "source": [
    "data = pd.read_csv('adult.data.csv.txt', names=['age', 'workclass', 'fnlwgt', 'education', 'education_num', 'marital_status', \n",
    "'occupation', 'relationship', 'race', \n",
    "'sex', 'capital_gain', 'capital_loss', 'hours_per_week', 'native_country','capital'], header=None, index_col=False)\n",
    "data.head()"
   ]
  },
  {
   "cell_type": "markdown",
   "metadata": {},
   "source": [
    "**1. Сколько мужчин и женщин (признак *sex*) представлено в этом наборе данных?**"
   ]
  },
  {
   "cell_type": "code",
   "execution_count": 8,
   "metadata": {},
   "outputs": [
    {
     "data": {
      "text/plain": [
       " Male      21790\n",
       " Female    10771\n",
       "Name: sex, dtype: int64"
      ]
     },
     "execution_count": 8,
     "metadata": {},
     "output_type": "execute_result"
    }
   ],
   "source": [
    "data.sex.value_counts()\n",
    "#data['sex'].describe(include=['object'])"
   ]
  },
  {
   "cell_type": "markdown",
   "metadata": {},
   "source": [
    "**2. Каков средний возраст (признак *age*) женщин?**"
   ]
  },
  {
   "cell_type": "code",
   "execution_count": null,
   "metadata": {
    "collapsed": true
   },
   "outputs": [],
   "source": [
    "\n",
    "grouped =data.groupby(['sex'])\n",
    "\n",
    "for name,group in grouped:\n",
    "    print (group['age'].mean())\n",
    "    \n",
    "\n",
    "data[data['sex']==' Female']['age'].mean()"
   ]
  },
  {
   "cell_type": "markdown",
   "metadata": {},
   "source": [
    "**3. Какова доля граждан Германии (признак *native-country*)?**"
   ]
  },
  {
   "cell_type": "code",
   "execution_count": 59,
   "metadata": {},
   "outputs": [
    {
     "name": "stdout",
     "output_type": "stream",
     "text": [
      "Germany:  0.00420748748503\n"
     ]
    }
   ],
   "source": [
    "len(data[data['native_country']==' Germany'])/len(data['native_country'])\n",
    "#data['native_country'].value_counts(normalize=True)\n",
    "for i,j in data['native_country'].value_counts(normalize=True).items():\n",
    "    if i ==' Germany':\n",
    "        print ('Germany: ',j)"
   ]
  },
  {
   "cell_type": "markdown",
   "metadata": {},
   "source": [
    "**4. Постройте гистограмму распределения (*bar plot*) образования людей (признак *education*).**"
   ]
  },
  {
   "cell_type": "code",
   "execution_count": 67,
   "metadata": {},
   "outputs": [
    {
     "data": {
      "text/plain": [
       "<matplotlib.axes._subplots.AxesSubplot at 0x56ed376d30>"
      ]
     },
     "execution_count": 67,
     "metadata": {},
     "output_type": "execute_result"
    },
    {
     "data": {
      "image/png": "[encoded data removed]",
      "text/plain": [
       "<matplotlib.figure.Figure at 0x56ed3f0080>"
      ]
     },
     "metadata": {},
     "output_type": "display_data"
    }
   ],
   "source": [
    "import matplotlib.pyplot as plt\n",
    "%matplotlib inline\n",
    "ser = data['education'].value_counts(normalize=True)\n",
    "#ser.plot(kind='kde')\n",
    "\n",
    "data['education'].value_counts(normalize=True).plot.bar()\n",
    "#data['education'].value_counts().plot.hist()\n"
   ]
  },
  {
   "cell_type": "markdown",
   "metadata": {},
   "source": [
    "**5. Каковы средние значения и среднеквадратичные отклонения возраста тех, кто получает более 50K в год (признак *salary*) и тех, кто получает менее 50K в год? **"
   ]
  },
  {
   "cell_type": "code",
   "execution_count": 65,
   "metadata": {},
   "outputs": [
    {
     "name": "stdout",
     "output_type": "stream",
     "text": [
      "44.24984058155847\n",
      "10.51902771985177\n",
      "36.78373786407767\n",
      "14.020088490824813\n"
     ]
    }
   ],
   "source": [
    "print(data[data['capital']==' >50K']['age'].mean())\n",
    "print(data[data['capital']==' >50K']['age'].std())\n",
    "print(data[data['capital']==' <=50K']['age'].mean())\n",
    "print(data[data['capital']==' <=50K']['age'].std())"
   ]
  },
  {
   "cell_type": "markdown",
   "metadata": {},
   "source": [
    "**6. Правда ли, что люди, которые получают больше 50k, имеют как минимум высшее образование? (признак *education - Bachelors, Prof-school, Assoc-acdm, Assoc-voc, Masters* или *Doctorate*)**"
   ]
  },
  {
   "cell_type": "code",
   "execution_count": 24,
   "metadata": {},
   "outputs": [
    {
     "data": {
      "text/plain": [
       "array([' HS-grad', ' Masters', ' Bachelors', ' Some-college', ' Assoc-voc',\n",
       "       ' Doctorate', ' Prof-school', ' Assoc-acdm', ' 7th-8th', ' 12th',\n",
       "       ' 10th', ' 11th', ' 9th', ' 5th-6th', ' 1st-4th'], dtype=object)"
      ]
     },
     "execution_count": 24,
     "metadata": {},
     "output_type": "execute_result"
    }
   ],
   "source": [
    "data[data['capital']==' >50K']['education'].unique()"
   ]
  },
  {
   "cell_type": "markdown",
   "metadata": {},
   "source": [
    "**7. Выведите статистику возраста для каждой расы (признак *race*) и каждого пола. Используйте *groupby* и *describe*. Найдите таким образом максимальный возраст мужчин расы *Amer-Indian-Eskimo*.**"
   ]
  },
  {
   "cell_type": "code",
   "execution_count": 31,
   "metadata": {},
   "outputs": [
    {
     "name": "stdout",
     "output_type": "stream",
     "text": [
      "(' Amer-Indian-Eskimo', ' Female') count    119.000000\n",
      "mean      37.117647\n",
      "std       13.114991\n",
      "min       17.000000\n",
      "25%       27.000000\n",
      "50%       36.000000\n",
      "75%       46.000000\n",
      "max       80.000000\n",
      "Name: age, dtype: float64\n",
      "(' Amer-Indian-Eskimo', ' Male') count    192.000000\n",
      "mean      37.208333\n",
      "std       12.049563\n",
      "min       17.000000\n",
      "25%       28.000000\n",
      "50%       35.000000\n",
      "75%       45.000000\n",
      "max       82.000000\n",
      "Name: age, dtype: float64\n",
      "MAX AGE THIS MAN is 82\n",
      "(' Asian-Pac-Islander', ' Female') count    346.000000\n",
      "mean      35.089595\n",
      "std       12.300845\n",
      "min       17.000000\n",
      "25%       25.000000\n",
      "50%       33.000000\n",
      "75%       43.750000\n",
      "max       75.000000\n",
      "Name: age, dtype: float64\n",
      "(' Asian-Pac-Islander', ' Male') count    693.000000\n",
      "mean      39.073593\n",
      "std       12.883944\n",
      "min       18.000000\n",
      "25%       29.000000\n",
      "50%       37.000000\n",
      "75%       46.000000\n",
      "max       90.000000\n",
      "Name: age, dtype: float64\n",
      "(' Black', ' Female') count    1555.000000\n",
      "mean       37.854019\n",
      "std        12.637197\n",
      "min        17.000000\n",
      "25%        28.000000\n",
      "50%        37.000000\n",
      "75%        46.000000\n",
      "max        90.000000\n",
      "Name: age, dtype: float64\n",
      "(' Black', ' Male') count    1569.000000\n",
      "mean       37.682600\n",
      "std        12.882612\n",
      "min        17.000000\n",
      "25%        27.000000\n",
      "50%        36.000000\n",
      "75%        46.000000\n",
      "max        90.000000\n",
      "Name: age, dtype: float64\n",
      "(' Other', ' Female') count    109.000000\n",
      "mean      31.678899\n",
      "std       11.631599\n",
      "min       17.000000\n",
      "25%       23.000000\n",
      "50%       29.000000\n",
      "75%       39.000000\n",
      "max       74.000000\n",
      "Name: age, dtype: float64\n",
      "(' Other', ' Male') count    162.000000\n",
      "mean      34.654321\n",
      "std       11.355531\n",
      "min       17.000000\n",
      "25%       26.000000\n",
      "50%       32.000000\n",
      "75%       42.000000\n",
      "max       77.000000\n",
      "Name: age, dtype: float64\n",
      "(' White', ' Female') count    8642.000000\n",
      "mean       36.811618\n",
      "std        14.329093\n",
      "min        17.000000\n",
      "25%        25.000000\n",
      "50%        35.000000\n",
      "75%        46.000000\n",
      "max        90.000000\n",
      "Name: age, dtype: float64\n",
      "(' White', ' Male') count    19174.000000\n",
      "mean        39.652498\n",
      "std         13.436029\n",
      "min         17.000000\n",
      "25%         29.000000\n",
      "50%         38.000000\n",
      "75%         49.000000\n",
      "max         90.000000\n",
      "Name: age, dtype: float64\n"
     ]
    }
   ],
   "source": [
    "grouped =data.groupby(['race','sex'])\n",
    "\n",
    "for name,group in grouped:\n",
    "    print (name,group.age.describe())\n",
    "    if name==(' Amer-Indian-Eskimo', ' Male'):\n",
    "        print('MAX AGE THIS MAN is {}'.format(group.age.max()))\n"
   ]
  },
  {
   "cell_type": "markdown",
   "metadata": {},
   "source": [
    "**8. Среди кого больше доля зарабатывающих много (>50K): среди женатых или холостых мужчин (признак *marital-status*)? Женатыми считаем тех, у кого *marital-status* начинается с *Married* (Married-civ-spouse, Married-spouse-absent или Married-AF-spouse), остальных считаем холостыми.**"
   ]
  },
  {
   "cell_type": "code",
   "execution_count": 42,
   "metadata": {},
   "outputs": [
    {
     "name": "stdout",
     "output_type": "stream",
     "text": [
      " Married-civ-spouse       6692\n",
      " Never-married             491\n",
      " Divorced                  463\n",
      " Widowed                    85\n",
      " Separated                  66\n",
      " Married-spouse-absent      34\n",
      " Married-AF-spouse          10\n",
      "Name: marital_status, dtype: int64\n",
      "6736 1105\n"
     ]
    }
   ],
   "source": [
    "print(data[(data['capital'] == ' >50K')]['marital_status'].value_counts())\n",
    "maried=0\n",
    "nonmaried=0\n",
    "for i,j in data[(data['capital'] == ' >50K')]['marital_status'].value_counts().items():\n",
    "    if i in [' Married-civ-spouse',' Married-spouse-absent', ' Married-AF-spouse',' Married']:\n",
    "        maried+=j\n",
    "    else:\n",
    "        nonmaried+=j\n",
    "print(maried,nonmaried)"
   ]
  },
  {
   "cell_type": "markdown",
   "metadata": {},
   "source": [
    "**9. Какое максимальное число часов человек работает в неделю (признак *hours-per-week*)? Сколько людей работают такое количество часов и каков среди них процент зарабатывающих много?**"
   ]
  },
  {
   "cell_type": "code",
   "execution_count": 52,
   "metadata": {},
   "outputs": [
    {
     "data": {
      "text/plain": [
       "0.29411764705882354"
      ]
     },
     "execution_count": 52,
     "metadata": {},
     "output_type": "execute_result"
    }
   ],
   "source": [
    "data['hours_per_week'].max()\n",
    "s=len(data[data['hours_per_week']==99]['hours_per_week'])\n",
    "k=len(data[(data['hours_per_week']==99) & (data['capital'] == ' >50K')]['hours_per_week'])\n",
    "k/s"
   ]
  },
  {
   "cell_type": "markdown",
   "metadata": {},
   "source": [
    "**10. Посчитайте среднее время работы (*hours-per-week*) зарабатывающих мало и много (*salary*) для каждой страны (*native-country*).**"
   ]
  },
  {
   "cell_type": "code",
   "execution_count": 54,
   "metadata": {},
   "outputs": [
    {
     "name": "stdout",
     "output_type": "stream",
     "text": [
      "(' ?', ' <=50K') 40.16475972540046\n",
      "(' ?', ' >50K') 45.54794520547945\n",
      "(' Cambodia', ' <=50K') 41.416666666666664\n",
      "(' Cambodia', ' >50K') 40.0\n",
      "(' Canada', ' <=50K') 37.91463414634146\n",
      "(' Canada', ' >50K') 45.64102564102564\n",
      "(' China', ' <=50K') 37.38181818181818\n",
      "(' China', ' >50K') 38.9\n",
      "(' Columbia', ' <=50K') 38.68421052631579\n",
      "(' Columbia', ' >50K') 50.0\n",
      "(' Cuba', ' <=50K') 37.98571428571429\n",
      "(' Cuba', ' >50K') 42.44\n",
      "(' Dominican-Republic', ' <=50K') 42.338235294117645\n",
      "(' Dominican-Republic', ' >50K') 47.0\n",
      "(' Ecuador', ' <=50K') 38.041666666666664\n",
      "(' Ecuador', ' >50K') 48.75\n",
      "(' El-Salvador', ' <=50K') 36.03092783505155\n",
      "(' El-Salvador', ' >50K') 45.0\n",
      "(' England', ' <=50K') 40.483333333333334\n",
      "(' England', ' >50K') 44.53333333333333\n",
      "(' France', ' <=50K') 41.05882352941177\n",
      "(' France', ' >50K') 50.75\n",
      "(' Germany', ' <=50K') 39.13978494623656\n",
      "(' Germany', ' >50K') 44.97727272727273\n",
      "(' Greece', ' <=50K') 41.80952380952381\n",
      "(' Greece', ' >50K') 50.625\n",
      "(' Guatemala', ' <=50K') 39.36065573770492\n",
      "(' Guatemala', ' >50K') 36.666666666666664\n",
      "(' Haiti', ' <=50K') 36.325\n",
      "(' Haiti', ' >50K') 42.75\n",
      "(' Holand-Netherlands', ' <=50K') 40.0\n",
      "(' Honduras', ' <=50K') 34.333333333333336\n",
      "(' Honduras', ' >50K') 60.0\n",
      "(' Hong', ' <=50K') 39.142857142857146\n",
      "(' Hong', ' >50K') 45.0\n",
      "(' Hungary', ' <=50K') 31.3\n",
      "(' Hungary', ' >50K') 50.0\n",
      "(' India', ' <=50K') 38.233333333333334\n",
      "(' India', ' >50K') 46.475\n",
      "(' Iran', ' <=50K') 41.44\n",
      "(' Iran', ' >50K') 47.5\n",
      "(' Ireland', ' <=50K') 40.94736842105263\n",
      "(' Ireland', ' >50K') 48.0\n",
      "(' Italy', ' <=50K') 39.625\n",
      "(' Italy', ' >50K') 45.4\n",
      "(' Jamaica', ' <=50K') 38.23943661971831\n",
      "(' Jamaica', ' >50K') 41.1\n",
      "(' Japan', ' <=50K') 41.0\n",
      "(' Japan', ' >50K') 47.958333333333336\n",
      "(' Laos', ' <=50K') 40.375\n",
      "(' Laos', ' >50K') 40.0\n",
      "(' Mexico', ' <=50K') 40.00327868852459\n",
      "(' Mexico', ' >50K') 46.57575757575758\n",
      "(' Nicaragua', ' <=50K') 36.09375\n",
      "(' Nicaragua', ' >50K') 37.5\n",
      "(' Outlying-US(Guam-USVI-etc)', ' <=50K') 41.857142857142854\n",
      "(' Peru', ' <=50K') 35.06896551724138\n",
      "(' Peru', ' >50K') 40.0\n",
      "(' Philippines', ' <=50K') 38.065693430656935\n",
      "(' Philippines', ' >50K') 43.032786885245905\n",
      "(' Poland', ' <=50K') 38.166666666666664\n",
      "(' Poland', ' >50K') 39.0\n",
      "(' Portugal', ' <=50K') 41.93939393939394\n",
      "(' Portugal', ' >50K') 41.5\n",
      "(' Puerto-Rico', ' <=50K') 38.470588235294116\n",
      "(' Puerto-Rico', ' >50K') 39.416666666666664\n",
      "(' Scotland', ' <=50K') 39.44444444444444\n",
      "(' Scotland', ' >50K') 46.666666666666664\n",
      "(' South', ' <=50K') 40.15625\n",
      "(' South', ' >50K') 51.4375\n",
      "(' Taiwan', ' <=50K') 33.774193548387096\n",
      "(' Taiwan', ' >50K') 46.8\n",
      "(' Thailand', ' <=50K') 42.86666666666667\n",
      "(' Thailand', ' >50K') 58.333333333333336\n",
      "(' Trinadad&Tobago', ' <=50K') 37.05882352941177\n",
      "(' Trinadad&Tobago', ' >50K') 40.0\n",
      "(' United-States', ' <=50K') 38.79912723305605\n",
      "(' United-States', ' >50K') 45.50536884674383\n",
      "(' Vietnam', ' <=50K') 37.193548387096776\n",
      "(' Vietnam', ' >50K') 39.2\n",
      "(' Yugoslavia', ' <=50K') 41.6\n",
      "(' Yugoslavia', ' >50K') 49.5\n"
     ]
    }
   ],
   "source": [
    "grouped =data.groupby(['native_country', 'capital'])\n",
    "\n",
    "for name,group in grouped:\n",
    "    print (name, group.hours_per_week.mean())"
   ]
  },
  {
   "cell_type": "code",
   "execution_count": null,
   "metadata": {
    "collapsed": true
   },
   "outputs": [],
   "source": []
  }
 ],
 "metadata": {
  "anaconda-cloud": {},
  "kernelspec": {
   "display_name": "Python 3",
   "language": "python",
   "name": "python3"
  },
  "language_info": {
   "codemirror_mode": {
    "name": "ipython",
    "version": 3
   },
   "file_extension": ".py",
   "mimetype": "text/x-python",
   "name": "python",
   "nbconvert_exporter": "python",
   "pygments_lexer": "ipython3",
   "version": "3.6.3"
  }
 },
 "nbformat": 4,
 "nbformat_minor": 1
}
