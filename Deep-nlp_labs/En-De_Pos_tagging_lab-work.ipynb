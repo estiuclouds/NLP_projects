{
 "cells": [
  {
   "cell_type": "markdown",
   "metadata": {},
   "source": [
    "# Лабораторная работа #1: Рекуррентные нейронные сети\n",
    "\n",
    "## Задача 1: PoS-tagging"
   ]
  },
  {
   "cell_type": "markdown",
   "metadata": {},
   "source": [
    "В данной лабораторной работе будут использоваться корпуса проекта Universal Dependencies: http://universaldependencies.org/\n",
    "\n",
    "Непосредственно корпуса можно скачать по адресу: https://lindat.mff.cuni.cz/repository/xmlui/handle/11234/1-2515"
   ]
  },
  {
   "cell_type": "markdown",
   "metadata": {},
   "source": [
    "### Часть I Работа с корпусом CoNLL\n",
    "В этой части предусматривается работа с корпусом CoNLL - предварительная обработка, чтение и парсинг корпуса, а также определение размера словаря.\n",
    "Считайте из файла данные и получите статистику:\n",
    "* Размер самого длинного предложения;\n",
    "* Количество предложений в корпусе;\n",
    "* Уникальное число слов в словаре;\n",
    "* Уникальное число меток;\n",
    "\n",
    "Для **удобной** работы с CoNLL разметкой предлагается использовать библиотеку: https://github.com/EmilStenstrom/conllu\n",
    "\n",
    "Но это отнюдь не означает, что вы не можете написать ваш собственный парсер."
   ]
  },
  {
   "cell_type": "code",
   "execution_count": 14,
   "metadata": {},
   "outputs": [],
   "source": [
    "from conllu.parser import parse, parse_tree\n",
    "from collections import Counter\n",
    "import numpy as np\n",
    "\n",
    "\n",
    "import matplotlib.pyplot as plt\n",
    "from keras.layers.core import Activation, Dense, RepeatVector\n",
    "from keras.layers.embeddings import Embedding\n",
    "from keras.layers.recurrent import GRU, LSTM\n",
    "from keras.layers.wrappers import TimeDistributed, Bidirectional\n",
    "from keras.metrics import top_k_categorical_accuracy\n",
    "from keras.models import Sequential\n",
    "from keras.optimizers import Adam\n",
    "from keras.preprocessing import sequence\n",
    "from keras.utils import np_utils"
   ]
  },
  {
   "cell_type": "markdown",
   "metadata": {},
   "source": [
    "Урду́ — индоевропейский язык, функциональный стиль языка хиндустани, на разговорном уровне взаимопонятный с хинди, возникший в XIII веке. \n",
    "Урду является одним из двух официальных языков в Пакистанею\n",
    "В Индии урду является одним из 22 официальных языков. Здесь на нём говорят около 50 миллионов человек\n",
    "Относится к: Индоарийская группа - Индоиранская ветвь - Индоевропейская семья"
   ]
  },
  {
   "cell_type": "markdown",
   "metadata": {},
   "source": [
    "Задаем имена файлов с тренировочным и тестовым наборами:"
   ]
  },
  {
   "cell_type": "code",
   "execution_count": 15,
   "metadata": {
    "collapsed": true
   },
   "outputs": [],
   "source": [
    "# -*- coding: utf-8 -*- \n",
    "data = 'europarl-v7.de-en.de'\n",
    "data1 = 'europarl-v7.de-en.en'\n",
    "import codecs\n",
    "fileObj = codecs.open( data, \"r\", \"utf_8_sig\" )\n",
    "text = fileObj.readlines() # или читайте по строке\n",
    "fileObj.close()\n",
    "fileObj1 = codecs.open( data1, \"r\", \"utf_8_sig\" )\n",
    "text1 = fileObj1.readlines() # или читайте по строке\n",
    "fileObj1.close()     "
   ]
  },
  {
   "cell_type": "markdown",
   "metadata": {},
   "source": [
    "Функция \n",
    "    parsed_sentences\n",
    "читает conll файл, и проводит его обработку, подсчитывая:\n",
    "* sents_word - список списков словоформ (внешний список - предложения, внутренний список - слова в этом предложении);\n",
    "* word_frequencies - коллекция типа Counter для подсчета частоты словоформ\n",
    "* sents_pos - список списов PoS тегов (соответствующих словам из sents_word);\n",
    "* pos_frequencies - коллекция типа Counter для подсчета частоты PoS-тегов."
   ]
  },
  {
   "cell_type": "code",
   "execution_count": 16,
   "metadata": {},
   "outputs": [
    {
     "name": "stdout",
     "output_type": "stream",
     "text": [
      "[['wiederaufnahme', 'der', 'sitzungsperiode'], ['ich', 'erkläre', 'die', 'am', 'freitag', 'dem', '17', 'dezember', 'unterbrochene', 'sitzungsperiode', 'des', 'europäischen', 'parlaments', 'für', 'wiederaufgenommen', 'wünsche', 'ihnen', 'nochmals', 'alles', 'gute', 'zum', 'jahreswechsel', 'und', 'hoffe', 'daß', 'sie', 'schöne', 'ferien', 'hatten'], ['wie', 'sie', 'feststellen', 'konnten', 'ist', 'der', 'gefürchtete', 'millenium', 'bug', 'nicht', 'eingetreten', 'doch', 'sind', 'bürger', 'einiger', 'unserer', 'mitgliedstaaten', 'opfer', 'von', 'schrecklichen', 'naturkatastrophen', 'geworden'], ['im', 'parlament', 'besteht', 'der', 'wunsch', 'nach', 'einer', 'aussprache', 'im', 'verlauf', 'dieser', 'sitzungsperiode', 'in', 'den', 'nächsten', 'tagen'], ['heute', 'möchte', 'ich', 'sie', 'bitten', 'das', 'ist', 'auch', 'der', 'wunsch', 'einiger', 'kolleginnen', 'und', 'kollegen', 'allen', 'opfern', 'der', 'stürme', 'insbesondere', 'in', 'den', 'verschiedenen', 'ländern', 'der', 'europäischen', 'union', 'in', 'einer', 'schweigeminute', 'zu', 'gedenken'], ['ich', 'bitte', 'sie', 'sich', 'zu', 'einer', 'schweigeminute', 'zu', 'erheben'], ['das', 'parlament', 'erhebt', 'sich', 'zu', 'einer', 'schweigeminute'], ['frau', 'präsidentin', 'zur', 'geschäftsordnung'], ['wie', 'sie', 'sicher', 'aus', 'der', 'presse', 'und', 'dem', 'fernsehen', 'wissen', 'gab', 'es', 'in', 'sri', 'lanka', 'mehrere', 'bombenexplosionen', 'mit', 'zahlreichen', 'toten'], ['zu', 'den', 'attentatsopfern', 'die', 'es', 'in', 'jüngster', 'zeit', 'in', 'sri', 'lanka', 'zu', 'beklagen', 'gab', 'zählt', 'auch', 'herr', 'kumar', 'ponnambalam', 'der', 'dem', 'europäischen', 'parlament', 'erst', 'vor', 'wenigen', 'monaten', 'einen', 'besuch', 'abgestattet', 'hatte']]\n",
      "[['resumption', 'of', 'the', 'session'], ['i', 'declare', 'resumed', 'the', 'session', 'of', 'the', 'european', 'parliament', 'adjourned', 'on', 'friday', '17', 'december', '1999', 'and', 'i', 'would', 'like', 'once', 'again', 'to', 'wish', 'you', 'a', 'happy', 'new', 'year', 'in', 'the', 'hope', 'that', 'you', 'enjoyed', 'a', 'pleasant', 'festive', 'period'], ['although', 'as', 'you', 'will', 'have', 'seen', 'the', 'dreaded', \"'millennium\", \"bug'\", 'failed', 'to', 'materialise', 'still', 'the', 'people', 'in', 'a', 'number', 'of', 'countries', 'suffered', 'a', 'series', 'of', 'natural', 'disasters', 'that', 'truly', 'were', 'dreadful'], ['you', 'have', 'requested', 'a', 'debate', 'on', 'this', 'subject', 'in', 'the', 'course', 'of', 'the', 'next', 'few', 'days', 'during', 'this', 'part', 'session'], ['in', 'the', 'meantime', 'i', 'should', 'like', 'to', 'observe', 'a', \"minute'\", 's', 'silence', 'as', 'a', 'number', 'of', 'members', 'have', 'requested', 'on', 'behalf', 'of', 'all', 'the', 'victims', 'concerned', 'particularly', 'those', 'of', 'the', 'terrible', 'storms', 'in', 'the', 'various', 'countries', 'of', 'the', 'european', 'union'], ['please', 'rise', 'then', 'for', 'this', \"minute'\", 's', 'silence'], ['the', 'house', 'rose', 'and', 'observed', 'a', \"minute'\", 's', 'silence'], ['madam', 'president', 'on', 'a', 'point', 'of', 'order'], ['you', 'will', 'be', 'aware', 'from', 'the', 'press', 'and', 'television', 'that', 'there', 'have', 'been', 'a', 'number', 'of', 'bomb', 'explosions', 'and', 'killings', 'in', 'sri', 'lanka'], ['one', 'of', 'the', 'people', 'assassinated', 'very', 'recently', 'in', 'sri', 'lanka', 'was', 'mr', 'kumar', 'ponnambalam', 'who', 'had', 'visited', 'the', 'european', 'parliament', 'just', 'a', 'few', 'months', 'ago']]\n"
     ]
    }
   ],
   "source": [
    "from keras.preprocessing.text import text_to_word_sequence\n",
    "sentence_de=[]\n",
    "for i in text[:10000]:\n",
    "    sentence_de.append(text_to_word_sequence(i, filters='!\"#$%&()*+,-./:;<=>?@[\\\\]^_`{|}~\\t\\n', lower=True, split=\" \"))\n",
    "sentence_en=[]\n",
    "for i in text1[:10000]:\n",
    "    sentence_en.append(text_to_word_sequence(i, filters='!\"#$%&()*+,-./:;<=>?@[\\\\]^_`{|}~\\t\\n', lower=True, split=\" \"))\n",
    "\n",
    "print(sentence_de[:10])\n",
    "print(sentence_en[:10])"
   ]
  },
  {
   "cell_type": "markdown",
   "metadata": {},
   "source": [
    "Считываем файлы тренировочной и тестовой выборки, и формируем (для каждого свою) наборы \n",
    "* sents_word\n",
    "* word_frequencies\n",
    "* sents_pos\n",
    "* pos_frequencies"
   ]
  },
  {
   "cell_type": "code",
   "execution_count": 13,
   "metadata": {},
   "outputs": [
    {
     "name": "stdout",
     "output_type": "stream",
     "text": [
      "10248\n"
     ]
    }
   ],
   "source": [
    "word_frec_de={}\n",
    "for i in sentence_de:\n",
    "    for j in i:\n",
    "        if j not in word_frec_de:\n",
    "            word_frec_de[j]=1\n",
    "        else:\n",
    "            word_frec_de[j]+=1\n",
    "\n",
    "word_frec_en={}            \n",
    "for i in sentence_en:\n",
    "    for j in i:\n",
    "        if j not in word_frec_en:\n",
    "            word_frec_en[j]=1\n",
    "        else:\n",
    "            word_frec_en[j]+=1\n",
    "print(word_frec_de['die'])"
   ]
  },
  {
   "cell_type": "code",
   "execution_count": 30,
   "metadata": {},
   "outputs": [],
   "source": [
    "k=len(sentence_en)-1000\n",
    "sents_word=sentence_en[:k]\n",
    "word_frequencies=word_frec_en\n",
    "\n",
    "        \n",
    "sents_pos=sentence_de[:k]\n",
    "pos_frequencies=word_frec_de\n",
    "\n",
    "test_sents_word=sents_word[k:]\n",
    "test_word_frequencies= word_frec_en\n",
    "test_sents_pos=sents_pos[:150:-1]\n",
    "test_pos_frequencies=word_frec_de\n"
   ]
  },
  {
   "cell_type": "code",
   "execution_count": 31,
   "metadata": {},
   "outputs": [
    {
     "ename": "AttributeError",
     "evalue": "'dict' object has no attribute 'append'",
     "output_type": "error",
     "traceback": [
      "\u001b[1;31m---------------------------------------------------------------------------\u001b[0m",
      "\u001b[1;31mAttributeError\u001b[0m                            Traceback (most recent call last)",
      "\u001b[1;32m<ipython-input-31-abe7c1ae52e0>\u001b[0m in \u001b[0;36m<module>\u001b[1;34m()\u001b[0m\n\u001b[0;32m      3\u001b[0m     \u001b[1;32mfor\u001b[0m \u001b[0mj\u001b[0m \u001b[1;32min\u001b[0m \u001b[0mi\u001b[0m\u001b[1;33m:\u001b[0m\u001b[1;33m\u001b[0m\u001b[0m\n\u001b[0;32m      4\u001b[0m         \u001b[0mword_frequencies_sen\u001b[0m\u001b[1;33m.\u001b[0m\u001b[0mappend\u001b[0m\u001b[1;33m(\u001b[0m\u001b[0mword_frec_en\u001b[0m\u001b[1;33m[\u001b[0m\u001b[0mj\u001b[0m\u001b[1;33m]\u001b[0m\u001b[1;33m)\u001b[0m\u001b[1;33m\u001b[0m\u001b[0m\n\u001b[1;32m----> 5\u001b[1;33m     \u001b[0mword_frequencies\u001b[0m\u001b[1;33m.\u001b[0m\u001b[0mappend\u001b[0m\u001b[1;33m(\u001b[0m\u001b[0mword_frequencies_sen\u001b[0m\u001b[1;33m)\u001b[0m\u001b[1;33m\u001b[0m\u001b[0m\n\u001b[0m\u001b[0;32m      6\u001b[0m \u001b[1;33m\u001b[0m\u001b[0m\n\u001b[0;32m      7\u001b[0m \u001b[1;32mfor\u001b[0m \u001b[0mi\u001b[0m \u001b[1;32min\u001b[0m \u001b[0msents_pos\u001b[0m\u001b[1;33m:\u001b[0m\u001b[1;33m\u001b[0m\u001b[0m\n",
      "\u001b[1;31mAttributeError\u001b[0m: 'dict' object has no attribute 'append'"
     ]
    }
   ],
   "source": [
    "for i in sents_word:\n",
    "    word_frequencies_sen=[]\n",
    "    for j in i:\n",
    "        word_frequencies_sen.append(word_frec_en[j])\n",
    "    word_frequencies.append(word_frequencies_sen)\n",
    "\n",
    "for i in sents_pos:\n",
    "    pos_frequencies=[]\n",
    "    for j in i:\n",
    "        word_frequencies_sen.append(word_frec_de[j])\n",
    "    pos_frequencies.append(word_frequencies_sen)"
   ]
  },
  {
   "cell_type": "markdown",
   "metadata": {},
   "source": [
    "Выведете статистику, для тренировочной и тестовой выборки\n",
    "Статистика должна отражать:\n",
    "* Число предложений;\n",
    "* Число словоформ;\n",
    "* Число уникальных PoS тегов;\n",
    "* Максимальное число слов в предложении;\n",
    "* Минимальное число слов в предложении;\n",
    "* Среднее арифметическое и среднее медианное число слов в предложении;\n",
    "* Доля пересечения словоформ в тестовой и тренировочной выборке;"
   ]
  },
  {
   "cell_type": "code",
   "execution_count": 32,
   "metadata": {},
   "outputs": [
    {
     "data": {
      "text/plain": [
       "array([ 7, 23, 21,  6, 37, 42, 30, 18, 19, 14, 19, 22, 15, 11, 43, 23, 26,\n",
       "       61, 19, 32, 37, 23, 22, 16,  7, 29, 17, 21, 31, 50, 23, 25, 34, 40,\n",
       "       15, 25, 18, 20, 49, 28, 19, 39, 33, 60,  9, 22, 24, 24,  6, 40, 25,\n",
       "       29, 42, 17, 11, 30,  2, 21, 12, 25, 21, 27,  9, 21, 30, 22, 28, 20,\n",
       "        5, 43, 37, 38, 33, 17, 23, 18, 19, 19, 53, 62, 19, 48, 30, 17, 14,\n",
       "       26, 22, 22, 29,  0, 12, 18, 37, 15, 14, 11, 25, 43, 13,  6])"
      ]
     },
     "execution_count": 32,
     "metadata": {},
     "output_type": "execute_result"
    }
   ],
   "source": [
    "train_length_of_sentences_list = np.array([len(current_sentence) for current_sentence in sents_word])\n",
    "test_length_of_sentences_list = np.array([len(current_sentence) for current_sentence in test_sents_word])\n",
    "test_length_of_sentences_list[:100]"
   ]
  },
  {
   "cell_type": "code",
   "execution_count": 33,
   "metadata": {},
   "outputs": [],
   "source": [
    "train_words=[]\n",
    "test_words=[]\n",
    "for i in word_frequencies.keys():\n",
    "    train_words.append(i)\n",
    "for i in test_word_frequencies.keys():\n",
    "    test_words.append(i)\n",
    "intersection=len(np.intersect1d(np.array(train_words),np.array(test_words)))"
   ]
  },
  {
   "cell_type": "code",
   "execution_count": 34,
   "metadata": {},
   "outputs": [
    {
     "name": "stdout",
     "output_type": "stream",
     "text": [
      "Stats: \n",
      "Train set: \n",
      "\tCount sentences: 9850 \n",
      "\tUnique words: 10976\n",
      "\tUnique PoS tags: 19209\n",
      "\tMax count words in sentences: 161\n",
      "\tMin count words in sentence: 0\n",
      "\tMean count words in sentence: 25.72213197969543\n",
      "\tMean of median count words in sentence: 22.0\n",
      "\tIntersection: 10976\n",
      "Tr set: \n",
      "\tCount sentences: 9850 \n",
      "\tUnique words: 10976\n",
      "\tUnique PoS tags: 19209\n",
      "\tMax count words in sentences: 161\n",
      "\tMin count words in sentence: 0\n",
      "\tMean count words in sentence: 25.72213197969543\n",
      "\tMean of median count words in sentence: 22.0\n",
      "\tIntersection: 10976\n"
     ]
    }
   ],
   "source": [
    "print(\"Stats: \")\n",
    "\n",
    "\n",
    "\n",
    "print(\"Train set: \\n\\tCount sentences: {} \\n\\tUnique words: {}\".format(len(sents_word), len(word_frequencies)))\n",
    "print(\"\\tUnique PoS tags: {}\".format(len(pos_frequencies)))\n",
    "print(\"\\tMax count words in sentences: {}\".format(np.max(np.array(train_length_of_sentences_list))))\n",
    "print(\"\\tMin count words in sentence: {}\".format(np.min(np.array(train_length_of_sentences_list))))\n",
    "print(\"\\tMean count words in sentence: {}\".format(np.mean(np.array(train_length_of_sentences_list))))\n",
    "print(\"\\tMean of median count words in sentence: {}\".format(np.mean(np.median((train_length_of_sentences_list)))))\n",
    "print(\"\\tIntersection: {}\".format(intersection))\n",
    "\n",
    "print(\"Tr set: \\n\\tCount sentences: {} \\n\\tUnique words: {}\".format(len(sents_word), len(word_frequencies)))\n",
    "print(\"\\tUnique PoS tags: {}\".format(len(pos_frequencies)))\n",
    "print(\"\\tMax count words in sentences: {}\".format(np.max(np.array(train_length_of_sentences_list))))\n",
    "print(\"\\tMin count words in sentence: {}\".format(np.min(np.array(train_length_of_sentences_list))))\n",
    "print(\"\\tMean count words in sentence: {}\".format(np.mean(np.array(train_length_of_sentences_list))))\n",
    "print(\"\\tMean of median count words in sentence: {}\".format(np.mean(np.median((train_length_of_sentences_list)))))\n",
    "print(\"\\tIntersection: {}\".format(intersection))"
   ]
  },
  {
   "cell_type": "markdown",
   "metadata": {},
   "source": [
    "На основании полученных Вами данных примите решения, касающиеся ключевых параметров нейронной сети:\n",
    "* Максимальная длина последовательности (MAX_SEQLEN);\n",
    "* Максимальное количество атрибутов (S_MAX_FEATURES);\n",
    "* Максимальное количество тегов (T_MAX_FEATURES);\n",
    "\n",
    "**Замечание**: *MAX_SEQLEN* не обязательно должна равна максимальному числу слов в предложении, особенно если встречается всего 1 такое предложение."
   ]
  },
  {
   "cell_type": "code",
   "execution_count": 35,
   "metadata": {},
   "outputs": [
    {
     "data": {
      "text/plain": [
       "10976"
      ]
     },
     "execution_count": 35,
     "metadata": {},
     "output_type": "execute_result"
    }
   ],
   "source": [
    "MAX_SEQLEN = np.max(np.array(train_length_of_sentences_list[0]))                \n",
    "S_MAX_FEATURES =len(word_frequencies)\n",
    "T_MAX_FEATURES = len(pos_frequencies)\n",
    "S_MAX_FEATURES"
   ]
  },
  {
   "cell_type": "markdown",
   "metadata": {},
   "source": [
    "Объясните свой выбор целевых параметров:\n",
    "* MAX_SEQLEN  \n",
    "* S_MAX_FEATURES \n",
    "* T_MAX_FEATURES "
   ]
  },
  {
   "cell_type": "markdown",
   "metadata": {},
   "source": [
    "Параметры по умолчанию для числа нейронов в скрытом слое, объема пространства погружения и размера пакета.\n",
    "\n",
    "Можно использовать стандартные, можно поиграться с ними."
   ]
  },
  {
   "cell_type": "code",
   "execution_count": 36,
   "metadata": {
    "collapsed": true
   },
   "outputs": [],
   "source": [
    "EMBED_SIZE = 300\n",
    "HIDDEN_SIZE = 100\n",
    "\n",
    "BATCH_SIZE = 64"
   ]
  },
  {
   "cell_type": "markdown",
   "metadata": {},
   "source": [
    "Задайте число эпох и итераций:"
   ]
  },
  {
   "cell_type": "code",
   "execution_count": 37,
   "metadata": {
    "collapsed": true
   },
   "outputs": [],
   "source": [
    "NUM_EPOCHS = 20 \n",
    "NUM_ITERATIONS = 3"
   ]
  },
  {
   "cell_type": "markdown",
   "metadata": {},
   "source": [
    "Как и в большинстве других задач глубокого обучения, каждая строчка должна быть закодирована индексами слов. Кроме того, выход (PoS-теги) должны быть последовательностями индексов PoS-тегов.\n",
    "Поэтомк, мы создаем табличцы для перевода слов/PoS-тегов в соответствующие индексы.\n",
    "Словарь словоформ должен иметь 2 дополнительных метки:\n",
    "* PAD - для заполнения (характеризует пустоту), когда размер предложения меньше, чем MAX_SEQLEN\n",
    "* UNK - для неизвестных словоформ.\n",
    "\n",
    "Кроме того, захотим проиллюстрировать PoS-теггер, поэтому нужно составить таблицы для поиска словоформ и частеречевых тегов.\n",
    "Ниже показано задание таблиц."
   ]
  },
  {
   "cell_type": "markdown",
   "metadata": {},
   "source": [
    "Составляем таблицу поиска для словоформ:"
   ]
  },
  {
   "cell_type": "code",
   "execution_count": 38,
   "metadata": {},
   "outputs": [],
   "source": [
    "s_vocabsize = min(len(word_frequencies), S_MAX_FEATURES) + 2\n",
    "s_word2index = {x[0]:i+2 for i, x in \n",
    "    enumerate(word_frequencies)}\n",
    "s_word2index[\"PAD\"] = 0 # Для заполнения, когда размер предлложения меньше, чем MAX_SEQ\n",
    "s_word2index[\"UNK\"] = 1 # Для неизвестных словоформ, которые могут встретиться\n",
    "s_index2word = {v:k for k, v in s_word2index.items()}"
   ]
  },
  {
   "cell_type": "markdown",
   "metadata": {},
   "source": [
    "Таблицу поиска частеречевых меток предлагается создать самостоятельно:\n",
    "\n",
    "**Замечание: ** для PoS-тегов элемент UNK не нужен, поскольку список частей речи уже известен. Элемент PAD нужен."
   ]
  },
  {
   "cell_type": "code",
   "execution_count": 39,
   "metadata": {
    "collapsed": true
   },
   "outputs": [],
   "source": [
    "t_vocabsize = min(len(pos_frequencies), T_MAX_FEATURES) + 1\n",
    "t_word2index = {x[0]:i+1 for i, x in \n",
    "    enumerate(pos_frequencies)}\n",
    "\n",
    "t_word2index[\"PAD\"] = 0\n",
    "t_index2word = {v:k for k, v in t_word2index.items()}"
   ]
  },
  {
   "cell_type": "markdown",
   "metadata": {},
   "source": [
    "Составляем целевую нейронную сеть, которая и будет выполнять частеречную разметку.\n",
    "\n",
    "Коротко об архитектуре нейронной сети:\n",
    "Как и в других задачах, считаем, что входом в нейросеть является трехмерный тензор, элементами которого являются индексы слов, длины MAX_SEQLEN;\n",
    "\n",
    "Это проходит через слой погружения (Embedding), которому явно указывается размер словаря и размерность погружения, поэтому результат прохождения входного тензора через слой погружения будет тензор сл. формата:\n",
    "(None, MAX_SEQLEN, EMBED_SIZE);\n",
    "\n",
    "Далее этот тензор передается encoder'у - представляющий собой слой рекуррентной нейронной сети с размером выхода HIDDEN_SIZE. LSTM настроен на возврат единственного контекстного вектора (return_sequences=False - по умолчанию) после обработки последовательности длины MAX_SEQLEN, поэтому тензор LSTM слоя имеет форму (None, HIDDEN_SIZE).\n",
    "\n",
    "Этот контекстный вектор далее реплицируется слоем \n",
    "    RepeatVector\n",
    "в тензор формы (None, MAX_SEQLEN, t_vocab_size). В качестве функции активации в плотном слое используется softmax.\n",
    "\n",
    "**Задание: **\n",
    "* Построить четыре модели нейронной сети:\n",
    "    * SimpleRNN\n",
    "    * LSTM\n",
    "    * Bidirectional\n",
    "    * GRU"
   ]
  },
  {
   "cell_type": "code",
   "execution_count": 40,
   "metadata": {
    "collapsed": true
   },
   "outputs": [],
   "source": [
    "def build_pos_tagger_LSTM():\n",
    "    model = Sequential()\n",
    "    model.add(Embedding(s_vocabsize, EMBED_SIZE,\n",
    "                    input_length=MAX_SEQLEN,\n",
    "                    embeddings_initializer=\"glorot_uniform\"))\n",
    "    \n",
    "    model.add(LSTM(HIDDEN_SIZE))\n",
    "    model.add(RepeatVector(MAX_SEQLEN))\n",
    "    \n",
    "    model.add(LSTM(HIDDEN_SIZE, return_sequences=True))\n",
    "    model.add(TimeDistributed(Dense(t_vocabsize)))\n",
    "    model.add(Activation(\"softmax\"))\n",
    "    model.compile(loss=\"categorical_crossentropy\", optimizer=\"adam\",\n",
    "              metrics=[\"accuracy\"])\n",
    "    return model"
   ]
  },
  {
   "cell_type": "markdown",
   "metadata": {},
   "source": [
    "Объясните необходимость использования в качестве функции потерь категориальную энтропию\n",
    "**Ответ**: Кросс энтропия всегда используется при многоклассовой классификации. Задачи на пост-теггинг также можно отнести к частному случаю подобных классификаций,строится модель seq2seq, где каждое слово должно быть отнесену к одному из имеющихся частеречных классов"
   ]
  },
  {
   "cell_type": "markdown",
   "metadata": {},
   "source": [
    "Выведите архитектуру сети посредством метода summary() модели Keras."
   ]
  },
  {
   "cell_type": "code",
   "execution_count": 41,
   "metadata": {},
   "outputs": [
    {
     "name": "stdout",
     "output_type": "stream",
     "text": [
      "_________________________________________________________________\n",
      "Layer (type)                 Output Shape              Param #   \n",
      "=================================================================\n",
      "embedding_1 (Embedding)      (None, 4, 300)            3293400   \n",
      "_________________________________________________________________\n",
      "lstm_1 (LSTM)                (None, 100)               160400    \n",
      "_________________________________________________________________\n",
      "repeat_vector_1 (RepeatVecto (None, 4, 100)            0         \n",
      "_________________________________________________________________\n",
      "lstm_2 (LSTM)                (None, 4, 100)            80400     \n",
      "_________________________________________________________________\n",
      "time_distributed_1 (TimeDist (None, 4, 19210)          1940210   \n",
      "_________________________________________________________________\n",
      "activation_1 (Activation)    (None, 4, 19210)          0         \n",
      "=================================================================\n",
      "Total params: 5,474,410\n",
      "Trainable params: 5,474,410\n",
      "Non-trainable params: 0\n",
      "_________________________________________________________________\n"
     ]
    }
   ],
   "source": [
    "LSTM_POS_TAGGER = build_pos_tagger_LSTM()\n",
    "LSTM_POS_TAGGER.summary()\n"
   ]
  },
  {
   "cell_type": "markdown",
   "metadata": {},
   "source": [
    "Подсчитаем объем количества батчей для тренировочной и тестовой выборки, кроме того, сделаем функцию для получения генератора батчей."
   ]
  },
  {
   "cell_type": "code",
   "execution_count": 42,
   "metadata": {},
   "outputs": [
    {
     "name": "stdout",
     "output_type": "stream",
     "text": [
      "\tV of train samples: 153\n",
      "\tV of test samples: 151\n"
     ]
    }
   ],
   "source": [
    "num_train_samples = len(sents_word) // BATCH_SIZE\n",
    "num_test_samples = len(test_sents_word) // BATCH_SIZE\n",
    "\n",
    "print(\"\\tV of train samples: {}\".format(num_train_samples))\n",
    "print(\"\\tV of test samples: {}\".format(num_test_samples))\n",
    "\n",
    "def get_or_else(dictionary, key, default_value):\n",
    "    try:\n",
    "        return dictionary[key]\n",
    "    except KeyError:\n",
    "        return default_value\n",
    "\n",
    "def generate_batch(\n",
    "    s_sents,  # sentences_train\n",
    "    s_word2index, # word to index dictionary\n",
    "    t_sents, # \n",
    "    t_word2index, \n",
    "    batch_size, \n",
    "    maxlen\n",
    "):\n",
    "    while True:\n",
    "        # shuffle the input\n",
    "        indices = np.random.permutation(np.arange(len(s_sents)))\n",
    "        ss_sents = [s_sents[ix] for ix in indices]\n",
    "        ts_sents = [t_sents[ix] for ix in indices]\n",
    "        # convert to word indices\n",
    "        si_sents = [[get_or_else(s_word2index, word, s_word2index[\"UNK\"]) \n",
    "                    for word in sent] \n",
    "                    for sent in ss_sents]\n",
    "        ti_sents = [[t_word2index[word] for word in sent]\n",
    "                    for sent in ts_sents]\n",
    "        # inner loop should run for an epoch\n",
    "        num_batches = len(s_sents) // batch_size\n",
    "        for i in range(num_batches):\n",
    "            s_batch = si_sents[i * batch_size : (i + 1) * batch_size]\n",
    "            t_batch = ti_sents[i * batch_size : (i + 1) * batch_size]\n",
    "            sp_batch = sequence.pad_sequences(s_batch, maxlen=maxlen)\n",
    "            tp_batch = sequence.pad_sequences(t_batch, maxlen=maxlen)\n",
    "            tpc_batch = np_utils.to_categorical(tp_batch.reshape(-1, 1), \n",
    "                num_classes=len(t_word2index)).reshape(batch_size, \n",
    "                -1, len(t_word2index))\n",
    "            yield sp_batch, tpc_batch"
   ]
  },
  {
   "cell_type": "markdown",
   "metadata": {},
   "source": [
    "Инициализируем генераторы для тренировочной и тестовой выборки. "
   ]
  },
  {
   "cell_type": "code",
   "execution_count": 43,
   "metadata": {
    "collapsed": true
   },
   "outputs": [],
   "source": [
    "train_gen = generate_batch(sents_word, s_word2index, sents_pos,\n",
    "                           t_word2index, BATCH_SIZE, MAX_SEQLEN)\n",
    "test_gen = generate_batch(test_sents_word, s_word2index, test_sents_pos,\n",
    "                          t_word2index, BATCH_SIZE, MAX_SEQLEN)"
   ]
  },
  {
   "cell_type": "markdown",
   "metadata": {},
   "source": [
    "Обновляем списки с историями для точности, функции потерь на тренировочной и тестовой выборках:"
   ]
  },
  {
   "cell_type": "code",
   "execution_count": 44,
   "metadata": {
    "collapsed": true
   },
   "outputs": [],
   "source": [
    "hist_acc, hist_val_acc, hist_loss, hist_val_loss = [], [], [], []\n"
   ]
  },
  {
   "cell_type": "code",
   "execution_count": 46,
   "metadata": {
    "scrolled": true
   },
   "outputs": [
    {
     "name": "stdout",
     "output_type": "stream",
     "text": [
      "Epoch 1/20\n"
     ]
    },
    {
     "name": "stderr",
     "output_type": "stream",
     "text": [
      "Exception in thread Thread-7:\n",
      "Traceback (most recent call last):\n",
      "  File \"C:\\ProgramData\\Anaconda3\\lib\\threading.py\", line 916, in _bootstrap_inner\n",
      "    self.run()\n",
      "  File \"C:\\ProgramData\\Anaconda3\\lib\\threading.py\", line 864, in run\n",
      "    self._target(*self._args, **self._kwargs)\n",
      "  File \"C:\\ProgramData\\Anaconda3\\lib\\site-packages\\keras\\utils\\data_utils.py\", line 568, in data_generator_task\n",
      "    generator_output = next(self._generator)\n",
      "StopIteration\n",
      "\n"
     ]
    },
    {
     "ename": "StopIteration",
     "evalue": "",
     "output_type": "error",
     "traceback": [
      "\u001b[1;31m---------------------------------------------------------------------------\u001b[0m",
      "\u001b[1;31mStopIteration\u001b[0m                             Traceback (most recent call last)",
      "\u001b[1;32m<ipython-input-46-32f72cd7ee15>\u001b[0m in \u001b[0;36m<module>\u001b[1;34m()\u001b[0m\n\u001b[0;32m      4\u001b[0m                                   \u001b[0mepochs\u001b[0m\u001b[1;33m=\u001b[0m\u001b[0mNUM_EPOCHS\u001b[0m\u001b[1;33m,\u001b[0m\u001b[1;33m\u001b[0m\u001b[0m\n\u001b[0;32m      5\u001b[0m                                   \u001b[0mvalidation_data\u001b[0m\u001b[1;33m=\u001b[0m\u001b[0mtest_gen\u001b[0m\u001b[1;33m,\u001b[0m\u001b[1;33m\u001b[0m\u001b[0m\n\u001b[1;32m----> 6\u001b[1;33m                                   validation_steps=num_test_samples)\n\u001b[0m\u001b[0;32m      7\u001b[0m     \u001b[1;31m# save off history data\u001b[0m\u001b[1;33m\u001b[0m\u001b[1;33m\u001b[0m\u001b[0m\n\u001b[0;32m      8\u001b[0m     \u001b[0mhist_acc\u001b[0m\u001b[1;33m.\u001b[0m\u001b[0mextend\u001b[0m\u001b[1;33m(\u001b[0m\u001b[0mhistory\u001b[0m\u001b[1;33m.\u001b[0m\u001b[0mhistory\u001b[0m\u001b[1;33m[\u001b[0m\u001b[1;34m\"acc\"\u001b[0m\u001b[1;33m]\u001b[0m\u001b[1;33m)\u001b[0m\u001b[1;33m\u001b[0m\u001b[0m\n",
      "\u001b[1;32mC:\\ProgramData\\Anaconda3\\lib\\site-packages\\keras\\legacy\\interfaces.py\u001b[0m in \u001b[0;36mwrapper\u001b[1;34m(*args, **kwargs)\u001b[0m\n\u001b[0;32m     85\u001b[0m                 warnings.warn('Update your `' + object_name +\n\u001b[0;32m     86\u001b[0m                               '` call to the Keras 2 API: ' + signature, stacklevel=2)\n\u001b[1;32m---> 87\u001b[1;33m             \u001b[1;32mreturn\u001b[0m \u001b[0mfunc\u001b[0m\u001b[1;33m(\u001b[0m\u001b[1;33m*\u001b[0m\u001b[0margs\u001b[0m\u001b[1;33m,\u001b[0m \u001b[1;33m**\u001b[0m\u001b[0mkwargs\u001b[0m\u001b[1;33m)\u001b[0m\u001b[1;33m\u001b[0m\u001b[0m\n\u001b[0m\u001b[0;32m     88\u001b[0m         \u001b[0mwrapper\u001b[0m\u001b[1;33m.\u001b[0m\u001b[0m_original_function\u001b[0m \u001b[1;33m=\u001b[0m \u001b[0mfunc\u001b[0m\u001b[1;33m\u001b[0m\u001b[0m\n\u001b[0;32m     89\u001b[0m         \u001b[1;32mreturn\u001b[0m \u001b[0mwrapper\u001b[0m\u001b[1;33m\u001b[0m\u001b[0m\n",
      "\u001b[1;32mC:\\ProgramData\\Anaconda3\\lib\\site-packages\\keras\\models.py\u001b[0m in \u001b[0;36mfit_generator\u001b[1;34m(self, generator, steps_per_epoch, epochs, verbose, callbacks, validation_data, validation_steps, class_weight, max_queue_size, workers, use_multiprocessing, initial_epoch)\u001b[0m\n\u001b[0;32m   1119\u001b[0m                                         \u001b[0mworkers\u001b[0m\u001b[1;33m=\u001b[0m\u001b[0mworkers\u001b[0m\u001b[1;33m,\u001b[0m\u001b[1;33m\u001b[0m\u001b[0m\n\u001b[0;32m   1120\u001b[0m                                         \u001b[0muse_multiprocessing\u001b[0m\u001b[1;33m=\u001b[0m\u001b[0muse_multiprocessing\u001b[0m\u001b[1;33m,\u001b[0m\u001b[1;33m\u001b[0m\u001b[0m\n\u001b[1;32m-> 1121\u001b[1;33m                                         initial_epoch=initial_epoch)\n\u001b[0m\u001b[0;32m   1122\u001b[0m \u001b[1;33m\u001b[0m\u001b[0m\n\u001b[0;32m   1123\u001b[0m     \u001b[1;33m@\u001b[0m\u001b[0minterfaces\u001b[0m\u001b[1;33m.\u001b[0m\u001b[0mlegacy_generator_methods_support\u001b[0m\u001b[1;33m\u001b[0m\u001b[0m\n",
      "\u001b[1;32mC:\\ProgramData\\Anaconda3\\lib\\site-packages\\keras\\legacy\\interfaces.py\u001b[0m in \u001b[0;36mwrapper\u001b[1;34m(*args, **kwargs)\u001b[0m\n\u001b[0;32m     85\u001b[0m                 warnings.warn('Update your `' + object_name +\n\u001b[0;32m     86\u001b[0m                               '` call to the Keras 2 API: ' + signature, stacklevel=2)\n\u001b[1;32m---> 87\u001b[1;33m             \u001b[1;32mreturn\u001b[0m \u001b[0mfunc\u001b[0m\u001b[1;33m(\u001b[0m\u001b[1;33m*\u001b[0m\u001b[0margs\u001b[0m\u001b[1;33m,\u001b[0m \u001b[1;33m**\u001b[0m\u001b[0mkwargs\u001b[0m\u001b[1;33m)\u001b[0m\u001b[1;33m\u001b[0m\u001b[0m\n\u001b[0m\u001b[0;32m     88\u001b[0m         \u001b[0mwrapper\u001b[0m\u001b[1;33m.\u001b[0m\u001b[0m_original_function\u001b[0m \u001b[1;33m=\u001b[0m \u001b[0mfunc\u001b[0m\u001b[1;33m\u001b[0m\u001b[0m\n\u001b[0;32m     89\u001b[0m         \u001b[1;32mreturn\u001b[0m \u001b[0mwrapper\u001b[0m\u001b[1;33m\u001b[0m\u001b[0m\n",
      "\u001b[1;32mC:\\ProgramData\\Anaconda3\\lib\\site-packages\\keras\\engine\\training.py\u001b[0m in \u001b[0;36mfit_generator\u001b[1;34m(self, generator, steps_per_epoch, epochs, verbose, callbacks, validation_data, validation_steps, class_weight, max_queue_size, workers, use_multiprocessing, shuffle, initial_epoch)\u001b[0m\n\u001b[0;32m   2009\u001b[0m                 \u001b[0mbatch_index\u001b[0m \u001b[1;33m=\u001b[0m \u001b[1;36m0\u001b[0m\u001b[1;33m\u001b[0m\u001b[0m\n\u001b[0;32m   2010\u001b[0m                 \u001b[1;32mwhile\u001b[0m \u001b[0msteps_done\u001b[0m \u001b[1;33m<\u001b[0m \u001b[0msteps_per_epoch\u001b[0m\u001b[1;33m:\u001b[0m\u001b[1;33m\u001b[0m\u001b[0m\n\u001b[1;32m-> 2011\u001b[1;33m                     \u001b[0mgenerator_output\u001b[0m \u001b[1;33m=\u001b[0m \u001b[0mnext\u001b[0m\u001b[1;33m(\u001b[0m\u001b[0moutput_generator\u001b[0m\u001b[1;33m)\u001b[0m\u001b[1;33m\u001b[0m\u001b[0m\n\u001b[0m\u001b[0;32m   2012\u001b[0m \u001b[1;33m\u001b[0m\u001b[0m\n\u001b[0;32m   2013\u001b[0m                     \u001b[1;32mif\u001b[0m \u001b[1;32mnot\u001b[0m \u001b[0mhasattr\u001b[0m\u001b[1;33m(\u001b[0m\u001b[0mgenerator_output\u001b[0m\u001b[1;33m,\u001b[0m \u001b[1;34m'__len__'\u001b[0m\u001b[1;33m)\u001b[0m\u001b[1;33m:\u001b[0m\u001b[1;33m\u001b[0m\u001b[0m\n",
      "\u001b[1;31mStopIteration\u001b[0m: "
     ]
    }
   ],
   "source": [
    "for i in range(NUM_ITERATIONS):    \n",
    "    history = LSTM_POS_TAGGER.fit_generator(train_gen, \n",
    "                                  steps_per_epoch=num_train_samples, \n",
    "                                  epochs=NUM_EPOCHS,\n",
    "                                  validation_data=test_gen, \n",
    "                                  validation_steps=num_test_samples)\n",
    "    # save off history data\n",
    "    hist_acc.extend(history.history[\"acc\"])\n",
    "    hist_val_acc.extend(history.history[\"val_acc\"])\n",
    "    hist_loss.extend(history.history[\"loss\"])\n",
    "    hist_val_loss.extend(history.history[\"val_loss\"])\n",
    "    \n",
    "    # Проиллюстрируем некоторые примеры разметки\n",
    "    \n",
    "    Xtest, Ytest = next(test_gen)\n",
    "    Ytest_ = LSTM_POS_TAGGER.predict(Xtest)\n",
    "    ytest = np.argmax(Ytest, axis=2)\n",
    "    ytest_ = np.argmax(Ytest_, axis=2)\n",
    "    \n",
    "    print(\"=\" * 80)\n",
    "    print(\"Iteration # {:d}\".format(i + 1))\n",
    "    print(\"-\" * 80)\n",
    "    '''for i in range(min(5, Ytest.shape[0])):\n",
    "        sent_ids = Xtest[i]\n",
    "        sent_words = [s_index2word[x] for x in sent_ids.tolist()]\n",
    "        pos_labels = [t_index2word[x] for x in ytest[i].tolist()]\n",
    "        pos_preds = [t_index2word[x] for x in ytest_[i].tolist()]\n",
    "        triples = [x for x in zip(sent_words, pos_labels, pos_preds)\n",
    "            if x[0] != \"PAD\"]\n",
    "        print(\"label:     \" + \" \".join([x[0] +\"//\"+x[1].upper() \n",
    "            for x in triples]))\n",
    "        print(\"predicted: \" + \" \".join([x[0] +\"//\"+x[2].upper() \n",
    "            for x in triples]))\n",
    "        print(\"-\" * 80)'''"
   ]
  },
  {
   "cell_type": "markdown",
   "metadata": {},
   "source": [
    "Постройте и выведите графики функции потерь и точности на тренировочной и тестовой выборке.\n",
    "Можете воспользоваться заготовкой ниже - заполнив недостающие элементы (с примером), или написать свою"
   ]
  },
  {
   "cell_type": "code",
   "execution_count": 124,
   "metadata": {
    "collapsed": true
   },
   "outputs": [],
   "source": [
    "#hist_acc, [range(len(hist_acc))]"
   ]
  },
  {
   "cell_type": "code",
   "execution_count": 125,
   "metadata": {},
   "outputs": [
    {
     "data": {
      "image/png": "[encoded data removed]",
      "text/plain": [
       "<matplotlib.figure.Figure at 0xdc84fb4390>"
      ]
     },
     "metadata": {},
     "output_type": "display_data"
    }
   ],
   "source": [
    "# plot loss and accuracy\n",
    "plt.subplot(211)\n",
    "plt.title(\"Accuracy\")\n",
    "plt.plot( [i for i in range(len(hist_acc))],hist_acc)\n",
    "\n",
    "plt.subplot(212)\n",
    "plt.title(\"Loss\")\n",
    "plt.plot( [i for i in range(len(hist_loss))],hist_loss)\n",
    "plt.tight_layout()\n",
    "plt.show()"
   ]
  },
  {
   "cell_type": "markdown",
   "metadata": {},
   "source": []
  },
  {
   "cell_type": "markdown",
   "metadata": {
    "collapsed": true
   },
   "source": [
    "##Simple RNN"
   ]
  },
  {
   "cell_type": "code",
   "execution_count": 15,
   "metadata": {},
   "outputs": [
    {
     "name": "stdout",
     "output_type": "stream",
     "text": [
      "_________________________________________________________________\n",
      "Layer (type)                 Output Shape              Param #   \n",
      "=================================================================\n",
      "embedding_2 (Embedding)      (None, 31, 300)           2864700   \n",
      "_________________________________________________________________\n",
      "simple_rnn_1 (SimpleRNN)     (None, 100)               40100     \n",
      "_________________________________________________________________\n",
      "repeat_vector_1 (RepeatVecto (None, 31, 100)           0         \n",
      "_________________________________________________________________\n",
      "simple_rnn_2 (SimpleRNN)     (None, 31, 100)           20100     \n",
      "_________________________________________________________________\n",
      "time_distributed_1 (TimeDist (None, 31, 17)            1717      \n",
      "_________________________________________________________________\n",
      "activation_1 (Activation)    (None, 31, 17)            0         \n",
      "=================================================================\n",
      "Total params: 2,926,617\n",
      "Trainable params: 2,926,617\n",
      "Non-trainable params: 0\n",
      "_________________________________________________________________\n"
     ]
    }
   ],
   "source": [
    "from keras.layers.recurrent import SimpleRNN\n",
    "def build_pos_tagger_Simple():\n",
    "    model = Sequential()\n",
    "    model.add(Embedding(s_vocabsize, EMBED_SIZE,\n",
    "                    input_length=MAX_SEQLEN,\n",
    "                    embeddings_initializer=\"glorot_uniform\"))\n",
    "    \n",
    "    model.add(SimpleRNN(HIDDEN_SIZE, unroll=True))\n",
    "    model.add(RepeatVector(MAX_SEQLEN))\n",
    "    \n",
    "    model.add(SimpleRNN(HIDDEN_SIZE, return_sequences=True))\n",
    "    model.add(TimeDistributed(Dense(t_vocabsize)))\n",
    "    model.add(Activation(\"softmax\"))\n",
    "    model.compile(loss=\"categorical_crossentropy\", optimizer=\"adam\",\n",
    "              metrics=[\"accuracy\"])\n",
    "    return model\n",
    "\n",
    "SIMPLE_POS_TAGGER = build_pos_tagger_Simple()\n",
    "SIMPLE_POS_TAGGER.summary()\n"
   ]
  },
  {
   "cell_type": "code",
   "execution_count": 20,
   "metadata": {},
   "outputs": [
    {
     "name": "stdout",
     "output_type": "stream",
     "text": [
      "Epoch 1/20\n",
      "63/63 [==============================] - 18s - loss: 1.9583 - acc: 0.3759 - val_loss: 1.7747 - val_acc: 0.4086\n",
      "Epoch 2/20\n",
      "63/63 [==============================] - 12s - loss: 1.7076 - acc: 0.4250 - val_loss: 1.6368 - val_acc: 0.4219\n",
      "Epoch 3/20\n",
      "63/63 [==============================] - 12s - loss: 1.5991 - acc: 0.4517 - val_loss: 1.5929 - val_acc: 0.4462\n",
      "Epoch 4/20\n",
      "63/63 [==============================] - 12s - loss: 1.5667 - acc: 0.4657 - val_loss: 1.5496 - val_acc: 0.4639\n",
      "Epoch 5/20\n",
      "63/63 [==============================] - 12s - loss: 1.5172 - acc: 0.4838 - val_loss: 1.5560 - val_acc: 0.4495\n",
      "Epoch 6/20\n",
      "63/63 [==============================] - 12s - loss: 1.4847 - acc: 0.4931 - val_loss: 1.5554 - val_acc: 0.4510\n",
      "Epoch 7/20\n",
      "63/63 [==============================] - 12s - loss: 1.4487 - acc: 0.5035 - val_loss: 1.4730 - val_acc: 0.4885\n",
      "Epoch 8/20\n",
      "63/63 [==============================] - 12s - loss: 1.4121 - acc: 0.5140 - val_loss: 1.5125 - val_acc: 0.4527\n",
      "Epoch 9/20\n",
      "63/63 [==============================] - 12s - loss: 1.3909 - acc: 0.5195 - val_loss: 1.4624 - val_acc: 0.4895\n",
      "Epoch 10/20\n",
      "63/63 [==============================] - 12s - loss: 1.3663 - acc: 0.5255 - val_loss: 1.4721 - val_acc: 0.4759\n",
      "Epoch 11/20\n",
      "63/63 [==============================] - 12s - loss: 1.3397 - acc: 0.5346 - val_loss: 1.4676 - val_acc: 0.4858\n",
      "Epoch 12/20\n",
      "63/63 [==============================] - 12s - loss: 1.3281 - acc: 0.5341 - val_loss: 1.4388 - val_acc: 0.4931\n",
      "Epoch 13/20\n",
      "63/63 [==============================] - 12s - loss: 1.3052 - acc: 0.5411 - val_loss: 1.4476 - val_acc: 0.4960\n",
      "Epoch 14/20\n",
      "63/63 [==============================] - 12s - loss: 1.2738 - acc: 0.5534 - val_loss: 1.4858 - val_acc: 0.4696\n",
      "Epoch 15/20\n",
      "63/63 [==============================] - 12s - loss: 1.2694 - acc: 0.5497 - val_loss: 1.4539 - val_acc: 0.4909\n",
      "Epoch 16/20\n",
      "63/63 [==============================] - 12s - loss: 1.2542 - acc: 0.5558 - val_loss: 1.4453 - val_acc: 0.4982\n",
      "Epoch 17/20\n",
      "63/63 [==============================] - 12s - loss: 1.2447 - acc: 0.5557 - val_loss: 1.4591 - val_acc: 0.4934\n",
      "Epoch 18/20\n",
      "63/63 [==============================] - 12s - loss: 1.2321 - acc: 0.5595 - val_loss: 1.4600 - val_acc: 0.4931\n",
      "Epoch 19/20\n",
      "63/63 [==============================] - 12s - loss: 1.2053 - acc: 0.5673 - val_loss: 1.4940 - val_acc: 0.4846\n",
      "Epoch 20/20\n",
      "63/63 [==============================] - 12s - loss: 1.1867 - acc: 0.5725 - val_loss: 1.4642 - val_acc: 0.4983\n",
      "================================================================================\n",
      "Iteration # 1\n",
      "--------------------------------------------------------------------------------\n",
      "label:     علاوہ_ازیں//ADV UNK//NOUN انگلش//NOUN کی//ADP کلاس//NOUN و//CCONJ UNK//NOUN کے//ADP UNK//ADJ کلاسیس//NOUN بھی//PART چلائی//VERB جائیں_گی//AUX ۔//PUNCT\n",
      "predicted: علاوہ_ازیں//PAD UNK//NOUN انگلش//ADP کی//ADP کلاس//NOUN و//NOUN UNK//NOUN کے//NOUN UNK//NOUN کلاسیس//NOUN بھی//NOUN چلائی//VERB جائیں_گی//VERB ۔//PUNCT\n",
      "--------------------------------------------------------------------------------\n",
      "label:     انھوں//PRON نے//ADP بتایا//VERB کہ//SCONJ روز//NOUN UNK//NOUN مےں//ADP UNK//PROPN کریم//PROPN شکایت//NOUN بھی//PART کرےگا//VERB اور//CCONJ سفارش//NOUN بھی//PART کرےگا//VERB ۔//PUNCT\n",
      "predicted: انھوں//PAD نے//NOUN بتایا//ADP کہ//ADP روز//SCONJ UNK//NOUN مےں//NOUN UNK//ADP کریم//NOUN شکایت//NOUN بھی//NOUN کرےگا//NOUN اور//NOUN سفارش//NOUN بھی//VERB کرےگا//VERB ۔//PUNCT\n",
      "--------------------------------------------------------------------------------\n",
      "label:     کامیابی//NOUN کے//ADP لئے//ADP UNK//NUM رنز//NOUN کا//ADP تعاقب//NOUN کرتے//VERB ہوئے//AUX دفاعی//ADJ UNK//NOUN دکن//PROPN چارجرس//PROPN نے//ADP اچھی//ADJ شروعات//NOUN کی//VERB لیکن//CCONJ بعد//ADV مےں//ADP بیٹسمین//NOUN ناکام//ADJ ہو//VERB گئے//AUX ۔//PUNCT\n",
      "predicted: کامیابی//PROPN کے//PROPN لئے//ADP UNK//ADP رنز//ADP کا//NOUN تعاقب//NOUN کرتے//NOUN ہوئے//NOUN دفاعی//NOUN UNK//NOUN دکن//NOUN چارجرس//NOUN نے//NOUN اچھی//NOUN شروعات//NOUN کی//NOUN لیکن//NOUN بعد//NOUN مےں//NOUN بیٹسمین//NOUN ناکام//VERB ہو//VERB گئے//AUX ۔//PUNCT\n",
      "--------------------------------------------------------------------------------\n",
      "label:     پی//PROPN رکن//NOUN سمیت//ADP گیارہ//NUM ارکان//NOUN نے//ADP تحریری//ADJ درخواست//NOUN مےں//ADP کہا//VERB کہ//SCONJ وہ//PRON اس//DET مسودہ//NOUN رپورٹ//NOUN کو//ADP ,//PUNCT جسے//PRON صدرنشین//NOUN کی//ADP جانب//ADP سے//ADP گشت//NOUN کروایا//VERB گیا//AUX ہے//AUX ,//PUNCT مسترد//ADJ کرتے//VERB ہےں//AUX ۔//PUNCT\n",
      "predicted: پی//ADP رکن//ADP سمیت//ADP گیارہ//ADP ارکان//ADP نے//ADP تحریری//ADP درخواست//ADP مےں//ADP کہا//ADP کہ//ADP وہ//ADP اس//ADP مسودہ//ADP رپورٹ//ADP کو//ADP ,//ADP جسے//ADP صدرنشین//ADP کی//ADP جانب//ADP سے//ADP گشت//ADP کروایا//ADP گیا//ADP ہے//ADP ,//ADP مسترد//ADJ کرتے//VERB ہےں//AUX ۔//PUNCT\n",
      "--------------------------------------------------------------------------------\n",
      "label:     دھان//NOUN اور//CCONJ دیگر//ADJ اناج//NOUN کا//ADP ذخیرہ//NOUN کرنے//VERB کے//ADP لئے//ADP گودام//NOUN بنائے//VERB گئے//AUX ۔//PUNCT\n",
      "predicted: دھان//NOUN اور//ADP دیگر//ADP اناج//ADP کا//ADP ذخیرہ//ADP کرنے//ADP کے//NOUN لئے//NOUN گودام//NOUN بنائے//VERB گئے//AUX ۔//PUNCT\n",
      "--------------------------------------------------------------------------------\n",
      "Epoch 1/20\n",
      "63/63 [==============================] - 12s - loss: 1.1585 - acc: 0.5807 - val_loss: 1.5069 - val_acc: 0.4851\n",
      "Epoch 2/20\n",
      "63/63 [==============================] - 12s - loss: 1.1618 - acc: 0.5790 - val_loss: 1.4899 - val_acc: 0.4897\n",
      "Epoch 3/20\n",
      "63/63 [==============================] - 12s - loss: 1.1352 - acc: 0.5871 - val_loss: 1.4553 - val_acc: 0.5026\n",
      "Epoch 4/20\n",
      "63/63 [==============================] - 12s - loss: 1.1245 - acc: 0.5887 - val_loss: 1.4971 - val_acc: 0.4895\n",
      "Epoch 5/20\n",
      "63/63 [==============================] - 1532s - loss: 1.1111 - acc: 0.5939 - val_loss: 1.5243 - val_acc: 0.4768\n",
      "Epoch 6/20\n",
      "63/63 [==============================] - 13s - loss: 1.1021 - acc: 0.5956 - val_loss: 1.5342 - val_acc: 0.4890\n",
      "Epoch 7/20\n",
      "63/63 [==============================] - 12s - loss: 1.0898 - acc: 0.5992 - val_loss: 1.5494 - val_acc: 0.4758\n",
      "Epoch 8/20\n",
      "63/63 [==============================] - 12s - loss: 1.0734 - acc: 0.6026 - val_loss: 1.5591 - val_acc: 0.4852\n",
      "Epoch 9/20\n",
      "63/63 [==============================] - 12s - loss: 1.0612 - acc: 0.6064 - val_loss: 1.5520 - val_acc: 0.4924\n",
      "Epoch 10/20\n",
      "63/63 [==============================] - 11s - loss: 1.0369 - acc: 0.6148 - val_loss: 1.5491 - val_acc: 0.4942\n",
      "Epoch 11/20\n",
      "63/63 [==============================] - 11s - loss: 1.0258 - acc: 0.6178 - val_loss: 1.6174 - val_acc: 0.4737\n",
      "Epoch 12/20\n",
      "63/63 [==============================] - 11s - loss: 1.0139 - acc: 0.6221 - val_loss: 1.6181 - val_acc: 0.4738\n",
      "Epoch 13/20\n",
      "63/63 [==============================] - 11s - loss: 1.0126 - acc: 0.6197 - val_loss: 1.5993 - val_acc: 0.4880\n",
      "Epoch 14/20\n",
      "63/63 [==============================] - 11s - loss: 0.9950 - acc: 0.6251 - val_loss: 1.6831 - val_acc: 0.4686\n",
      "Epoch 15/20\n",
      "63/63 [==============================] - 12s - loss: 0.9876 - acc: 0.6269 - val_loss: 1.6124 - val_acc: 0.4839\n",
      "Epoch 16/20\n",
      "63/63 [==============================] - 12s - loss: 0.9931 - acc: 0.6239 - val_loss: 1.6591 - val_acc: 0.4729\n",
      "Epoch 17/20\n",
      "63/63 [==============================] - 11s - loss: 0.9650 - acc: 0.6352 - val_loss: 1.6634 - val_acc: 0.4773\n",
      "Epoch 18/20\n",
      "63/63 [==============================] - 12s - loss: 0.9327 - acc: 0.6459 - val_loss: 1.6752 - val_acc: 0.4761\n",
      "Epoch 19/20\n",
      "63/63 [==============================] - 13s - loss: 0.9222 - acc: 0.6509 - val_loss: 1.6878 - val_acc: 0.4832\n",
      "Epoch 20/20\n",
      "63/63 [==============================] - 12s - loss: 0.9167 - acc: 0.6504 - val_loss: 1.7460 - val_acc: 0.4701\n",
      "================================================================================\n",
      "Iteration # 2\n",
      "--------------------------------------------------------------------------------\n",
      "label:     نے//ADP حکومت//NOUN سری//PROPN لنکا//PROPN کے//ADP اس//DET دعویٰ//NOUN کو//ADP غلط//ADJ ثابت//ADJ کر//VERB دیا//AUX ہے//AUX کہ//SCONJ انسانی//ADJ بنیادوں//NOUN پر//ADP یہ//DET کارروائی//NOUN کی//VERB گئی//AUX اور//CCONJ جانی//ADJ و//CCONJ مالی//ADJ نقصانات//NOUN کم//ADJ سے//PART کم//ADJ ہوئے//VERB ۔//PUNCT\n",
      "predicted: نے//ADP حکومت//VERB سری//VERB لنکا//SCONJ کے//PROPN اس//ADP دعویٰ//ADP کو//ADP غلط//ADP ثابت//VERB کر//VERB دیا//VERB ہے//AUX کہ//CCONJ انسانی//ADP بنیادوں//ADP پر//ADP یہ//ADP کارروائی//VERB کی//VERB گئی//AUX اور//CCONJ جانی//CCONJ و//ADP مالی//ADP نقصانات//ADP کم//ADJ سے//VERB کم//VERB ہوئے//PUNCT ۔//PUNCT\n",
      "--------------------------------------------------------------------------------\n",
      "label:     ان//DET خیالات//NOUN کا//ADP اظہار//NOUN UNK//NOUN امجد//PROPN اللہ//PROPN خاں//PROPN خالد//PROPN نے//ADP آج//NOUN UNK//PROPN گوڑہ//PROPN کمیونٹی//PROPN ہال//PROPN مےں//ADP منعقدہ//ADJ UNK//PROPN اسکیم//NOUN کے//ADP تحت//ADP UNK//ADJ UNK//NOUN UNK//NOUN تقسیم//NOUN تقریب//NOUN سے//ADP کیا//VERB ۔//PUNCT\n",
      "predicted: ان//NOUN خیالات//NOUN کا//ADP اظہار//ADP UNK//ADP امجد//ADP اللہ//ADP خاں//ADP خالد//ADP نے//ADP آج//ADP UNK//ADP گوڑہ//NOUN کمیونٹی//NOUN ہال//NOUN مےں//NOUN منعقدہ//NOUN UNK//ADP اسکیم//ADP کے//ADP تحت//ADP UNK//ADP UNK//ADP UNK//ADP تقسیم//ADP تقریب//ADP سے//NOUN کیا//VERB ۔//PUNCT\n",
      "--------------------------------------------------------------------------------\n",
      "label:     کر//VERB لی//AUX جس//PRON کی//ADP مدد//NOUN سے//ADP اسے//PRON کمیٹی//NOUN مےں//ADP حیرت_انگیز//ADJ طور//NOUN پر//ADP اکثریت//NOUN حاصل//NOUN ہو//VERB گئی//AUX جس//PRON کے//ADP ذریعہ//ADP 2G//PROPN اسکام//NOUN کی//ADP رپورٹ//NOUN کے//ADP مسودہ//NOUN کو//ADP مسترد//ADJ کر//VERB دیا//AUX گیا//AUX ۔//PUNCT\n",
      "predicted: کر//ADP لی//ADP جس//ADP کی//VERB مدد//VERB سے//NOUN اسے//PROPN کمیٹی//PROPN مےں//PROPN حیرت_انگیز//PROPN طور//PROPN پر//PROPN اکثریت//PROPN حاصل//ADP ہو//ADP گئی//ADP جس//ADP کے//ADP ذریعہ//ADP 2G//ADP اسکام//ADP کی//ADP رپورٹ//ADP کے//ADP مسودہ//ADP کو//ADP مسترد//VERB کر//VERB دیا//AUX گیا//PUNCT ۔//PUNCT\n",
      "--------------------------------------------------------------------------------\n",
      "label:     UNK//PROPN جیسا//ADP عظیم//ADJ UNK//NOUN اُس//PRON کی//ADP 6//NUM گیندوں//NOUN پر//ADP کوئی//PRON UNK//NOUN نہ//PART بنا//VERB سکا//AUX ۔//PUNCT\n",
      "predicted: UNK//ADP جیسا//ADP عظیم//ADP UNK//NOUN اُس//VERB کی//NOUN 6//ADP گیندوں//ADP پر//ADP کوئی//NOUN UNK//NOUN نہ//VERB بنا//AUX سکا//AUX ۔//PUNCT\n",
      "--------------------------------------------------------------------------------\n",
      "label:     لہٰذا//SCONJ طلبا//NOUN کے//ADP لئے//ADP ضروری//ADJ ہے//VERB کہ//SCONJ وہ//PRON اپنی//PRON عملی//ADJ زندگی//NOUN مےں//ADP ان//DET معاملات//NOUN کی//ADP انجام_دہی//NOUN کو//ADP اپنا//PRON فرض//NOUN عین//ADJ سمجھیں//VERB ۔//PUNCT\n",
      "predicted: لہٰذا//NOUN طلبا//ADP کے//VERB لئے//VERB ضروری//AUX ہے//ADP کہ//ADP وہ//ADP اپنی//ADP عملی//ADP زندگی//NOUN مےں//NOUN ان//NOUN معاملات//PRON کی//NOUN انجام_دہی//NOUN کو//NOUN اپنا//ADP فرض//NOUN عین//VERB سمجھیں//AUX ۔//PUNCT\n",
      "--------------------------------------------------------------------------------\n",
      "Epoch 1/20\n"
     ]
    },
    {
     "name": "stdout",
     "output_type": "stream",
     "text": [
      "63/63 [==============================] - 12s - loss: 0.9085 - acc: 0.6528 - val_loss: 1.8005 - val_acc: 0.4612\n",
      "Epoch 2/20\n",
      "63/63 [==============================] - 13s - loss: 0.9222 - acc: 0.6449 - val_loss: 1.7949 - val_acc: 0.4572\n",
      "Epoch 3/20\n",
      "63/63 [==============================] - 13s - loss: 0.9187 - acc: 0.6447 - val_loss: 1.7279 - val_acc: 0.4791\n",
      "Epoch 4/20\n",
      "63/63 [==============================] - 14s - loss: 0.8872 - acc: 0.6600 - val_loss: 1.7437 - val_acc: 0.4748\n",
      "Epoch 5/20\n",
      "63/63 [==============================] - 13s - loss: 0.8708 - acc: 0.6623 - val_loss: 1.8089 - val_acc: 0.4615\n",
      "Epoch 6/20\n",
      "63/63 [==============================] - 13s - loss: 0.8667 - acc: 0.6652 - val_loss: 1.8004 - val_acc: 0.4716\n",
      "Epoch 7/20\n",
      "63/63 [==============================] - 12s - loss: 0.8609 - acc: 0.6661 - val_loss: 1.8162 - val_acc: 0.4707\n",
      "Epoch 8/20\n",
      "63/63 [==============================] - 12s - loss: 0.8465 - acc: 0.6722 - val_loss: 1.8115 - val_acc: 0.4730\n",
      "Epoch 9/20\n",
      "63/63 [==============================] - 13s - loss: 0.8295 - acc: 0.6772 - val_loss: 1.8697 - val_acc: 0.4685\n",
      "Epoch 10/20\n",
      "63/63 [==============================] - 14s - loss: 0.8370 - acc: 0.6726 - val_loss: 1.8244 - val_acc: 0.4730\n",
      "Epoch 11/20\n",
      "63/63 [==============================] - 14s - loss: 0.8237 - acc: 0.6762 - val_loss: 1.8669 - val_acc: 0.4693\n",
      "Epoch 12/20\n",
      "63/63 [==============================] - 15s - loss: 0.8243 - acc: 0.6775 - val_loss: 1.9444 - val_acc: 0.4529\n",
      "Epoch 13/20\n",
      "63/63 [==============================] - 14s - loss: 0.8124 - acc: 0.6805 - val_loss: 1.9619 - val_acc: 0.4394\n",
      "Epoch 14/20\n",
      "63/63 [==============================] - 14s - loss: 0.8250 - acc: 0.6742 - val_loss: 1.9000 - val_acc: 0.4671\n",
      "Epoch 15/20\n",
      "63/63 [==============================] - 14s - loss: 0.7913 - acc: 0.6896 - val_loss: 1.9983 - val_acc: 0.4478\n",
      "Epoch 16/20\n",
      "63/63 [==============================] - 14s - loss: 0.7880 - acc: 0.6888 - val_loss: 1.9393 - val_acc: 0.4643\n",
      "Epoch 17/20\n",
      "63/63 [==============================] - 14s - loss: 0.7711 - acc: 0.6963 - val_loss: 2.0239 - val_acc: 0.4558\n",
      "Epoch 18/20\n",
      "63/63 [==============================] - 14s - loss: 0.7631 - acc: 0.7001 - val_loss: 1.9592 - val_acc: 0.4682\n",
      "Epoch 19/20\n",
      "63/63 [==============================] - 14s - loss: 0.7538 - acc: 0.7017 - val_loss: 2.0670 - val_acc: 0.4558\n",
      "Epoch 20/20\n",
      "63/63 [==============================] - 14s - loss: 0.7993 - acc: 0.6818 - val_loss: 1.9709 - val_acc: 0.4624\n",
      "================================================================================\n",
      "Iteration # 3\n",
      "--------------------------------------------------------------------------------\n",
      "label:     جن//PRON پر//ADP ٹیکس//NOUN سے//ADP بچنے//VERB کا//ADP الزام//NOUN ہے//AUX ,//PUNCT ان//PRON کے//ADP لیے//ADP 1997//NUM مےں//ADP اقبال//PROPN سنگھ//PROPN نے//ADP بحیثیت//ADP رکن//NOUN راجیہ//PROPN سبھا//PROPN انھیں//PRON جلد//ADV پاسپورٹ//NOUN جاری//ADJ کرنے//VERB کی//ADP سفارش//NOUN کی//VERB تھی//AUX ۔//PUNCT\n",
      "predicted: جن//ADP پر//ADP ٹیکس//ADP سے//NOUN بچنے//ADP کا//ADP الزام//VERB ہے//VERB ,//VERB ان//ADP کے//ADP لیے//ADP 1997//ADP مےں//ADP اقبال//ADP سنگھ//ADP نے//NOUN بحیثیت//ADP رکن//VERB راجیہ//VERB سبھا//CCONJ انھیں//NOUN جلد//NOUN پاسپورٹ//NOUN جاری//NOUN کرنے//NOUN کی//NOUN سفارش//NOUN کی//PUNCT تھی//PUNCT ۔//PUNCT\n",
      "--------------------------------------------------------------------------------\n",
      "label:     ریاستی//ADJ حکومت//NOUN کی//ADP جانب//ADP سے//ADP تاریخی//ADJ مکہ//PROPN مسجد//PROPN کو//ADP نظرانداز//ADJ کئے//VERB جانے//AUX کے//ADP سبب//ADP مکہ//PROPN مسجد//PROPN کی//ADP عمارت//NOUN UNK//ADJ ہوتی//VERB جا//AUX رہی//AUX ہے//AUX ۔//PUNCT\n",
      "predicted: ریاستی//PAD حکومت//PROPN کی//ADP جانب//ADP سے//ADJ تاریخی//ADJ مکہ//NOUN مسجد//ADP کو//ADP نظرانداز//ADP کئے//NOUN جانے//NOUN کے//ADP سبب//ADP مکہ//ADP مسجد//NOUN کی//ADJ عمارت//ADJ UNK//ADJ ہوتی//ADJ جا//VERB رہی//AUX ہے//AUX ۔//PUNCT\n",
      "--------------------------------------------------------------------------------\n",
      "label:     کئے//VERB جانے//AUX کے//ADP متعلق//ADP بتایا//VERB جاتا//AUX ہے//AUX کہ//SCONJ حکومت//NOUN کی//ADP جانب//ADP سے//ADP UNK//NOUN اور//CCONJ بجٹ//NOUN کی//ADP UNK//NOUN کے//ADP سبب//ADP مکہ//PROPN مسجد//PROPN کی//ADP چھت//NOUN کی//ADP مرمت//NOUN شروع//NOUN نہیں//PART کی//VERB جا//AUX سکی//AUX ۔//PUNCT\n",
      "predicted: کئے//PAD جانے//PART کے//PART متعلق//PART بتایا//AUX جاتا//AUX ہے//ADJ کہ//ADP حکومت//ADP کی//ADJ جانب//ADJ سے//AUX UNK//AUX اور//ADJ بجٹ//NOUN کی//NOUN UNK//PART کے//PART سبب//VERB مکہ//AUX مسجد//PART کی//PART چھت//PART کی//PART مرمت//PART شروع//PART نہیں//PART کی//PART جا//VERB سکی//AUX ۔//AUX\n",
      "--------------------------------------------------------------------------------\n",
      "label:     یو//PROPN پی//PROPN اے//PROPN ارکان//NOUN نے//ADP کہا//VERB کہ//SCONJ مسٹر//PART جوشی//PROPN نے//ADP یہ//DET رپورٹ//NOUN باہر//ADV سے//ADP تیار//ADJ کروا//VERB کے//ADP UNK//VERB ہے//AUX ۔//PUNCT\n",
      "predicted: یو//PRON پی//ADP اے//ADP ارکان//ADP نے//ADP کہا//NOUN کہ//NOUN مسٹر//ADP جوشی//ADP نے//NOUN یہ//NOUN رپورٹ//NOUN باہر//NOUN سے//ADP تیار//ADP کروا//ADP کے//ADP UNK//ADJ ہے//AUX ۔//PUNCT\n",
      "--------------------------------------------------------------------------------\n",
      "label:     ان//PRON کی//ADP حوصلہ_افزائی//NOUN سے//ADP نارائنا//PROPN نے//ADP ریاست//NOUN بھر//PART مےں//ADP نمایاں//ADJ مقام//NOUN حاصل//NOUN کیا//VERB ہے//AUX ۔//PUNCT\n",
      "predicted: ان//DET کی//PROPN حوصلہ_افزائی//PROPN سے//PROPN نارائنا//PROPN نے//PROPN ریاست//PROPN بھر//NOUN مےں//NOUN نمایاں//ADP مقام//ADP حاصل//ADP کیا//VERB ہے//AUX ۔//PUNCT\n",
      "--------------------------------------------------------------------------------\n"
     ]
    }
   ],
   "source": [
    "train_gen = generate_batch(sents_word, s_word2index, sents_pos,\n",
    "                           t_word2index, BATCH_SIZE, MAX_SEQLEN)\n",
    "test_gen = generate_batch(test_sents_word, s_word2index, test_sents_pos,\n",
    "                          t_word2index, BATCH_SIZE, MAX_SEQLEN)\n",
    "\n",
    "hist_acc_simple, hist_val_acc_simple, hist_loss_simple, hist_val_loss_simple = [], [], [], []\n",
    "\n",
    "for i in range(NUM_ITERATIONS):    \n",
    "    history = SIMPLE_POS_TAGGER.fit_generator(train_gen, \n",
    "                                  steps_per_epoch=num_train_samples, \n",
    "                                  epochs=NUM_EPOCHS,\n",
    "                                  validation_data=test_gen, \n",
    "                                  validation_steps=num_test_samples)\n",
    "    # save off history data\n",
    "    hist_acc_simple.extend(history.history[\"acc\"])\n",
    "    hist_val_acc_simple.extend(history.history[\"val_acc\"])\n",
    "    hist_loss_simple.extend(history.history[\"loss\"])\n",
    "    hist_val_loss_simple.extend(history.history[\"val_loss\"])\n",
    "    \n",
    "    # Проиллюстрируем некоторые примеры разметки\n",
    "    \n",
    "    Xtest, Ytest = next(test_gen)\n",
    "    Ytest_ = SIMPLE_POS_TAGGER.predict(Xtest)\n",
    "    ytest = np.argmax(Ytest, axis=2)\n",
    "    ytest_ = np.argmax(Ytest_, axis=2)\n",
    "    \n",
    "    print(\"=\" * 80)\n",
    "    print(\"Iteration # {:d}\".format(i + 1))\n",
    "    print(\"-\" * 80)\n",
    "    for i in range(min(5, Ytest.shape[0])):\n",
    "        sent_ids = Xtest[i]\n",
    "        sent_words = [s_index2word[x] for x in sent_ids.tolist()]\n",
    "        pos_labels = [t_index2word[x] for x in ytest[i].tolist()]\n",
    "        pos_preds = [t_index2word[x] for x in ytest_[i].tolist()]\n",
    "        triples = [x for x in zip(sent_words, pos_labels, pos_preds)\n",
    "            if x[0] != \"PAD\"]\n",
    "        print(\"label:     \" + \" \".join([x[0] +\"//\"+x[1].upper() \n",
    "            for x in triples]))\n",
    "        print(\"predicted: \" + \" \".join([x[0] +\"//\"+x[2].upper() \n",
    "            for x in triples]))\n",
    "        print(\"-\" * 80)"
   ]
  },
  {
   "cell_type": "code",
   "execution_count": 21,
   "metadata": {},
   "outputs": [
    {
     "data": {
      "image/png": "[encoded data removed]",
      "text/plain": [
       "<matplotlib.figure.Figure at 0x7fad1dc320>"
      ]
     },
     "metadata": {},
     "output_type": "display_data"
    }
   ],
   "source": [
    "# plot loss and accuracy\n",
    "plt.subplot(211)\n",
    "plt.title(\"Accuracy SimpleRNN\")\n",
    "plt.plot(hist_acc_simple, color=\"g\", label=\"Train\")\n",
    "plt.plot(hist_val_acc_simple, color=\"b\", label=\"Validation\")\n",
    "plt.legend(loc=\"best\")\n",
    "\n",
    "plt.subplot(212)\n",
    "plt.title(\"Loss SimpleRNN\")\n",
    "plt.plot(hist_loss_simple, color=\"g\", label=\"Train\")\n",
    "plt.plot(hist_val_loss_simple, color=\"b\", label=\"Validation\")\n",
    "plt.legend(loc=\"best\")\n",
    "\n",
    "plt.tight_layout()\n",
    "plt.show()"
   ]
  },
  {
   "cell_type": "markdown",
   "metadata": {},
   "source": []
  },
  {
   "cell_type": "code",
   "execution_count": 22,
   "metadata": {},
   "outputs": [
    {
     "name": "stdout",
     "output_type": "stream",
     "text": [
      "_________________________________________________________________\n",
      "Layer (type)                 Output Shape              Param #   \n",
      "=================================================================\n",
      "embedding_3 (Embedding)      (None, 31, 300)           2864700   \n",
      "_________________________________________________________________\n",
      "gru_1 (GRU)                  (None, 100)               120300    \n",
      "_________________________________________________________________\n",
      "repeat_vector_2 (RepeatVecto (None, 31, 100)           0         \n",
      "_________________________________________________________________\n",
      "gru_2 (GRU)                  (None, 31, 100)           60300     \n",
      "_________________________________________________________________\n",
      "time_distributed_2 (TimeDist (None, 31, 17)            1717      \n",
      "_________________________________________________________________\n",
      "activation_2 (Activation)    (None, 31, 17)            0         \n",
      "=================================================================\n",
      "Total params: 3,047,017\n",
      "Trainable params: 3,047,017\n",
      "Non-trainable params: 0\n",
      "_________________________________________________________________\n"
     ]
    }
   ],
   "source": [
    "def build_pos_tagger_GRU():\n",
    "    model = Sequential()\n",
    "    model.add(Embedding(s_vocabsize, EMBED_SIZE,\n",
    "                    input_length=MAX_SEQLEN,\n",
    "                    embeddings_initializer=\"glorot_uniform\"))\n",
    "    \n",
    "    model.add(GRU(HIDDEN_SIZE))\n",
    "    model.add(RepeatVector(MAX_SEQLEN))\n",
    "    \n",
    "    model.add(GRU(HIDDEN_SIZE, return_sequences=True))\n",
    "    model.add(TimeDistributed(Dense(t_vocabsize)))\n",
    "    model.add(Activation(\"softmax\"))\n",
    "    model.compile(loss=\"categorical_crossentropy\", optimizer=\"adam\",\n",
    "              metrics=[\"accuracy\"])\n",
    "    return model\n",
    "\n",
    "GRU_POS_TAGGER = build_pos_tagger_GRU()\n",
    "GRU_POS_TAGGER.summary()\n",
    "\n",
    "train_gen = generate_batch(sents_word, s_word2index, sents_pos,\n",
    "                           t_word2index, BATCH_SIZE, MAX_SEQLEN)\n",
    "test_gen = generate_batch(test_sents_word, s_word2index, test_sents_pos,\n",
    "                          t_word2index, BATCH_SIZE, MAX_SEQLEN)\n"
   ]
  },
  {
   "cell_type": "code",
   "execution_count": 23,
   "metadata": {},
   "outputs": [
    {
     "name": "stdout",
     "output_type": "stream",
     "text": [
      "Epoch 1/20\n",
      "63/63 [==============================] - 37s - loss: 2.2236 - acc: 0.3053 - val_loss: 1.7936 - val_acc: 0.4157\n",
      "Epoch 2/20\n",
      "63/63 [==============================] - 26s - loss: 1.7338 - acc: 0.4133 - val_loss: 1.6728 - val_acc: 0.4223\n",
      "Epoch 3/20\n",
      "63/63 [==============================] - 26s - loss: 1.6802 - acc: 0.4204 - val_loss: 1.6530 - val_acc: 0.4237\n",
      "Epoch 4/20\n",
      "63/63 [==============================] - 26s - loss: 1.6109 - acc: 0.4413 - val_loss: 1.5953 - val_acc: 0.4316\n",
      "Epoch 5/20\n",
      "63/63 [==============================] - 26s - loss: 1.5728 - acc: 0.4525 - val_loss: 1.5653 - val_acc: 0.4579\n",
      "Epoch 6/20\n",
      "63/63 [==============================] - 26s - loss: 1.5479 - acc: 0.4604 - val_loss: 1.5497 - val_acc: 0.4515\n",
      "Epoch 7/20\n",
      "63/63 [==============================] - 26s - loss: 1.5209 - acc: 0.4714 - val_loss: 1.4738 - val_acc: 0.4897\n",
      "Epoch 8/20\n",
      "63/63 [==============================] - 26s - loss: 1.4980 - acc: 0.4801 - val_loss: 1.4828 - val_acc: 0.4642\n",
      "Epoch 9/20\n",
      "63/63 [==============================] - 26s - loss: 1.4667 - acc: 0.4934 - val_loss: 1.4601 - val_acc: 0.4857\n",
      "Epoch 10/20\n",
      "63/63 [==============================] - 26s - loss: 1.4738 - acc: 0.4909 - val_loss: 1.4545 - val_acc: 0.4997\n",
      "Epoch 11/20\n",
      "63/63 [==============================] - 25s - loss: 1.4278 - acc: 0.5105 - val_loss: 1.4726 - val_acc: 0.4842\n",
      "Epoch 12/20\n",
      "63/63 [==============================] - 26s - loss: 1.4133 - acc: 0.5126 - val_loss: 1.5357 - val_acc: 0.4645\n",
      "Epoch 13/20\n",
      "63/63 [==============================] - 26s - loss: 1.4223 - acc: 0.5075 - val_loss: 1.4184 - val_acc: 0.4938\n",
      "Epoch 14/20\n",
      "63/63 [==============================] - 26s - loss: 1.3892 - acc: 0.5234 - val_loss: 1.6472 - val_acc: 0.4458\n",
      "Epoch 15/20\n",
      "63/63 [==============================] - 26s - loss: 1.3800 - acc: 0.5246 - val_loss: 1.3693 - val_acc: 0.5246\n",
      "Epoch 16/20\n",
      "63/63 [==============================] - 26s - loss: 1.3766 - acc: 0.5219 - val_loss: 1.3936 - val_acc: 0.5080\n",
      "Epoch 17/20\n",
      "63/63 [==============================] - 26s - loss: 1.3420 - acc: 0.5380 - val_loss: 1.3911 - val_acc: 0.5085\n",
      "Epoch 18/20\n",
      "63/63 [==============================] - 26s - loss: 1.3622 - acc: 0.5247 - val_loss: 1.4131 - val_acc: 0.5069\n",
      "Epoch 19/20\n",
      "63/63 [==============================] - 27s - loss: 1.3511 - acc: 0.5278 - val_loss: 1.4408 - val_acc: 0.4819\n",
      "Epoch 20/20\n",
      "63/63 [==============================] - 27s - loss: 1.3235 - acc: 0.5403 - val_loss: 1.3635 - val_acc: 0.5212\n",
      "================================================================================\n",
      "Iteration # 1\n",
      "--------------------------------------------------------------------------------\n",
      "label:     کرشنا//PROPN UNK//PROPN ہاسپٹل//PROPN لکڑی//PROPN کا//PROPN پل//PROPN پر//ADP عالمی//ADJ یوم//NOUN UNK//NOUN کے//ADP موقع//ADP پر//ADP 3//PROPN مئی//PROPN کو//ADP صبح//NOUN 8//NUM بجے//NOUN بچوں//NOUN کے//ADP لئے//ADP مفت//ADJ UNK//PROPN چیک//NOUN اپ//NOUN کیمپ//NOUN منعقد//ADJ کیا//VERB جائےگا//AUX ۔//PUNCT\n",
      "predicted: کرشنا//NOUN UNK//PROPN ہاسپٹل//PROPN لکڑی//NOUN کا//NOUN پل//NOUN پر//NOUN عالمی//NOUN یوم//NOUN UNK//NOUN کے//NOUN موقع//NOUN پر//NOUN 3//NOUN مئی//NOUN کو//NOUN صبح//ADP 8//ADP بجے//NOUN بچوں//ADP کے//ADP لئے//ADP مفت//ADP UNK//ADP چیک//ADP اپ//NOUN کیمپ//NOUN منعقد//VERB کیا//AUX جائےگا//AUX ۔//PUNCT\n",
      "--------------------------------------------------------------------------------\n",
      "label:     مولانا//NOUN UNK//PROPN ناظم//NOUN ادارہ//PROPN اشرف//PROPN UNK//PROPN نے//ADP عورتوں//NOUN کو//ADP پردہ//NOUN کی//ADP پابندی//NOUN کرنے//VERB کی//ADP تلقین//NOUN کی//VERB ۔//PUNCT\n",
      "predicted: مولانا//NOUN UNK//NOUN ناظم//NOUN ادارہ//ADP اشرف//ADP UNK//ADP نے//NOUN عورتوں//NOUN کو//NOUN پردہ//NOUN کی//ADP پابندی//ADP کرنے//ADP کی//NOUN تلقین//NOUN کی//VERB ۔//PUNCT\n",
      "--------------------------------------------------------------------------------\n",
      "label:     سے//ADP اظہار//NOUN ہمدردی//NOUN کیا//VERB اور//CCONJ کہا//VERB کہ//SCONJ انہیں//PRON جو//PRON کچھ//DET بھی//PART مشکلات//NOUN ہےں//AUX وہ//PRON دور//ADJ کر//VERB دیے//AUX جائیں_گے//AUX آپ//PRON اپنا//PRON معاملہ//NOUN جسٹس//NOUN ایس//PROPN سی//PROPN دھرم//PROPN ادھیکاری//ADJ کمیٹی//NOUN سے//ADP رجوع//NOUN کریں//VERB ۔//PUNCT\n",
      "predicted: سے//PAD اظہار//PAD ہمدردی//NOUN کیا//NOUN اور//NOUN کہا//NOUN کہ//NOUN انہیں//NOUN جو//NOUN کچھ//NOUN بھی//NOUN مشکلات//NOUN ہےں//NOUN وہ//NOUN دور//NOUN کر//NOUN دیے//NOUN جائیں_گے//NOUN آپ//NOUN اپنا//NOUN معاملہ//NOUN جسٹس//NOUN ایس//NOUN سی//NOUN دھرم//NOUN ادھیکاری//NOUN کمیٹی//NOUN سے//NOUN رجوع//NOUN کریں//VERB ۔//PUNCT\n",
      "--------------------------------------------------------------------------------\n",
      "label:     سنٹرل//PROPN جے//PROPN اے//PROPN سی//PROPN کی//ADP جانب//ADP سے//ADP نئی//PROPN دہلی//PROPN مےں//ADP اُن//PRON تمام//DET علیحدہ//ADJ تنظیموں//NOUN کو//ADP متحد//ADJ کر//VERB کے//AUX اےک//NUM جے//PROPN اے//PROPN سی//PROPN کا//ADP قیام//NOUN بھی//PART عمل//NOUN مےں//ADP لایا//VERB گیا//AUX ہے//VERB ۔//PUNCT\n",
      "predicted: سنٹرل//NOUN جے//NOUN اے//ADP سی//ADP کی//ADP جانب//ADP سے//ADP نئی//ADP دہلی//ADP مےں//ADP اُن//ADP تمام//ADP علیحدہ//ADP تنظیموں//ADP کو//ADP متحد//ADP کر//ADP کے//ADP اےک//ADP جے//ADP اے//ADP سی//ADP کا//ADP قیام//ADP بھی//ADP عمل//ADP مےں//NOUN لایا//VERB گیا//AUX ہے//AUX ۔//PUNCT\n",
      "--------------------------------------------------------------------------------\n",
      "label:     یہ//DET UNK//NOUN UNK//NOUN کی//ADP جانب//ADP سے//ADP حق//NOUN رائےدہی//NOUN سے//ADP استفادہ//NOUN کے//ADP بعد//ADP بطور//ADP نشان//NOUN استعمال//NOUN کی//VERB جاتی//AUX ہے//AUX ۔//PUNCT\n",
      "predicted: یہ//PAD UNK//NOUN UNK//ADP کی//ADP جانب//ADP سے//ADP حق//ADP رائےدہی//ADP سے//ADP استفادہ//ADP کے//ADP بعد//ADP بطور//ADP نشان//NOUN استعمال//NOUN کی//VERB جاتی//AUX ہے//AUX ۔//PUNCT\n",
      "--------------------------------------------------------------------------------\n",
      "Epoch 1/20\n",
      "63/63 [==============================] - 29s - loss: 1.3615 - acc: 0.5287 - val_loss: 1.5598 - val_acc: 0.4683\n",
      "Epoch 2/20\n",
      "63/63 [==============================] - 28s - loss: 1.3416 - acc: 0.5334 - val_loss: 1.3690 - val_acc: 0.5215\n",
      "Epoch 3/20\n",
      "63/63 [==============================] - 29s - loss: 1.2930 - acc: 0.5513 - val_loss: 1.3503 - val_acc: 0.5243\n",
      "Epoch 4/20\n",
      "63/63 [==============================] - 29s - loss: 1.2852 - acc: 0.5541 - val_loss: 1.4880 - val_acc: 0.4742\n",
      "Epoch 5/20\n",
      "63/63 [==============================] - 30s - loss: 1.2992 - acc: 0.5434 - val_loss: 1.3867 - val_acc: 0.5134\n",
      "Epoch 6/20\n",
      "63/63 [==============================] - 30s - loss: 1.2973 - acc: 0.5478 - val_loss: 1.4730 - val_acc: 0.4794\n",
      "Epoch 7/20\n",
      "63/63 [==============================] - 31s - loss: 1.3869 - acc: 0.5170 - val_loss: 1.3935 - val_acc: 0.5071\n",
      "Epoch 8/20\n",
      "63/63 [==============================] - 29s - loss: 1.2701 - acc: 0.5585 - val_loss: 1.3565 - val_acc: 0.5273\n",
      "Epoch 9/20\n",
      "63/63 [==============================] - 30s - loss: 1.2478 - acc: 0.5657 - val_loss: 1.3447 - val_acc: 0.5267\n",
      "Epoch 10/20\n",
      "63/63 [==============================] - 30s - loss: 1.2500 - acc: 0.5630 - val_loss: 1.3541 - val_acc: 0.5282\n",
      "Epoch 11/20\n",
      "63/63 [==============================] - 31s - loss: 1.2656 - acc: 0.5540 - val_loss: 1.3452 - val_acc: 0.5284\n",
      "Epoch 12/20\n",
      "63/63 [==============================] - 28s - loss: 1.2421 - acc: 0.5626 - val_loss: 1.3821 - val_acc: 0.5159\n",
      "Epoch 13/20\n",
      "63/63 [==============================] - 29s - loss: 1.2369 - acc: 0.5638 - val_loss: 1.3608 - val_acc: 0.5228\n",
      "Epoch 14/20\n",
      "63/63 [==============================] - 26s - loss: 1.2198 - acc: 0.5715 - val_loss: 1.3624 - val_acc: 0.5200\n",
      "Epoch 15/20\n",
      "63/63 [==============================] - 28s - loss: 1.2154 - acc: 0.5707 - val_loss: 1.4277 - val_acc: 0.4997\n",
      "Epoch 16/20\n",
      "63/63 [==============================] - 25s - loss: 1.2903 - acc: 0.5427 - val_loss: 1.4120 - val_acc: 0.5028\n",
      "Epoch 17/20\n",
      "63/63 [==============================] - 26s - loss: 1.2155 - acc: 0.5712 - val_loss: 1.3797 - val_acc: 0.5167\n",
      "Epoch 18/20\n",
      "63/63 [==============================] - 26s - loss: 1.1873 - acc: 0.5822 - val_loss: 1.3473 - val_acc: 0.5248\n",
      "Epoch 19/20\n",
      "63/63 [==============================] - 26s - loss: 1.1829 - acc: 0.5823 - val_loss: 1.3184 - val_acc: 0.5391\n",
      "Epoch 20/20\n",
      "63/63 [==============================] - 26s - loss: 1.2229 - acc: 0.5645 - val_loss: 1.3735 - val_acc: 0.5202\n",
      "================================================================================\n",
      "Iteration # 2\n",
      "--------------------------------------------------------------------------------\n",
      "label:     انہوں//PRON نے//ADP سات//NUM UNK//NOUN لگائے//VERB ۔//PUNCT\n",
      "predicted: انہوں//PRON نے//NOUN سات//NOUN UNK//NOUN لگائے//AUX ۔//PUNCT\n",
      "--------------------------------------------------------------------------------\n",
      "label:     سلمان//PROPN خورشید//PROPN نے//ADP کہا//VERB کہ//SCONJ مسلمانوں//NOUN کی//ADP بہتری//NOUN کے//ADP لئے//ADP اپنی//PRON رائے//NOUN ظاہر//ADJ کرنا//VERB یا//CCONJ آواز//NOUN اٹھانا//VERB ہر//DET مسلم//PROPN لیڈر//NOUN کا//ADP فرض//NOUN ہے//VERB ۔//PUNCT\n",
      "predicted: سلمان//PROPN خورشید//ADP نے//ADP کہا//ADP کہ//ADP مسلمانوں//ADP کی//ADP بہتری//NOUN کے//NOUN لئے//NOUN اپنی//NOUN رائے//NOUN ظاہر//NOUN کرنا//NOUN یا//NOUN آواز//NOUN اٹھانا//NOUN ہر//ADP مسلم//ADP لیڈر//ADP کا//ADP فرض//NOUN ہے//VERB ۔//PUNCT\n",
      "--------------------------------------------------------------------------------\n",
      "label:     سیٹ//NOUN مےں//ADP انہیں//PRON شکست//NOUN ہو//VERB گئی//AUX تھی//AUX تاہم//CCONJ دوسرے//ADJ اور//CCONJ تیسرے//ADJ سیٹ//NOUN مےں//ADP انہوں//PRON نے//ADP حریف//ADJ کھلاڑی//NOUN کو//ADP UNK//VERB کا//ADP موقع//NOUN دئے//VERB بغیر//PART بہترین//ADJ مظاہرہ//NOUN کیا//VERB اور//CCONJ خطاب//NOUN جیت//VERB لیا//AUX ۔//PUNCT\n",
      "predicted: سیٹ//PROPN مےں//PROPN انہیں//PROPN شکست//ADP ہو//ADP گئی//ADP تھی//ADP تاہم//NOUN دوسرے//NOUN اور//NOUN تیسرے//NOUN سیٹ//NOUN مےں//NOUN انہوں//NOUN نے//NOUN حریف//NOUN کھلاڑی//NOUN کو//NOUN UNK//NOUN کا//NOUN موقع//NOUN دئے//NOUN بغیر//NOUN بہترین//NOUN مظاہرہ//ADP کیا//ADP اور//ADJ خطاب//ADJ جیت//ADJ لیا//VERB ۔//PUNCT\n",
      "--------------------------------------------------------------------------------\n",
      "label:     پرنسپل//NOUN نے//ADP اس//DET بات//NOUN پر//ADP UNK//NOUN کا//ADP اظہار//NOUN کیا//VERB کہ//SCONJ ہر//DET مضمون//NOUN مےں//ADP کامیابی//NOUN کا//ADP UNK//NOUN UNK//NUM فیصد//NOUN سے//ADP زائد//ADJ ہے//AUX ۔//PUNCT\n",
      "predicted: پرنسپل//PRON نے//ADP اس//ADP بات//ADP پر//NOUN UNK//NOUN کا//NOUN اظہار//NOUN کیا//NOUN کہ//NOUN ہر//NOUN مضمون//NOUN مےں//NOUN کامیابی//NOUN کا//NOUN UNK//NOUN UNK//ADP فیصد//NOUN سے//NOUN زائد//VERB ہے//AUX ۔//PUNCT\n",
      "--------------------------------------------------------------------------------\n",
      "label:     بعض//DET UNK//ADJ عناصر//NOUN کی//ADP اشتعال_انگیزی//NOUN کے//ADP باعث//ADP یہ//DET فساد//NOUN بھڑک//ADJ اٹھا//VERB تھا//AUX ۔//PUNCT\n",
      "predicted: بعض//PAD UNK//NOUN عناصر//NOUN کی//NOUN اشتعال_انگیزی//NOUN کے//NOUN باعث//NOUN یہ//NOUN فساد//NOUN بھڑک//NOUN اٹھا//VERB تھا//AUX ۔//PUNCT\n",
      "--------------------------------------------------------------------------------\n",
      "Epoch 1/20\n"
     ]
    },
    {
     "name": "stdout",
     "output_type": "stream",
     "text": [
      "63/63 [==============================] - 26s - loss: 1.1742 - acc: 0.5845 - val_loss: 1.3653 - val_acc: 0.5243\n",
      "Epoch 2/20\n",
      "63/63 [==============================] - 25s - loss: 1.1622 - acc: 0.5876 - val_loss: 1.3410 - val_acc: 0.5294\n",
      "Epoch 3/20\n",
      "63/63 [==============================] - 25s - loss: 1.1497 - acc: 0.5918 - val_loss: 1.3655 - val_acc: 0.5257\n",
      "Epoch 4/20\n",
      "63/63 [==============================] - 26s - loss: 1.1532 - acc: 0.5891 - val_loss: 1.3809 - val_acc: 0.5251\n",
      "Epoch 5/20\n",
      "63/63 [==============================] - 25s - loss: 1.1590 - acc: 0.5862 - val_loss: 1.4297 - val_acc: 0.5026\n",
      "Epoch 6/20\n",
      "63/63 [==============================] - 25s - loss: 1.1692 - acc: 0.5803 - val_loss: 1.3733 - val_acc: 0.5263\n",
      "Epoch 7/20\n",
      "63/63 [==============================] - 26s - loss: 1.1515 - acc: 0.5875 - val_loss: 1.3695 - val_acc: 0.5253\n",
      "Epoch 8/20\n",
      "63/63 [==============================] - 26s - loss: 1.1306 - acc: 0.5944 - val_loss: 1.3860 - val_acc: 0.5192\n",
      "Epoch 9/20\n",
      "63/63 [==============================] - 27s - loss: 1.1224 - acc: 0.5968 - val_loss: 1.3972 - val_acc: 0.5137\n",
      "Epoch 10/20\n",
      "63/63 [==============================] - 27s - loss: 1.1242 - acc: 0.5949 - val_loss: 1.3580 - val_acc: 0.5331\n",
      "Epoch 11/20\n",
      "63/63 [==============================] - 28s - loss: 1.1761 - acc: 0.5769 - val_loss: 1.4046 - val_acc: 0.5164\n",
      "Epoch 12/20\n",
      "63/63 [==============================] - 27s - loss: 1.1097 - acc: 0.5992 - val_loss: 1.3916 - val_acc: 0.5186\n",
      "Epoch 13/20\n",
      "63/63 [==============================] - 27s - loss: 1.0931 - acc: 0.6064 - val_loss: 1.3961 - val_acc: 0.5218\n",
      "Epoch 14/20\n",
      "63/63 [==============================] - 26s - loss: 1.0808 - acc: 0.6096 - val_loss: 1.4173 - val_acc: 0.5202\n",
      "Epoch 15/20\n",
      "63/63 [==============================] - 25s - loss: 1.1037 - acc: 0.6001 - val_loss: 1.4780 - val_acc: 0.5033\n",
      "Epoch 16/20\n",
      "63/63 [==============================] - 24s - loss: 1.0815 - acc: 0.6075 - val_loss: 1.4175 - val_acc: 0.5192\n",
      "Epoch 17/20\n",
      "63/63 [==============================] - 25s - loss: 1.1184 - acc: 0.5990 - val_loss: 1.4382 - val_acc: 0.5127\n",
      "Epoch 18/20\n",
      "63/63 [==============================] - 24s - loss: 1.1592 - acc: 0.5803 - val_loss: 1.4139 - val_acc: 0.5229\n",
      "Epoch 19/20\n",
      "63/63 [==============================] - 24s - loss: 1.0667 - acc: 0.6140 - val_loss: 1.4020 - val_acc: 0.5210\n",
      "Epoch 20/20\n",
      "63/63 [==============================] - 23s - loss: 1.0626 - acc: 0.6145 - val_loss: 1.4285 - val_acc: 0.5170\n",
      "================================================================================\n",
      "Iteration # 3\n",
      "--------------------------------------------------------------------------------\n",
      "label:     ان//PRON کا//ADP کہنا//VERB ہے//VERB کہ//SCONJ انہیں//PRON امید//NOUN ہے//VERB کہ//SCONJ جب//PRON UNK//PROPN تلک//PROPN رتنے//PROPN میچ//NOUN فکسنگ//NOUN کے//ADP تعلق//ADP سے//ADP پردے//NOUN فاش//ADJ کریں_گے//VERB تو//SCONJ مزید//ADV بڑے//ADJ کھلاڑیوں//NOUN کے//ADP نام//NOUN سامنے//ADV آئیں_گے//VERB ۔//PUNCT\n",
      "predicted: ان//NOUN کا//NOUN کہنا//ADP ہے//ADP کہ//ADP انہیں//ADP امید//NOUN ہے//NOUN کہ//NOUN جب//NOUN UNK//NOUN تلک//NOUN رتنے//NOUN میچ//NOUN فکسنگ//NOUN کے//NOUN تعلق//AUX سے//AUX پردے//PROPN فاش//PROPN کریں_گے//PROPN تو//PROPN مزید//PROPN بڑے//PROPN کھلاڑیوں//ADP کے//ADP نام//NOUN سامنے//ADJ آئیں_گے//VERB ۔//PUNCT\n",
      "--------------------------------------------------------------------------------\n",
      "label:     اسے//PRON 17//NUM UNK//NOUN سے//ADP شکست//NOUN ہو//VERB گئی//AUX ۔//PUNCT\n",
      "predicted: اسے//NOUN 17//NOUN UNK//ADP سے//NOUN شکست//NOUN ہو//VERB گئی//AUX ۔//PUNCT\n",
      "--------------------------------------------------------------------------------\n",
      "label:     یہاں//PRON پر//ADP کسانوں//NOUN کو//ADP ہر//DET طرح//NOUN کی//ADP ترقی//NOUN دینے//VERB کے//ADP لئے//ADP مدد//NOUN کی//VERB جائےگی//AUX ۔//PUNCT\n",
      "predicted: یہاں//PRON پر//NOUN کسانوں//ADP کو//ADP ہر//ADP طرح//ADP کی//ADP ترقی//ADP دینے//ADP کے//ADP لئے//NOUN مدد//NOUN کی//VERB جائےگی//AUX ۔//PUNCT\n",
      "--------------------------------------------------------------------------------\n",
      "label:     کے//ADP بعد//ADP مسلم//PROPN قائدین//NOUN نے//ADP کوئی//PRON لب_کشائی//NOUN نہیں//PART کی//VERB تھی//AUX ,//PUNCT کیونکہ//SCONJ انہیں//PRON ڈر//NOUN تھا//AUX کہ//SCONJ اگر//SCONJ وہ//PRON کچھ//PRON کہیں//VERB تو//SCONJ صدر//NOUN کانگریس//PROPN سونیا//PROPN گاندھی//PROPN سے//ADP پھٹکار//NOUN پڑ//VERB سکتی//AUX ہے//AUX ۔//PUNCT\n",
      "predicted: کے//ADP بعد//NOUN مسلم//NOUN قائدین//NOUN نے//NOUN کوئی//NOUN لب_کشائی//NOUN نہیں//NOUN کی//NOUN تھی//NOUN ,//ADP کیونکہ//ADP انہیں//ADP ڈر//ADP تھا//NOUN کہ//NOUN اگر//NOUN وہ//NOUN کچھ//NOUN کہیں//AUX تو//AUX صدر//PROPN کانگریس//PROPN سونیا//PROPN گاندھی//PROPN سے//ADP پھٹکار//NOUN پڑ//VERB سکتی//AUX ہے//AUX ۔//PUNCT\n",
      "--------------------------------------------------------------------------------\n",
      "label:     حقیقی//ADJ مسلمان//NOUN ،//PUNCT مجاہد//ADJ وہ//PRON ہے//AUX جو//PRON اپنے//PRON نفس//NOUN پر//ADP کنٹرول//NOUN و//CCONJ قابو//NOUN رکھا//VERB ۔//PUNCT\n",
      "predicted: حقیقی//NOUN مسلمان//NOUN ،//NOUN مجاہد//NOUN وہ//PRON ہے//PRON جو//PRON اپنے//PRON نفس//PRON پر//NOUN کنٹرول//NOUN و//NOUN قابو//NOUN رکھا//VERB ۔//PUNCT\n",
      "--------------------------------------------------------------------------------\n"
     ]
    }
   ],
   "source": [
    "hist_acc_gru, hist_val_acc_gru, hist_loss_gru, hist_val_loss_gru = [], [], [], []\n",
    "\n",
    "for i in range(NUM_ITERATIONS):    \n",
    "    history = GRU_POS_TAGGER.fit_generator(train_gen, \n",
    "                                  steps_per_epoch=num_train_samples, \n",
    "                                  epochs=NUM_EPOCHS,\n",
    "                                  validation_data=test_gen, \n",
    "                                  validation_steps=num_test_samples)\n",
    "    # save off history data\n",
    "    hist_acc_gru.extend(history.history[\"acc\"])\n",
    "    hist_val_acc_gru.extend(history.history[\"val_acc\"])\n",
    "    hist_loss_gru.extend(history.history[\"loss\"])\n",
    "    hist_val_loss_gru.extend(history.history[\"val_loss\"])\n",
    "    \n",
    "    # Проиллюстрируем некоторые примеры разметки\n",
    "    \n",
    "    Xtest, Ytest = next(test_gen)\n",
    "    Ytest_ = GRU_POS_TAGGER.predict(Xtest)\n",
    "    ytest = np.argmax(Ytest, axis=2)\n",
    "    ytest_ = np.argmax(Ytest_, axis=2)\n",
    "    \n",
    "    print(\"=\" * 80)\n",
    "    print(\"Iteration # {:d}\".format(i + 1))\n",
    "    print(\"-\" * 80)\n",
    "    for i in range(min(5, Ytest.shape[0])):\n",
    "        sent_ids = Xtest[i]\n",
    "        sent_words = [s_index2word[x] for x in sent_ids.tolist()]\n",
    "        pos_labels = [t_index2word[x] for x in ytest[i].tolist()]\n",
    "        pos_preds = [t_index2word[x] for x in ytest_[i].tolist()]\n",
    "        triples = [x for x in zip(sent_words, pos_labels, pos_preds)\n",
    "            if x[0] != \"PAD\"]\n",
    "        print(\"label:     \" + \" \".join([x[0] +\"//\"+x[1].upper() \n",
    "            for x in triples]))\n",
    "        print(\"predicted: \" + \" \".join([x[0] +\"//\"+x[2].upper() \n",
    "            for x in triples]))\n",
    "        print(\"-\" * 80)"
   ]
  },
  {
   "cell_type": "code",
   "execution_count": 24,
   "metadata": {},
   "outputs": [
    {
     "data": {
      "image/png": "[encoded data removed]",
      "text/plain": [
       "<matplotlib.figure.Figure at 0x7fad6dcc50>"
      ]
     },
     "metadata": {},
     "output_type": "display_data"
    }
   ],
   "source": [
    "# plot loss and accuracy\n",
    "plt.subplot(211)\n",
    "plt.title(\"Accuracy GRU\")\n",
    "plt.plot(hist_acc_gru, color=\"r\", label=\"Train\")\n",
    "plt.plot(hist_val_acc_gru, color=\"b\", label=\"Validation\")\n",
    "plt.legend(loc=\"best\")\n",
    "\n",
    "plt.subplot(212)\n",
    "plt.title(\"Loss GRU\")\n",
    "plt.plot(hist_loss_gru, color=\"r\", label=\"Train\")\n",
    "plt.plot(hist_val_loss_gru, color=\"b\", label=\"Validation\")\n",
    "plt.legend(loc=\"best\")\n",
    "\n",
    "plt.tight_layout()\n",
    "plt.show()"
   ]
  },
  {
   "cell_type": "markdown",
   "metadata": {},
   "source": [
    "## BIDIRECTIONAL"
   ]
  },
  {
   "cell_type": "code",
   "execution_count": 25,
   "metadata": {},
   "outputs": [
    {
     "name": "stderr",
     "output_type": "stream",
     "text": [
      "C:\\ProgramData\\Anaconda3\\lib\\site-packages\\ipykernel_launcher.py:8: UserWarning: Update your `LSTM` call to the Keras 2 API: `LSTM(100, dropout=0.2, recurrent_dropout=0.2)`\n",
      "  \n"
     ]
    },
    {
     "name": "stdout",
     "output_type": "stream",
     "text": [
      "_________________________________________________________________\n",
      "Layer (type)                 Output Shape              Param #   \n",
      "=================================================================\n",
      "embedding_4 (Embedding)      (None, 31, 300)           2864700   \n",
      "_________________________________________________________________\n",
      "bidirectional_1 (Bidirection (None, 200)               320800    \n",
      "_________________________________________________________________\n",
      "repeat_vector_3 (RepeatVecto (None, 31, 200)           0         \n",
      "_________________________________________________________________\n",
      "bidirectional_2 (Bidirection (None, 31, 200)           240800    \n",
      "_________________________________________________________________\n",
      "time_distributed_3 (TimeDist (None, 31, 17)            3417      \n",
      "_________________________________________________________________\n",
      "activation_3 (Activation)    (None, 31, 17)            0         \n",
      "=================================================================\n",
      "Total params: 3,429,717\n",
      "Trainable params: 3,429,717\n",
      "Non-trainable params: 0\n",
      "_________________________________________________________________\n"
     ]
    }
   ],
   "source": [
    "from keras.layers.wrappers import TimeDistributed, Bidirectional\n",
    "def build_pos_tagger_Bidirectional():\n",
    "    model = Sequential()\n",
    "    model.add(Embedding(s_vocabsize, EMBED_SIZE,\n",
    "                    input_length=MAX_SEQLEN,\n",
    "                    embeddings_initializer=\"glorot_uniform\"))\n",
    "    \n",
    "    model.add(Bidirectional(LSTM(HIDDEN_SIZE, dropout_W=0.2, dropout_U=0.2)))\n",
    "    model.add(RepeatVector(MAX_SEQLEN))\n",
    "    \n",
    "    model.add(Bidirectional(LSTM(HIDDEN_SIZE, return_sequences=True)))\n",
    "    model.add(TimeDistributed(Dense(t_vocabsize)))\n",
    "    model.add(Activation(\"softmax\"))\n",
    "    model.compile(loss=\"categorical_crossentropy\", optimizer=\"adam\",\n",
    "              metrics=[\"accuracy\"])\n",
    "    return model\n",
    "\n",
    "BI_POS_TAGGER = build_pos_tagger_Bidirectional()\n",
    "BI_POS_TAGGER.summary()"
   ]
  },
  {
   "cell_type": "code",
   "execution_count": 26,
   "metadata": {},
   "outputs": [
    {
     "name": "stdout",
     "output_type": "stream",
     "text": [
      "Epoch 1/20\n",
      "63/63 [==============================] - 80s - loss: 1.9077 - acc: 0.3915 - val_loss: 1.6238 - val_acc: 0.4619\n",
      "Epoch 2/20\n",
      "63/63 [==============================] - 60s - loss: 1.5787 - acc: 0.4667 - val_loss: 1.5361 - val_acc: 0.4689\n",
      "Epoch 3/20\n",
      "63/63 [==============================] - 60s - loss: 1.4906 - acc: 0.4870 - val_loss: 1.4653 - val_acc: 0.4865\n",
      "Epoch 4/20\n",
      "63/63 [==============================] - 62s - loss: 1.4364 - acc: 0.5026 - val_loss: 1.4053 - val_acc: 0.4976\n",
      "Epoch 5/20\n",
      "63/63 [==============================] - 60s - loss: 1.3902 - acc: 0.5195 - val_loss: 1.3714 - val_acc: 0.5233\n",
      "Epoch 6/20\n",
      "63/63 [==============================] - 62s - loss: 1.3539 - acc: 0.5334 - val_loss: 1.3288 - val_acc: 0.5279\n",
      "Epoch 7/20\n",
      "63/63 [==============================] - 62s - loss: 1.3295 - acc: 0.5395 - val_loss: 1.3221 - val_acc: 0.5358\n",
      "Epoch 8/20\n",
      "63/63 [==============================] - 61s - loss: 1.3021 - acc: 0.5468 - val_loss: 1.2987 - val_acc: 0.5392\n",
      "Epoch 9/20\n",
      "63/63 [==============================] - 60s - loss: 1.2777 - acc: 0.5519 - val_loss: 1.2903 - val_acc: 0.5425\n",
      "Epoch 10/20\n",
      "63/63 [==============================] - 61s - loss: 1.2569 - acc: 0.5567 - val_loss: 1.2501 - val_acc: 0.5522\n",
      "Epoch 11/20\n",
      "63/63 [==============================] - 61s - loss: 1.2289 - acc: 0.5657 - val_loss: 1.2355 - val_acc: 0.5593\n",
      "Epoch 12/20\n",
      "63/63 [==============================] - 63s - loss: 1.2129 - acc: 0.5686 - val_loss: 1.2617 - val_acc: 0.5425\n",
      "Epoch 13/20\n",
      "63/63 [==============================] - 64s - loss: 1.1835 - acc: 0.5783 - val_loss: 1.2233 - val_acc: 0.5557\n",
      "Epoch 14/20\n",
      "63/63 [==============================] - 64s - loss: 1.1636 - acc: 0.5836 - val_loss: 1.2056 - val_acc: 0.5626\n",
      "Epoch 15/20\n",
      "63/63 [==============================] - 64s - loss: 1.1403 - acc: 0.5897 - val_loss: 1.2176 - val_acc: 0.5572\n",
      "Epoch 16/20\n",
      "63/63 [==============================] - 64s - loss: 1.1171 - acc: 0.5962 - val_loss: 1.2155 - val_acc: 0.5562\n",
      "Epoch 17/20\n",
      "63/63 [==============================] - 69s - loss: 1.1042 - acc: 0.5982 - val_loss: 1.2034 - val_acc: 0.5632\n",
      "Epoch 18/20\n",
      "63/63 [==============================] - 64s - loss: 1.0819 - acc: 0.6046 - val_loss: 1.1597 - val_acc: 0.5777\n",
      "Epoch 19/20\n",
      "63/63 [==============================] - 63s - loss: 1.0570 - acc: 0.6123 - val_loss: 1.1767 - val_acc: 0.5685\n",
      "Epoch 20/20\n",
      "63/63 [==============================] - 65s - loss: 1.0494 - acc: 0.6153 - val_loss: 1.1782 - val_acc: 0.5710\n",
      "================================================================================\n",
      "Iteration # 1\n",
      "--------------------------------------------------------------------------------\n",
      "label:     پروگرام//NOUN خصوصی//ADJ UNK//ADJ نتائج//NOUN کا//ADP تجزیہ//NOUN UNK//ADJ UNK//NOUN اساتذہ//NOUN اور//CCONJ UNK//ADJ عملہ//NOUN کی//ADP خصوصی//ADJ مہم//NOUN کا//ADP نتیجہ//NOUN قرار//ADJ دیا//VERB ہے//AUX ،//PUNCT جس//PRON مےں//ADP طلبہ//NOUN پر//ADP انفرادی//ADJ توجہ//NOUN دی//VERB گئی//AUX ہے//AUX ۔//PUNCT\n",
      "predicted: پروگرام//ADP خصوصی//ADP UNK//ADP نتائج//ADP کا//ADP تجزیہ//PROPN UNK//PROPN UNK//PROPN اساتذہ//PROPN اور//ADP UNK//ADP عملہ//ADP کی//ADP خصوصی//ADP مہم//ADP کا//ADP نتیجہ//NOUN قرار//VERB دیا//AUX ہے//AUX ،//CCONJ جس//NOUN مےں//NOUN طلبہ//NOUN پر//NOUN انفرادی//ADP توجہ//NOUN دی//VERB گئی//AUX ہے//AUX ۔//PUNCT\n",
      "--------------------------------------------------------------------------------\n",
      "label:     انگریزی//PROPN مےں//ADP کامیابی//NOUN کا//ADP UNK//NOUN 86//NUM فیصد//NOUN رہا//VERB ۔//PUNCT\n",
      "predicted: انگریزی//PROPN مےں//PROPN کامیابی//PROPN کا//PROPN UNK//PROPN 86//ADP فیصد//NOUN رہا//VERB ۔//PUNCT\n",
      "--------------------------------------------------------------------------------\n",
      "label:     اس//DET موقع//NOUN پر//ADP ایس//NOUN ڈی//NOUN سی//NOUN مسٹر//PART شیخ//PROPN چاند//PROPN کے//ADP علاوہ//ADP مسٹر//PART UNK//PROPN ،//PUNCT سی//PROPN او//PROPN بھی//PART موجود//ADJ تھے//AUX ۔//PUNCT\n",
      "predicted: اس//PAD موقع//NOUN پر//ADP ایس//PROPN ڈی//PROPN سی//PROPN مسٹر//PROPN شیخ//PROPN چاند//PROPN کے//PROPN علاوہ//PROPN مسٹر//PROPN UNK//PROPN ،//PROPN سی//PROPN او//NOUN بھی//PART موجود//PART تھے//VERB ۔//PUNCT\n",
      "--------------------------------------------------------------------------------\n",
      "label:     ذیشان//PROPN اشرف//PROPN نے//ADP خود//PRON ہی//PART پہلے//ADV واضح//ADJ کر//VERB دیا//AUX تھا//AUX کہ//SCONJ وہ//PRON UNK//PROPN شاہ//PROPN ہاکی//PROPN کپ//NOUN کے//ADP لئے//ADP دستیاب//ADJ نہیں//PART رہیں_گے//VERB ۔//PUNCT\n",
      "predicted: ذیشان//PROPN اشرف//PROPN نے//PROPN خود//PROPN ہی//PROPN پہلے//ADP واضح//NOUN کر//VERB دیا//AUX تھا//AUX کہ//SCONJ وہ//PRON UNK//PROPN شاہ//PROPN ہاکی//PROPN کپ//ADP کے//ADP لئے//ADP دستیاب//ADP نہیں//PART رہیں_گے//VERB ۔//PUNCT\n",
      "--------------------------------------------------------------------------------\n",
      "label:     اوباما//PROPN کی//ADP اندرون//ADP ملک//NOUN پالیسی//NOUN مسائل//NOUN کا//ADP شکار//NOUN ہے//AUX تو//SCONJ ان//PRON کی//ADP خارجہ//ADJ پالیسی//NOUN بھی//PART تین//NUM طرح//NOUN سے//ADP متاثر//ADJ نظر//NOUN آ//VERB رہی//AUX ہے//AUX ۔//PUNCT\n",
      "predicted: اوباما//PROPN کی//PROPN اندرون//ADP ملک//ADP پالیسی//ADP مسائل//NOUN کا//NOUN شکار//VERB ہے//AUX تو//AUX ان//NOUN کی//NOUN خارجہ//NOUN پالیسی//NOUN بھی//NOUN تین//NOUN طرح//NOUN سے//NOUN متاثر//ADP نظر//NOUN آ//VERB رہی//AUX ہے//AUX ۔//PUNCT\n",
      "--------------------------------------------------------------------------------\n",
      "Epoch 1/20\n",
      "63/63 [==============================] - 65s - loss: 1.0258 - acc: 0.6210 - val_loss: 1.1734 - val_acc: 0.5733\n",
      "Epoch 2/20\n",
      "63/63 [==============================] - 65s - loss: 1.0119 - acc: 0.6255 - val_loss: 1.1601 - val_acc: 0.5764\n",
      "Epoch 3/20\n",
      "63/63 [==============================] - 66s - loss: 0.9975 - acc: 0.6291 - val_loss: 1.1763 - val_acc: 0.5759\n",
      "Epoch 4/20\n",
      "63/63 [==============================] - 66s - loss: 0.9814 - acc: 0.6331 - val_loss: 1.1641 - val_acc: 0.5757\n",
      "Epoch 5/20\n",
      "63/63 [==============================] - 66s - loss: 0.9624 - acc: 0.6386 - val_loss: 1.1848 - val_acc: 0.5694\n",
      "Epoch 6/20\n",
      "63/63 [==============================] - 66s - loss: 0.9498 - acc: 0.6424 - val_loss: 1.1636 - val_acc: 0.5731\n",
      "Epoch 7/20\n",
      "63/63 [==============================] - 67s - loss: 0.9431 - acc: 0.6439 - val_loss: 1.1319 - val_acc: 0.5867\n",
      "Epoch 8/20\n",
      "63/63 [==============================] - 68s - loss: 0.9272 - acc: 0.6491 - val_loss: 1.1545 - val_acc: 0.5779\n",
      "Epoch 9/20\n",
      "63/63 [==============================] - 67s - loss: 0.9001 - acc: 0.6587 - val_loss: 1.1370 - val_acc: 0.5889\n",
      "Epoch 10/20\n",
      "63/63 [==============================] - 68s - loss: 0.9048 - acc: 0.6551 - val_loss: 1.1547 - val_acc: 0.5833\n",
      "Epoch 11/20\n",
      "63/63 [==============================] - 65s - loss: 0.8968 - acc: 0.6582 - val_loss: 1.1603 - val_acc: 0.5832\n",
      "Epoch 12/20\n",
      "63/63 [==============================] - 67s - loss: 0.8822 - acc: 0.6631 - val_loss: 1.1603 - val_acc: 0.5835\n",
      "Epoch 13/20\n",
      "63/63 [==============================] - 68s - loss: 0.8530 - acc: 0.6738 - val_loss: 1.1575 - val_acc: 0.5876\n",
      "Epoch 14/20\n",
      "63/63 [==============================] - 68s - loss: 0.8563 - acc: 0.6719 - val_loss: 1.1249 - val_acc: 0.5938\n",
      "Epoch 15/20\n",
      "63/63 [==============================] - 68s - loss: 0.8408 - acc: 0.6762 - val_loss: 1.1492 - val_acc: 0.5886\n",
      "Epoch 16/20\n",
      "63/63 [==============================] - 66s - loss: 0.8285 - acc: 0.6812 - val_loss: 1.1673 - val_acc: 0.5896\n",
      "Epoch 17/20\n",
      "63/63 [==============================] - 67s - loss: 0.8326 - acc: 0.6801 - val_loss: 1.1740 - val_acc: 0.5837\n",
      "Epoch 18/20\n",
      "63/63 [==============================] - 68s - loss: 0.8094 - acc: 0.6890 - val_loss: 1.1836 - val_acc: 0.5825\n",
      "Epoch 19/20\n",
      "63/63 [==============================] - 69s - loss: 0.8058 - acc: 0.6886 - val_loss: 1.1887 - val_acc: 0.5887\n",
      "Epoch 20/20\n",
      "63/63 [==============================] - 69s - loss: 0.8004 - acc: 0.6909 - val_loss: 1.1807 - val_acc: 0.5880\n",
      "================================================================================\n",
      "Iteration # 2\n",
      "--------------------------------------------------------------------------------\n",
      "label:     جنوری//PROPN 2008//PROPN ء//NOUN مےں//ADP مکہ//PROPN مسجد//PROPN کے//ADP باب//NOUN UNK//NOUN پر//ADP مستقل//ADJ UNK//NOUN UNK//NOUN کی//ADP تنصیب//NOUN کے//ADP علاوہ//ADP کیمروں//NOUN کی//ADP تنصیب//NOUN اور//CCONJ 25//NUM ہوم//NOUN گارڈس//NOUN کی//ADP تعیناتی//NOUN کے//ADP احکام//NOUN جاری//ADJ کئے//VERB ۔//PUNCT\n",
      "predicted: جنوری//PROPN 2008//PROPN ء//PROPN مےں//PROPN مکہ//PROPN مسجد//PROPN کے//PROPN باب//PROPN UNK//PROPN پر//PROPN مستقل//PROPN UNK//ADP UNK//ADP کی//ADP تنصیب//ADP کے//ADP علاوہ//ADP کیمروں//NOUN کی//NOUN تنصیب//NOUN اور//NOUN 25//NOUN ہوم//NOUN گارڈس//NOUN کی//NOUN تعیناتی//NOUN کے//ADP احکام//NOUN جاری//ADJ کئے//VERB ۔//PUNCT\n",
      "--------------------------------------------------------------------------------\n",
      "label:     انہوں//PRON نے//ADP کہا//VERB کہ//SCONJ چاقو//NOUN گردن//NOUN پر//ADP رکھ//VERB کر//AUX تنخواہ//NOUN مےں//ADP اضافہ//NOUN کا//ADP مطالبہ//NOUN ٹھیک//ADJ نہیں//PART ہے//VERB ۔//PUNCT\n",
      "predicted: انہوں//PRON نے//ADP کہا//VERB کہ//SCONJ چاقو//NOUN گردن//NOUN پر//NOUN رکھ//VERB کر//AUX تنخواہ//NOUN مےں//NOUN اضافہ//NOUN کا//ADP مطالبہ//ADP ٹھیک//NOUN نہیں//PART ہے//VERB ۔//PUNCT\n",
      "--------------------------------------------------------------------------------\n",
      "label:     ساتویں//ADJ جماعت//NOUN تک//ADP اسکول//NOUN چلایا//VERB جا//AUX رہا//AUX ہے//AUX ،//PUNCT جہاں//PRON ودیا//PROPN UNK//NOUN کام//NOUN کر//VERB رہے//AUX ہیں//AUX ۔//PUNCT\n",
      "predicted: ساتویں//PAD جماعت//NOUN تک//NOUN اسکول//NOUN چلایا//NOUN جا//VERB رہا//AUX ہے//AUX ،//PUNCT جہاں//PROPN ودیا//NOUN UNK//ADP کام//NOUN کر//VERB رہے//AUX ہیں//AUX ۔//PUNCT\n",
      "--------------------------------------------------------------------------------\n",
      "label:     ان//DET اداروں//NOUN کے//ADP بنیادی//ADJ اصولوں//NOUN سے//ADP روگردانی//NOUN کا//ADP سوال//NOUN ہی//PART نہیں//PART پیدا//ADJ ہوتا//VERB ۔//PUNCT\n",
      "predicted: ان//PRON اداروں//ADJ کے//PRON بنیادی//ADP اصولوں//ADP سے//ADP روگردانی//ADP کا//ADP سوال//ADP ہی//ADJ نہیں//PART پیدا//PART ہوتا//VERB ۔//PUNCT\n",
      "--------------------------------------------------------------------------------\n",
      "label:     خاتون//NOUN UNK//NOUN کی//ADP قابل//ADJ لحاظ//NOUN تعداد//NOUN کی//ADP بنا//ADP پر//ADP UNK//NOUN خواتین//NOUN UNK//PROPN ضلع//NOUN میدک//PROPN کی//ADP سکریٹری//NOUN کا//ADP انتخاب//NOUN عمل//NOUN مےں//ADP لایا//VERB جائےگا//AUX ۔//PUNCT\n",
      "predicted: خاتون//PAD UNK//NOUN کی//NOUN قابل//NOUN لحاظ//NOUN تعداد//NOUN کی//NOUN بنا//NOUN پر//NOUN UNK//NOUN خواتین//NOUN UNK//NOUN ضلع//NOUN میدک//NOUN کی//NOUN سکریٹری//NOUN کا//NOUN انتخاب//NOUN عمل//NOUN مےں//ADP لایا//VERB جائےگا//AUX ۔//PUNCT\n",
      "--------------------------------------------------------------------------------\n",
      "Epoch 1/20\n"
     ]
    },
    {
     "name": "stdout",
     "output_type": "stream",
     "text": [
      "63/63 [==============================] - 67s - loss: 0.7742 - acc: 0.7003 - val_loss: 1.1834 - val_acc: 0.5872\n",
      "Epoch 2/20\n",
      "63/63 [==============================] - 68s - loss: 0.7823 - acc: 0.6983 - val_loss: 1.1656 - val_acc: 0.5968\n",
      "Epoch 3/20\n",
      "63/63 [==============================] - 69s - loss: 0.7622 - acc: 0.7050 - val_loss: 1.1411 - val_acc: 0.6049\n",
      "Epoch 4/20\n",
      "63/63 [==============================] - 69s - loss: 0.7537 - acc: 0.7074 - val_loss: 1.1604 - val_acc: 0.6020\n",
      "Epoch 5/20\n",
      "63/63 [==============================] - 68s - loss: 0.7393 - acc: 0.7146 - val_loss: 1.2238 - val_acc: 0.5897\n",
      "Epoch 6/20\n",
      "63/63 [==============================] - 69s - loss: 0.7336 - acc: 0.7161 - val_loss: 1.2177 - val_acc: 0.5942\n",
      "Epoch 7/20\n",
      "63/63 [==============================] - 71s - loss: 0.7324 - acc: 0.7158 - val_loss: 1.1747 - val_acc: 0.5978\n",
      "Epoch 8/20\n",
      "63/63 [==============================] - 70s - loss: 0.7212 - acc: 0.7208 - val_loss: 1.1834 - val_acc: 0.5972\n",
      "Epoch 9/20\n",
      "63/63 [==============================] - 70s - loss: 0.7105 - acc: 0.7235 - val_loss: 1.2048 - val_acc: 0.6038\n",
      "Epoch 10/20\n",
      "63/63 [==============================] - 71s - loss: 0.6960 - acc: 0.7289 - val_loss: 1.2270 - val_acc: 0.5939\n",
      "Epoch 11/20\n",
      "63/63 [==============================] - 69s - loss: 0.7034 - acc: 0.7264 - val_loss: 1.2143 - val_acc: 0.5990\n",
      "Epoch 12/20\n",
      "63/63 [==============================] - 70s - loss: 0.6908 - acc: 0.7307 - val_loss: 1.1989 - val_acc: 0.6007\n",
      "Epoch 13/20\n",
      "63/63 [==============================] - 71s - loss: 0.6847 - acc: 0.7332 - val_loss: 1.1967 - val_acc: 0.6013\n",
      "Epoch 14/20\n",
      "63/63 [==============================] - 70s - loss: 0.6672 - acc: 0.7404 - val_loss: 1.2063 - val_acc: 0.6021\n",
      "Epoch 15/20\n",
      "63/63 [==============================] - 69s - loss: 0.6646 - acc: 0.7409 - val_loss: 1.2730 - val_acc: 0.5848\n",
      "Epoch 16/20\n",
      "63/63 [==============================] - 72s - loss: 0.6650 - acc: 0.7401 - val_loss: 1.2244 - val_acc: 0.6001\n",
      "Epoch 17/20\n",
      "63/63 [==============================] - 70s - loss: 0.6386 - acc: 0.7524 - val_loss: 1.2683 - val_acc: 0.5928\n",
      "Epoch 18/20\n",
      "63/63 [==============================] - 69s - loss: 0.6571 - acc: 0.7424 - val_loss: 1.3107 - val_acc: 0.5789\n",
      "Epoch 19/20\n",
      "63/63 [==============================] - 69s - loss: 0.6326 - acc: 0.7545 - val_loss: 1.2532 - val_acc: 0.5943\n",
      "Epoch 20/20\n",
      "63/63 [==============================] - 71s - loss: 0.6230 - acc: 0.7586 - val_loss: 1.2553 - val_acc: 0.5984\n",
      "================================================================================\n",
      "Iteration # 3\n",
      "--------------------------------------------------------------------------------\n",
      "label:     راجستھان//PROPN کی//ADP اس//DET کامیابی//NOUN مےں//ADP راس//PROPN UNK//PROPN نے//ADP UNK//NUM UNK//ADJ UNK//ADJ UNK//NOUN بناتے//VERB ہوئے//AUX اہم//ADJ رول//NOUN UNK//VERB ۔//PUNCT\n",
      "predicted: راجستھان//PROPN کی//ADP اس//ADP کامیابی//NOUN مےں//NOUN راس//NOUN UNK//ADJ نے//ADJ UNK//NOUN UNK//ADP UNK//NOUN UNK//VERB بناتے//AUX ہوئے//ADJ اہم//NOUN رول//NOUN UNK//VERB ۔//PUNCT\n",
      "--------------------------------------------------------------------------------\n",
      "label:     دنیا//NOUN و//CCONJ آخرت//NOUN مےں//ADP یہ//DET کتاب//NOUN کامیابی//NOUN کا//ADP ذریعہ//NOUN ہے//AUX ۔//PUNCT\n",
      "predicted: دنیا//NUM و//NOUN آخرت//ADP مےں//NOUN یہ//NOUN کتاب//ADP کامیابی//NOUN کا//ADP ذریعہ//NOUN ہے//AUX ۔//PUNCT\n",
      "--------------------------------------------------------------------------------\n",
      "label:     لاتے//VERB ہوئے//AUX اردو//PROPN دوستی//NOUN کا//ADP ثبوت//NOUN دے//VERB اور//CCONJ اس//PRON جانب//ADP ملت//NOUN کے//ADP ہمدرد//ADJ اور//CCONJ ذمہ_دار//ADJ حضرات//NOUN بھی//PART خصوصی//ADJ توجہ//NOUN دیں//VERB ،//PUNCT تاکہ//SCONJ طلبہ//NOUN کے//ADP مستقبل//NOUN کو//ADP UNK//ADJ بنایا//VERB جا//AUX سکے//AUX ۔//PUNCT\n",
      "predicted: لاتے//AUX ہوئے//AUX اردو//PROPN دوستی//ADP کا//NOUN ثبوت//NOUN دے//NOUN اور//NOUN اس//NOUN جانب//VERB ملت//AUX کے//AUX ہمدرد//CCONJ اور//NOUN ذمہ_دار//ADP حضرات//NOUN بھی//ADP خصوصی//NOUN توجہ//VERB دیں//AUX ،//AUX تاکہ//PRON طلبہ//NOUN کے//ADP مستقبل//NOUN کو//ADP UNK//NOUN بنایا//VERB جا//AUX سکے//AUX ۔//PUNCT\n",
      "--------------------------------------------------------------------------------\n",
      "label:     فی//ADJ لیٹر//NOUN 2//NUM روپئے//NOUN تک//PART کا//ADP اضافہ//NOUN کیا//VERB جائےگا//AUX ،//PUNCT جس//PRON سے//ADP تیل//NOUN کی//ADP کمپنیوں//NOUN کو//ADP فی//ADJ لیٹر//NOUN UNK//NOUN پر//ADP ہونے//VERB والے//ADP UNK//NUM روپئے//NOUN خسارہ//NOUN سے//ADP کسی//PRON قدر//NOUN راحت//NOUN ملےگی//VERB ۔//PUNCT\n",
      "predicted: فی//NOUN لیٹر//NOUN 2//NOUN روپئے//NOUN تک//NOUN کا//NOUN اضافہ//NOUN کیا//VERB جائےگا//AUX ،//PUNCT جس//PRON سے//NOUN تیل//NOUN کی//NOUN کمپنیوں//NOUN کو//NOUN فی//ADP لیٹر//NOUN UNK//NOUN پر//NOUN ہونے//NOUN والے//VERB UNK//VERB روپئے//VERB خسارہ//ADP سے//NOUN کسی//VERB قدر//ADP راحت//NOUN ملےگی//VERB ۔//PUNCT\n",
      "--------------------------------------------------------------------------------\n",
      "label:     تھامس//PROPN نے//ADP ان//PRON کا//ADP کیچ//NOUN لیا//VERB ۔//PUNCT\n",
      "predicted: تھامس//PRON نے//ADP ان//PROPN کا//ADP کیچ//NOUN لیا//VERB ۔//PUNCT\n",
      "--------------------------------------------------------------------------------\n"
     ]
    }
   ],
   "source": [
    "train_gen = generate_batch(sents_word, s_word2index, sents_pos,\n",
    "                           t_word2index, BATCH_SIZE, MAX_SEQLEN)\n",
    "test_gen = generate_batch(test_sents_word, s_word2index, test_sents_pos,\n",
    "                          t_word2index, BATCH_SIZE, MAX_SEQLEN)\n",
    "\n",
    "hist_acc_bi, hist_val_acc_bi, hist_loss_bi, hist_val_loss_bi = [], [], [], []\n",
    "\n",
    "for i in range(NUM_ITERATIONS):    \n",
    "    history = BI_POS_TAGGER.fit_generator(train_gen, \n",
    "                                  steps_per_epoch=num_train_samples, \n",
    "                                  epochs=NUM_EPOCHS,\n",
    "                                  validation_data=test_gen, \n",
    "                                  validation_steps=num_test_samples)\n",
    "    # save off history data\n",
    "    hist_acc_bi.extend(history.history[\"acc\"])\n",
    "    hist_val_acc_bi.extend(history.history[\"val_acc\"])\n",
    "    hist_loss_bi.extend(history.history[\"loss\"])\n",
    "    hist_val_loss_bi.extend(history.history[\"val_loss\"])\n",
    "    \n",
    "    # Проиллюстрируем некоторые примеры разметки\n",
    "    \n",
    "    Xtest, Ytest = next(test_gen)\n",
    "    Ytest_ = BI_POS_TAGGER.predict(Xtest)\n",
    "    ytest = np.argmax(Ytest, axis=2)\n",
    "    ytest_ = np.argmax(Ytest_, axis=2)\n",
    "    \n",
    "    print(\"=\" * 80)\n",
    "    print(\"Iteration # {:d}\".format(i + 1))\n",
    "    print(\"-\" * 80)\n",
    "    for i in range(min(5, Ytest.shape[0])):\n",
    "        sent_ids = Xtest[i]\n",
    "        sent_words = [s_index2word[x] for x in sent_ids.tolist()]\n",
    "        pos_labels = [t_index2word[x] for x in ytest[i].tolist()]\n",
    "        pos_preds = [t_index2word[x] for x in ytest_[i].tolist()]\n",
    "        triples = [x for x in zip(sent_words, pos_labels, pos_preds)\n",
    "            if x[0] != \"PAD\"]\n",
    "        print(\"label:     \" + \" \".join([x[0] +\"//\"+x[1].upper() \n",
    "            for x in triples]))\n",
    "        print(\"predicted: \" + \" \".join([x[0] +\"//\"+x[2].upper() \n",
    "            for x in triples]))\n",
    "        print(\"-\" * 80)"
   ]
  },
  {
   "cell_type": "code",
   "execution_count": 27,
   "metadata": {},
   "outputs": [
    {
     "data": {
      "image/png": "[encoded data removed]",
      "text/plain": [
       "<matplotlib.figure.Figure at 0x7fb050d048>"
      ]
     },
     "metadata": {},
     "output_type": "display_data"
    }
   ],
   "source": [
    "# plot loss and accuracy\n",
    "plt.subplot(211)\n",
    "plt.title(\"Accuracy Bidirectional\")\n",
    "plt.plot(hist_acc_bi, color=\"r\", label=\"Train\")\n",
    "plt.plot(hist_val_acc_bi, color=\"b\", label=\"Validation\")\n",
    "plt.legend(loc=\"best\")\n",
    "\n",
    "plt.subplot(212)\n",
    "plt.title(\"Loss Bidirectional\")\n",
    "plt.plot(hist_loss_bi, color=\"r\", label=\"Train\")\n",
    "plt.plot(hist_val_loss_bi, color=\"b\", label=\"Validation\")\n",
    "plt.legend(loc=\"best\")\n",
    "\n",
    "plt.tight_layout()\n",
    "plt.show()"
   ]
  },
  {
   "cell_type": "code",
   "execution_count": null,
   "metadata": {
    "collapsed": true
   },
   "outputs": [],
   "source": []
  }
 ],
 "metadata": {
  "kernelspec": {
   "display_name": "Python 3",
   "language": "python",
   "name": "python3"
  },
  "language_info": {
   "codemirror_mode": {
    "name": "ipython",
    "version": 3
   },
   "file_extension": ".py",
   "mimetype": "text/x-python",
   "name": "python",
   "nbconvert_exporter": "python",
   "pygments_lexer": "ipython3",
   "version": "3.6.4"
  }
 },
 "nbformat": 4,
 "nbformat_minor": 2
}
