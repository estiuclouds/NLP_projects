{
 "cells": [
  {
   "cell_type": "code",
   "execution_count": 1,
   "metadata": {},
   "outputs": [],
   "source": [
    "import pandas as pd\n",
    "df = pd.read_csv('log',  # Это то, куда вы скачали файл\n",
    "                       sep='\\t', encoding='utf-8',)"
   ]
  },
  {
   "cell_type": "code",
   "execution_count": 34,
   "metadata": {},
   "outputs": [],
   "source": [
    "import re\n",
    "clear_requests=[]\n",
    "regex_pat0 = re.compile(r'[https://yandex.ru/search/?text=]|[&.+]')\n",
    "regex_pat1 = re.compile(r'a-z|A-Z|0-9')\n",
    "for request in df['request']:\n",
    "    request0 = re.sub(regex_pat0,'', request)\n",
    "    if 'абвгдежзиклмнопрстуфхцчшщъьэюя'in str(request0):\n",
    "        request1 = re.sub(regex_pat1,'', str(request0))\n",
    "        clear_requests.append(request1)\n",
    "    else:\n",
    "        clear_requests.append(request0)"
   ]
  },
  {
   "cell_type": "code",
   "execution_count": 35,
   "metadata": {},
   "outputs": [
    {
     "name": "stdout",
     "output_type": "stream",
     "text": [
      "['порно видео секс за деньги', ' o скачать бесплатно m3 в хорошем качествеl416', 'ольгино баняflgl6707', 'фирменный магазин марко в г минске скидки акции', 'порноl313', 'нужно ли мыть гречку перед варкойiYYVGK1LWHo94Tli980022', 'сергей из ярославля дом 2flgMv3235', 'красный дракон фильм 2002l618ilqIF40LlZb', 'земельно оценочные работы в земельном кадастре', '', 'Динамо (Санкт-Петербург) Химки 16 марта', 'ibg одежда', 'kog вход', 'Найдите и зачитайте строки произведения которые передают чувства и размышления рассказчика вызваны народные песни рассказы Бунина в рассказе БунинаflgmgmN6934', 'Limmi', 'тильтовать что это', 'уважение к младшимflgJ1638iFXFJTTJfZ0OMS', 'футбол 1 смотреть онлайн', 'не стучи дважды фильм 2016', 'егор шилов смотреть онлайн', 'секс историиflgl2506', 'работа студентов Вивli916571', 'скачать технику писання тренероваться', 'fif контакты в россии', 'Хочу заказать девушку домойli181952', 'bz mbo', 'шарий последнееli660721', 'фото про войну что бы нарисоваитiI1RqGNICJ', 'глутомат натрия', 'l wi i квест критикаflgUP5480', 'фильм про донбассli850593', 'omki', 'lik k0581 купить дешевоiqCCOUzHm690g', 'стихотворение п соловьёва ночь и деньilMM7TAS7VAQGqF', 'авториаli287236', 'элегант сигаретыli563839', 'дети алисы фрейндлихl158', 'марс', 'схема зажигания ваз 2107flgbM8223', 'вк', 'li195104', 'ворлд оф танкс тест версию 10', 'вечерние молитвы оптина пустынь слушатьiTZF91988KHqmMWli864168', 'ганг бэнг жестокийl240', 'рецепт щи без мяса из свежей капусты как в столовойflgLHo5753iGwj4fo58CLF6oMMli937965flgV7902', 'fbook', 'политехническая 17 к 3flgT2178', 'и всётаки я люблю все серии подряд онлайн бесплатно в хорошем качестве', 'фестиваль парк жк речной вокзал', 'видео разговор девушек про секссмотреть бесплатно', 'Князь Ярослав', 'mi', 'капризный ребенок это', 'достопримечательностиflgi4179', '7*7 марий эл', 'краута закрываетсяflgLX5919', 'oo filmli', 'причины тугоухости у новорожденныхl384', 'эротические смс', 'авито работа в чернушке для женщинl368', 'на рисунке 1 на клетчатой бумаге изображены фигуры ответ', 'смотреть онлайн матч футбол 1 прямая трансляция', 'и гаснет свет фильм 2016', 'b obflgQf9737l109ivPVOOEFX9LX', 'ютубiL0jQj7S9GvzfWibli977449', 'ключ для iblo 3 купить', 'Ханна', 'баусервис отзывы сотрудников', 'остеопатияflgzJg6905', 'дпужба между максим максимычем и печориным', 'учет пошлиныiGm04mUAPqBYNElJ', 'если у баб большие пизды аli592317', 'kijg 2015', ' oo mbl', 'садовод 24 линия 16 павильон', 'администрация псеверный белгородского района', 'она кончает', 'bli964693flgV2858', 'футбол барселона', 'Smg Gl No 8 64GB', 'продажа крепежа в розницуflgEqUM9321', 'mil', 'где находится жэк по адресуli611682flgkiI5386', 'flgJ9677flgACPB1137', 'детский лагерь волга лысково розаiFAIf4TGOH8lli277641', 'полотенчик южный паркflgw7356flgWiUU6674', 'bi bilgi  zılım üklml125', 'дэвид ковердейлflgfzF6413', 'одноклассники', '27 летний астраханец напал на палицейсково с ножом', 'совкомбанк личный кабинетl475', 'маршрут автобуса 122 в москве с остановками', 'как себя вести после причастия и исповедиflgqJCi6053ibHMR5ooCR7mJVQM', 'спидтест', 'все матчи мюl951flgSXTP8676', 'тест для мужа', 'ломбард победа в казаниli388368', 'великий гэтсби фильм 2013flgE2085flgIAU8295', 'как избежать наказания за убийствоflgmX4905', 'ikl721']\n"
     ]
    }
   ],
   "source": [
    "print(clear_requests[:100])"
   ]
  },
  {
   "cell_type": "code",
   "execution_count": 3,
   "metadata": {},
   "outputs": [
    {
     "ename": "ModuleNotFoundError",
     "evalue": "No module named 'alphabet_detector'",
     "output_type": "error",
     "traceback": [
      "\u001b[1;31m---------------------------------------------------------------------------\u001b[0m",
      "\u001b[1;31mModuleNotFoundError\u001b[0m                       Traceback (most recent call last)",
      "\u001b[1;32m<ipython-input-3-e9387cfa947f>\u001b[0m in \u001b[0;36m<module>\u001b[1;34m()\u001b[0m\n\u001b[1;32m----> 1\u001b[1;33m \u001b[1;32mfrom\u001b[0m \u001b[0malphabet_detector\u001b[0m \u001b[1;32mimport\u001b[0m \u001b[0mAlphabetDetector\u001b[0m\u001b[1;33m\u001b[0m\u001b[0m\n\u001b[0m\u001b[0;32m      2\u001b[0m \u001b[0mad\u001b[0m \u001b[1;33m=\u001b[0m \u001b[0mAlphabetDetector\u001b[0m\u001b[1;33m(\u001b[0m\u001b[1;33m)\u001b[0m\u001b[1;33m\u001b[0m\u001b[0m\n",
      "\u001b[1;31mModuleNotFoundError\u001b[0m: No module named 'alphabet_detector'"
     ]
    }
   ],
   "source": [
    "from alphabet_detector import AlphabetDetector\n",
    "ad = AlphabetDetector()"
   ]
  },
  {
   "cell_type": "code",
   "execution_count": null,
   "metadata": {},
   "outputs": [],
   "source": []
  }
 ],
 "metadata": {
  "kernelspec": {
   "display_name": "Python 3",
   "language": "python",
   "name": "python3"
  },
  "language_info": {
   "codemirror_mode": {
    "name": "ipython",
    "version": 3
   },
   "file_extension": ".py",
   "mimetype": "text/x-python",
   "name": "python",
   "nbconvert_exporter": "python",
   "pygments_lexer": "ipython3",
   "version": "3.6.4"
  }
 },
 "nbformat": 4,
 "nbformat_minor": 2
}
