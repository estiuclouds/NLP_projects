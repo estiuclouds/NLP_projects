{
 "cells": [
  {
   "cell_type": "markdown",
   "metadata": {},
   "source": [
    "# Введение в питон\n",
    "## Переменные и математические операции"
   ]
  },
  {
   "cell_type": "code",
   "execution_count": 3,
   "metadata": {},
   "outputs": [
    {
     "name": "stdout",
     "output_type": "stream",
     "text": [
      "Hello, world!\n"
     ]
    }
   ],
   "source": [
    "# first of all, you can just use print() function, which print something\n",
    "# as it is accepted in entire programming world, do this\n",
    "print('Hello, world!')\n",
    "#Conrgats! First step done"
   ]
  },
  {
   "cell_type": "markdown",
   "metadata": {},
   "source": [
    "About variables"
   ]
  },
  {
   "cell_type": "code",
   "execution_count": 2,
   "metadata": {},
   "outputs": [
    {
     "name": "stdout",
     "output_type": "stream",
     "text": [
      "<class 'int'>\n",
      "<class 'float'>\n"
     ]
    }
   ],
   "source": [
    "constant = 4 #variables can be 'Integer' like this one\n",
    "constant_0 = 4.2 # or float  - it is a number with comma\n",
    "#to prove it, we can check using internal python function type()\n",
    "print(type(constant))\n",
    "print(type(constant_0)) "
   ]
  },
  {
   "cell_type": "code",
   "execution_count": 7,
   "metadata": {},
   "outputs": [
    {
     "name": "stdout",
     "output_type": "stream",
     "text": [
      "sum:  6\n",
      "sub:  2\n",
      "comp:  8\n",
      "division:  2.0\n"
     ]
    }
   ],
   "source": [
    "# now math operations\n",
    "# + - * / \n",
    "the_sum = 4 + 2\n",
    "print('sum: ', the_sum)\n",
    "the_subtraction = 4 - 2 \n",
    "print('sub: ', the_subtraction)\n",
    "the_composition = 4 * 2\n",
    "print('comp: ', the_composition)\n",
    "the_division = 4 / 2\n",
    "print('division: ',the_division)"
   ]
  },
  {
   "cell_type": "code",
   "execution_count": null,
   "metadata": {},
   "outputs": [],
   "source": [
    "# guess that means this ** and this % operations using print \n",
    "something = 2**2\n",
    "something_new = 10%3\n",
    "pr...\n",
    "pr...\n",
    "#don't forget about brackets"
   ]
  },
  {
   "cell_type": "markdown",
   "metadata": {},
   "source": [
    "### Посчитать площадь прямоугольника со сторонами 15.342 и 51.223"
   ]
  },
  {
   "cell_type": "code",
   "execution_count": 8,
   "metadata": {},
   "outputs": [
    {
     "name": "stdout",
     "output_type": "stream",
     "text": [
      "785.8632660000001\n"
     ]
    }
   ],
   "source": [
    "print()"
   ]
  },
  {
   "cell_type": "markdown",
   "metadata": {},
   "source": [
    "### Посчитать объем цилиндра с радиусом 221 и высотой 14 \n",
    "$$\\pi=3.14$$ $$V=\\pi*R*R*h$$"
   ]
  },
  {
   "cell_type": "code",
   "execution_count": 10,
   "metadata": {},
   "outputs": [
    {
     "name": "stdout",
     "output_type": "stream",
     "text": [
      "2147050.3600000003\n"
     ]
    }
   ],
   "source": [
    "print()"
   ]
  },
  {
   "cell_type": "code",
   "execution_count": null,
   "metadata": {},
   "outputs": [],
   "source": [
    "a = 12\n",
    "c = \"string\"\n",
    "d = 'another stroka'\n",
    "e = '''strings\n",
    "strings\n",
    "strings'''\n",
    "\n",
    "\n",
    "print (type(c), \"c =\", c)\n",
    "print (type(d), \"d =\", d)\n",
    "print (type(e), \"e =\", e)\n",
    "\n",
    "# целочисленной (int) переменной можно присвоить значение строки, и у нее сменится тип:\n",
    "a = 'Now it is string'\n",
    "\n",
    "print (type(a), \"a =\", a )"
   ]
  },
  {
   "cell_type": "markdown",
   "metadata": {},
   "source": [
    "### Поменять местами значение двух переменных"
   ]
  },
  {
   "cell_type": "code",
   "execution_count": 13,
   "metadata": {},
   "outputs": [
    {
     "name": "stdout",
     "output_type": "stream",
     "text": [
      "a = 2\n",
      "b = 1\n"
     ]
    }
   ],
   "source": [
    "a = 1\n",
    "b = 2\n",
    "# Весь ваш код должен быть ниже этого комментария\n",
    "\n",
    "# Весь ваш код должен быть выше этого комментария\n",
    "print (\"a =\", a)\n",
    "print (\"b =\", b)"
   ]
  },
  {
   "cell_type": "markdown",
   "metadata": {},
   "source": [
    "## **Attention**\n",
    "<p>В этом месте у тебя полюбому возникнут вопросы, так что пиши и я тебе всю объясню почему именно так. Главнео запомни какой должен быть результат"
   ]
  },
  {
   "cell_type": "code",
   "execution_count": null,
   "metadata": {},
   "outputs": [],
   "source": [
    "#now let's play: look at the examples below and try to resolve a task\n",
    "one = 1\n",
    "two = 2\n",
    "three = one + two\n",
    "print(three)\n",
    "\n",
    "hello = \"hello\"\n",
    "world = \"world\"\n",
    "helloworld = hello + \" \" + world\n",
    "print(helloworld)"
   ]
  },
  {
   "cell_type": "code",
   "execution_count": 14,
   "metadata": {},
   "outputs": [
    {
     "name": "stdout",
     "output_type": "stream",
     "text": [
      "8\n",
      "35\n"
     ]
    }
   ],
   "source": [
    "#internal function str() transform any type of variables to string type, use it to have the same output\n",
    "three = 3\n",
    "five = 5\n",
    "print()\n",
    "print()"
   ]
  },
  {
   "cell_type": "code",
   "execution_count": null,
   "metadata": {},
   "outputs": [],
   "source": []
  }
 ],
 "metadata": {
  "kernelspec": {
   "display_name": "Python 3",
   "language": "python",
   "name": "python3"
  },
  "language_info": {
   "codemirror_mode": {
    "name": "ipython",
    "version": 3
   },
   "file_extension": ".py",
   "mimetype": "text/x-python",
   "name": "python",
   "nbconvert_exporter": "python",
   "pygments_lexer": "ipython3",
   "version": "3.6.7"
  }
 },
 "nbformat": 4,
 "nbformat_minor": 2
}
