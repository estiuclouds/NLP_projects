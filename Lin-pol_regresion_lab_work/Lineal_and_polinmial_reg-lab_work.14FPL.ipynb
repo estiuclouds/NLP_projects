{
 "cells": [
  {
   "cell_type": "markdown",
   "metadata": {},
   "source": [
    "Лабараторная работа №1. Сорокин Семен и Мотов Алексей 14фпл"
   ]
  },
  {
   "cell_type": "markdown",
   "metadata": {},
   "source": [
    "Задача 0.\n",
    "Вариант №9.\n",
    "Собрание оперативных данных о сферах: жилой, коммерческой, промышленной и земледельческой - для нахождения аккуратности (точности) потребления электричества в Tamil Nadu Around Thanajvur.\n",
    "Характеристики дата-сета: Многовариантный\n",
    "Количество сущностей: 45781\n",
    "Сфера:Жизнь(проживание)\n",
    "Характеристика атрибутов: реальные\n",
    "Количество атрибутов:5\n",
    "Дата публикации:2013-12-22\n",
    "Пути решения:Классификация, Регрессия, Класстеризация\n",
    "Отсутствующие параметры: нет\n",
    "Количество Web Hits:31879"
   ]
  },
  {
   "cell_type": "markdown",
   "metadata": {},
   "source": [
    "Задача 1."
   ]
  },
  {
   "cell_type": "markdown",
   "metadata": {},
   "source": [
    "1.1.Получение первичных данных"
   ]
  },
  {
   "cell_type": "code",
   "execution_count": 1,
   "metadata": {
    "scrolled": true
   },
   "outputs": [
    {
     "data": {
      "text/html": [
       "<div>\n",
       "<table border=\"1\" class=\"dataframe\">\n",
       "  <thead>\n",
       "    <tr style=\"text-align: right;\">\n",
       "      <th></th>\n",
       "      <th>ForkVA</th>\n",
       "      <th>ForkW</th>\n",
       "      <th>Type</th>\n",
       "      <th>Sector</th>\n",
       "      <th>ServiceID</th>\n",
       "    </tr>\n",
       "  </thead>\n",
       "  <tbody>\n",
       "    <tr>\n",
       "      <th>0</th>\n",
       "      <td>0.865936</td>\n",
       "      <td>0.143763</td>\n",
       "      <td>Bank</td>\n",
       "      <td>1</td>\n",
       "      <td>671004572</td>\n",
       "    </tr>\n",
       "    <tr>\n",
       "      <th>1</th>\n",
       "      <td>0.129804</td>\n",
       "      <td>0.088930</td>\n",
       "      <td>Bank</td>\n",
       "      <td>1</td>\n",
       "      <td>671004572</td>\n",
       "    </tr>\n",
       "    <tr>\n",
       "      <th>2</th>\n",
       "      <td>0.061801</td>\n",
       "      <td>0.552047</td>\n",
       "      <td>Bank</td>\n",
       "      <td>1</td>\n",
       "      <td>671004572</td>\n",
       "    </tr>\n",
       "    <tr>\n",
       "      <th>3</th>\n",
       "      <td>0.099116</td>\n",
       "      <td>0.848172</td>\n",
       "      <td>Bank</td>\n",
       "      <td>1</td>\n",
       "      <td>671004572</td>\n",
       "    </tr>\n",
       "    <tr>\n",
       "      <th>4</th>\n",
       "      <td>0.205704</td>\n",
       "      <td>0.624722</td>\n",
       "      <td>Bank</td>\n",
       "      <td>1</td>\n",
       "      <td>671004572</td>\n",
       "    </tr>\n",
       "    <tr>\n",
       "      <th>5</th>\n",
       "      <td>0.164029</td>\n",
       "      <td>0.038168</td>\n",
       "      <td>Bank</td>\n",
       "      <td>1</td>\n",
       "      <td>671004572</td>\n",
       "    </tr>\n",
       "    <tr>\n",
       "      <th>6</th>\n",
       "      <td>0.619834</td>\n",
       "      <td>0.079611</td>\n",
       "      <td>Bank</td>\n",
       "      <td>1</td>\n",
       "      <td>671004572</td>\n",
       "    </tr>\n",
       "    <tr>\n",
       "      <th>7</th>\n",
       "      <td>0.011324</td>\n",
       "      <td>0.718472</td>\n",
       "      <td>Bank</td>\n",
       "      <td>1</td>\n",
       "      <td>671004572</td>\n",
       "    </tr>\n",
       "    <tr>\n",
       "      <th>8</th>\n",
       "      <td>0.344461</td>\n",
       "      <td>0.271178</td>\n",
       "      <td>Bank</td>\n",
       "      <td>1</td>\n",
       "      <td>671004572</td>\n",
       "    </tr>\n",
       "    <tr>\n",
       "      <th>9</th>\n",
       "      <td>0.679169</td>\n",
       "      <td>0.191223</td>\n",
       "      <td>Bank</td>\n",
       "      <td>1</td>\n",
       "      <td>671004572</td>\n",
       "    </tr>\n",
       "    <tr>\n",
       "      <th>10</th>\n",
       "      <td>0.191592</td>\n",
       "      <td>0.381792</td>\n",
       "      <td>Bank</td>\n",
       "      <td>1</td>\n",
       "      <td>671004572</td>\n",
       "    </tr>\n",
       "    <tr>\n",
       "      <th>11</th>\n",
       "      <td>0.940152</td>\n",
       "      <td>0.981297</td>\n",
       "      <td>Bank</td>\n",
       "      <td>1</td>\n",
       "      <td>671004572</td>\n",
       "    </tr>\n",
       "    <tr>\n",
       "      <th>12</th>\n",
       "      <td>0.543696</td>\n",
       "      <td>0.210495</td>\n",
       "      <td>Bank</td>\n",
       "      <td>1</td>\n",
       "      <td>671004572</td>\n",
       "    </tr>\n",
       "    <tr>\n",
       "      <th>13</th>\n",
       "      <td>0.074785</td>\n",
       "      <td>0.407648</td>\n",
       "      <td>Bank</td>\n",
       "      <td>1</td>\n",
       "      <td>671004572</td>\n",
       "    </tr>\n",
       "    <tr>\n",
       "      <th>14</th>\n",
       "      <td>0.667057</td>\n",
       "      <td>0.441408</td>\n",
       "      <td>Bank</td>\n",
       "      <td>1</td>\n",
       "      <td>671004572</td>\n",
       "    </tr>\n",
       "    <tr>\n",
       "      <th>15</th>\n",
       "      <td>0.860208</td>\n",
       "      <td>0.671408</td>\n",
       "      <td>Bank</td>\n",
       "      <td>1</td>\n",
       "      <td>671004572</td>\n",
       "    </tr>\n",
       "    <tr>\n",
       "      <th>16</th>\n",
       "      <td>0.177475</td>\n",
       "      <td>0.931110</td>\n",
       "      <td>Bank</td>\n",
       "      <td>1</td>\n",
       "      <td>671004572</td>\n",
       "    </tr>\n",
       "    <tr>\n",
       "      <th>17</th>\n",
       "      <td>0.107628</td>\n",
       "      <td>0.309156</td>\n",
       "      <td>Bank</td>\n",
       "      <td>1</td>\n",
       "      <td>671004572</td>\n",
       "    </tr>\n",
       "    <tr>\n",
       "      <th>18</th>\n",
       "      <td>0.695464</td>\n",
       "      <td>0.992786</td>\n",
       "      <td>Bank</td>\n",
       "      <td>1</td>\n",
       "      <td>671004572</td>\n",
       "    </tr>\n",
       "    <tr>\n",
       "      <th>19</th>\n",
       "      <td>0.622046</td>\n",
       "      <td>0.063885</td>\n",
       "      <td>Bank</td>\n",
       "      <td>1</td>\n",
       "      <td>671004572</td>\n",
       "    </tr>\n",
       "    <tr>\n",
       "      <th>20</th>\n",
       "      <td>0.658742</td>\n",
       "      <td>0.874708</td>\n",
       "      <td>Bank</td>\n",
       "      <td>1</td>\n",
       "      <td>671004572</td>\n",
       "    </tr>\n",
       "    <tr>\n",
       "      <th>21</th>\n",
       "      <td>0.029141</td>\n",
       "      <td>0.711535</td>\n",
       "      <td>Bank</td>\n",
       "      <td>1</td>\n",
       "      <td>671004572</td>\n",
       "    </tr>\n",
       "    <tr>\n",
       "      <th>22</th>\n",
       "      <td>0.721738</td>\n",
       "      <td>0.631548</td>\n",
       "      <td>Bank</td>\n",
       "      <td>1</td>\n",
       "      <td>671004572</td>\n",
       "    </tr>\n",
       "    <tr>\n",
       "      <th>23</th>\n",
       "      <td>0.516696</td>\n",
       "      <td>0.147568</td>\n",
       "      <td>Bank</td>\n",
       "      <td>1</td>\n",
       "      <td>671004572</td>\n",
       "    </tr>\n",
       "    <tr>\n",
       "      <th>24</th>\n",
       "      <td>0.164996</td>\n",
       "      <td>0.369274</td>\n",
       "      <td>Bank</td>\n",
       "      <td>1</td>\n",
       "      <td>671004572</td>\n",
       "    </tr>\n",
       "    <tr>\n",
       "      <th>25</th>\n",
       "      <td>0.171748</td>\n",
       "      <td>0.085911</td>\n",
       "      <td>Bank</td>\n",
       "      <td>1</td>\n",
       "      <td>671004572</td>\n",
       "    </tr>\n",
       "    <tr>\n",
       "      <th>26</th>\n",
       "      <td>0.261766</td>\n",
       "      <td>0.407849</td>\n",
       "      <td>Bank</td>\n",
       "      <td>1</td>\n",
       "      <td>671004572</td>\n",
       "    </tr>\n",
       "    <tr>\n",
       "      <th>27</th>\n",
       "      <td>0.259692</td>\n",
       "      <td>0.051687</td>\n",
       "      <td>Bank</td>\n",
       "      <td>1</td>\n",
       "      <td>671004572</td>\n",
       "    </tr>\n",
       "    <tr>\n",
       "      <th>28</th>\n",
       "      <td>0.604756</td>\n",
       "      <td>0.250681</td>\n",
       "      <td>Bank</td>\n",
       "      <td>1</td>\n",
       "      <td>671004572</td>\n",
       "    </tr>\n",
       "    <tr>\n",
       "      <th>29</th>\n",
       "      <td>0.487839</td>\n",
       "      <td>0.959527</td>\n",
       "      <td>Bank</td>\n",
       "      <td>1</td>\n",
       "      <td>671004572</td>\n",
       "    </tr>\n",
       "    <tr>\n",
       "      <th>...</th>\n",
       "      <td>...</td>\n",
       "      <td>...</td>\n",
       "      <td>...</td>\n",
       "      <td>...</td>\n",
       "      <td>...</td>\n",
       "    </tr>\n",
       "    <tr>\n",
       "      <th>45751</th>\n",
       "      <td>0.880957</td>\n",
       "      <td>0.341562</td>\n",
       "      <td>University</td>\n",
       "      <td>1</td>\n",
       "      <td>800145754</td>\n",
       "    </tr>\n",
       "    <tr>\n",
       "      <th>45752</th>\n",
       "      <td>0.576744</td>\n",
       "      <td>0.040346</td>\n",
       "      <td>University</td>\n",
       "      <td>1</td>\n",
       "      <td>800145754</td>\n",
       "    </tr>\n",
       "    <tr>\n",
       "      <th>45753</th>\n",
       "      <td>0.645571</td>\n",
       "      <td>0.507445</td>\n",
       "      <td>University</td>\n",
       "      <td>1</td>\n",
       "      <td>800145754</td>\n",
       "    </tr>\n",
       "    <tr>\n",
       "      <th>45754</th>\n",
       "      <td>0.582752</td>\n",
       "      <td>0.544649</td>\n",
       "      <td>University</td>\n",
       "      <td>1</td>\n",
       "      <td>800145754</td>\n",
       "    </tr>\n",
       "    <tr>\n",
       "      <th>45755</th>\n",
       "      <td>0.767346</td>\n",
       "      <td>0.605864</td>\n",
       "      <td>University</td>\n",
       "      <td>1</td>\n",
       "      <td>800145754</td>\n",
       "    </tr>\n",
       "    <tr>\n",
       "      <th>45756</th>\n",
       "      <td>0.859672</td>\n",
       "      <td>0.195399</td>\n",
       "      <td>University</td>\n",
       "      <td>1</td>\n",
       "      <td>800145754</td>\n",
       "    </tr>\n",
       "    <tr>\n",
       "      <th>45757</th>\n",
       "      <td>0.389784</td>\n",
       "      <td>0.147966</td>\n",
       "      <td>University</td>\n",
       "      <td>1</td>\n",
       "      <td>800145754</td>\n",
       "    </tr>\n",
       "    <tr>\n",
       "      <th>45758</th>\n",
       "      <td>0.481084</td>\n",
       "      <td>0.772099</td>\n",
       "      <td>University</td>\n",
       "      <td>1</td>\n",
       "      <td>800145754</td>\n",
       "    </tr>\n",
       "    <tr>\n",
       "      <th>45759</th>\n",
       "      <td>0.031560</td>\n",
       "      <td>0.069771</td>\n",
       "      <td>University</td>\n",
       "      <td>1</td>\n",
       "      <td>800145754</td>\n",
       "    </tr>\n",
       "    <tr>\n",
       "      <th>45760</th>\n",
       "      <td>0.955797</td>\n",
       "      <td>0.708938</td>\n",
       "      <td>University</td>\n",
       "      <td>1</td>\n",
       "      <td>800145754</td>\n",
       "    </tr>\n",
       "    <tr>\n",
       "      <th>45761</th>\n",
       "      <td>0.781747</td>\n",
       "      <td>0.684059</td>\n",
       "      <td>University</td>\n",
       "      <td>1</td>\n",
       "      <td>800145754</td>\n",
       "    </tr>\n",
       "    <tr>\n",
       "      <th>45762</th>\n",
       "      <td>0.728798</td>\n",
       "      <td>0.399608</td>\n",
       "      <td>University</td>\n",
       "      <td>1</td>\n",
       "      <td>800145754</td>\n",
       "    </tr>\n",
       "    <tr>\n",
       "      <th>45763</th>\n",
       "      <td>0.305435</td>\n",
       "      <td>0.655755</td>\n",
       "      <td>University</td>\n",
       "      <td>1</td>\n",
       "      <td>800145754</td>\n",
       "    </tr>\n",
       "    <tr>\n",
       "      <th>45764</th>\n",
       "      <td>0.340016</td>\n",
       "      <td>0.297167</td>\n",
       "      <td>University</td>\n",
       "      <td>1</td>\n",
       "      <td>800145754</td>\n",
       "    </tr>\n",
       "    <tr>\n",
       "      <th>45765</th>\n",
       "      <td>0.812929</td>\n",
       "      <td>0.214185</td>\n",
       "      <td>University</td>\n",
       "      <td>1</td>\n",
       "      <td>800145754</td>\n",
       "    </tr>\n",
       "    <tr>\n",
       "      <th>45766</th>\n",
       "      <td>0.219228</td>\n",
       "      <td>0.068273</td>\n",
       "      <td>University</td>\n",
       "      <td>1</td>\n",
       "      <td>800145754</td>\n",
       "    </tr>\n",
       "    <tr>\n",
       "      <th>45767</th>\n",
       "      <td>0.248366</td>\n",
       "      <td>0.753734</td>\n",
       "      <td>University</td>\n",
       "      <td>1</td>\n",
       "      <td>800145754</td>\n",
       "    </tr>\n",
       "    <tr>\n",
       "      <th>45768</th>\n",
       "      <td>0.906085</td>\n",
       "      <td>0.721175</td>\n",
       "      <td>University</td>\n",
       "      <td>1</td>\n",
       "      <td>800145754</td>\n",
       "    </tr>\n",
       "    <tr>\n",
       "      <th>45769</th>\n",
       "      <td>0.508465</td>\n",
       "      <td>0.569024</td>\n",
       "      <td>University</td>\n",
       "      <td>1</td>\n",
       "      <td>800145754</td>\n",
       "    </tr>\n",
       "    <tr>\n",
       "      <th>45770</th>\n",
       "      <td>0.031784</td>\n",
       "      <td>0.352641</td>\n",
       "      <td>University</td>\n",
       "      <td>1</td>\n",
       "      <td>800145754</td>\n",
       "    </tr>\n",
       "    <tr>\n",
       "      <th>45771</th>\n",
       "      <td>0.452340</td>\n",
       "      <td>0.847685</td>\n",
       "      <td>University</td>\n",
       "      <td>1</td>\n",
       "      <td>800145754</td>\n",
       "    </tr>\n",
       "    <tr>\n",
       "      <th>45772</th>\n",
       "      <td>0.131527</td>\n",
       "      <td>0.119815</td>\n",
       "      <td>University</td>\n",
       "      <td>1</td>\n",
       "      <td>800145754</td>\n",
       "    </tr>\n",
       "    <tr>\n",
       "      <th>45773</th>\n",
       "      <td>0.998798</td>\n",
       "      <td>0.434231</td>\n",
       "      <td>University</td>\n",
       "      <td>1</td>\n",
       "      <td>800145754</td>\n",
       "    </tr>\n",
       "    <tr>\n",
       "      <th>45774</th>\n",
       "      <td>0.408391</td>\n",
       "      <td>0.444635</td>\n",
       "      <td>University</td>\n",
       "      <td>1</td>\n",
       "      <td>800145754</td>\n",
       "    </tr>\n",
       "    <tr>\n",
       "      <th>45775</th>\n",
       "      <td>0.594639</td>\n",
       "      <td>0.741307</td>\n",
       "      <td>University</td>\n",
       "      <td>1</td>\n",
       "      <td>800145754</td>\n",
       "    </tr>\n",
       "    <tr>\n",
       "      <th>45776</th>\n",
       "      <td>0.815382</td>\n",
       "      <td>0.822821</td>\n",
       "      <td>University</td>\n",
       "      <td>1</td>\n",
       "      <td>800145754</td>\n",
       "    </tr>\n",
       "    <tr>\n",
       "      <th>45777</th>\n",
       "      <td>0.821317</td>\n",
       "      <td>0.439967</td>\n",
       "      <td>University</td>\n",
       "      <td>1</td>\n",
       "      <td>800145754</td>\n",
       "    </tr>\n",
       "    <tr>\n",
       "      <th>45778</th>\n",
       "      <td>0.523061</td>\n",
       "      <td>0.227777</td>\n",
       "      <td>University</td>\n",
       "      <td>1</td>\n",
       "      <td>800145754</td>\n",
       "    </tr>\n",
       "    <tr>\n",
       "      <th>45779</th>\n",
       "      <td>0.925497</td>\n",
       "      <td>0.386428</td>\n",
       "      <td>University</td>\n",
       "      <td>1</td>\n",
       "      <td>800145754</td>\n",
       "    </tr>\n",
       "    <tr>\n",
       "      <th>45780</th>\n",
       "      <td>0.763602</td>\n",
       "      <td>0.456028</td>\n",
       "      <td>University</td>\n",
       "      <td>1</td>\n",
       "      <td>800145754</td>\n",
       "    </tr>\n",
       "  </tbody>\n",
       "</table>\n",
       "<p>45781 rows × 5 columns</p>\n",
       "</div>"
      ],
      "text/plain": [
       "         ForkVA     ForkW        Type  Sector  ServiceID\n",
       "0      0.865936  0.143763        Bank       1  671004572\n",
       "1      0.129804  0.088930        Bank       1  671004572\n",
       "2      0.061801  0.552047        Bank       1  671004572\n",
       "3      0.099116  0.848172        Bank       1  671004572\n",
       "4      0.205704  0.624722        Bank       1  671004572\n",
       "5      0.164029  0.038168        Bank       1  671004572\n",
       "6      0.619834  0.079611        Bank       1  671004572\n",
       "7      0.011324  0.718472        Bank       1  671004572\n",
       "8      0.344461  0.271178        Bank       1  671004572\n",
       "9      0.679169  0.191223        Bank       1  671004572\n",
       "10     0.191592  0.381792        Bank       1  671004572\n",
       "11     0.940152  0.981297        Bank       1  671004572\n",
       "12     0.543696  0.210495        Bank       1  671004572\n",
       "13     0.074785  0.407648        Bank       1  671004572\n",
       "14     0.667057  0.441408        Bank       1  671004572\n",
       "15     0.860208  0.671408        Bank       1  671004572\n",
       "16     0.177475  0.931110        Bank       1  671004572\n",
       "17     0.107628  0.309156        Bank       1  671004572\n",
       "18     0.695464  0.992786        Bank       1  671004572\n",
       "19     0.622046  0.063885        Bank       1  671004572\n",
       "20     0.658742  0.874708        Bank       1  671004572\n",
       "21     0.029141  0.711535        Bank       1  671004572\n",
       "22     0.721738  0.631548        Bank       1  671004572\n",
       "23     0.516696  0.147568        Bank       1  671004572\n",
       "24     0.164996  0.369274        Bank       1  671004572\n",
       "25     0.171748  0.085911        Bank       1  671004572\n",
       "26     0.261766  0.407849        Bank       1  671004572\n",
       "27     0.259692  0.051687        Bank       1  671004572\n",
       "28     0.604756  0.250681        Bank       1  671004572\n",
       "29     0.487839  0.959527        Bank       1  671004572\n",
       "...         ...       ...         ...     ...        ...\n",
       "45751  0.880957  0.341562  University       1  800145754\n",
       "45752  0.576744  0.040346  University       1  800145754\n",
       "45753  0.645571  0.507445  University       1  800145754\n",
       "45754  0.582752  0.544649  University       1  800145754\n",
       "45755  0.767346  0.605864  University       1  800145754\n",
       "45756  0.859672  0.195399  University       1  800145754\n",
       "45757  0.389784  0.147966  University       1  800145754\n",
       "45758  0.481084  0.772099  University       1  800145754\n",
       "45759  0.031560  0.069771  University       1  800145754\n",
       "45760  0.955797  0.708938  University       1  800145754\n",
       "45761  0.781747  0.684059  University       1  800145754\n",
       "45762  0.728798  0.399608  University       1  800145754\n",
       "45763  0.305435  0.655755  University       1  800145754\n",
       "45764  0.340016  0.297167  University       1  800145754\n",
       "45765  0.812929  0.214185  University       1  800145754\n",
       "45766  0.219228  0.068273  University       1  800145754\n",
       "45767  0.248366  0.753734  University       1  800145754\n",
       "45768  0.906085  0.721175  University       1  800145754\n",
       "45769  0.508465  0.569024  University       1  800145754\n",
       "45770  0.031784  0.352641  University       1  800145754\n",
       "45771  0.452340  0.847685  University       1  800145754\n",
       "45772  0.131527  0.119815  University       1  800145754\n",
       "45773  0.998798  0.434231  University       1  800145754\n",
       "45774  0.408391  0.444635  University       1  800145754\n",
       "45775  0.594639  0.741307  University       1  800145754\n",
       "45776  0.815382  0.822821  University       1  800145754\n",
       "45777  0.821317  0.439967  University       1  800145754\n",
       "45778  0.523061  0.227777  University       1  800145754\n",
       "45779  0.925497  0.386428  University       1  800145754\n",
       "45780  0.763602  0.456028  University       1  800145754\n",
       "\n",
       "[45781 rows x 5 columns]"
      ]
     },
     "execution_count": 1,
     "metadata": {},
     "output_type": "execute_result"
    }
   ],
   "source": [
    "import pandas as pd\n",
    "import numpy as np\n",
    "inputData = pd.read_csv('eb1.arff.csv', delimiter=',')\n",
    "inputData"
   ]
  },
  {
   "cell_type": "markdown",
   "metadata": {
    "collapsed": true
   },
   "source": [
    "1.2. Проверка на отсутствующие данные."
   ]
  },
  {
   "cell_type": "code",
   "execution_count": 2,
   "metadata": {},
   "outputs": [
    {
     "name": "stdout",
     "output_type": "stream",
     "text": [
      "Null values: False\n",
      "Count of NaN values: 0\n"
     ]
    }
   ],
   "source": [
    "print(\"Null values: {0}\".format(inputData.isnull().values.any()))\n",
    "print(\"Count of NaN values: {0}\".format(np.sum(inputData.isnull().values)))"
   ]
  },
  {
   "cell_type": "code",
   "execution_count": 3,
   "metadata": {},
   "outputs": [
    {
     "data": {
      "text/plain": [
       "ForkVA       float64\n",
       "ForkW        float64\n",
       "Type          object\n",
       "Sector         int64\n",
       "ServiceID      int64\n",
       "dtype: object"
      ]
     },
     "execution_count": 3,
     "metadata": {},
     "output_type": "execute_result"
    }
   ],
   "source": [
    "inputData.dtypes"
   ]
  },
  {
   "cell_type": "markdown",
   "metadata": {},
   "source": [
    "Преобразование категориальных переменных"
   ]
  },
  {
   "cell_type": "code",
   "execution_count": 4,
   "metadata": {},
   "outputs": [
    {
     "data": {
      "text/plain": [
       "ForkVA                          float64\n",
       "ForkW                           float64\n",
       "Sector                            int64\n",
       "ServiceID                         int64\n",
       "Type_AutomobileIndustry           uint8\n",
       "Type_Bank                         uint8\n",
       "Type_BpoIndustry                  uint8\n",
       "Type_CementIndustry               uint8\n",
       "Type_ChemicalIndustry             uint8\n",
       "Type_Farmers1                     uint8\n",
       "Type_Farmers2                     uint8\n",
       "Type_FertilizerIndustry           uint8\n",
       "Type_FoodIndustry                 uint8\n",
       "Type_Handlooms                    uint8\n",
       "Type_HealthCareResources          uint8\n",
       "Type_Hospital                     uint8\n",
       "Type_Hostel                       uint8\n",
       "Type_PoultryIndustry              uint8\n",
       "Type_Residential(Apartments)      uint8\n",
       "Type_Residential(individual)      uint8\n",
       "Type_Supermarket                  uint8\n",
       "Type_TextileIndustry              uint8\n",
       "Type_Theatre                      uint8\n",
       "Type_University                   uint8\n",
       "dtype: object"
      ]
     },
     "execution_count": 4,
     "metadata": {},
     "output_type": "execute_result"
    }
   ],
   "source": [
    "inputData1 =  pd.get_dummies(inputData, columns=['Type'])\n",
    "inputData1.dtypes"
   ]
  },
  {
   "cell_type": "markdown",
   "metadata": {},
   "source": [
    "1.3. Преобразование в матричную и векторную форму "
   ]
  },
  {
   "cell_type": "code",
   "execution_count": 5,
   "metadata": {},
   "outputs": [
    {
     "data": {
      "text/plain": [
       "array([  1.43763000e-01,   1.00000000e+00,   6.71004572e+08,\n",
       "         0.00000000e+00,   1.00000000e+00,   0.00000000e+00,\n",
       "         0.00000000e+00,   0.00000000e+00,   0.00000000e+00,\n",
       "         0.00000000e+00,   0.00000000e+00,   0.00000000e+00,\n",
       "         0.00000000e+00,   0.00000000e+00,   0.00000000e+00,\n",
       "         0.00000000e+00,   0.00000000e+00,   0.00000000e+00,\n",
       "         0.00000000e+00,   0.00000000e+00,   0.00000000e+00,\n",
       "         0.00000000e+00,   0.00000000e+00])"
      ]
     },
     "execution_count": 5,
     "metadata": {},
     "output_type": "execute_result"
    }
   ],
   "source": [
    "targetColumn = 'ForkVA'\n",
    "\n",
    "FeatureColumns = inputData1.columns.tolist()\n",
    "FeatureColumns.remove(targetColumn)\n",
    "\n",
    "X = inputData1[FeatureColumns].values\n",
    "y = inputData1[targetColumn].values\n",
    "X[0]"
   ]
  },
  {
   "cell_type": "markdown",
   "metadata": {},
   "source": [
    "1.4. Применение линейной регрессии."
   ]
  },
  {
   "cell_type": "code",
   "execution_count": 6,
   "metadata": {},
   "outputs": [
    {
     "data": {
      "text/plain": [
       "LinearRegression(copy_X=True, fit_intercept=True, n_jobs=1, normalize=False)"
      ]
     },
     "execution_count": 6,
     "metadata": {},
     "output_type": "execute_result"
    }
   ],
   "source": [
    "from sklearn.linear_model import LinearRegression\n",
    "\n",
    "lr = LinearRegression()\n",
    "\n",
    "lr.fit(X,y)"
   ]
  },
  {
   "cell_type": "markdown",
   "metadata": {},
   "source": [
    " Расчет метрик (MAE, MSE, RMSE, R^2)"
   ]
  },
  {
   "cell_type": "code",
   "execution_count": 7,
   "metadata": {},
   "outputs": [
    {
     "name": "stdout",
     "output_type": "stream",
     "text": [
      "MAE : 0.2499439266021522\n",
      "MSE : 0.08329497048142051\n",
      "R^2 coefficient : 0.00032156573972175195\n"
     ]
    }
   ],
   "source": [
    "from sklearn.metrics import mean_absolute_error, mean_squared_error, r2_score\n",
    "\n",
    "y_predict = lr.predict(X)\n",
    "\n",
    "test_mae_error = mean_absolute_error(y, y_predict)\n",
    "test_mse_error = mean_squared_error(y, y_predict)\n",
    "test_r2_error = r2_score(y, y_predict)\n",
    "print(\"MAE : {0}\".format(test_mae_error))\n",
    "print(\"MSE : {0}\".format(test_mse_error))\n",
    "print(\"R^2 coefficient : {0}\".format(test_r2_error))"
   ]
  },
  {
   "cell_type": "markdown",
   "metadata": {},
   "source": [
    "1.5 Кросс-валидация"
   ]
  },
  {
   "cell_type": "code",
   "execution_count": 8,
   "metadata": {
    "collapsed": true
   },
   "outputs": [],
   "source": [
    "from sklearn.model_selection import KFold\n",
    "\n",
    "kf = KFold(n_splits=3, shuffle=True)"
   ]
  },
  {
   "cell_type": "code",
   "execution_count": 9,
   "metadata": {},
   "outputs": [
    {
     "name": "stdout",
     "output_type": "stream",
     "text": [
      "Iteration #1: MAE : 0.25014684924414915, MSE : 0.08351200311779845, R2 : -0.0009809896083783354\n",
      "Iteration #2: MAE : 0.25081460157790625, MSE : 0.08374129662652091, R2 : -0.0006705791609185052\n",
      "Iteration #3: MAE : 0.24925549187747084, MSE : 0.08290943461404565, R2 : -0.0008145930226803877\n",
      "\n",
      "Overall: \n",
      "\tMAE : 0.25007231423317544\n",
      "\tMSE : 0.083387578119455\n",
      "\tR^2 coefficient : -0.0008220539306590761\n"
     ]
    }
   ],
   "source": [
    "MAE_list_scores = []\n",
    "MSE_list_scores = []\n",
    "R2_list_scores = []\n",
    "\n",
    "iteration_index = 0\n",
    "\n",
    "# Разделение на тестовую и тренировочную выборки\n",
    "for train_indexes, test_indexes in kf.split(X,y):\n",
    "    iteration_index+=1\n",
    "    # X_train, y_train - данные, соответствующие обучающей выборке\n",
    "    X_train = X[train_indexes]\n",
    "    y_train = y[train_indexes]\n",
    "    \n",
    "    # X_test, y_test - данные, соответствующие тренировочной выборке\n",
    "    X_test = X[test_indexes]\n",
    "    y_test = y[test_indexes]\n",
    "    \n",
    "    lr.fit(X_train, y_train) # Обучение на тестовых данных\n",
    "    y_predict = lr.predict(X_test)\n",
    "    \n",
    "    current_mae = mean_absolute_error(y_test, y_predict)\n",
    "    current_mse = mean_squared_error(y_test, y_predict)\n",
    "    current_r2 = r2_score(y_test, y_predict)\n",
    "    print(\"Iteration #{0}: MAE : {1}, MSE : {2}, R2 : {3}\".format(iteration_index, current_mae, current_mse, current_r2))\n",
    "    MAE_list_scores.append(current_mae)\n",
    "    MSE_list_scores.append(current_mse)\n",
    "    R2_list_scores.append(current_r2)\n",
    "\n",
    "# Выведем средние значения:\n",
    "print(\"\\nOverall: \")\n",
    "print(\"\\tMAE : {0}\".format(np.mean(MAE_list_scores)))\n",
    "print(\"\\tMSE : {0}\".format(np.mean(MSE_list_scores)))\n",
    "print(\"\\tR^2 coefficient : {0}\".format(np.mean(R2_list_scores)))"
   ]
  },
  {
   "cell_type": "code",
   "execution_count": 10,
   "metadata": {},
   "outputs": [
    {
     "data": {
      "text/plain": [
       "True"
      ]
     },
     "execution_count": 10,
     "metadata": {},
     "output_type": "execute_result"
    }
   ],
   "source": [
    "test_mse_error < np.mean(MSE_list_scores)"
   ]
  },
  {
   "cell_type": "markdown",
   "metadata": {},
   "source": [
    "2.Полиномиальная регрессия"
   ]
  },
  {
   "cell_type": "code",
   "execution_count": 11,
   "metadata": {},
   "outputs": [
    {
     "name": "stdout",
     "output_type": "stream",
     "text": [
      "Degree: 0\n",
      "\tMAE : 0.24998504081882386\n",
      "\tMSE : 0.08332352680532208\n",
      "Degree: 1\n",
      "\tMAE : 0.2501019187719901\n",
      "\tMSE : 0.08339603242285687\n",
      "Degree: 2\n",
      "\tMAE : 0.2500668654270546\n",
      "\tMSE : 0.0833947607223043\n"
     ]
    }
   ],
   "source": [
    "from sklearn.preprocessing import PolynomialFeatures\n",
    "from sklearn.pipeline import make_pipeline\n",
    "\n",
    "degreeList = []\n",
    "maeList = []\n",
    "mseList = []\n",
    "\n",
    "kf = KFold(n_splits=3, shuffle=True)\n",
    "\n",
    "for count, degree in enumerate(range(0,3)):\n",
    "    model = make_pipeline(PolynomialFeatures(degree), LinearRegression())\n",
    "    \n",
    "    MAE_for_current_degree = []\n",
    "    MSE_for_current_degree = []\n",
    "    \n",
    "    for train_indexes, test_indexes in kf.split(X,y):\n",
    "        # X_train, y_train - данные, соответствующие обучающей выборке\n",
    "        X_train = X[train_indexes]\n",
    "        y_train = y[train_indexes]\n",
    "    \n",
    "        # X_test, y_test - данные, соответствующие тренировочной выборке\n",
    "        X_test = X[test_indexes]\n",
    "        y_test = y[test_indexes]\n",
    "    \n",
    "        model.fit(X_train, y_train) # Обучение на тестовых данных\n",
    "        y_predict = model.predict(X_test)\n",
    "        \n",
    "        current_mae = mean_absolute_error(y_test, y_predict)\n",
    "        current_mse = mean_squared_error(y_test, y_predict)\n",
    "        \n",
    "        MAE_for_current_degree.append(current_mae)\n",
    "        MSE_for_current_degree.append(current_mse)\n",
    "    \n",
    "    print(\"Degree: {0}\".format(degree))\n",
    "    print(\"\\tMAE : {0}\".format(np.mean(MAE_for_current_degree)))\n",
    "    print(\"\\tMSE : {0}\".format(np.mean(MSE_for_current_degree)))\n",
    "    degreeList.append(degree)\n",
    "    maeList.append(np.mean(MAE_for_current_degree))\n",
    "    mseList.append(np.mean(MSE_for_current_degree))\n",
    "\n",
    "MAE_polin_degree2=maeList[2]\n",
    "MSE_polin_degree2=mseList[2]"
   ]
  },
  {
   "cell_type": "code",
   "execution_count": 12,
   "metadata": {
    "collapsed": true
   },
   "outputs": [],
   "source": [
    "import matplotlib.pyplot as plt\n",
    "%matplotlib inline"
   ]
  },
  {
   "cell_type": "code",
   "execution_count": 13,
   "metadata": {},
   "outputs": [
    {
     "data": {
      "image/png": "[encoded data removed]",
      "text/plain": [
       "<matplotlib.figure.Figure at 0x907ced0>"
      ]
     },
     "metadata": {},
     "output_type": "display_data"
    },
    {
     "data": {
      "image/png": "[encoded data removed]",
      "text/plain": [
       "<matplotlib.figure.Figure at 0x3078a10>"
      ]
     },
     "metadata": {},
     "output_type": "display_data"
    }
   ],
   "source": [
    "plt.plot(degreeList, mseList, 'b-', label='MSE')\n",
    "plt.title('MSE Error')\n",
    "plt.ylabel('MSE Error')\n",
    "plt.xlabel('Degree of polynomial')\n",
    "plt.show()\n",
    "\n",
    "plt.plot(degreeList, maeList, 'r', label='MAE')\n",
    "plt.title('MAE Error')\n",
    "plt.ylabel('MAE Error')\n",
    "plt.xlabel('Degree of polynomial')\n",
    "plt.show()"
   ]
  },
  {
   "cell_type": "code",
   "execution_count": 14,
   "metadata": {
    "collapsed": true
   },
   "outputs": [],
   "source": [
    "model = make_pipeline(PolynomialFeatures(2), LinearRegression())\n",
    "model.fit(X_train, y_train) # Обучение на тестовых данных\n",
    "y_predict = model.predict(X_test)"
   ]
  },
  {
   "cell_type": "code",
   "execution_count": 15,
   "metadata": {},
   "outputs": [
    {
     "name": "stdout",
     "output_type": "stream",
     "text": [
      "Coefficients: [  1.80757587e-18   1.40658195e-16  -5.71562416e-23   3.42789686e-12\n",
      "  -2.47743403e-20   2.10508435e-20   5.57908120e-20  -3.81228480e-22\n",
      "  -7.60126735e-20  -8.14432672e-20  -5.19594193e-20   7.79739657e-20\n",
      "   7.13473596e-20   8.27646721e-20  -1.94055218e-19  -9.43246069e-20\n",
      "  -1.08922161e-18   5.46437392e-21  -1.39092028e-20  -1.01285695e-21\n",
      "  -1.82447931e-20  -1.53017511e-20  -2.38854427e-20   1.39401224e-23\n",
      "  -1.67435746e-21  -1.53572564e-21   7.17551320e-13  -1.22857730e-20\n",
      "   7.03319954e-21   3.04768943e-20  -1.67096051e-21  -1.67049546e-20\n",
      "  -4.53895182e-21  -3.10315579e-20  -6.76502619e-21  -8.11371431e-21\n",
      "   4.97818596e-20   1.83852481e-20  -2.61258062e-21   1.01402457e-20\n",
      "   2.67106595e-21  -7.22014795e-21  -4.73169452e-22  -9.37945086e-21\n",
      "  -7.52388927e-21  -1.19182216e-20   2.14159348e-22   0.00000000e+00\n",
      "   3.42789686e-12  -2.43504202e-20   1.46067674e-20   6.03418061e-20\n",
      "  -3.38193595e-21  -3.33315743e-20  -9.08486921e-21  -6.14379498e-20\n",
      "  -1.30727720e-20  -1.61700214e-20   1.00792970e-19   3.64179578e-20\n",
      "  -5.08575807e-21   2.06315635e-20   5.46435520e-21  -1.39092132e-20\n",
      "  -1.01286520e-21  -1.82447904e-20  -1.53017472e-20  -2.38854436e-20\n",
      "   1.39408613e-23   1.30846459e-21  -1.11283478e-11   9.80120772e-12\n",
      "   3.50586048e-11  -2.62100452e-12  -7.82298947e-12  -4.13368718e-12\n",
      "  -3.45478771e-11  -3.61898463e-12   4.70185243e-12   2.72128155e-11\n",
      "   1.63889513e-11  -3.99559136e-12   1.60337405e-11   3.39957709e-12\n",
      "  -1.35965313e-11  -5.40179825e-13  -5.77844638e-12  -1.20149338e-11\n",
      "  -1.27480409e-11   3.37776195e-12  -2.43504202e-20   0.00000000e+00\n",
      "   0.00000000e+00   0.00000000e+00   0.00000000e+00   0.00000000e+00\n",
      "   0.00000000e+00   0.00000000e+00   0.00000000e+00   0.00000000e+00\n",
      "   0.00000000e+00   0.00000000e+00   0.00000000e+00   0.00000000e+00\n",
      "   0.00000000e+00   0.00000000e+00   0.00000000e+00   0.00000000e+00\n",
      "   0.00000000e+00   0.00000000e+00   1.46067674e-20   0.00000000e+00\n",
      "   0.00000000e+00   0.00000000e+00   0.00000000e+00   0.00000000e+00\n",
      "   0.00000000e+00   0.00000000e+00   0.00000000e+00   0.00000000e+00\n",
      "   0.00000000e+00   0.00000000e+00   0.00000000e+00   0.00000000e+00\n",
      "   0.00000000e+00   0.00000000e+00   0.00000000e+00   0.00000000e+00\n",
      "   0.00000000e+00   6.03418061e-20   0.00000000e+00   0.00000000e+00\n",
      "   0.00000000e+00   0.00000000e+00   0.00000000e+00   0.00000000e+00\n",
      "   0.00000000e+00   0.00000000e+00   0.00000000e+00   0.00000000e+00\n",
      "   0.00000000e+00   0.00000000e+00   0.00000000e+00   0.00000000e+00\n",
      "   0.00000000e+00   0.00000000e+00   0.00000000e+00  -3.38193595e-21\n",
      "   0.00000000e+00   0.00000000e+00   0.00000000e+00   0.00000000e+00\n",
      "   0.00000000e+00   0.00000000e+00   0.00000000e+00   0.00000000e+00\n",
      "   0.00000000e+00   0.00000000e+00   0.00000000e+00   0.00000000e+00\n",
      "   0.00000000e+00   0.00000000e+00   0.00000000e+00   0.00000000e+00\n",
      "  -3.33315743e-20   0.00000000e+00   0.00000000e+00   0.00000000e+00\n",
      "   0.00000000e+00   0.00000000e+00   0.00000000e+00   0.00000000e+00\n",
      "   0.00000000e+00   0.00000000e+00   0.00000000e+00   0.00000000e+00\n",
      "   0.00000000e+00   0.00000000e+00   0.00000000e+00   0.00000000e+00\n",
      "  -9.08486921e-21   0.00000000e+00   0.00000000e+00   0.00000000e+00\n",
      "   0.00000000e+00   0.00000000e+00   0.00000000e+00   0.00000000e+00\n",
      "   0.00000000e+00   0.00000000e+00   0.00000000e+00   0.00000000e+00\n",
      "   0.00000000e+00   0.00000000e+00   0.00000000e+00  -6.14379498e-20\n",
      "   0.00000000e+00   0.00000000e+00   0.00000000e+00   0.00000000e+00\n",
      "   0.00000000e+00   0.00000000e+00   0.00000000e+00   0.00000000e+00\n",
      "   0.00000000e+00   0.00000000e+00   0.00000000e+00   0.00000000e+00\n",
      "   0.00000000e+00  -1.30727720e-20   0.00000000e+00   0.00000000e+00\n",
      "   0.00000000e+00   0.00000000e+00   0.00000000e+00   0.00000000e+00\n",
      "   0.00000000e+00   0.00000000e+00   0.00000000e+00   0.00000000e+00\n",
      "   0.00000000e+00   0.00000000e+00  -1.61700214e-20   0.00000000e+00\n",
      "   0.00000000e+00   0.00000000e+00   0.00000000e+00   0.00000000e+00\n",
      "   0.00000000e+00   0.00000000e+00   0.00000000e+00   0.00000000e+00\n",
      "   0.00000000e+00   0.00000000e+00   1.00792970e-19   0.00000000e+00\n",
      "   0.00000000e+00   0.00000000e+00   0.00000000e+00   0.00000000e+00\n",
      "   0.00000000e+00   0.00000000e+00   0.00000000e+00   0.00000000e+00\n",
      "   0.00000000e+00   3.64179578e-20   0.00000000e+00   0.00000000e+00\n",
      "   0.00000000e+00   0.00000000e+00   0.00000000e+00   0.00000000e+00\n",
      "   0.00000000e+00   0.00000000e+00   0.00000000e+00  -5.08575807e-21\n",
      "   0.00000000e+00   0.00000000e+00   0.00000000e+00   0.00000000e+00\n",
      "   0.00000000e+00   0.00000000e+00   0.00000000e+00   0.00000000e+00\n",
      "   2.06315635e-20   0.00000000e+00   0.00000000e+00   0.00000000e+00\n",
      "   0.00000000e+00   0.00000000e+00   0.00000000e+00   0.00000000e+00\n",
      "   5.46435520e-21   0.00000000e+00   0.00000000e+00   0.00000000e+00\n",
      "   0.00000000e+00   0.00000000e+00   0.00000000e+00  -1.39092132e-20\n",
      "   0.00000000e+00   0.00000000e+00   0.00000000e+00   0.00000000e+00\n",
      "   0.00000000e+00  -1.01286520e-21   0.00000000e+00   0.00000000e+00\n",
      "   0.00000000e+00   0.00000000e+00  -1.82447904e-20   0.00000000e+00\n",
      "   0.00000000e+00   0.00000000e+00  -1.53017472e-20   0.00000000e+00\n",
      "   0.00000000e+00  -2.38854436e-20   0.00000000e+00   1.39408613e-23]\n",
      "Intercept: 0.49585652018539417\n"
     ]
    }
   ],
   "source": [
    "print(\"Coefficients: {0}\".format((model.get_params()['linearregression']).coef_))\n",
    "print(\"Intercept: {0}\".format((model.get_params()['linearregression']).intercept_ ))"
   ]
  },
  {
   "cell_type": "markdown",
   "metadata": {},
   "source": [
    "По договоренности оптимальный коэффициент полиномиальной регрессии - 2."
   ]
  },
  {
   "cell_type": "markdown",
   "metadata": {},
   "source": [
    "Задача 3.Применить и сравнить L1 и L2 регрессии"
   ]
  },
  {
   "cell_type": "markdown",
   "metadata": {},
   "source": [
    "Ридж регрессия."
   ]
  },
  {
   "cell_type": "code",
   "execution_count": 16,
   "metadata": {},
   "outputs": [
    {
     "name": "stdout",
     "output_type": "stream",
     "text": [
      "Coefficients: [  3.31469998e-06  -5.84061406e-06  -1.47968227e-06   8.24357565e-07\n",
      "   5.44949555e-07   2.52559361e-06  -3.53875116e-08  -1.08859107e-06\n",
      "   9.72296847e-07  -4.55026374e-07  -1.29439025e-06  -1.02740846e-06\n",
      "   1.47574207e-06  -1.40138669e-06  -2.30021421e-06  -2.55033233e-06\n",
      "  -2.55198700e-06   2.90037314e-06  -3.55103470e-06  -5.08212670e-06\n",
      "   1.92823790e-06   4.10120228e-06   7.61748978e-07   1.33532777e-06\n",
      "   3.15800524e-06   5.55472525e-07   1.28741029e-11   2.73986228e-06\n",
      "  -1.79961020e-06  -4.09962074e-06   3.74591661e-08   1.75044918e-06\n",
      "   2.08584401e-06  -7.59715292e-06  -1.91147214e-06   1.50879687e-07\n",
      "   3.19995083e-06  -1.44447015e-06  -1.03138682e-06  -1.40691685e-06\n",
      "  -3.04306794e-06  -1.49515778e-06  -4.25434190e-06   1.87467339e-06\n",
      "   3.14932950e-06  -1.68096837e-06   2.71379905e-06  -2.44540393e-07\n",
      "   1.14390846e-07  -4.72287547e-06   2.73566475e-06   9.60942055e-07\n",
      "   5.77206457e-06   3.03101767e-06   6.26497321e-07  -3.98182620e-06\n",
      "   1.05444548e-06  -2.00381540e-06  -3.13669940e-07   3.54423925e-06\n",
      "  -1.21265785e-06  -3.04056980e-06  -3.23676732e-07  -1.15492175e-07\n",
      "   1.51595506e-07   1.62828121e-06  -4.96370356e-06   4.60389979e-06\n",
      "  -1.73192316e-06   3.28169988e-22  -9.38798201e-07  -9.38704216e-07\n",
      "  -9.38709208e-07  -9.38749744e-07  -9.38782916e-07  -9.38755319e-07\n",
      "  -9.38801966e-07  -9.38776221e-07  -9.38749849e-07  -9.38769365e-07\n",
      "  -9.38747492e-07  -9.38744898e-07  -9.38748131e-07  -9.38758618e-07\n",
      "  -9.38753919e-07  -9.38738390e-07  -9.38760850e-07  -9.38748255e-07\n",
      "  -9.38767470e-07  -9.38752965e-07  -2.30401529e-06  -3.33877769e-06\n",
      "   2.19899880e-06   7.71969023e-06   3.90445008e-06   2.20526668e-06\n",
      "  -1.56910970e-07  -5.23274180e-07   1.43083509e-06   2.36283543e-08\n",
      "  -4.89729681e-07   2.93457218e-06  -3.69576861e-06   5.93974202e-07\n",
      "  -1.52407798e-06  -1.53685055e-06   5.26766771e-06   3.61540794e-06\n",
      "   2.76422928e-07  -3.10272903e-06   1.03810548e-06  -1.41622226e-06\n",
      "  -2.22394129e-06   3.60807469e-06  -1.55161811e-07   3.25964204e-07\n",
      "   2.19655571e-06  -3.48475275e-06   1.98282286e-06   2.71442188e-06\n",
      "   4.71746557e-08   4.18984549e-06  -4.75229175e-06   5.74336936e-07\n",
      "  -3.81706280e-06   2.10439513e-06  -5.44288215e-07  -2.12788042e-06\n",
      "  -3.20479191e-06  -5.56330443e-06  -2.95719854e-07   2.69828445e-06\n",
      "  -4.56455435e-07  -5.22298228e-06  -2.80829690e-06  -1.09480605e-07\n",
      "   3.02268391e-06  -7.86840177e-06  -2.07135891e-06   1.90610301e-06\n",
      "   4.45565172e-06  -6.38511992e-07   4.05723438e-06  -3.52329256e-06\n",
      "  -4.55301313e-06   1.08607349e-06  -1.86396952e-08   1.05549680e-06\n",
      "   4.37946403e-06  -2.88246191e-06  -3.92304381e-06  -2.19427180e-07\n",
      "   1.71626326e-06  -2.53890151e-06   3.50875209e-06  -4.38967161e-06\n",
      "  -1.75393773e-06   1.51413501e-06   1.57290955e-06   2.95182661e-06\n",
      "   7.74370450e-06  -1.24450856e-06  -2.07589489e-06   3.29939007e-06\n",
      "   9.83786406e-07   2.30410327e-06   4.63081755e-06   1.51698078e-06\n",
      "   2.24242186e-06  -1.47502176e-06   3.31164721e-06   3.33992180e-06\n",
      "   1.30739911e-06   4.16051066e-07  -4.11563442e-06  -2.96932171e-06\n",
      "  -3.41818154e-06  -4.46574482e-06   2.96966377e-06  -1.22364348e-06\n",
      "   3.55548825e-06  -2.52266019e-06   5.99356656e-06  -2.03937312e-06\n",
      "   7.37998328e-07   3.66576849e-06   8.76871887e-07  -2.11569803e-06\n",
      "  -1.45446287e-06   1.66653350e-06  -2.51150146e-07  -2.45303892e-06\n",
      "  -8.10359083e-07  -1.45334213e-06   1.37543014e-06   3.81955935e-06\n",
      "  -4.99750449e-08   5.28368371e-07  -4.04036894e-06  -8.61483028e-07\n",
      "   2.01351514e-06   1.74258410e-06  -7.72287485e-07  -9.93679415e-08\n",
      "  -5.46294066e-06  -4.23707885e-07   1.15880658e-06  -1.82116477e-06\n",
      "   1.64056019e-06  -1.16091632e-07  -8.46952961e-08   3.09511769e-06\n",
      "   4.60308204e-06   5.32989012e-06  -1.73116899e-06  -4.06605215e-06\n",
      "   3.25010740e-06   1.65651796e-06  -1.17867251e-06  -1.05642791e-06\n",
      "   3.10826585e-06  -5.57611757e-06   2.59096404e-06   4.47107201e-06\n",
      "   1.52960875e-06  -4.52151086e-06   2.02107330e-06  -2.32624095e-06\n",
      "   2.61620992e-06  -8.64962392e-06  -3.52281340e-06  -1.96875329e-07\n",
      "  -3.13679437e-06  -3.39101531e-06  -2.35657099e-06  -9.55243412e-07\n",
      "   3.31781558e-06   5.28015848e-08  -4.15796539e-07   2.57954580e-07\n",
      "   1.86371781e-06   5.74544729e-06   5.16096266e-06  -2.17480039e-06\n",
      "  -3.16089640e-06   1.79029081e-06  -6.67904243e-06   3.79839225e-06\n",
      "   8.29974930e-07  -7.01384727e-07  -1.56369330e-06  -3.18970525e-06\n",
      "   2.65917343e-06  -1.89200941e-06  -1.18846345e-07   5.18915979e-07\n",
      "  -4.67084575e-06   3.12249522e-06   7.61919323e-07   4.49558325e-06\n",
      "   3.01914442e-06   2.08201113e-06  -1.65101871e-06  -6.46229321e-06\n",
      "   9.68908493e-07  -2.40998801e-07  -5.06033115e-07  -2.46925560e-06\n",
      "   2.27247321e-06   4.25499327e-06   1.77210202e-07   4.91715211e-06\n",
      "  -3.62497774e-07  -2.79465428e-06   1.39110623e-06   3.82743818e-06\n",
      "   5.70289092e-06   2.56159417e-06   5.87792224e-06   4.04579757e-06\n",
      "   3.92556712e-06  -9.77782910e-07  -8.88911320e-07   3.33340593e-06\n",
      "   5.12400041e-06  -4.90381673e-07  -3.26874968e-07   2.07189463e-06\n",
      "   2.24806062e-06  -1.27478948e-06  -2.79258295e-06  -2.64190496e-06\n",
      "   9.30328240e-07   1.30982470e-07  -2.54160418e-06  -5.08623750e-06\n",
      "  -3.15020074e-06   5.34320988e-06   7.61183076e-07  -1.08381743e-06]\n",
      "Intercept: 0.5001007316904245\n"
     ]
    }
   ],
   "source": [
    "from sklearn.linear_model import Ridge\n",
    "\n",
    "optimalDegree = 2\n",
    "\n",
    "# Будем использовать параметры по умолчанию, т.е. на данный момент не укажем значение alpha\n",
    "model = make_pipeline(PolynomialFeatures(2), Ridge())\n",
    "kf = KFold(n_splits=3, shuffle=True)\n",
    "\n",
    "MAE_list_Ridge = []\n",
    "MSE_list_Ridge = []\n",
    "\n",
    "for train_indexes, test_indexes in kf.split(X,y):\n",
    "    # X_train, y_train - данные, соответствующие обучающей выборке\n",
    "    X_train = X[train_indexes]\n",
    "    y_train = y[train_indexes]\n",
    "    \n",
    "    # X_test, y_test - данные, соответствующие тренировочной выборке\n",
    "    X_test = X[test_indexes]\n",
    "    y_test = y[test_indexes]\n",
    "    \n",
    "    model.fit(X_train, y_train) # Обучение на тестовых данных\n",
    "    y_predict = model.predict(X_test)\n",
    "        \n",
    "    current_mae = mean_absolute_error(y_test, y_predict)\n",
    "    current_mse = mean_squared_error(y_test, y_predict)\n",
    "        \n",
    "    MAE_list_Ridge.append(current_mae)\n",
    "    MSE_list_Ridge.append(current_mse)\n",
    "\n",
    "print(\"Coefficients: {0}\".format((model.get_params()['ridge']).coef_))\n",
    "print(\"Intercept: {0}\".format((model.get_params()['ridge']).intercept_ ))"
   ]
  },
  {
   "cell_type": "markdown",
   "metadata": {},
   "source": [
    "Лассо регрессия"
   ]
  },
  {
   "cell_type": "code",
   "execution_count": 17,
   "metadata": {},
   "outputs": [
    {
     "name": "stderr",
     "output_type": "stream",
     "text": [
      "C:\\ProgramData\\Anaconda3\\lib\\site-packages\\sklearn\\linear_model\\coordinate_descent.py:484: ConvergenceWarning: Objective did not converge. You might want to increase the number of iterations. Fitting data with very small alpha may cause precision problems.\n",
      "  ConvergenceWarning)\n",
      "C:\\ProgramData\\Anaconda3\\lib\\site-packages\\sklearn\\linear_model\\coordinate_descent.py:484: ConvergenceWarning: Objective did not converge. You might want to increase the number of iterations. Fitting data with very small alpha may cause precision problems.\n",
      "  ConvergenceWarning)\n",
      "C:\\ProgramData\\Anaconda3\\lib\\site-packages\\sklearn\\linear_model\\coordinate_descent.py:484: ConvergenceWarning: Objective did not converge. You might want to increase the number of iterations. Fitting data with very small alpha may cause precision problems.\n",
      "  ConvergenceWarning)\n"
     ]
    },
    {
     "name": "stdout",
     "output_type": "stream",
     "text": [
      "Coefficients: [  0.00000000e+00   0.00000000e+00   0.00000000e+00  -7.34901766e-12\n",
      "  -0.00000000e+00  -0.00000000e+00  -0.00000000e+00  -0.00000000e+00\n",
      "   0.00000000e+00  -0.00000000e+00  -0.00000000e+00  -0.00000000e+00\n",
      "  -0.00000000e+00   0.00000000e+00  -0.00000000e+00  -0.00000000e+00\n",
      "   0.00000000e+00   0.00000000e+00   0.00000000e+00  -0.00000000e+00\n",
      "   0.00000000e+00  -0.00000000e+00   0.00000000e+00  -0.00000000e+00\n",
      "   0.00000000e+00   0.00000000e+00   2.50152671e-14  -0.00000000e+00\n",
      "   0.00000000e+00  -0.00000000e+00  -0.00000000e+00   0.00000000e+00\n",
      "   0.00000000e+00  -0.00000000e+00   0.00000000e+00  -0.00000000e+00\n",
      "   0.00000000e+00  -0.00000000e+00  -0.00000000e+00   0.00000000e+00\n",
      "  -0.00000000e+00   0.00000000e+00   0.00000000e+00   0.00000000e+00\n",
      "  -0.00000000e+00   0.00000000e+00   0.00000000e+00   0.00000000e+00\n",
      "  -1.26645570e-14  -0.00000000e+00  -0.00000000e+00  -0.00000000e+00\n",
      "  -0.00000000e+00   0.00000000e+00  -0.00000000e+00  -0.00000000e+00\n",
      "  -0.00000000e+00  -0.00000000e+00   0.00000000e+00  -0.00000000e+00\n",
      "  -0.00000000e+00   0.00000000e+00   0.00000000e+00   0.00000000e+00\n",
      "  -0.00000000e+00   0.00000000e+00  -0.00000000e+00   0.00000000e+00\n",
      "  -0.00000000e+00   5.45636761e-21  -4.59861957e-11  -3.13878824e-11\n",
      "   1.33054742e-11  -1.58612392e-11  -3.58450287e-11  -2.94853137e-11\n",
      "  -3.78115990e-11  -4.53964678e-11  -1.19504006e-11  -5.39088932e-11\n",
      "  -2.16149443e-11  -1.69663022e-11  -1.17698929e-11  -3.24927253e-11\n",
      "  -2.71724418e-11  -8.47098973e-12  -3.32848988e-11  -3.11116741e-11\n",
      "  -2.82354288e-11  -1.37962450e-11  -0.00000000e+00   0.00000000e+00\n",
      "   0.00000000e+00   0.00000000e+00   0.00000000e+00   0.00000000e+00\n",
      "   0.00000000e+00   0.00000000e+00   0.00000000e+00   0.00000000e+00\n",
      "   0.00000000e+00   0.00000000e+00   0.00000000e+00   0.00000000e+00\n",
      "   0.00000000e+00   0.00000000e+00   0.00000000e+00   0.00000000e+00\n",
      "   0.00000000e+00   0.00000000e+00  -0.00000000e+00   0.00000000e+00\n",
      "   0.00000000e+00   0.00000000e+00   0.00000000e+00   0.00000000e+00\n",
      "   0.00000000e+00   0.00000000e+00   0.00000000e+00   0.00000000e+00\n",
      "   0.00000000e+00   0.00000000e+00   0.00000000e+00   0.00000000e+00\n",
      "   0.00000000e+00   0.00000000e+00   0.00000000e+00   0.00000000e+00\n",
      "   0.00000000e+00  -0.00000000e+00   0.00000000e+00   0.00000000e+00\n",
      "   0.00000000e+00   0.00000000e+00   0.00000000e+00   0.00000000e+00\n",
      "   0.00000000e+00   0.00000000e+00   0.00000000e+00   0.00000000e+00\n",
      "   0.00000000e+00   0.00000000e+00   0.00000000e+00   0.00000000e+00\n",
      "   0.00000000e+00   0.00000000e+00   0.00000000e+00  -0.00000000e+00\n",
      "   0.00000000e+00   0.00000000e+00   0.00000000e+00   0.00000000e+00\n",
      "   0.00000000e+00   0.00000000e+00   0.00000000e+00   0.00000000e+00\n",
      "   0.00000000e+00   0.00000000e+00   0.00000000e+00   0.00000000e+00\n",
      "   0.00000000e+00   0.00000000e+00   0.00000000e+00   0.00000000e+00\n",
      "   0.00000000e+00   0.00000000e+00   0.00000000e+00   0.00000000e+00\n",
      "   0.00000000e+00   0.00000000e+00   0.00000000e+00   0.00000000e+00\n",
      "   0.00000000e+00   0.00000000e+00   0.00000000e+00   0.00000000e+00\n",
      "   0.00000000e+00   0.00000000e+00   0.00000000e+00   0.00000000e+00\n",
      "  -0.00000000e+00   0.00000000e+00   0.00000000e+00   0.00000000e+00\n",
      "   0.00000000e+00   0.00000000e+00   0.00000000e+00   0.00000000e+00\n",
      "   0.00000000e+00   0.00000000e+00   0.00000000e+00   0.00000000e+00\n",
      "   0.00000000e+00   0.00000000e+00   0.00000000e+00  -0.00000000e+00\n",
      "   0.00000000e+00   0.00000000e+00   0.00000000e+00   0.00000000e+00\n",
      "   0.00000000e+00   0.00000000e+00   0.00000000e+00   0.00000000e+00\n",
      "   0.00000000e+00   0.00000000e+00   0.00000000e+00   0.00000000e+00\n",
      "   0.00000000e+00  -0.00000000e+00   0.00000000e+00   0.00000000e+00\n",
      "   0.00000000e+00   0.00000000e+00   0.00000000e+00   0.00000000e+00\n",
      "   0.00000000e+00   0.00000000e+00   0.00000000e+00   0.00000000e+00\n",
      "   0.00000000e+00   0.00000000e+00  -0.00000000e+00   0.00000000e+00\n",
      "   0.00000000e+00   0.00000000e+00   0.00000000e+00   0.00000000e+00\n",
      "   0.00000000e+00   0.00000000e+00   0.00000000e+00   0.00000000e+00\n",
      "   0.00000000e+00   0.00000000e+00   0.00000000e+00   0.00000000e+00\n",
      "   0.00000000e+00   0.00000000e+00   0.00000000e+00   0.00000000e+00\n",
      "   0.00000000e+00   0.00000000e+00   0.00000000e+00   0.00000000e+00\n",
      "   0.00000000e+00  -0.00000000e+00   0.00000000e+00   0.00000000e+00\n",
      "   0.00000000e+00   0.00000000e+00   0.00000000e+00   0.00000000e+00\n",
      "   0.00000000e+00   0.00000000e+00   0.00000000e+00  -0.00000000e+00\n",
      "   0.00000000e+00   0.00000000e+00   0.00000000e+00   0.00000000e+00\n",
      "   0.00000000e+00   0.00000000e+00   0.00000000e+00   0.00000000e+00\n",
      "   0.00000000e+00   0.00000000e+00   0.00000000e+00   0.00000000e+00\n",
      "   0.00000000e+00   0.00000000e+00   0.00000000e+00   0.00000000e+00\n",
      "   0.00000000e+00   0.00000000e+00   0.00000000e+00   0.00000000e+00\n",
      "   0.00000000e+00   0.00000000e+00   0.00000000e+00   0.00000000e+00\n",
      "   0.00000000e+00   0.00000000e+00   0.00000000e+00   0.00000000e+00\n",
      "   0.00000000e+00  -0.00000000e+00   0.00000000e+00   0.00000000e+00\n",
      "   0.00000000e+00   0.00000000e+00   0.00000000e+00   0.00000000e+00\n",
      "   0.00000000e+00   0.00000000e+00  -0.00000000e+00   0.00000000e+00\n",
      "   0.00000000e+00   0.00000000e+00   0.00000000e+00  -0.00000000e+00]\n",
      "Intercept: 0.5186220165302344\n"
     ]
    }
   ],
   "source": [
    "from sklearn.linear_model import Lasso\n",
    "\n",
    "model = make_pipeline(PolynomialFeatures(2), Lasso())\n",
    "kf = KFold(n_splits=3, shuffle=True)\n",
    "\n",
    "MAE_list_lasso = []\n",
    "MSE_list_lasso = []\n",
    "\n",
    "for train_indexes, test_indexes in kf.split(X,y):\n",
    "    # X_train, y_train - данные, соответствующие обучающей выборке\n",
    "    X_train = X[train_indexes]\n",
    "    y_train = y[train_indexes]\n",
    "    \n",
    "    # X_test, y_test - данные, соответствующие тренировочной выборке\n",
    "    X_test = X[test_indexes]\n",
    "    y_test = y[test_indexes]\n",
    "    \n",
    "    model.fit(X_train, y_train) # Обучение на тестовых данных\n",
    "    y_predict = model.predict(X_test)\n",
    "        \n",
    "    current_mae = mean_absolute_error(y_test, y_predict)\n",
    "    current_mse = mean_squared_error(y_test, y_predict)\n",
    "        \n",
    "    MAE_list_lasso.append(current_mae)\n",
    "    MSE_list_lasso.append(current_mse)   \n",
    "\n",
    "print(\"Coefficients: {0}\".format((model.get_params()['lasso']).coef_))\n",
    "print(\"Intercept: {0}\".format((model.get_params()['lasso']).intercept_ ))"
   ]
  },
  {
   "cell_type": "code",
   "execution_count": 22,
   "metadata": {},
   "outputs": [
    {
     "name": "stdout",
     "output_type": "stream",
     "text": [
      "\tMAE_ridge : 0.25010315131596483\n",
      "\tMSE_ridge : 0.08342070210783768\n",
      "\tRMSE_ridge : 0.28882642210822346\n",
      "\tMAE_Lasso : 0.2501035763394458\n",
      "\tMSE_Lasso : 0.08340375198737722\n",
      "\tRMSE_Lasso : 0.28879707752568623\n",
      "\tMAE_polin_degree2 : 0.2500668654270546\n",
      "\tMSE_polin_degree2 : 0.0833947607223043\n",
      "\tMAE_lin : 0.25007231423317544\n",
      "\tMSE_lin : 0.083387578119455\n",
      "Минимальное значение MSE - 0.083387578119455 у регрессии lin.\n",
      "Минимальное значение MAE - 0.2500668654270546 у регрессии polin_degree2.\n"
     ]
    }
   ],
   "source": [
    "print(\"\\tMAE_ridge : {0}\".format(np.mean(MAE_list_Ridge)))\n",
    "print(\"\\tMSE_ridge : {0}\".format(np.mean(MSE_list_Ridge)))\n",
    "print(\"\\tRMSE_ridge : {0}\".format(np.sqrt(np.mean(MSE_list_Ridge))))\n",
    "print(\"\\tMAE_Lasso : {0}\".format(np.mean(MAE_list_lasso)))\n",
    "print(\"\\tMSE_Lasso : {0}\".format(np.mean(MSE_list_lasso))) \n",
    "print(\"\\tRMSE_Lasso : {0}\".format(np.sqrt(np.mean(MSE_list_lasso))))\n",
    "print(\"\\tMAE_polin_degree2 : {0}\".format(maeList[2]))\n",
    "print(\"\\tMSE_polin_degree2 : {0}\".format(mseList[2]))\n",
    "print(\"\\tMAE_lin : {0}\".format(np.mean(MAE_list_scores)))\n",
    "print(\"\\tMSE_lin : {0}\".format(np.mean(MSE_list_scores)))\n",
    "min_list_MSE=[np.mean(MSE_list_Ridge),np.mean(MSE_list_lasso),MSE_polin_degree2,np.mean(MSE_list_scores)]\n",
    "min_list_MAE=[np.mean(MAE_list_Ridge),np.mean(MAE_list_lasso),MAE_polin_degree2,np.mean(MAE_list_scores)]\n",
    "dict1={0:'Ridge',1:'Lasso',2:'polin_degree2',3:'lin'}\n",
    "print(\"Минимальное значение MSE - {0} у регрессии {1}.\".format(min(min_list_MSE),dict1[min_list_MSE.index(min(min_list_MSE))]))\n",
    "print(\"Минимальное значение MAE - {0} у регрессии {1}.\".format(min(min_list_MAE),dict1[min_list_MAE.index(min(min_list_MAE))]))"
   ]
  },
  {
   "cell_type": "markdown",
   "metadata": {},
   "source": [
    "Важно отметить, что при кросс-валидации с количеством разбиений данных - 10, лучшие показатели у Лассо, а при 3 - простая линейная."
   ]
  },
  {
   "cell_type": "markdown",
   "metadata": {},
   "source": [
    "При учете того, что оптимальноa признается 2 степень полинома, меньшее значение у метрик ошибочности модели\n",
    "(МSЕ и МАЕ),наблюдаетя у Лассо регуляризованной регрессии, связно это, как я полагаю, с высокой разряженностью созданной модели \n",
    "(многие веса как видно из массива коэфициентов приравниваются 0, в том числе и по причине слишком малого их значения).\n",
    "Я думаю, что лассо регрессия лучше справляется с этими данными, так как из за нулевых весов, \n",
    "она ближе к модели с 0 степенью полиномов. А сами по себе полиномиальные модели для этих данных не совсем релевантны, \n",
    "так как, видимо, слишком сложные."
   ]
  },
  {
   "cell_type": "markdown",
   "metadata": {},
   "source": [
    "Задача 4. Подобрать гиперпараметры для L1 и L2 регрессии. "
   ]
  },
  {
   "cell_type": "code",
   "execution_count": 23,
   "metadata": {
    "collapsed": true
   },
   "outputs": [],
   "source": [
    "from sklearn.metrics import make_scorer\n",
    "from sklearn.model_selection import GridSearchCV\n",
    "\n",
    "MSE_scorer = make_scorer(mean_squared_error, greater_is_better=False)"
   ]
  },
  {
   "cell_type": "code",
   "execution_count": 24,
   "metadata": {
    "collapsed": true
   },
   "outputs": [],
   "source": [
    "n_alphas = 200 # 200 значений\n",
    "alphas = np.logspace(-10, 2, n_alphas)"
   ]
  },
  {
   "cell_type": "code",
   "execution_count": 25,
   "metadata": {
    "collapsed": true
   },
   "outputs": [],
   "source": [
    "parameters = {'alpha': alphas, 'fit_intercept' : [True, False]}"
   ]
  },
  {
   "cell_type": "code",
   "execution_count": 247,
   "metadata": {},
   "outputs": [
    {
     "name": "stderr",
     "output_type": "stream",
     "text": [
      "C:\\ProgramData\\Anaconda3\\lib\\site-packages\\sklearn\\linear_model\\coordinate_descent.py:484: ConvergenceWarning: Objective did not converge. You might want to increase the number of iterations. Fitting data with very small alpha may cause precision problems.\n",
      "  ConvergenceWarning)\n",
      "C:\\ProgramData\\Anaconda3\\lib\\site-packages\\sklearn\\linear_model\\coordinate_descent.py:484: ConvergenceWarning: Objective did not converge. You might want to increase the number of iterations. Fitting data with very small alpha may cause precision problems.\n",
      "  ConvergenceWarning)\n",
      "C:\\ProgramData\\Anaconda3\\lib\\site-packages\\sklearn\\linear_model\\coordinate_descent.py:484: ConvergenceWarning: Objective did not converge. You might want to increase the number of iterations. Fitting data with very small alpha may cause precision problems.\n",
      "  ConvergenceWarning)\n",
      "C:\\ProgramData\\Anaconda3\\lib\\site-packages\\sklearn\\linear_model\\coordinate_descent.py:484: ConvergenceWarning: Objective did not converge. You might want to increase the number of iterations. Fitting data with very small alpha may cause precision problems.\n",
      "  ConvergenceWarning)\n"
     ]
    },
    {
     "ename": "KeyboardInterrupt",
     "evalue": "",
     "output_type": "error",
     "traceback": [
      "\u001b[0;31m---------------------------------------------------------------------------\u001b[0m",
      "\u001b[0;31mKeyboardInterrupt\u001b[0m                         Traceback (most recent call last)",
      "\u001b[0;32m<ipython-input-247-fc621c681eeb>\u001b[0m in \u001b[0;36m<module>\u001b[0;34m()\u001b[0m\n\u001b[1;32m      1\u001b[0m \u001b[0mclf\u001b[0m \u001b[1;33m=\u001b[0m \u001b[0mGridSearchCV\u001b[0m\u001b[1;33m(\u001b[0m\u001b[0mLasso\u001b[0m\u001b[1;33m(\u001b[0m\u001b[1;33m)\u001b[0m\u001b[1;33m,\u001b[0m \u001b[0mparameters\u001b[0m\u001b[1;33m,\u001b[0m \u001b[0mscoring\u001b[0m  \u001b[1;33m=\u001b[0m \u001b[0mMSE_scorer\u001b[0m\u001b[1;33m)\u001b[0m\u001b[1;33m\u001b[0m\u001b[0m\n\u001b[0;32m----> 2\u001b[0;31m \u001b[0mclf\u001b[0m\u001b[1;33m.\u001b[0m\u001b[0mfit\u001b[0m\u001b[1;33m(\u001b[0m\u001b[0mX\u001b[0m\u001b[1;33m,\u001b[0m \u001b[0my\u001b[0m\u001b[1;33m)\u001b[0m \u001b[1;31m#Спустя минут 15 он все таки посчитал\u001b[0m\u001b[1;33m\u001b[0m\u001b[0m\n\u001b[0m",
      "\u001b[0;32mC:\\ProgramData\\Anaconda3\\lib\\site-packages\\sklearn\\model_selection\\_search.py\u001b[0m in \u001b[0;36mfit\u001b[0;34m(self, X, y, groups)\u001b[0m\n\u001b[1;32m    943\u001b[0m             \u001b[0mtrain\u001b[0m\u001b[1;33m/\u001b[0m\u001b[0mtest\u001b[0m \u001b[0mset\u001b[0m\u001b[1;33m.\u001b[0m\u001b[1;33m\u001b[0m\u001b[0m\n\u001b[1;32m    944\u001b[0m         \"\"\"\n\u001b[0;32m--> 945\u001b[0;31m         \u001b[1;32mreturn\u001b[0m \u001b[0mself\u001b[0m\u001b[1;33m.\u001b[0m\u001b[0m_fit\u001b[0m\u001b[1;33m(\u001b[0m\u001b[0mX\u001b[0m\u001b[1;33m,\u001b[0m \u001b[0my\u001b[0m\u001b[1;33m,\u001b[0m \u001b[0mgroups\u001b[0m\u001b[1;33m,\u001b[0m \u001b[0mParameterGrid\u001b[0m\u001b[1;33m(\u001b[0m\u001b[0mself\u001b[0m\u001b[1;33m.\u001b[0m\u001b[0mparam_grid\u001b[0m\u001b[1;33m)\u001b[0m\u001b[1;33m)\u001b[0m\u001b[1;33m\u001b[0m\u001b[0m\n\u001b[0m\u001b[1;32m    946\u001b[0m \u001b[1;33m\u001b[0m\u001b[0m\n\u001b[1;32m    947\u001b[0m \u001b[1;33m\u001b[0m\u001b[0m\n",
      "\u001b[0;32mC:\\ProgramData\\Anaconda3\\lib\\site-packages\\sklearn\\model_selection\\_search.py\u001b[0m in \u001b[0;36m_fit\u001b[0;34m(self, X, y, groups, parameter_iterable)\u001b[0m\n\u001b[1;32m    562\u001b[0m                                   \u001b[0mreturn_times\u001b[0m\u001b[1;33m=\u001b[0m\u001b[1;32mTrue\u001b[0m\u001b[1;33m,\u001b[0m \u001b[0mreturn_parameters\u001b[0m\u001b[1;33m=\u001b[0m\u001b[1;32mTrue\u001b[0m\u001b[1;33m,\u001b[0m\u001b[1;33m\u001b[0m\u001b[0m\n\u001b[1;32m    563\u001b[0m                                   error_score=self.error_score)\n\u001b[0;32m--> 564\u001b[0;31m           \u001b[1;32mfor\u001b[0m \u001b[0mparameters\u001b[0m \u001b[1;32min\u001b[0m \u001b[0mparameter_iterable\u001b[0m\u001b[1;33m\u001b[0m\u001b[0m\n\u001b[0m\u001b[1;32m    565\u001b[0m           for train, test in cv_iter)\n\u001b[1;32m    566\u001b[0m \u001b[1;33m\u001b[0m\u001b[0m\n",
      "\u001b[0;32mC:\\ProgramData\\Anaconda3\\lib\\site-packages\\sklearn\\externals\\joblib\\parallel.py\u001b[0m in \u001b[0;36m__call__\u001b[0;34m(self, iterable)\u001b[0m\n\u001b[1;32m    756\u001b[0m             \u001b[1;31m# was dispatched. In particular this covers the edge\u001b[0m\u001b[1;33m\u001b[0m\u001b[1;33m\u001b[0m\u001b[0m\n\u001b[1;32m    757\u001b[0m             \u001b[1;31m# case of Parallel used with an exhausted iterator.\u001b[0m\u001b[1;33m\u001b[0m\u001b[1;33m\u001b[0m\u001b[0m\n\u001b[0;32m--> 758\u001b[0;31m             \u001b[1;32mwhile\u001b[0m \u001b[0mself\u001b[0m\u001b[1;33m.\u001b[0m\u001b[0mdispatch_one_batch\u001b[0m\u001b[1;33m(\u001b[0m\u001b[0miterator\u001b[0m\u001b[1;33m)\u001b[0m\u001b[1;33m:\u001b[0m\u001b[1;33m\u001b[0m\u001b[0m\n\u001b[0m\u001b[1;32m    759\u001b[0m                 \u001b[0mself\u001b[0m\u001b[1;33m.\u001b[0m\u001b[0m_iterating\u001b[0m \u001b[1;33m=\u001b[0m \u001b[1;32mTrue\u001b[0m\u001b[1;33m\u001b[0m\u001b[0m\n\u001b[1;32m    760\u001b[0m             \u001b[1;32melse\u001b[0m\u001b[1;33m:\u001b[0m\u001b[1;33m\u001b[0m\u001b[0m\n",
      "\u001b[0;32mC:\\ProgramData\\Anaconda3\\lib\\site-packages\\sklearn\\externals\\joblib\\parallel.py\u001b[0m in \u001b[0;36mdispatch_one_batch\u001b[0;34m(self, iterator)\u001b[0m\n\u001b[1;32m    606\u001b[0m                 \u001b[1;32mreturn\u001b[0m \u001b[1;32mFalse\u001b[0m\u001b[1;33m\u001b[0m\u001b[0m\n\u001b[1;32m    607\u001b[0m             \u001b[1;32melse\u001b[0m\u001b[1;33m:\u001b[0m\u001b[1;33m\u001b[0m\u001b[0m\n\u001b[0;32m--> 608\u001b[0;31m                 \u001b[0mself\u001b[0m\u001b[1;33m.\u001b[0m\u001b[0m_dispatch\u001b[0m\u001b[1;33m(\u001b[0m\u001b[0mtasks\u001b[0m\u001b[1;33m)\u001b[0m\u001b[1;33m\u001b[0m\u001b[0m\n\u001b[0m\u001b[1;32m    609\u001b[0m                 \u001b[1;32mreturn\u001b[0m \u001b[1;32mTrue\u001b[0m\u001b[1;33m\u001b[0m\u001b[0m\n\u001b[1;32m    610\u001b[0m \u001b[1;33m\u001b[0m\u001b[0m\n",
      "\u001b[0;32mC:\\ProgramData\\Anaconda3\\lib\\site-packages\\sklearn\\externals\\joblib\\parallel.py\u001b[0m in \u001b[0;36m_dispatch\u001b[0;34m(self, batch)\u001b[0m\n\u001b[1;32m    569\u001b[0m         \u001b[0mdispatch_timestamp\u001b[0m \u001b[1;33m=\u001b[0m \u001b[0mtime\u001b[0m\u001b[1;33m.\u001b[0m\u001b[0mtime\u001b[0m\u001b[1;33m(\u001b[0m\u001b[1;33m)\u001b[0m\u001b[1;33m\u001b[0m\u001b[0m\n\u001b[1;32m    570\u001b[0m         \u001b[0mcb\u001b[0m \u001b[1;33m=\u001b[0m \u001b[0mBatchCompletionCallBack\u001b[0m\u001b[1;33m(\u001b[0m\u001b[0mdispatch_timestamp\u001b[0m\u001b[1;33m,\u001b[0m \u001b[0mlen\u001b[0m\u001b[1;33m(\u001b[0m\u001b[0mbatch\u001b[0m\u001b[1;33m)\u001b[0m\u001b[1;33m,\u001b[0m \u001b[0mself\u001b[0m\u001b[1;33m)\u001b[0m\u001b[1;33m\u001b[0m\u001b[0m\n\u001b[0;32m--> 571\u001b[0;31m         \u001b[0mjob\u001b[0m \u001b[1;33m=\u001b[0m \u001b[0mself\u001b[0m\u001b[1;33m.\u001b[0m\u001b[0m_backend\u001b[0m\u001b[1;33m.\u001b[0m\u001b[0mapply_async\u001b[0m\u001b[1;33m(\u001b[0m\u001b[0mbatch\u001b[0m\u001b[1;33m,\u001b[0m \u001b[0mcallback\u001b[0m\u001b[1;33m=\u001b[0m\u001b[0mcb\u001b[0m\u001b[1;33m)\u001b[0m\u001b[1;33m\u001b[0m\u001b[0m\n\u001b[0m\u001b[1;32m    572\u001b[0m         \u001b[0mself\u001b[0m\u001b[1;33m.\u001b[0m\u001b[0m_jobs\u001b[0m\u001b[1;33m.\u001b[0m\u001b[0mappend\u001b[0m\u001b[1;33m(\u001b[0m\u001b[0mjob\u001b[0m\u001b[1;33m)\u001b[0m\u001b[1;33m\u001b[0m\u001b[0m\n\u001b[1;32m    573\u001b[0m \u001b[1;33m\u001b[0m\u001b[0m\n",
      "\u001b[0;32mC:\\ProgramData\\Anaconda3\\lib\\site-packages\\sklearn\\externals\\joblib\\_parallel_backends.py\u001b[0m in \u001b[0;36mapply_async\u001b[0;34m(self, func, callback)\u001b[0m\n\u001b[1;32m    107\u001b[0m     \u001b[1;32mdef\u001b[0m \u001b[0mapply_async\u001b[0m\u001b[1;33m(\u001b[0m\u001b[0mself\u001b[0m\u001b[1;33m,\u001b[0m \u001b[0mfunc\u001b[0m\u001b[1;33m,\u001b[0m \u001b[0mcallback\u001b[0m\u001b[1;33m=\u001b[0m\u001b[1;32mNone\u001b[0m\u001b[1;33m)\u001b[0m\u001b[1;33m:\u001b[0m\u001b[1;33m\u001b[0m\u001b[0m\n\u001b[1;32m    108\u001b[0m         \u001b[1;34m\"\"\"Schedule a func to be run\"\"\"\u001b[0m\u001b[1;33m\u001b[0m\u001b[0m\n\u001b[0;32m--> 109\u001b[0;31m         \u001b[0mresult\u001b[0m \u001b[1;33m=\u001b[0m \u001b[0mImmediateResult\u001b[0m\u001b[1;33m(\u001b[0m\u001b[0mfunc\u001b[0m\u001b[1;33m)\u001b[0m\u001b[1;33m\u001b[0m\u001b[0m\n\u001b[0m\u001b[1;32m    110\u001b[0m         \u001b[1;32mif\u001b[0m \u001b[0mcallback\u001b[0m\u001b[1;33m:\u001b[0m\u001b[1;33m\u001b[0m\u001b[0m\n\u001b[1;32m    111\u001b[0m             \u001b[0mcallback\u001b[0m\u001b[1;33m(\u001b[0m\u001b[0mresult\u001b[0m\u001b[1;33m)\u001b[0m\u001b[1;33m\u001b[0m\u001b[0m\n",
      "\u001b[0;32mC:\\ProgramData\\Anaconda3\\lib\\site-packages\\sklearn\\externals\\joblib\\_parallel_backends.py\u001b[0m in \u001b[0;36m__init__\u001b[0;34m(self, batch)\u001b[0m\n\u001b[1;32m    324\u001b[0m         \u001b[1;31m# Don't delay the application, to avoid keeping the input\u001b[0m\u001b[1;33m\u001b[0m\u001b[1;33m\u001b[0m\u001b[0m\n\u001b[1;32m    325\u001b[0m         \u001b[1;31m# arguments in memory\u001b[0m\u001b[1;33m\u001b[0m\u001b[1;33m\u001b[0m\u001b[0m\n\u001b[0;32m--> 326\u001b[0;31m         \u001b[0mself\u001b[0m\u001b[1;33m.\u001b[0m\u001b[0mresults\u001b[0m \u001b[1;33m=\u001b[0m \u001b[0mbatch\u001b[0m\u001b[1;33m(\u001b[0m\u001b[1;33m)\u001b[0m\u001b[1;33m\u001b[0m\u001b[0m\n\u001b[0m\u001b[1;32m    327\u001b[0m \u001b[1;33m\u001b[0m\u001b[0m\n\u001b[1;32m    328\u001b[0m     \u001b[1;32mdef\u001b[0m \u001b[0mget\u001b[0m\u001b[1;33m(\u001b[0m\u001b[0mself\u001b[0m\u001b[1;33m)\u001b[0m\u001b[1;33m:\u001b[0m\u001b[1;33m\u001b[0m\u001b[0m\n",
      "\u001b[0;32mC:\\ProgramData\\Anaconda3\\lib\\site-packages\\sklearn\\externals\\joblib\\parallel.py\u001b[0m in \u001b[0;36m__call__\u001b[0;34m(self)\u001b[0m\n\u001b[1;32m    129\u001b[0m \u001b[1;33m\u001b[0m\u001b[0m\n\u001b[1;32m    130\u001b[0m     \u001b[1;32mdef\u001b[0m \u001b[0m__call__\u001b[0m\u001b[1;33m(\u001b[0m\u001b[0mself\u001b[0m\u001b[1;33m)\u001b[0m\u001b[1;33m:\u001b[0m\u001b[1;33m\u001b[0m\u001b[0m\n\u001b[0;32m--> 131\u001b[0;31m         \u001b[1;32mreturn\u001b[0m \u001b[1;33m[\u001b[0m\u001b[0mfunc\u001b[0m\u001b[1;33m(\u001b[0m\u001b[1;33m*\u001b[0m\u001b[0margs\u001b[0m\u001b[1;33m,\u001b[0m \u001b[1;33m**\u001b[0m\u001b[0mkwargs\u001b[0m\u001b[1;33m)\u001b[0m \u001b[1;32mfor\u001b[0m \u001b[0mfunc\u001b[0m\u001b[1;33m,\u001b[0m \u001b[0margs\u001b[0m\u001b[1;33m,\u001b[0m \u001b[0mkwargs\u001b[0m \u001b[1;32min\u001b[0m \u001b[0mself\u001b[0m\u001b[1;33m.\u001b[0m\u001b[0mitems\u001b[0m\u001b[1;33m]\u001b[0m\u001b[1;33m\u001b[0m\u001b[0m\n\u001b[0m\u001b[1;32m    132\u001b[0m \u001b[1;33m\u001b[0m\u001b[0m\n\u001b[1;32m    133\u001b[0m     \u001b[1;32mdef\u001b[0m \u001b[0m__len__\u001b[0m\u001b[1;33m(\u001b[0m\u001b[0mself\u001b[0m\u001b[1;33m)\u001b[0m\u001b[1;33m:\u001b[0m\u001b[1;33m\u001b[0m\u001b[0m\n",
      "\u001b[0;32mC:\\ProgramData\\Anaconda3\\lib\\site-packages\\sklearn\\externals\\joblib\\parallel.py\u001b[0m in \u001b[0;36m<listcomp>\u001b[0;34m(.0)\u001b[0m\n\u001b[1;32m    129\u001b[0m \u001b[1;33m\u001b[0m\u001b[0m\n\u001b[1;32m    130\u001b[0m     \u001b[1;32mdef\u001b[0m \u001b[0m__call__\u001b[0m\u001b[1;33m(\u001b[0m\u001b[0mself\u001b[0m\u001b[1;33m)\u001b[0m\u001b[1;33m:\u001b[0m\u001b[1;33m\u001b[0m\u001b[0m\n\u001b[0;32m--> 131\u001b[0;31m         \u001b[1;32mreturn\u001b[0m \u001b[1;33m[\u001b[0m\u001b[0mfunc\u001b[0m\u001b[1;33m(\u001b[0m\u001b[1;33m*\u001b[0m\u001b[0margs\u001b[0m\u001b[1;33m,\u001b[0m \u001b[1;33m**\u001b[0m\u001b[0mkwargs\u001b[0m\u001b[1;33m)\u001b[0m \u001b[1;32mfor\u001b[0m \u001b[0mfunc\u001b[0m\u001b[1;33m,\u001b[0m \u001b[0margs\u001b[0m\u001b[1;33m,\u001b[0m \u001b[0mkwargs\u001b[0m \u001b[1;32min\u001b[0m \u001b[0mself\u001b[0m\u001b[1;33m.\u001b[0m\u001b[0mitems\u001b[0m\u001b[1;33m]\u001b[0m\u001b[1;33m\u001b[0m\u001b[0m\n\u001b[0m\u001b[1;32m    132\u001b[0m \u001b[1;33m\u001b[0m\u001b[0m\n\u001b[1;32m    133\u001b[0m     \u001b[1;32mdef\u001b[0m \u001b[0m__len__\u001b[0m\u001b[1;33m(\u001b[0m\u001b[0mself\u001b[0m\u001b[1;33m)\u001b[0m\u001b[1;33m:\u001b[0m\u001b[1;33m\u001b[0m\u001b[0m\n",
      "\u001b[0;32mC:\\ProgramData\\Anaconda3\\lib\\site-packages\\sklearn\\model_selection\\_validation.py\u001b[0m in \u001b[0;36m_fit_and_score\u001b[0;34m(estimator, X, y, scorer, train, test, verbose, parameters, fit_params, return_train_score, return_parameters, return_n_test_samples, return_times, error_score)\u001b[0m\n\u001b[1;32m    236\u001b[0m             \u001b[0mestimator\u001b[0m\u001b[1;33m.\u001b[0m\u001b[0mfit\u001b[0m\u001b[1;33m(\u001b[0m\u001b[0mX_train\u001b[0m\u001b[1;33m,\u001b[0m \u001b[1;33m**\u001b[0m\u001b[0mfit_params\u001b[0m\u001b[1;33m)\u001b[0m\u001b[1;33m\u001b[0m\u001b[0m\n\u001b[1;32m    237\u001b[0m         \u001b[1;32melse\u001b[0m\u001b[1;33m:\u001b[0m\u001b[1;33m\u001b[0m\u001b[0m\n\u001b[0;32m--> 238\u001b[0;31m             \u001b[0mestimator\u001b[0m\u001b[1;33m.\u001b[0m\u001b[0mfit\u001b[0m\u001b[1;33m(\u001b[0m\u001b[0mX_train\u001b[0m\u001b[1;33m,\u001b[0m \u001b[0my_train\u001b[0m\u001b[1;33m,\u001b[0m \u001b[1;33m**\u001b[0m\u001b[0mfit_params\u001b[0m\u001b[1;33m)\u001b[0m\u001b[1;33m\u001b[0m\u001b[0m\n\u001b[0m\u001b[1;32m    239\u001b[0m \u001b[1;33m\u001b[0m\u001b[0m\n\u001b[1;32m    240\u001b[0m     \u001b[1;32mexcept\u001b[0m \u001b[0mException\u001b[0m \u001b[1;32mas\u001b[0m \u001b[0me\u001b[0m\u001b[1;33m:\u001b[0m\u001b[1;33m\u001b[0m\u001b[0m\n",
      "\u001b[0;32mC:\\ProgramData\\Anaconda3\\lib\\site-packages\\sklearn\\linear_model\\coordinate_descent.py\u001b[0m in \u001b[0;36mfit\u001b[0;34m(self, X, y, check_input)\u001b[0m\n\u001b[1;32m    725\u001b[0m                           \u001b[0mrandom_state\u001b[0m\u001b[1;33m=\u001b[0m\u001b[0mself\u001b[0m\u001b[1;33m.\u001b[0m\u001b[0mrandom_state\u001b[0m\u001b[1;33m,\u001b[0m\u001b[1;33m\u001b[0m\u001b[0m\n\u001b[1;32m    726\u001b[0m                           \u001b[0mselection\u001b[0m\u001b[1;33m=\u001b[0m\u001b[0mself\u001b[0m\u001b[1;33m.\u001b[0m\u001b[0mselection\u001b[0m\u001b[1;33m,\u001b[0m\u001b[1;33m\u001b[0m\u001b[0m\n\u001b[0;32m--> 727\u001b[0;31m                           check_input=False)\n\u001b[0m\u001b[1;32m    728\u001b[0m             \u001b[0mcoef_\u001b[0m\u001b[1;33m[\u001b[0m\u001b[0mk\u001b[0m\u001b[1;33m]\u001b[0m \u001b[1;33m=\u001b[0m \u001b[0mthis_coef\u001b[0m\u001b[1;33m[\u001b[0m\u001b[1;33m:\u001b[0m\u001b[1;33m,\u001b[0m \u001b[1;36m0\u001b[0m\u001b[1;33m]\u001b[0m\u001b[1;33m\u001b[0m\u001b[0m\n\u001b[1;32m    729\u001b[0m             \u001b[0mdual_gaps_\u001b[0m\u001b[1;33m[\u001b[0m\u001b[0mk\u001b[0m\u001b[1;33m]\u001b[0m \u001b[1;33m=\u001b[0m \u001b[0mthis_dual_gap\u001b[0m\u001b[1;33m[\u001b[0m\u001b[1;36m0\u001b[0m\u001b[1;33m]\u001b[0m\u001b[1;33m\u001b[0m\u001b[0m\n",
      "\u001b[0;32mC:\\ProgramData\\Anaconda3\\lib\\site-packages\\sklearn\\linear_model\\coordinate_descent.py\u001b[0m in \u001b[0;36menet_path\u001b[0;34m(X, y, l1_ratio, eps, n_alphas, alphas, precompute, Xy, copy_X, coef_init, verbose, return_n_iter, positive, check_input, **params)\u001b[0m\n\u001b[1;32m    468\u001b[0m             model = cd_fast.enet_coordinate_descent(\n\u001b[1;32m    469\u001b[0m                 \u001b[0mcoef_\u001b[0m\u001b[1;33m,\u001b[0m \u001b[0ml1_reg\u001b[0m\u001b[1;33m,\u001b[0m \u001b[0ml2_reg\u001b[0m\u001b[1;33m,\u001b[0m \u001b[0mX\u001b[0m\u001b[1;33m,\u001b[0m \u001b[0my\u001b[0m\u001b[1;33m,\u001b[0m \u001b[0mmax_iter\u001b[0m\u001b[1;33m,\u001b[0m \u001b[0mtol\u001b[0m\u001b[1;33m,\u001b[0m \u001b[0mrng\u001b[0m\u001b[1;33m,\u001b[0m \u001b[0mrandom\u001b[0m\u001b[1;33m,\u001b[0m\u001b[1;33m\u001b[0m\u001b[0m\n\u001b[0;32m--> 470\u001b[0;31m                 positive)\n\u001b[0m\u001b[1;32m    471\u001b[0m         \u001b[1;32melse\u001b[0m\u001b[1;33m:\u001b[0m\u001b[1;33m\u001b[0m\u001b[0m\n\u001b[1;32m    472\u001b[0m             raise ValueError(\"Precompute should be one of True, False, \"\n",
      "\u001b[0;31mKeyboardInterrupt\u001b[0m: "
     ]
    }
   ],
   "source": [
    "clf = GridSearchCV(Lasso(), parameters, scoring  = MSE_scorer)\n",
    "clf.fit(X, y) #Спустя минут 15 он все таки посчитал"
   ]
  },
  {
   "cell_type": "code",
   "execution_count": null,
   "metadata": {},
   "outputs": [],
   "source": [
    "clf.best_params_"
   ]
  },
  {
   "cell_type": "code",
   "execution_count": 189,
   "metadata": {},
   "outputs": [
    {
     "data": {
      "text/plain": [
       "-0.083338198729262056"
      ]
     },
     "execution_count": 189,
     "metadata": {},
     "output_type": "execute_result"
    }
   ],
   "source": [
    "clf.best_score_"
   ]
  },
  {
   "cell_type": "code",
   "execution_count": 190,
   "metadata": {},
   "outputs": [
    {
     "data": {
      "text/plain": [
       "Lasso(alpha=0.00018679135990207809, copy_X=True, fit_intercept=True,\n",
       "   max_iter=1000, normalize=False, positive=False, precompute=False,\n",
       "   random_state=None, selection='cyclic', tol=0.0001, warm_start=False)"
      ]
     },
     "execution_count": 190,
     "metadata": {},
     "output_type": "execute_result"
    }
   ],
   "source": [
    "clf.best_estimator_"
   ]
  },
  {
   "cell_type": "code",
   "execution_count": null,
   "metadata": {},
   "outputs": [],
   "source": [
    "from sklearn.linear_model import Ridge\n",
    "from sklearn.linear_model import Lasso\n",
    "\n",
    "# Мы выяснили, что оптимальным значением степени для полиномиальной регрессии является 1, поэтому укажем её.\n",
    "optimalDegree = 2\n",
    "\n",
    "# передаем лучший estimator, подобранный с помощью GridSearchCV\n",
    "model = make_pipeline(PolynomialFeatures(2), clf.best_estimator_)\n",
    "kf = KFold(n_splits=10, shuffle=True)\n",
    "\n",
    "MAE_list = []\n",
    "MSE_list = []\n",
    "\n",
    "for train_indexes, test_indexes in kf.split(X,y):\n",
    "    # X_train, y_train - данные, соответствующие обучающей выборке\n",
    "    X_train = X[train_indexes]\n",
    "    y_train = y[train_indexes]\n",
    "    \n",
    "    # X_test, y_test - данные, соответствующие тренировочной выборке\n",
    "    X_test = X[test_indexes]\n",
    "    y_test = y[test_indexes]\n",
    "    \n",
    "    model.fit(X_train, y_train) # Обучение на тестовых данных\n",
    "    y_predict = model.predict(X_test)\n",
    "        \n",
    "    current_mae = mean_absolute_error(y_test, y_predict)\n",
    "    current_mse = mean_squared_error(y_test, y_predict)\n",
    "        \n",
    "    MAE_list.append(current_mae)\n",
    "    MSE_list.append(current_mse)\n",
    "print(\"\\tMAE : {0}\".format(np.mean(MAE_list)))\n",
    "print(\"\\tMSE : {0}\".format(np.mean(MSE_list)))    \n",
    "\n",
    "print(\"Coefficients: {0}\".format((model.get_params()['lasso']).coef_))\n",
    "print(\"Intercept: {0}\".format((model.get_params()['lasso']).intercept_ ))"
   ]
  },
  {
   "cell_type": "markdown",
   "metadata": {},
   "source": [
    "Подбор параметра через MSE и MАE для Ridge регрессии."
   ]
  },
  {
   "cell_type": "code",
   "execution_count": 26,
   "metadata": {
    "collapsed": true
   },
   "outputs": [],
   "source": [
    "MAE_scorer_r = make_scorer(mean_absolute_error, greater_is_better=False)\n",
    "MSE_scorer_r = make_scorer(mean_squared_error, greater_is_better=False)"
   ]
  },
  {
   "cell_type": "code",
   "execution_count": 27,
   "metadata": {},
   "outputs": [],
   "source": [
    "n_alphas = 200 # 200 значений\n",
    "alphas = np.logspace(-10, 2, n_alphas)"
   ]
  },
  {
   "cell_type": "code",
   "execution_count": 28,
   "metadata": {
    "collapsed": true
   },
   "outputs": [],
   "source": [
    "parameters = {'alpha': alphas, 'fit_intercept' : [True, False]}"
   ]
  },
  {
   "cell_type": "code",
   "execution_count": 29,
   "metadata": {},
   "outputs": [
    {
     "data": {
      "text/plain": [
       "GridSearchCV(cv=None, error_score='raise',\n",
       "       estimator=Ridge(alpha=1.0, copy_X=True, fit_intercept=True, max_iter=None,\n",
       "   normalize=False, random_state=None, solver='auto', tol=0.001),\n",
       "       fit_params={}, iid=True, n_jobs=1,\n",
       "       param_grid={'alpha': array([  1.00000e-10,   1.14895e-10, ...,   8.70359e+01,   1.00000e+02]), 'fit_intercept': [True, False]},\n",
       "       pre_dispatch='2*n_jobs', refit=True, return_train_score=True,\n",
       "       scoring=make_scorer(mean_absolute_error, greater_is_better=False),\n",
       "       verbose=0)"
      ]
     },
     "execution_count": 29,
     "metadata": {},
     "output_type": "execute_result"
    }
   ],
   "source": [
    "clf = GridSearchCV(Ridge(), parameters, scoring  = MAE_scorer_r)\n",
    "clf.fit(X, y)"
   ]
  },
  {
   "cell_type": "code",
   "execution_count": 30,
   "metadata": {},
   "outputs": [
    {
     "data": {
      "text/plain": [
       "GridSearchCV(cv=None, error_score='raise',\n",
       "       estimator=Ridge(alpha=1.0, copy_X=True, fit_intercept=True, max_iter=None,\n",
       "   normalize=False, random_state=None, solver='auto', tol=0.001),\n",
       "       fit_params={}, iid=True, n_jobs=1,\n",
       "       param_grid={'alpha': array([  1.00000e-10,   1.14895e-10, ...,   8.70359e+01,   1.00000e+02]), 'fit_intercept': [True, False]},\n",
       "       pre_dispatch='2*n_jobs', refit=True, return_train_score=True,\n",
       "       scoring=make_scorer(mean_squared_error, greater_is_better=False),\n",
       "       verbose=0)"
      ]
     },
     "execution_count": 30,
     "metadata": {},
     "output_type": "execute_result"
    }
   ],
   "source": [
    "clf1 = GridSearchCV(Ridge(), parameters, scoring  = MSE_scorer_r)\n",
    "clf1.fit(X, y)"
   ]
  },
  {
   "cell_type": "code",
   "execution_count": 31,
   "metadata": {},
   "outputs": [
    {
     "name": "stdout",
     "output_type": "stream",
     "text": [
      "{'alpha': 100.0, 'fit_intercept': True}\n",
      "{'alpha': 100.0, 'fit_intercept': True}\n"
     ]
    }
   ],
   "source": [
    "print(clf.best_params_)\n",
    "print(clf1.best_params_)"
   ]
  },
  {
   "cell_type": "code",
   "execution_count": 32,
   "metadata": {},
   "outputs": [
    {
     "name": "stdout",
     "output_type": "stream",
     "text": [
      "-0.250118362178\n",
      "-0.0834412970242\n"
     ]
    }
   ],
   "source": [
    "print(clf.best_score_)\n",
    "print(clf1.best_score_)"
   ]
  },
  {
   "cell_type": "code",
   "execution_count": 33,
   "metadata": {},
   "outputs": [
    {
     "name": "stdout",
     "output_type": "stream",
     "text": [
      "Ridge(alpha=100.0, copy_X=True, fit_intercept=True, max_iter=None,\n",
      "   normalize=False, random_state=None, solver='auto', tol=0.001)\n",
      "Ridge(alpha=100.0, copy_X=True, fit_intercept=True, max_iter=None,\n",
      "   normalize=False, random_state=None, solver='auto', tol=0.001)\n"
     ]
    }
   ],
   "source": [
    "print(clf.best_estimator_)\n",
    "print(clf1.best_estimator_)"
   ]
  },
  {
   "cell_type": "code",
   "execution_count": 34,
   "metadata": {},
   "outputs": [
    {
     "name": "stdout",
     "output_type": "stream",
     "text": [
      "\tMAE : 0.25014610400357334\n",
      "\tMSE : 0.08347285692040579\n",
      "Coefficients: [  3.58541464e-06   1.29032206e-06  -4.16629436e-06   1.63866324e-06\n",
      "  -3.19260085e-06   1.10115262e-06  -1.65891381e-06  -3.63971830e-06\n",
      "   5.51214207e-07  -2.88242867e-07   1.48018913e-06   4.88997544e-06\n",
      "   9.69223856e-07   3.43372255e-06  -5.98509212e-06  -2.42894353e-06\n",
      "   4.47819410e-06   2.59925954e-06  -8.72363523e-07  -1.94452386e-06\n",
      "   3.45914758e-06  -1.98963530e-06   4.44103751e-06   4.50556214e-07\n",
      "   3.60128835e-06  -1.40002364e-06   1.33239138e-12   1.57428329e-06\n",
      "  -1.57677725e-06   1.45432819e-06  -2.77690967e-06   2.62378582e-06\n",
      "   4.66945625e-08  -3.52142194e-06   3.10371287e-06   1.77262350e-06\n",
      "   1.83046660e-06  -6.41174565e-07   3.12235550e-06  -2.73800122e-06\n",
      "  -2.44870595e-06   4.83283077e-06  -4.18435920e-07   8.62150138e-07\n",
      "  -2.40510036e-06  -1.70220770e-06   1.70988034e-08  -1.48366055e-06\n",
      "  -2.44270070e-06  -8.55170628e-07  -5.03120472e-06  -4.86495925e-07\n",
      "   1.11759708e-07   1.36997588e-06   1.25478332e-06   6.51526963e-06\n",
      "  -1.34406749e-06  -2.59283708e-06  -5.79122235e-07  -9.31346742e-07\n",
      "   7.61637383e-07   4.85529072e-06  -1.71032792e-06  -9.39698848e-07\n",
      "  -2.46214487e-06   2.35069009e-06   2.15377697e-06   2.48924241e-06\n",
      "   4.87408856e-08   3.72895695e-21   8.03997206e-07   8.04011379e-07\n",
      "   8.04037023e-07   8.04013699e-07   8.03981379e-07   8.04010537e-07\n",
      "   8.03969242e-07   8.03994212e-07   8.04012562e-07   8.03961519e-07\n",
      "   8.04011892e-07   8.04014025e-07   8.04009528e-07   8.04019114e-07\n",
      "   8.04000200e-07   8.04014442e-07   8.03988317e-07   8.04016506e-07\n",
      "   8.03995907e-07   8.04023580e-07  -8.00870983e-07  -6.71229255e-06\n",
      "   1.46467073e-06   2.17320463e-07   3.63615769e-06   1.24021215e-06\n",
      "  -1.23515653e-06  -1.82696185e-06  -2.96846118e-06   4.24687654e-06\n",
      "   1.19322681e-06  -6.32015462e-06   3.99083642e-06  -7.64065406e-07\n",
      "  -1.26363329e-06   1.42200671e-06  -3.62996128e-07  -2.34122781e-06\n",
      "  -5.33965635e-06   2.15557815e-06  -2.79237099e-06   3.45629802e-06\n",
      "   1.10399772e-06  -1.75310354e-06  -1.37798940e-06   3.54870894e-07\n",
      "   1.77994615e-07   1.61310394e-06   6.42311488e-06   2.00318126e-06\n",
      "   6.14088158e-07   2.20594334e-06  -1.71214647e-06  -2.40852773e-06\n",
      "   2.02526761e-06   3.38618119e-06  -3.06590544e-06   1.14004861e-06\n",
      "   3.81447151e-07  -2.77619160e-07  -1.74438737e-06  -1.79423917e-06\n",
      "   3.26565803e-06  -6.54701837e-06  -1.03242465e-06  -1.16741822e-06\n",
      "   1.08057666e-06  -4.18487920e-06  -8.95803719e-07   4.67161288e-06\n",
      "   3.67306872e-06   7.11261970e-07   3.03837923e-06  -6.38092523e-06\n",
      "  -4.48619376e-06  -1.02896082e-06   4.54348169e-06  -2.73221035e-06\n",
      "   1.98599150e-07   1.50780805e-07  -2.73118056e-06  -3.98074057e-06\n",
      "  -4.63407041e-06   8.17138314e-07   5.02589538e-07  -9.19795701e-07\n",
      "  -1.20441566e-06   9.04975283e-07  -2.87576741e-06  -1.41951011e-06\n",
      "  -3.29425859e-06   2.72516150e-06   2.43091673e-06  -1.65187996e-07\n",
      "   2.04054442e-06  -9.89898586e-07  -2.15373656e-06  -2.56559685e-06\n",
      "   3.43078842e-06   1.00748157e-06  -1.67503067e-06  -1.24466406e-06\n",
      "   1.97263714e-06  -4.09196804e-06  -1.37139638e-06  -1.73363131e-06\n",
      "  -4.30410736e-06  -1.60129797e-06   1.29417745e-06   1.47635331e-06\n",
      "  -8.10744765e-07  -6.95141359e-06  -5.08613866e-06   7.94733779e-07\n",
      "   9.18884089e-09  -1.42553392e-06   5.45830882e-06   2.66700899e-06\n",
      "   2.66635203e-06  -1.95876972e-06   3.65841204e-06  -3.95335200e-07\n",
      "   2.32240244e-06  -2.29101224e-06   2.94882980e-06  -3.88496419e-06\n",
      "   6.19025046e-06  -1.61589165e-06  -2.53274134e-06  -6.20487314e-07\n",
      "   4.49555882e-07   1.23481255e-06   8.21815449e-06  -1.38873953e-06\n",
      "   4.85728811e-06   4.04650054e-07  -4.75469609e-07  -2.09237750e-06\n",
      "   1.42593640e-07   3.11053058e-06   1.43790848e-06   3.44884828e-07\n",
      "   1.58657618e-06  -3.68266352e-06  -5.43034616e-06  -2.49402368e-06\n",
      "  -1.58343846e-06   4.23296580e-06   2.26750387e-06  -8.97589674e-07\n",
      "   2.67492961e-06   1.06777408e-06   7.36951727e-07  -6.66466912e-07\n",
      "  -2.73776758e-06  -5.16078189e-06   3.00403040e-06  -2.09425842e-06\n",
      "  -2.45733032e-06   2.17342310e-07  -1.20141388e-06  -2.22838818e-06\n",
      "  -4.09131423e-06   3.03261024e-06   2.24608817e-06   2.08854197e-06\n",
      "   1.80297279e-06   1.65424787e-06   3.69054269e-06  -2.45739923e-06\n",
      "   3.63413470e-06  -1.79435227e-06   2.76219491e-06   4.02330022e-06\n",
      "   1.34817454e-06  -7.70759993e-06  -8.73820260e-07  -7.58123693e-07\n",
      "  -1.56259921e-06   4.98225834e-07  -4.17927324e-07   9.77703155e-07\n",
      "  -3.12622134e-06  -2.25957871e-07   8.52492526e-07  -5.87028278e-06\n",
      "  -1.52246111e-08  -2.06343078e-07  -1.18394227e-07  -2.29752479e-06\n",
      "  -2.70148575e-06  -1.98022810e-06   4.17322177e-06   1.84470619e-06\n",
      "  -1.24286327e-06  -5.28816801e-06   1.68283079e-06   1.14481671e-06\n",
      "   5.07569907e-06   1.21043590e-07  -2.65879420e-06   3.03275665e-06\n",
      "   1.59535706e-08   6.24939357e-06   4.03479367e-06  -2.33578687e-06\n",
      "  -5.00300842e-06   2.75296599e-06   4.09454720e-06   2.93944349e-06\n",
      "   1.51706856e-06   1.51414825e-06  -7.32483232e-06  -6.85581444e-07\n",
      "   1.05164724e-06  -6.84052177e-06   1.73292567e-06  -3.39540924e-07\n",
      "  -1.23532405e-06   3.39564104e-07   5.44799191e-07   5.53609087e-06\n",
      "  -1.25137243e-06  -5.94378439e-08   4.94808107e-06   1.52926268e-06\n",
      "  -2.70279585e-06  -2.72094849e-06  -6.34600519e-06  -8.54170293e-07]\n",
      "Intercept: 0.5195747998442978\n"
     ]
    }
   ],
   "source": [
    "from sklearn.linear_model import Ridge\n",
    "from sklearn.linear_model import Lasso\n",
    "\n",
    "optimalDegree = 2\n",
    "\n",
    "# передаем лучший estimator, подобранный с помощью GridSearchCV\n",
    "model = make_pipeline(PolynomialFeatures(2), clf.best_estimator_)\n",
    "kf = KFold(n_splits=3, shuffle=True)\n",
    "\n",
    "MAE_list_po_MAE = []\n",
    "MSE_list_po_MAE = []\n",
    "\n",
    "for train_indexes, test_indexes in kf.split(X,y):\n",
    "    # X_train, y_train - данные, соответствующие обучающей выборке\n",
    "    X_train = X[train_indexes]\n",
    "    y_train = y[train_indexes]\n",
    "    \n",
    "    # X_test, y_test - данные, соответствующие тренировочной выборке\n",
    "    X_test = X[test_indexes]\n",
    "    y_test = y[test_indexes]\n",
    "    \n",
    "    model.fit(X_train, y_train) # Обучение на тестовых данных\n",
    "    y_predict = model.predict(X_test)\n",
    "        \n",
    "    current_mae = mean_absolute_error(y_test, y_predict)\n",
    "    current_mse = mean_squared_error(y_test, y_predict)\n",
    "        \n",
    "    MAE_list_po_MAE.append(current_mae)\n",
    "    MSE_list_po_MAE.append(current_mse)\n",
    "print(\"\\tMAE : {0}\".format(np.mean(MAE_list_po_MAE)))\n",
    "print(\"\\tMSE : {0}\".format(np.mean(MSE_list_po_MAE)))    \n",
    "\n",
    "print(\"Coefficients: {0}\".format((model.get_params()['ridge']).coef_))\n",
    "print(\"Intercept: {0}\".format((model.get_params()['ridge']).intercept_ ))"
   ]
  },
  {
   "cell_type": "code",
   "execution_count": 35,
   "metadata": {},
   "outputs": [
    {
     "name": "stdout",
     "output_type": "stream",
     "text": [
      "\tMAE : 0.2503541723768917\n",
      "\tMSE : 0.08366513591831816\n",
      "Coefficients: [  0.00000000e+00  -1.74744372e-03   0.00000000e+00  -1.56620531e-11\n",
      "  -9.85812670e-15  -3.42323017e-15  -1.00282538e-14   6.99602465e-15\n",
      "   3.57171162e-03  -2.48855232e-15  -4.06932225e-15  -9.78616709e-03\n",
      "   1.05744160e-03   1.16703247e-02  -1.00521022e-14   7.73037783e-15\n",
      "   4.03523711e-04   2.46000806e-04   1.76491423e-03  -6.89510522e-03\n",
      "   8.05793147e-03  -1.10755402e-14  -8.89133770e-04  -9.20144205e-03\n",
      "   5.69504738e-03  -1.74744372e-03   3.21334809e-12   6.13069962e-03\n",
      "   2.27187451e-03  -9.05734198e-03  -1.41052170e-02   8.47511592e-03\n",
      "   9.55710358e-03  -5.56021695e-02   1.00832265e-02   2.59224059e-03\n",
      "   1.30327943e-02  -7.61332344e-03   6.85168188e-03  -8.73806075e-03\n",
      "  -1.45217918e-02   1.55770601e-02  -2.16757847e-03  -8.75990980e-05\n",
      "  -2.50609711e-03  -9.25870508e-04   3.90058089e-02   0.00000000e+00\n",
      "  -1.67079566e-11  -1.00246590e-14  -3.44023379e-15  -4.93797408e-15\n",
      "   3.57090612e-16   3.57171162e-03  -2.37783374e-15  -4.57020787e-15\n",
      "  -9.78616709e-03   1.05744160e-03   1.16703247e-02  -1.14510160e-14\n",
      "   6.55133620e-15   4.03523711e-04   2.46000806e-04   1.76491423e-03\n",
      "  -6.89510522e-03   8.05793147e-03  -7.34169258e-15  -8.89133770e-04\n",
      "  -9.20144205e-03   4.73701826e-21  -1.27965495e-11   1.03925070e-11\n",
      "   4.07810841e-11   2.35712426e-11  -4.49303010e-11  -1.14853038e-11\n",
      "   3.35396143e-11   4.32603169e-11   1.22887392e-11  -1.56752943e-10\n",
      "   2.67887535e-11   9.75402661e-12   2.32102821e-11   2.37739544e-11\n",
      "  -9.82477183e-13   3.80106818e-11  -4.24253825e-11   1.64594121e-11\n",
      "   8.04898566e-12   3.68605639e-11  -5.40021069e-15   0.00000000e+00\n",
      "   0.00000000e+00   0.00000000e+00   0.00000000e+00   0.00000000e+00\n",
      "   0.00000000e+00   0.00000000e+00   0.00000000e+00   0.00000000e+00\n",
      "   0.00000000e+00   0.00000000e+00   0.00000000e+00   0.00000000e+00\n",
      "   0.00000000e+00   0.00000000e+00   0.00000000e+00   0.00000000e+00\n",
      "   0.00000000e+00   0.00000000e+00  -3.09914432e-15   0.00000000e+00\n",
      "   0.00000000e+00   0.00000000e+00   0.00000000e+00   0.00000000e+00\n",
      "   0.00000000e+00   0.00000000e+00   0.00000000e+00   0.00000000e+00\n",
      "   0.00000000e+00   0.00000000e+00   0.00000000e+00   0.00000000e+00\n",
      "   0.00000000e+00   0.00000000e+00   0.00000000e+00   0.00000000e+00\n",
      "   0.00000000e+00   8.32983795e-15   0.00000000e+00   0.00000000e+00\n",
      "   0.00000000e+00   0.00000000e+00   0.00000000e+00   0.00000000e+00\n",
      "   0.00000000e+00   0.00000000e+00   0.00000000e+00   0.00000000e+00\n",
      "   0.00000000e+00   0.00000000e+00   0.00000000e+00   0.00000000e+00\n",
      "   0.00000000e+00   0.00000000e+00   0.00000000e+00  -1.70942826e-15\n",
      "   0.00000000e+00   0.00000000e+00   0.00000000e+00   0.00000000e+00\n",
      "   0.00000000e+00   0.00000000e+00   0.00000000e+00   0.00000000e+00\n",
      "   0.00000000e+00   0.00000000e+00   0.00000000e+00   0.00000000e+00\n",
      "   0.00000000e+00   0.00000000e+00   0.00000000e+00   0.00000000e+00\n",
      "   3.57171162e-03   0.00000000e+00   0.00000000e+00   0.00000000e+00\n",
      "   0.00000000e+00   0.00000000e+00   0.00000000e+00   0.00000000e+00\n",
      "   0.00000000e+00   0.00000000e+00   0.00000000e+00   0.00000000e+00\n",
      "   0.00000000e+00   0.00000000e+00   0.00000000e+00   0.00000000e+00\n",
      "  -3.80225358e-17   0.00000000e+00   0.00000000e+00   0.00000000e+00\n",
      "   0.00000000e+00   0.00000000e+00   0.00000000e+00   0.00000000e+00\n",
      "   0.00000000e+00   0.00000000e+00   0.00000000e+00   0.00000000e+00\n",
      "   0.00000000e+00   0.00000000e+00   0.00000000e+00   3.71555142e-15\n",
      "   0.00000000e+00   0.00000000e+00   0.00000000e+00   0.00000000e+00\n",
      "   0.00000000e+00   0.00000000e+00   0.00000000e+00   0.00000000e+00\n",
      "   0.00000000e+00   0.00000000e+00   0.00000000e+00   0.00000000e+00\n",
      "   0.00000000e+00  -9.78616709e-03   0.00000000e+00   0.00000000e+00\n",
      "   0.00000000e+00   0.00000000e+00   0.00000000e+00   0.00000000e+00\n",
      "   0.00000000e+00   0.00000000e+00   0.00000000e+00   0.00000000e+00\n",
      "   0.00000000e+00   0.00000000e+00   1.05744160e-03   0.00000000e+00\n",
      "   0.00000000e+00   0.00000000e+00   0.00000000e+00   0.00000000e+00\n",
      "   0.00000000e+00   0.00000000e+00   0.00000000e+00   0.00000000e+00\n",
      "   0.00000000e+00   0.00000000e+00   1.16703247e-02   0.00000000e+00\n",
      "   0.00000000e+00   0.00000000e+00   0.00000000e+00   0.00000000e+00\n",
      "   0.00000000e+00   0.00000000e+00   0.00000000e+00   0.00000000e+00\n",
      "   0.00000000e+00  -1.25538112e-14   0.00000000e+00   0.00000000e+00\n",
      "   0.00000000e+00   0.00000000e+00   0.00000000e+00   0.00000000e+00\n",
      "   0.00000000e+00   0.00000000e+00   0.00000000e+00   6.96601892e-15\n",
      "   0.00000000e+00   0.00000000e+00   0.00000000e+00   0.00000000e+00\n",
      "   0.00000000e+00   0.00000000e+00   0.00000000e+00   0.00000000e+00\n",
      "   4.03523711e-04   0.00000000e+00   0.00000000e+00   0.00000000e+00\n",
      "   0.00000000e+00   0.00000000e+00   0.00000000e+00   0.00000000e+00\n",
      "   2.46000806e-04   0.00000000e+00   0.00000000e+00   0.00000000e+00\n",
      "   0.00000000e+00   0.00000000e+00   0.00000000e+00   1.76491423e-03\n",
      "   0.00000000e+00   0.00000000e+00   0.00000000e+00   0.00000000e+00\n",
      "   0.00000000e+00  -6.89510522e-03   0.00000000e+00   0.00000000e+00\n",
      "   0.00000000e+00   0.00000000e+00   8.05793147e-03   0.00000000e+00\n",
      "   0.00000000e+00   0.00000000e+00  -1.43990770e-14   0.00000000e+00\n",
      "   0.00000000e+00  -8.89133770e-04   0.00000000e+00  -9.20144205e-03]\n",
      "Intercept: 0.5105516669628527\n"
     ]
    }
   ],
   "source": [
    "from sklearn.linear_model import Ridge\n",
    "from sklearn.linear_model import Lasso\n",
    "\n",
    "optimalDegree = 2\n",
    "\n",
    "model = make_pipeline(PolynomialFeatures(2), clf1.best_estimator_)\n",
    "kf = KFold(n_splits=5, shuffle=True)\n",
    "\n",
    "MAE_list_po_MSE = []\n",
    "MSE_list_po_MSE = []\n",
    "\n",
    "for train_indexes, test_indexes in kf.split(X,y):\n",
    "    # X_train, y_train - данные, соответствующие обучающей выборке\n",
    "    X_train = X[train_indexes]\n",
    "    y_train = y[train_indexes]\n",
    "    \n",
    "    X_test = X[test_indexes]\n",
    "    y_test = y[test_indexes]\n",
    "    \n",
    "    model.fit(X_train, y_train) # Обучение на тестовых данных\n",
    "    y_predict = model.predict(X_test)\n",
    "        \n",
    "    current_mae = mean_absolute_error(y_test, y_predict)\n",
    "    current_mse = mean_squared_error(y_test, y_predict)\n",
    "        \n",
    "    MAE_list_po_MSE.append(current_mae)\n",
    "    MSE_list_po_MSE.append(current_mse)\n",
    "print(\"\\tMAE : {0}\".format(np.mean(MAE_list_po_MSE)))\n",
    "print(\"\\tMSE : {0}\".format(np.mean(MSE_list_po_MSE)))    \n",
    "\n",
    "print(\"Coefficients: {0}\".format((model.get_params()['ridge']).coef_))\n",
    "print(\"Intercept: {0}\".format((model.get_params()['ridge']).intercept_ ))"
   ]
  },
  {
   "cell_type": "code",
   "execution_count": 39,
   "metadata": {},
   "outputs": [
    {
     "name": "stdout",
     "output_type": "stream",
     "text": [
      "\tMAE по МАЕ : 0.25014610400357334\n",
      "\tMSE по МАЕ : 0.08347285692040579\n",
      "\tMAE по МСЕ: 0.2503541723768917\n",
      "\tMSE по МСЕ: 0.08366513591831816\n"
     ]
    }
   ],
   "source": [
    "print(\"\\tMAE по МАЕ : {0}\".format(np.mean(MAE_list_po_MAE)))\n",
    "print(\"\\tMSE по МАЕ : {0}\".format(np.mean(MSE_list_po_MAE)))\n",
    "print(\"\\tMAE по МСЕ: {0}\".format(np.mean(MAE_list_po_MSE)))\n",
    "print(\"\\tMSE по МСЕ: {0}\".format(np.mean(MSE_list_po_MSE)))    "
   ]
  },
  {
   "cell_type": "markdown",
   "metadata": {},
   "source": [
    "Так как у лассо регресси много весов \"underflow\",  то для нее был посчитан один гипер параметр по MSE\n",
    "(выдает ошибку при каждой обработке нового значения w)."
   ]
  },
  {
   "cell_type": "markdown",
   "metadata": {},
   "source": [
    "При сравнеии значений метрик MSE и MAE у ридж регресси с подобранным параметром выявлено, что параметр, \n",
    "найденный по MAE, позволяет лучше описать выборкую. Cтоит отметить также, что по второму параметру получилосьдостаточно много \n",
    "коэффициентов приравненных к 0, однако и это не спасло и без стого слишком сложную модель."
   ]
  },
  {
   "cell_type": "markdown",
   "metadata": {},
   "source": [
    "4.2.Подбор гиперпараметров для L1 или L2 полиномиальной регрессии (со значением степени полученной из задачи 2). Получить значения метрик MAE, MSE, RMSE и весовых коэффициентов для оптимального параметра. Объяснить полученные результаты."
   ]
  },
  {
   "cell_type": "code",
   "execution_count": 40,
   "metadata": {
    "collapsed": true
   },
   "outputs": [],
   "source": [
    "parameters = {'ridge__alpha': alphas, 'ridge__fit_intercept' : [True, False]}"
   ]
  },
  {
   "cell_type": "code",
   "execution_count": 41,
   "metadata": {},
   "outputs": [
    {
     "ename": "KeyboardInterrupt",
     "evalue": "",
     "output_type": "error",
     "traceback": [
      "\u001b[0;31m---------------------------------------------------------------------------\u001b[0m",
      "\u001b[0;31mKeyboardInterrupt\u001b[0m                         Traceback (most recent call last)",
      "\u001b[0;32m<ipython-input-41-6b6fe1d565a6>\u001b[0m in \u001b[0;36m<module>\u001b[0;34m()\u001b[0m\n\u001b[1;32m      1\u001b[0m \u001b[0mclf\u001b[0m \u001b[1;33m=\u001b[0m \u001b[0mGridSearchCV\u001b[0m\u001b[1;33m(\u001b[0m\u001b[0mmodel\u001b[0m\u001b[1;33m,\u001b[0m \u001b[0mparameters\u001b[0m\u001b[1;33m,\u001b[0m \u001b[0mscoring\u001b[0m  \u001b[1;33m=\u001b[0m \u001b[0mMSE_scorer\u001b[0m\u001b[1;33m)\u001b[0m\u001b[1;33m\u001b[0m\u001b[0m\n\u001b[0;32m----> 2\u001b[0;31m \u001b[0mclf\u001b[0m\u001b[1;33m.\u001b[0m\u001b[0mfit\u001b[0m\u001b[1;33m(\u001b[0m\u001b[0mX\u001b[0m\u001b[1;33m,\u001b[0m \u001b[0my\u001b[0m\u001b[1;33m)\u001b[0m\u001b[1;33m\u001b[0m\u001b[0m\n\u001b[0m",
      "\u001b[0;32mC:\\ProgramData\\Anaconda3\\lib\\site-packages\\sklearn\\model_selection\\_search.py\u001b[0m in \u001b[0;36mfit\u001b[0;34m(self, X, y, groups)\u001b[0m\n\u001b[1;32m    943\u001b[0m             \u001b[0mtrain\u001b[0m\u001b[1;33m/\u001b[0m\u001b[0mtest\u001b[0m \u001b[0mset\u001b[0m\u001b[1;33m.\u001b[0m\u001b[1;33m\u001b[0m\u001b[0m\n\u001b[1;32m    944\u001b[0m         \"\"\"\n\u001b[0;32m--> 945\u001b[0;31m         \u001b[1;32mreturn\u001b[0m \u001b[0mself\u001b[0m\u001b[1;33m.\u001b[0m\u001b[0m_fit\u001b[0m\u001b[1;33m(\u001b[0m\u001b[0mX\u001b[0m\u001b[1;33m,\u001b[0m \u001b[0my\u001b[0m\u001b[1;33m,\u001b[0m \u001b[0mgroups\u001b[0m\u001b[1;33m,\u001b[0m \u001b[0mParameterGrid\u001b[0m\u001b[1;33m(\u001b[0m\u001b[0mself\u001b[0m\u001b[1;33m.\u001b[0m\u001b[0mparam_grid\u001b[0m\u001b[1;33m)\u001b[0m\u001b[1;33m)\u001b[0m\u001b[1;33m\u001b[0m\u001b[0m\n\u001b[0m\u001b[1;32m    946\u001b[0m \u001b[1;33m\u001b[0m\u001b[0m\n\u001b[1;32m    947\u001b[0m \u001b[1;33m\u001b[0m\u001b[0m\n",
      "\u001b[0;32mC:\\ProgramData\\Anaconda3\\lib\\site-packages\\sklearn\\model_selection\\_search.py\u001b[0m in \u001b[0;36m_fit\u001b[0;34m(self, X, y, groups, parameter_iterable)\u001b[0m\n\u001b[1;32m    562\u001b[0m                                   \u001b[0mreturn_times\u001b[0m\u001b[1;33m=\u001b[0m\u001b[1;32mTrue\u001b[0m\u001b[1;33m,\u001b[0m \u001b[0mreturn_parameters\u001b[0m\u001b[1;33m=\u001b[0m\u001b[1;32mTrue\u001b[0m\u001b[1;33m,\u001b[0m\u001b[1;33m\u001b[0m\u001b[0m\n\u001b[1;32m    563\u001b[0m                                   error_score=self.error_score)\n\u001b[0;32m--> 564\u001b[0;31m           \u001b[1;32mfor\u001b[0m \u001b[0mparameters\u001b[0m \u001b[1;32min\u001b[0m \u001b[0mparameter_iterable\u001b[0m\u001b[1;33m\u001b[0m\u001b[0m\n\u001b[0m\u001b[1;32m    565\u001b[0m           for train, test in cv_iter)\n\u001b[1;32m    566\u001b[0m \u001b[1;33m\u001b[0m\u001b[0m\n",
      "\u001b[0;32mC:\\ProgramData\\Anaconda3\\lib\\site-packages\\sklearn\\externals\\joblib\\parallel.py\u001b[0m in \u001b[0;36m__call__\u001b[0;34m(self, iterable)\u001b[0m\n\u001b[1;32m    756\u001b[0m             \u001b[1;31m# was dispatched. In particular this covers the edge\u001b[0m\u001b[1;33m\u001b[0m\u001b[1;33m\u001b[0m\u001b[0m\n\u001b[1;32m    757\u001b[0m             \u001b[1;31m# case of Parallel used with an exhausted iterator.\u001b[0m\u001b[1;33m\u001b[0m\u001b[1;33m\u001b[0m\u001b[0m\n\u001b[0;32m--> 758\u001b[0;31m             \u001b[1;32mwhile\u001b[0m \u001b[0mself\u001b[0m\u001b[1;33m.\u001b[0m\u001b[0mdispatch_one_batch\u001b[0m\u001b[1;33m(\u001b[0m\u001b[0miterator\u001b[0m\u001b[1;33m)\u001b[0m\u001b[1;33m:\u001b[0m\u001b[1;33m\u001b[0m\u001b[0m\n\u001b[0m\u001b[1;32m    759\u001b[0m                 \u001b[0mself\u001b[0m\u001b[1;33m.\u001b[0m\u001b[0m_iterating\u001b[0m \u001b[1;33m=\u001b[0m \u001b[1;32mTrue\u001b[0m\u001b[1;33m\u001b[0m\u001b[0m\n\u001b[1;32m    760\u001b[0m             \u001b[1;32melse\u001b[0m\u001b[1;33m:\u001b[0m\u001b[1;33m\u001b[0m\u001b[0m\n",
      "\u001b[0;32mC:\\ProgramData\\Anaconda3\\lib\\site-packages\\sklearn\\externals\\joblib\\parallel.py\u001b[0m in \u001b[0;36mdispatch_one_batch\u001b[0;34m(self, iterator)\u001b[0m\n\u001b[1;32m    606\u001b[0m                 \u001b[1;32mreturn\u001b[0m \u001b[1;32mFalse\u001b[0m\u001b[1;33m\u001b[0m\u001b[0m\n\u001b[1;32m    607\u001b[0m             \u001b[1;32melse\u001b[0m\u001b[1;33m:\u001b[0m\u001b[1;33m\u001b[0m\u001b[0m\n\u001b[0;32m--> 608\u001b[0;31m                 \u001b[0mself\u001b[0m\u001b[1;33m.\u001b[0m\u001b[0m_dispatch\u001b[0m\u001b[1;33m(\u001b[0m\u001b[0mtasks\u001b[0m\u001b[1;33m)\u001b[0m\u001b[1;33m\u001b[0m\u001b[0m\n\u001b[0m\u001b[1;32m    609\u001b[0m                 \u001b[1;32mreturn\u001b[0m \u001b[1;32mTrue\u001b[0m\u001b[1;33m\u001b[0m\u001b[0m\n\u001b[1;32m    610\u001b[0m \u001b[1;33m\u001b[0m\u001b[0m\n",
      "\u001b[0;32mC:\\ProgramData\\Anaconda3\\lib\\site-packages\\sklearn\\externals\\joblib\\parallel.py\u001b[0m in \u001b[0;36m_dispatch\u001b[0;34m(self, batch)\u001b[0m\n\u001b[1;32m    569\u001b[0m         \u001b[0mdispatch_timestamp\u001b[0m \u001b[1;33m=\u001b[0m \u001b[0mtime\u001b[0m\u001b[1;33m.\u001b[0m\u001b[0mtime\u001b[0m\u001b[1;33m(\u001b[0m\u001b[1;33m)\u001b[0m\u001b[1;33m\u001b[0m\u001b[0m\n\u001b[1;32m    570\u001b[0m         \u001b[0mcb\u001b[0m \u001b[1;33m=\u001b[0m \u001b[0mBatchCompletionCallBack\u001b[0m\u001b[1;33m(\u001b[0m\u001b[0mdispatch_timestamp\u001b[0m\u001b[1;33m,\u001b[0m \u001b[0mlen\u001b[0m\u001b[1;33m(\u001b[0m\u001b[0mbatch\u001b[0m\u001b[1;33m)\u001b[0m\u001b[1;33m,\u001b[0m \u001b[0mself\u001b[0m\u001b[1;33m)\u001b[0m\u001b[1;33m\u001b[0m\u001b[0m\n\u001b[0;32m--> 571\u001b[0;31m         \u001b[0mjob\u001b[0m \u001b[1;33m=\u001b[0m \u001b[0mself\u001b[0m\u001b[1;33m.\u001b[0m\u001b[0m_backend\u001b[0m\u001b[1;33m.\u001b[0m\u001b[0mapply_async\u001b[0m\u001b[1;33m(\u001b[0m\u001b[0mbatch\u001b[0m\u001b[1;33m,\u001b[0m \u001b[0mcallback\u001b[0m\u001b[1;33m=\u001b[0m\u001b[0mcb\u001b[0m\u001b[1;33m)\u001b[0m\u001b[1;33m\u001b[0m\u001b[0m\n\u001b[0m\u001b[1;32m    572\u001b[0m         \u001b[0mself\u001b[0m\u001b[1;33m.\u001b[0m\u001b[0m_jobs\u001b[0m\u001b[1;33m.\u001b[0m\u001b[0mappend\u001b[0m\u001b[1;33m(\u001b[0m\u001b[0mjob\u001b[0m\u001b[1;33m)\u001b[0m\u001b[1;33m\u001b[0m\u001b[0m\n\u001b[1;32m    573\u001b[0m \u001b[1;33m\u001b[0m\u001b[0m\n",
      "\u001b[0;32mC:\\ProgramData\\Anaconda3\\lib\\site-packages\\sklearn\\externals\\joblib\\_parallel_backends.py\u001b[0m in \u001b[0;36mapply_async\u001b[0;34m(self, func, callback)\u001b[0m\n\u001b[1;32m    107\u001b[0m     \u001b[1;32mdef\u001b[0m \u001b[0mapply_async\u001b[0m\u001b[1;33m(\u001b[0m\u001b[0mself\u001b[0m\u001b[1;33m,\u001b[0m \u001b[0mfunc\u001b[0m\u001b[1;33m,\u001b[0m \u001b[0mcallback\u001b[0m\u001b[1;33m=\u001b[0m\u001b[1;32mNone\u001b[0m\u001b[1;33m)\u001b[0m\u001b[1;33m:\u001b[0m\u001b[1;33m\u001b[0m\u001b[0m\n\u001b[1;32m    108\u001b[0m         \u001b[1;34m\"\"\"Schedule a func to be run\"\"\"\u001b[0m\u001b[1;33m\u001b[0m\u001b[0m\n\u001b[0;32m--> 109\u001b[0;31m         \u001b[0mresult\u001b[0m \u001b[1;33m=\u001b[0m \u001b[0mImmediateResult\u001b[0m\u001b[1;33m(\u001b[0m\u001b[0mfunc\u001b[0m\u001b[1;33m)\u001b[0m\u001b[1;33m\u001b[0m\u001b[0m\n\u001b[0m\u001b[1;32m    110\u001b[0m         \u001b[1;32mif\u001b[0m \u001b[0mcallback\u001b[0m\u001b[1;33m:\u001b[0m\u001b[1;33m\u001b[0m\u001b[0m\n\u001b[1;32m    111\u001b[0m             \u001b[0mcallback\u001b[0m\u001b[1;33m(\u001b[0m\u001b[0mresult\u001b[0m\u001b[1;33m)\u001b[0m\u001b[1;33m\u001b[0m\u001b[0m\n",
      "\u001b[0;32mC:\\ProgramData\\Anaconda3\\lib\\site-packages\\sklearn\\externals\\joblib\\_parallel_backends.py\u001b[0m in \u001b[0;36m__init__\u001b[0;34m(self, batch)\u001b[0m\n\u001b[1;32m    324\u001b[0m         \u001b[1;31m# Don't delay the application, to avoid keeping the input\u001b[0m\u001b[1;33m\u001b[0m\u001b[1;33m\u001b[0m\u001b[0m\n\u001b[1;32m    325\u001b[0m         \u001b[1;31m# arguments in memory\u001b[0m\u001b[1;33m\u001b[0m\u001b[1;33m\u001b[0m\u001b[0m\n\u001b[0;32m--> 326\u001b[0;31m         \u001b[0mself\u001b[0m\u001b[1;33m.\u001b[0m\u001b[0mresults\u001b[0m \u001b[1;33m=\u001b[0m \u001b[0mbatch\u001b[0m\u001b[1;33m(\u001b[0m\u001b[1;33m)\u001b[0m\u001b[1;33m\u001b[0m\u001b[0m\n\u001b[0m\u001b[1;32m    327\u001b[0m \u001b[1;33m\u001b[0m\u001b[0m\n\u001b[1;32m    328\u001b[0m     \u001b[1;32mdef\u001b[0m \u001b[0mget\u001b[0m\u001b[1;33m(\u001b[0m\u001b[0mself\u001b[0m\u001b[1;33m)\u001b[0m\u001b[1;33m:\u001b[0m\u001b[1;33m\u001b[0m\u001b[0m\n",
      "\u001b[0;32mC:\\ProgramData\\Anaconda3\\lib\\site-packages\\sklearn\\externals\\joblib\\parallel.py\u001b[0m in \u001b[0;36m__call__\u001b[0;34m(self)\u001b[0m\n\u001b[1;32m    129\u001b[0m \u001b[1;33m\u001b[0m\u001b[0m\n\u001b[1;32m    130\u001b[0m     \u001b[1;32mdef\u001b[0m \u001b[0m__call__\u001b[0m\u001b[1;33m(\u001b[0m\u001b[0mself\u001b[0m\u001b[1;33m)\u001b[0m\u001b[1;33m:\u001b[0m\u001b[1;33m\u001b[0m\u001b[0m\n\u001b[0;32m--> 131\u001b[0;31m         \u001b[1;32mreturn\u001b[0m \u001b[1;33m[\u001b[0m\u001b[0mfunc\u001b[0m\u001b[1;33m(\u001b[0m\u001b[1;33m*\u001b[0m\u001b[0margs\u001b[0m\u001b[1;33m,\u001b[0m \u001b[1;33m**\u001b[0m\u001b[0mkwargs\u001b[0m\u001b[1;33m)\u001b[0m \u001b[1;32mfor\u001b[0m \u001b[0mfunc\u001b[0m\u001b[1;33m,\u001b[0m \u001b[0margs\u001b[0m\u001b[1;33m,\u001b[0m \u001b[0mkwargs\u001b[0m \u001b[1;32min\u001b[0m \u001b[0mself\u001b[0m\u001b[1;33m.\u001b[0m\u001b[0mitems\u001b[0m\u001b[1;33m]\u001b[0m\u001b[1;33m\u001b[0m\u001b[0m\n\u001b[0m\u001b[1;32m    132\u001b[0m \u001b[1;33m\u001b[0m\u001b[0m\n\u001b[1;32m    133\u001b[0m     \u001b[1;32mdef\u001b[0m \u001b[0m__len__\u001b[0m\u001b[1;33m(\u001b[0m\u001b[0mself\u001b[0m\u001b[1;33m)\u001b[0m\u001b[1;33m:\u001b[0m\u001b[1;33m\u001b[0m\u001b[0m\n",
      "\u001b[0;32mC:\\ProgramData\\Anaconda3\\lib\\site-packages\\sklearn\\externals\\joblib\\parallel.py\u001b[0m in \u001b[0;36m<listcomp>\u001b[0;34m(.0)\u001b[0m\n\u001b[1;32m    129\u001b[0m \u001b[1;33m\u001b[0m\u001b[0m\n\u001b[1;32m    130\u001b[0m     \u001b[1;32mdef\u001b[0m \u001b[0m__call__\u001b[0m\u001b[1;33m(\u001b[0m\u001b[0mself\u001b[0m\u001b[1;33m)\u001b[0m\u001b[1;33m:\u001b[0m\u001b[1;33m\u001b[0m\u001b[0m\n\u001b[0;32m--> 131\u001b[0;31m         \u001b[1;32mreturn\u001b[0m \u001b[1;33m[\u001b[0m\u001b[0mfunc\u001b[0m\u001b[1;33m(\u001b[0m\u001b[1;33m*\u001b[0m\u001b[0margs\u001b[0m\u001b[1;33m,\u001b[0m \u001b[1;33m**\u001b[0m\u001b[0mkwargs\u001b[0m\u001b[1;33m)\u001b[0m \u001b[1;32mfor\u001b[0m \u001b[0mfunc\u001b[0m\u001b[1;33m,\u001b[0m \u001b[0margs\u001b[0m\u001b[1;33m,\u001b[0m \u001b[0mkwargs\u001b[0m \u001b[1;32min\u001b[0m \u001b[0mself\u001b[0m\u001b[1;33m.\u001b[0m\u001b[0mitems\u001b[0m\u001b[1;33m]\u001b[0m\u001b[1;33m\u001b[0m\u001b[0m\n\u001b[0m\u001b[1;32m    132\u001b[0m \u001b[1;33m\u001b[0m\u001b[0m\n\u001b[1;32m    133\u001b[0m     \u001b[1;32mdef\u001b[0m \u001b[0m__len__\u001b[0m\u001b[1;33m(\u001b[0m\u001b[0mself\u001b[0m\u001b[1;33m)\u001b[0m\u001b[1;33m:\u001b[0m\u001b[1;33m\u001b[0m\u001b[0m\n",
      "\u001b[0;32mC:\\ProgramData\\Anaconda3\\lib\\site-packages\\sklearn\\model_selection\\_validation.py\u001b[0m in \u001b[0;36m_fit_and_score\u001b[0;34m(estimator, X, y, scorer, train, test, verbose, parameters, fit_params, return_train_score, return_parameters, return_n_test_samples, return_times, error_score)\u001b[0m\n\u001b[1;32m    236\u001b[0m             \u001b[0mestimator\u001b[0m\u001b[1;33m.\u001b[0m\u001b[0mfit\u001b[0m\u001b[1;33m(\u001b[0m\u001b[0mX_train\u001b[0m\u001b[1;33m,\u001b[0m \u001b[1;33m**\u001b[0m\u001b[0mfit_params\u001b[0m\u001b[1;33m)\u001b[0m\u001b[1;33m\u001b[0m\u001b[0m\n\u001b[1;32m    237\u001b[0m         \u001b[1;32melse\u001b[0m\u001b[1;33m:\u001b[0m\u001b[1;33m\u001b[0m\u001b[0m\n\u001b[0;32m--> 238\u001b[0;31m             \u001b[0mestimator\u001b[0m\u001b[1;33m.\u001b[0m\u001b[0mfit\u001b[0m\u001b[1;33m(\u001b[0m\u001b[0mX_train\u001b[0m\u001b[1;33m,\u001b[0m \u001b[0my_train\u001b[0m\u001b[1;33m,\u001b[0m \u001b[1;33m**\u001b[0m\u001b[0mfit_params\u001b[0m\u001b[1;33m)\u001b[0m\u001b[1;33m\u001b[0m\u001b[0m\n\u001b[0m\u001b[1;32m    239\u001b[0m \u001b[1;33m\u001b[0m\u001b[0m\n\u001b[1;32m    240\u001b[0m     \u001b[1;32mexcept\u001b[0m \u001b[0mException\u001b[0m \u001b[1;32mas\u001b[0m \u001b[0me\u001b[0m\u001b[1;33m:\u001b[0m\u001b[1;33m\u001b[0m\u001b[0m\n",
      "\u001b[0;32mC:\\ProgramData\\Anaconda3\\lib\\site-packages\\sklearn\\pipeline.py\u001b[0m in \u001b[0;36mfit\u001b[0;34m(self, X, y, **fit_params)\u001b[0m\n\u001b[1;32m    268\u001b[0m         \u001b[0mXt\u001b[0m\u001b[1;33m,\u001b[0m \u001b[0mfit_params\u001b[0m \u001b[1;33m=\u001b[0m \u001b[0mself\u001b[0m\u001b[1;33m.\u001b[0m\u001b[0m_fit\u001b[0m\u001b[1;33m(\u001b[0m\u001b[0mX\u001b[0m\u001b[1;33m,\u001b[0m \u001b[0my\u001b[0m\u001b[1;33m,\u001b[0m \u001b[1;33m**\u001b[0m\u001b[0mfit_params\u001b[0m\u001b[1;33m)\u001b[0m\u001b[1;33m\u001b[0m\u001b[0m\n\u001b[1;32m    269\u001b[0m         \u001b[1;32mif\u001b[0m \u001b[0mself\u001b[0m\u001b[1;33m.\u001b[0m\u001b[0m_final_estimator\u001b[0m \u001b[1;32mis\u001b[0m \u001b[1;32mnot\u001b[0m \u001b[1;32mNone\u001b[0m\u001b[1;33m:\u001b[0m\u001b[1;33m\u001b[0m\u001b[0m\n\u001b[0;32m--> 270\u001b[0;31m             \u001b[0mself\u001b[0m\u001b[1;33m.\u001b[0m\u001b[0m_final_estimator\u001b[0m\u001b[1;33m.\u001b[0m\u001b[0mfit\u001b[0m\u001b[1;33m(\u001b[0m\u001b[0mXt\u001b[0m\u001b[1;33m,\u001b[0m \u001b[0my\u001b[0m\u001b[1;33m,\u001b[0m \u001b[1;33m**\u001b[0m\u001b[0mfit_params\u001b[0m\u001b[1;33m)\u001b[0m\u001b[1;33m\u001b[0m\u001b[0m\n\u001b[0m\u001b[1;32m    271\u001b[0m         \u001b[1;32mreturn\u001b[0m \u001b[0mself\u001b[0m\u001b[1;33m\u001b[0m\u001b[0m\n\u001b[1;32m    272\u001b[0m \u001b[1;33m\u001b[0m\u001b[0m\n",
      "\u001b[0;32mC:\\ProgramData\\Anaconda3\\lib\\site-packages\\sklearn\\linear_model\\ridge.py\u001b[0m in \u001b[0;36mfit\u001b[0;34m(self, X, y, sample_weight)\u001b[0m\n\u001b[1;32m    640\u001b[0m         \u001b[0mself\u001b[0m \u001b[1;33m:\u001b[0m \u001b[0mreturns\u001b[0m \u001b[0man\u001b[0m \u001b[0minstance\u001b[0m \u001b[0mof\u001b[0m \u001b[0mself\u001b[0m\u001b[1;33m.\u001b[0m\u001b[1;33m\u001b[0m\u001b[0m\n\u001b[1;32m    641\u001b[0m         \"\"\"\n\u001b[0;32m--> 642\u001b[0;31m         \u001b[1;32mreturn\u001b[0m \u001b[0msuper\u001b[0m\u001b[1;33m(\u001b[0m\u001b[0mRidge\u001b[0m\u001b[1;33m,\u001b[0m \u001b[0mself\u001b[0m\u001b[1;33m)\u001b[0m\u001b[1;33m.\u001b[0m\u001b[0mfit\u001b[0m\u001b[1;33m(\u001b[0m\u001b[0mX\u001b[0m\u001b[1;33m,\u001b[0m \u001b[0my\u001b[0m\u001b[1;33m,\u001b[0m \u001b[0msample_weight\u001b[0m\u001b[1;33m=\u001b[0m\u001b[0msample_weight\u001b[0m\u001b[1;33m)\u001b[0m\u001b[1;33m\u001b[0m\u001b[0m\n\u001b[0m\u001b[1;32m    643\u001b[0m \u001b[1;33m\u001b[0m\u001b[0m\n\u001b[1;32m    644\u001b[0m \u001b[1;33m\u001b[0m\u001b[0m\n",
      "\u001b[0;32mC:\\ProgramData\\Anaconda3\\lib\\site-packages\\sklearn\\linear_model\\ridge.py\u001b[0m in \u001b[0;36mfit\u001b[0;34m(self, X, y, sample_weight)\u001b[0m\n\u001b[1;32m    486\u001b[0m                 \u001b[0mmax_iter\u001b[0m\u001b[1;33m=\u001b[0m\u001b[0mself\u001b[0m\u001b[1;33m.\u001b[0m\u001b[0mmax_iter\u001b[0m\u001b[1;33m,\u001b[0m \u001b[0mtol\u001b[0m\u001b[1;33m=\u001b[0m\u001b[0mself\u001b[0m\u001b[1;33m.\u001b[0m\u001b[0mtol\u001b[0m\u001b[1;33m,\u001b[0m \u001b[0msolver\u001b[0m\u001b[1;33m=\u001b[0m\u001b[0mself\u001b[0m\u001b[1;33m.\u001b[0m\u001b[0msolver\u001b[0m\u001b[1;33m,\u001b[0m\u001b[1;33m\u001b[0m\u001b[0m\n\u001b[1;32m    487\u001b[0m                 \u001b[0mrandom_state\u001b[0m\u001b[1;33m=\u001b[0m\u001b[0mself\u001b[0m\u001b[1;33m.\u001b[0m\u001b[0mrandom_state\u001b[0m\u001b[1;33m,\u001b[0m \u001b[0mreturn_n_iter\u001b[0m\u001b[1;33m=\u001b[0m\u001b[1;32mTrue\u001b[0m\u001b[1;33m,\u001b[0m\u001b[1;33m\u001b[0m\u001b[0m\n\u001b[0;32m--> 488\u001b[0;31m                 return_intercept=False)\n\u001b[0m\u001b[1;32m    489\u001b[0m             \u001b[0mself\u001b[0m\u001b[1;33m.\u001b[0m\u001b[0m_set_intercept\u001b[0m\u001b[1;33m(\u001b[0m\u001b[0mX_offset\u001b[0m\u001b[1;33m,\u001b[0m \u001b[0my_offset\u001b[0m\u001b[1;33m,\u001b[0m \u001b[0mX_scale\u001b[0m\u001b[1;33m)\u001b[0m\u001b[1;33m\u001b[0m\u001b[0m\n\u001b[1;32m    490\u001b[0m \u001b[1;33m\u001b[0m\u001b[0m\n",
      "\u001b[0;32mC:\\ProgramData\\Anaconda3\\lib\\site-packages\\sklearn\\linear_model\\ridge.py\u001b[0m in \u001b[0;36mridge_regression\u001b[0;34m(X, y, alpha, sample_weight, solver, max_iter, tol, verbose, random_state, return_n_iter, return_intercept)\u001b[0m\n\u001b[1;32m    430\u001b[0m             raise TypeError('SVD solver does not support sparse'\n\u001b[1;32m    431\u001b[0m                             ' inputs currently')\n\u001b[0;32m--> 432\u001b[0;31m         \u001b[0mcoef\u001b[0m \u001b[1;33m=\u001b[0m \u001b[0m_solve_svd\u001b[0m\u001b[1;33m(\u001b[0m\u001b[0mX\u001b[0m\u001b[1;33m,\u001b[0m \u001b[0my\u001b[0m\u001b[1;33m,\u001b[0m \u001b[0malpha\u001b[0m\u001b[1;33m)\u001b[0m\u001b[1;33m\u001b[0m\u001b[0m\n\u001b[0m\u001b[1;32m    433\u001b[0m \u001b[1;33m\u001b[0m\u001b[0m\n\u001b[1;32m    434\u001b[0m     \u001b[1;32mif\u001b[0m \u001b[0mravel\u001b[0m\u001b[1;33m:\u001b[0m\u001b[1;33m\u001b[0m\u001b[0m\n",
      "\u001b[0;32mC:\\ProgramData\\Anaconda3\\lib\\site-packages\\sklearn\\linear_model\\ridge.py\u001b[0m in \u001b[0;36m_solve_svd\u001b[0;34m(X, y, alpha)\u001b[0m\n\u001b[1;32m    187\u001b[0m     \u001b[0ms_nnz\u001b[0m \u001b[1;33m=\u001b[0m \u001b[0ms\u001b[0m\u001b[1;33m[\u001b[0m\u001b[0midx\u001b[0m\u001b[1;33m]\u001b[0m\u001b[1;33m[\u001b[0m\u001b[1;33m:\u001b[0m\u001b[1;33m,\u001b[0m \u001b[0mnp\u001b[0m\u001b[1;33m.\u001b[0m\u001b[0mnewaxis\u001b[0m\u001b[1;33m]\u001b[0m\u001b[1;33m\u001b[0m\u001b[0m\n\u001b[1;32m    188\u001b[0m     \u001b[0mUTy\u001b[0m \u001b[1;33m=\u001b[0m \u001b[0mnp\u001b[0m\u001b[1;33m.\u001b[0m\u001b[0mdot\u001b[0m\u001b[1;33m(\u001b[0m\u001b[0mU\u001b[0m\u001b[1;33m.\u001b[0m\u001b[0mT\u001b[0m\u001b[1;33m,\u001b[0m \u001b[0my\u001b[0m\u001b[1;33m)\u001b[0m\u001b[1;33m\u001b[0m\u001b[0m\n\u001b[0;32m--> 189\u001b[0;31m     \u001b[0md\u001b[0m \u001b[1;33m=\u001b[0m \u001b[0mnp\u001b[0m\u001b[1;33m.\u001b[0m\u001b[0mzeros\u001b[0m\u001b[1;33m(\u001b[0m\u001b[1;33m(\u001b[0m\u001b[0ms\u001b[0m\u001b[1;33m.\u001b[0m\u001b[0msize\u001b[0m\u001b[1;33m,\u001b[0m \u001b[0malpha\u001b[0m\u001b[1;33m.\u001b[0m\u001b[0msize\u001b[0m\u001b[1;33m)\u001b[0m\u001b[1;33m)\u001b[0m\u001b[1;33m\u001b[0m\u001b[0m\n\u001b[0m\u001b[1;32m    190\u001b[0m     \u001b[0md\u001b[0m\u001b[1;33m[\u001b[0m\u001b[0midx\u001b[0m\u001b[1;33m]\u001b[0m \u001b[1;33m=\u001b[0m \u001b[0ms_nnz\u001b[0m \u001b[1;33m/\u001b[0m \u001b[1;33m(\u001b[0m\u001b[0ms_nnz\u001b[0m \u001b[1;33m**\u001b[0m \u001b[1;36m2\u001b[0m \u001b[1;33m+\u001b[0m \u001b[0malpha\u001b[0m\u001b[1;33m)\u001b[0m\u001b[1;33m\u001b[0m\u001b[0m\n\u001b[1;32m    191\u001b[0m     \u001b[0md_UT_y\u001b[0m \u001b[1;33m=\u001b[0m \u001b[0md\u001b[0m \u001b[1;33m*\u001b[0m \u001b[0mUTy\u001b[0m\u001b[1;33m\u001b[0m\u001b[0m\n",
      "\u001b[0;31mKeyboardInterrupt\u001b[0m: "
     ]
    }
   ],
   "source": [
    "clf = GridSearchCV(model, parameters, scoring  = MSE_scorer)\n",
    "clf.fit(X, y)"
   ]
  },
  {
   "cell_type": "code",
   "execution_count": 263,
   "metadata": {},
   "outputs": [
    {
     "data": {
      "text/plain": [
       "-2224572895.3788795"
      ]
     },
     "execution_count": 263,
     "metadata": {},
     "output_type": "execute_result"
    }
   ],
   "source": [
    "clf.best_params_"
   ]
  },
  {
   "cell_type": "code",
   "execution_count": 264,
   "metadata": {},
   "outputs": [
    {
     "name": "stdout",
     "output_type": "stream",
     "text": [
      "\tMAE : 0.5159638181951166\n",
      "\tMSE : 0.3545462092901448\n",
      "Coefficients: [  8.76804766e-04   1.02737687e-06   4.54087461e-06   2.20421059e-06\n",
      "   5.58995898e-06   2.47046586e-06  -1.58148891e-06   2.59490587e-06\n",
      "  -2.44302530e-06   4.21882652e-06  -8.48378569e-07   1.54973299e-06\n",
      "  -2.86824047e-06  -4.12240799e-06   3.73538231e-06  -3.09748336e-06\n",
      "  -4.43868439e-06   1.15672440e-06   7.12184488e-07  -1.50093539e-06\n",
      "   5.26378210e-06   1.94785144e-06  -1.13767361e-07  -1.74421257e-06\n",
      "  -2.15478101e-06   5.02052265e-06   8.30610439e-12   3.70165190e-06\n",
      "   2.60253198e-06  -3.53676896e-07  -2.70311977e-06   8.70796017e-07\n",
      "   4.18046462e-06  -4.42147931e-06   2.08703320e-06  -3.29928570e-07\n",
      "   7.93077096e-08  -4.30977613e-06   6.32985931e-08  -6.93493534e-07\n",
      "   4.35471481e-07  -9.66763210e-07   3.34710036e-07   6.67633017e-07\n",
      "  -4.22907469e-06   2.70437189e-06   4.59003645e-06   1.51283525e-06\n",
      "  -1.52006475e-06   2.88837870e-06   2.23765011e-06   1.06967591e-06\n",
      "  -1.86400048e-06   2.48436028e-06  -3.30175931e-06  -2.53342524e-06\n",
      "  -1.62744354e-06  -4.54938623e-06   3.63647239e-06  -9.31315120e-08\n",
      "   6.07271195e-07  -2.34216528e-06   1.20450363e-06   1.70186330e-06\n",
      "  -2.48281396e-06   8.96434048e-07  -5.60732443e-06  -1.51949503e-06\n",
      "   2.07626618e-06   6.02425756e-21  -6.84175536e-07  -6.84173806e-07\n",
      "  -6.84141512e-07  -6.84156383e-07  -6.84169763e-07  -6.84169152e-07\n",
      "  -6.84197152e-07  -6.84179860e-07  -6.84162446e-07  -6.84176674e-07\n",
      "  -6.84145522e-07  -6.84162396e-07  -6.84152003e-07  -6.84162119e-07\n",
      "  -6.84168109e-07  -6.84158052e-07  -6.84163176e-07  -6.84157595e-07\n",
      "  -6.84173022e-07  -6.84150700e-07   3.67638294e-06  -2.16291370e-06\n",
      "  -3.64400450e-06  -4.57635083e-07   2.65639966e-06   3.37542576e-06\n",
      "  -4.31309804e-06  -2.60860718e-06   6.67421494e-06   3.58077574e-06\n",
      "   2.55784936e-06  -1.95689975e-06   2.56246250e-06  -5.31053403e-07\n",
      "  -4.29489340e-07  -2.37695546e-06   1.33268282e-06  -2.47215685e-06\n",
      "  -2.39368813e-06   1.15487212e-06   1.39405032e-06  -5.19395020e-06\n",
      "  -1.64596811e-06  -3.66141642e-06   1.72525334e-06   2.73294080e-06\n",
      "  -6.04886435e-07   1.13058663e-06  -1.24815381e-06   1.92391548e-06\n",
      "   2.00377708e-06  -2.20938614e-06   3.35638634e-06  -1.46374533e-06\n",
      "  -1.30834076e-06   2.77078231e-06   3.04496371e-06  -1.60400988e-06\n",
      "  -5.59494196e-07  -1.01329427e-06   5.38131199e-06   1.63203939e-06\n",
      "  -4.96657977e-06  -1.95819996e-06  -2.59297684e-06  -1.49115766e-06\n",
      "   2.07574880e-06   9.18189973e-07   1.27567073e-06   1.70416820e-06\n",
      "  -7.15830842e-07  -1.72771753e-06  -3.19159350e-06  -2.98898846e-06\n",
      "  -3.67409402e-06  -3.29450853e-06  -7.75983303e-07   5.27489913e-07\n",
      "  -2.60856268e-07   2.45996120e-06  -1.57071270e-06   2.45897336e-06\n",
      "  -1.02921577e-07  -2.76295467e-06  -7.35766266e-06   3.33652750e-08\n",
      "  -2.92173473e-06  -3.56420711e-06  -1.64985334e-06  -4.99463135e-07\n",
      "  -5.78493492e-07  -3.01732210e-06   9.92109259e-07   1.63736624e-06\n",
      "  -4.28692038e-06  -2.27565241e-06   2.02338412e-07   3.14426399e-06\n",
      "  -4.97440519e-07   1.70798069e-06  -3.86495206e-06   2.20708006e-06\n",
      "  -2.00708056e-06   1.44832477e-06  -2.33133286e-06  -2.37251035e-06\n",
      "  -3.19225239e-06  -2.59426830e-06   6.04984810e-06   1.26800036e-06\n",
      "   5.99246461e-06  -1.52283848e-06  -8.64733823e-07  -4.43594167e-06\n",
      "   8.56289296e-08  -2.49946803e-06   1.60905699e-06  -1.99720643e-07\n",
      "   2.72276111e-06   1.58576555e-06   1.56290639e-06   1.85217221e-07\n",
      "   3.06825549e-06  -2.17126392e-06  -1.78513689e-06  -5.21532017e-07\n",
      "   1.52726154e-07   3.18059383e-06   1.55127072e-06  -3.15522271e-06\n",
      "   1.76765462e-06   2.08617592e-06   7.14104588e-06  -3.38999406e-06\n",
      "  -2.12278657e-06  -1.65943341e-06  -2.49761673e-06   1.62190411e-07\n",
      "   1.11358613e-06  -1.10942503e-07  -3.47653766e-06   1.81373554e-06\n",
      "  -2.35034155e-06  -4.69424548e-06  -2.52327911e-06  -1.91245923e-06\n",
      "  -3.46670628e-07  -1.23746246e-06  -1.60890835e-06  -1.18160303e-06\n",
      "  -6.72268677e-06  -3.23373915e-06   2.38911633e-06  -2.19598166e-06\n",
      "  -5.70326910e-07   3.59154232e-06  -4.58407567e-06  -1.58047746e-06\n",
      "  -3.36201011e-06  -3.05523193e-06   8.17689097e-08   1.22416247e-06\n",
      "   2.23107441e-06   4.72997554e-06   1.98970410e-07  -7.53250679e-07\n",
      "  -3.30761922e-06   4.39283634e-07  -2.19567191e-06  -1.64155786e-06\n",
      "  -3.74850901e-06   2.68241040e-07  -2.03572487e-06  -1.50597735e-06\n",
      "  -1.22862958e-06  -5.36743729e-06   8.83259834e-07  -4.27726976e-07\n",
      "   3.98456908e-07  -2.44138034e-06   3.49978195e-06   4.77578816e-06\n",
      "   1.94913832e-06  -4.69201331e-07  -1.35075770e-06  -9.42311178e-07\n",
      "  -1.48642535e-06  -2.51221519e-06   2.49824196e-06  -5.60441344e-07\n",
      "   3.77179533e-07  -2.10458374e-06   1.47661851e-06  -7.37190673e-06\n",
      "   1.68587519e-06   4.54859281e-07  -1.24341993e-07  -2.93174809e-06\n",
      "   2.45786989e-06   1.72160644e-06  -1.12313575e-06  -1.05821859e-06\n",
      "  -6.00761362e-06   2.28186155e-06   5.23605640e-06  -3.97263337e-06\n",
      "   3.21533289e-06   2.35389903e-07   2.81515970e-06   1.32754930e-06\n",
      "  -1.57820741e-07  -3.03646804e-06  -1.89642264e-06  -3.09724993e-06\n",
      "  -4.25728446e-06  -2.66525675e-06  -1.55192334e-06  -2.08140900e-06\n",
      "   5.65103909e-07  -9.28109063e-07  -8.69882303e-07   1.13302790e-06\n",
      "   1.34679894e-06  -1.86353654e-06   1.85833862e-07  -5.79464139e-07\n",
      "  -6.27309444e-06   3.79066471e-06   3.71343094e-07  -1.27205186e-06]\n",
      "Intercept: 0.0\n"
     ]
    }
   ],
   "source": [
    "# передаем лучший estimator, подобранный с помощью GridSearchCV\n",
    "kf = KFold(n_splits=5, shuffle=True)\n",
    "\n",
    "MAE_list = []\n",
    "MSE_list = []\n",
    "new_model = clf.best_estimator_\n",
    "\n",
    "for train_indexes, test_indexes in kf.split(X,y):\n",
    "    # X_train, y_train - данные, соответствующие обучающей выборке\n",
    "    X_train = X[train_indexes]\n",
    "    y_train = y[train_indexes]\n",
    "    \n",
    "    # X_test, y_test - данные, соответствующие тренировочной выборке\n",
    "    X_test = X[test_indexes]\n",
    "    y_test = y[test_indexes]\n",
    "    \n",
    "    new_model.fit(X_train, y_train) # Обучение на тестовых данных\n",
    "    y_predict = new_model.predict(X_test)\n",
    "        \n",
    "    current_mae = mean_absolute_error(y_test, y_predict)\n",
    "    current_mse = mean_squared_error(y_test, y_predict)\n",
    "        \n",
    "    MAE_list.append(current_mae)\n",
    "    MSE_list.append(current_mse)\n",
    "    \n",
    "print(\"\\tMAE : {0}\".format(np.mean(MAE_list)))\n",
    "print(\"\\tMSE : {0}\".format(np.mean(MSE_list)))    \n",
    "print(\"\\tRMSE : {0}\".format(np.sqrt(np.mean(MSE_list)))) \n",
    "print(\"Coefficients: {0}\".format((new_model.get_params()['ridge']).coef_))\n",
    "print(\"Intercept: {0}\".format((new_model.get_params()['ridge']).intercept_ ))"
   ]
  },
  {
   "cell_type": "markdown",
   "metadata": {
    "collapsed": true
   },
   "source": [
    "По итогу полученных результатов регуляризованные регрессии на этих данных \"выигрывают\" очень небольшой\n",
    "процент меньшего совершения ошибки, однако он есть. Тем не менее лучше всего описывает выборку линейная регрессия, \n",
    "полагем из-за самой приророды данных - постоянства при расходе электроэнергии. Полиномиальные модели слишком сложные\n",
    "и тяготеют к переобучению. "
   ]
  }
 ],
 "metadata": {
  "kernelspec": {
   "display_name": "Python 3",
   "language": "python",
   "name": "python3"
  },
  "language_info": {
   "codemirror_mode": {
    "name": "ipython",
    "version": 3
   },
   "file_extension": ".py",
   "mimetype": "text/x-python",
   "name": "python",
   "nbconvert_exporter": "python",
   "pygments_lexer": "ipython3",
   "version": "3.6.4"
  }
 },
 "nbformat": 4,
 "nbformat_minor": 2
}
