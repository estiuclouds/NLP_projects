{
 "cells": [
  {
   "cell_type": "markdown",
   "metadata": {},
   "source": [
    "### Переменные, математические выражения и работа с файлами в Python. Первичная обработка текста"
   ]
  },
  {
   "cell_type": "code",
   "execution_count": 2,
   "metadata": {},
   "outputs": [
    {
     "name": "stdout",
     "output_type": "stream",
     "text": [
      "Теперь я чуть-чуть компьютерный лингвист\n"
     ]
    }
   ],
   "source": [
    "print ('Теперь я чуть-чуть компьютерный лингвист')"
   ]
  },
  {
   "cell_type": "markdown",
   "metadata": {},
   "source": [
    "Числовые переменные - это очень просто. "
   ]
  },
  {
   "cell_type": "code",
   "execution_count": 1,
   "metadata": {},
   "outputs": [
    {
     "data": {
      "text/plain": [
       "3"
      ]
     },
     "execution_count": 1,
     "metadata": {},
     "output_type": "execute_result"
    }
   ],
   "source": [
    "a = 1\n",
    "b = 2\n",
    "a + b  "
   ]
  },
  {
   "cell_type": "code",
   "execution_count": 3,
   "metadata": {},
   "outputs": [
    {
     "data": {
      "text/plain": [
       "-1"
      ]
     },
     "execution_count": 3,
     "metadata": {},
     "output_type": "execute_result"
    }
   ],
   "source": [
    "a - b "
   ]
  },
  {
   "cell_type": "markdown",
   "metadata": {},
   "source": [
    "Математические операции: ***+   -   /   *   **   %***\n",
    "<br>Попробуйте их поочередно и установите, что каждая из них обозначает. Если вы расставите их верно, то после запуска уже выведенные и твои ответы совпадут"
   ]
  },
  {
   "cell_type": "code",
   "execution_count": 5,
   "metadata": {},
   "outputs": [
    {
     "name": "stdout",
     "output_type": "stream",
     "text": [
      "2\n",
      "0\n",
      "1024\n",
      "25\n",
      "152\n"
     ]
    }
   ],
   "source": [
    "print(5 3)\n",
    "print(5 5)\n",
    "print(2 10)\n",
    "print(5 5)\n",
    "print(5 147)"
   ]
  },
  {
   "cell_type": "markdown",
   "metadata": {},
   "source": [
    "Все это не так удивительно, а теперь посмотрим на строки"
   ]
  },
  {
   "cell_type": "code",
   "execution_count": 8,
   "metadata": {},
   "outputs": [
    {
     "data": {
      "text/plain": [
       "'helloworld'"
      ]
     },
     "execution_count": 8,
     "metadata": {},
     "output_type": "execute_result"
    }
   ],
   "source": [
    "new_string = 'hello'\n",
    "old_string = 'world'\n",
    "new_string+old_string"
   ]
  },
  {
   "cell_type": "markdown",
   "metadata": {},
   "source": [
    "Что должна содержать переменная Х?"
   ]
  },
  {
   "cell_type": "code",
   "execution_count": 9,
   "metadata": {},
   "outputs": [
    {
     "name": "stdout",
     "output_type": "stream",
     "text": [
      "hello world\n"
     ]
    }
   ],
   "source": [
    "x \n",
    "print(new_string+x+old_string)"
   ]
  },
  {
   "cell_type": "markdown",
   "metadata": {},
   "source": [
    "Что еще обазатеьно пригодится нам из типом данных, так это структура list (список). Посмотрим на него пристольнее ведь у него оооооочень много \"приятных\"свойств."
   ]
  },
  {
   "cell_type": "code",
   "execution_count": 14,
   "metadata": {},
   "outputs": [],
   "source": [
    "first_list_in_my_life = [] #он, увы, пустой :("
   ]
  },
  {
   "cell_type": "code",
   "execution_count": 15,
   "metadata": {},
   "outputs": [
    {
     "name": "stdout",
     "output_type": "stream",
     "text": [
      "['hello']\n"
     ]
    }
   ],
   "source": [
    "first_list_in_my_life.append(new_string)\n",
    "print(first_list_in_my_life)"
   ]
  },
  {
   "cell_type": "code",
   "execution_count": 16,
   "metadata": {},
   "outputs": [
    {
     "name": "stdout",
     "output_type": "stream",
     "text": [
      "['hello', 1]\n"
     ]
    }
   ],
   "source": [
    "first_list_in_my_life.append(a)\n",
    "print(first_list_in_my_life)"
   ]
  },
  {
   "cell_type": "code",
   "execution_count": 17,
   "metadata": {},
   "outputs": [
    {
     "name": "stdout",
     "output_type": "stream",
     "text": [
      "['hello', 1, 'something']\n"
     ]
    }
   ],
   "source": [
    "second_list = ['something']\n",
    "#списки тоже можно складывать!!! \n",
    "#постарайся получить такой же вывод\n",
    "print()"
   ]
  },
  {
   "cell_type": "markdown",
   "metadata": {},
   "source": [
    "Открываем файлы\n"
   ]
  },
  {
   "cell_type": "code",
   "execution_count": 24,
   "metadata": {},
   "outputs": [
    {
     "name": "stdout",
     "output_type": "stream",
     "text": [
      "My congratulations! You are the first one, who open this file\n",
      "\n"
     ]
    }
   ],
   "source": [
    "f = open('text.txt', 'r')\n",
    "text = f.read()\n",
    "print(text)"
   ]
  },
  {
   "cell_type": "code",
   "execution_count": 25,
   "metadata": {},
   "outputs": [
    {
     "name": "stdout",
     "output_type": "stream",
     "text": [
      "['My congratulations! You are the first one, who open this file\\n']\n"
     ]
    }
   ],
   "source": [
    "h = open('text.txt', 'r')\n",
    "another_way = h.readlines()\n",
    "print(another_way)"
   ]
  },
  {
   "cell_type": "markdown",
   "metadata": {},
   "source": [
    "В чем состоит принципиальное отличие чтения файла с помощью read vs readlines?"
   ]
  },
  {
   "cell_type": "code",
   "execution_count": 26,
   "metadata": {},
   "outputs": [
    {
     "data": {
      "text/plain": [
       "141623"
      ]
     },
     "execution_count": 26,
     "metadata": {},
     "output_type": "execute_result"
    }
   ],
   "source": [
    "positive_tweets= open('positive_tweets.txt', 'r').readlines()\n",
    "len(positive_tweets)"
   ]
  },
  {
   "cell_type": "markdown",
   "metadata": {},
   "source": [
    "О срезах в списках"
   ]
  },
  {
   "cell_type": "code",
   "execution_count": 31,
   "metadata": {},
   "outputs": [],
   "source": [
    "positive_tweets[x:y:z]\n",
    "#x - номер элемента, с которого начнем\n",
    "#y - до какого элемента будет производить процесс\n",
    "#z - может будем брать только каждый второй, третий или десятый?"
   ]
  },
  {
   "cell_type": "code",
   "execution_count": 33,
   "metadata": {},
   "outputs": [
    {
     "name": "stdout",
     "output_type": "stream",
     "text": [
      "['ну любишь или нет? — Я не знаю кто ты бля:D http://t.co/brf9eNg1U6\\n', 'RT @veregijytaqo: У тебя есть ухажёр? Нет - мои уши не кто не жрёт :D\\n', 'Теперь у меня есть частичка Сиднея :) #Sydney #SydneyOperaHouse http://t.co/agnto3CZEi\\n']\n"
     ]
    }
   ],
   "source": [
    "print(positive_tweets[:2])"
   ]
  },
  {
   "cell_type": "markdown",
   "metadata": {},
   "source": [
    "Напечатайте первые 5 твитов с шагом 3."
   ]
  },
  {
   "cell_type": "code",
   "execution_count": 34,
   "metadata": {},
   "outputs": [],
   "source": [
    "pos_part  = positive_tweets[:1000]"
   ]
  },
  {
   "cell_type": "markdown",
   "metadata": {},
   "source": [
    "##### О том как регулярные выражения спасают жизнь компьютерных лингвистов"
   ]
  },
  {
   "cell_type": "markdown",
   "metadata": {},
   "source": [
    "<img src=https://habrastorage.org/webt/l1/z1/9s/l1z19s49sk5bpc8vkmcbho7zgro.jpeg>"
   ]
  },
  {
   "cell_type": "code",
   "execution_count": 37,
   "metadata": {},
   "outputs": [
    {
     "name": "stdout",
     "output_type": "stream",
     "text": [
      "['Теперь', 'у', 'меня', 'есть', 'частичка', 'Сиднея']\n"
     ]
    }
   ],
   "source": [
    "import re \n",
    "#все о регулряных выражения можно проситать здесь и даже потренироваться https://habr.com/post/349860/\n",
    "#а пока ограничимся следующим набором волшебных команд\n",
    "text = 'Теперь у меня есть частичка Сиднея :) #Sydney #SydneyOperaHouse http://t.co/agnto3CZEi\\n'\n",
    "pattern = re.compile('[а-яА-Я]+')\n",
    "result = re.findall(pattern, text)\n",
    "print(result)"
   ]
  }
 ],
 "metadata": {
  "kernelspec": {
   "display_name": "Python 3",
   "language": "python",
   "name": "python3"
  },
  "language_info": {
   "codemirror_mode": {
    "name": "ipython",
    "version": 3
   },
   "file_extension": ".py",
   "mimetype": "text/x-python",
   "name": "python",
   "nbconvert_exporter": "python",
   "pygments_lexer": "ipython3",
   "version": "3.6.7"
  }
 },
 "nbformat": 4,
 "nbformat_minor": 2
}
