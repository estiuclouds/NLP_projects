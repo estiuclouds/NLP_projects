{
 "cells": [
  {
   "cell_type": "code",
   "execution_count": 11,
   "metadata": {},
   "outputs": [
    {
     "name": "stdout",
     "output_type": "stream",
     "text": [
      "en_movie_classification.ipynb  negative_tweets.txt  positive_tweets.txt\r\n",
      "negative.csv\t\t       positive.csv\t    Untitled.ipynb\r\n"
     ]
    }
   ],
   "source": [
    "!ls"
   ]
  },
  {
   "cell_type": "code",
   "execution_count": 12,
   "metadata": {},
   "outputs": [],
   "source": [
    "pos = open('positive_tweets.txt', 'r').readlines()\n",
    "neg = open('negative_tweets.txt', 'r'). readlines()"
   ]
  },
  {
   "cell_type": "code",
   "execution_count": 13,
   "metadata": {},
   "outputs": [
    {
     "data": {
      "text/plain": [
       "['Да, все-таки он немного похож на него. Но мой мальчик все равно лучше:D\\n',\n",
       " 'RT @KatiaCheh: Ну ты идиотка) я испугалась за тебя!!!\\n',\n",
       " 'RT @digger2912: \"Кто то в углу сидит и погибает от голода, а мы ещё 2 порции взяли, хотя уже и так жрать не хотим\" :DD http://t.co/GqG6iuE2…\\n',\n",
       " '@irina_dyshkant Вот что значит страшилка :D\\n',\n",
       " 'Но блин,посмотрев все части,у тебя создастся ощущение,что авторы курили что-то :D\\n',\n",
       " 'ну любишь или нет? — Я не знаю кто ты бля:D http://t.co/brf9eNg1U6\\n',\n",
       " 'RT @SpoonLamer: Ох,900 :D ну это конечно же @twinkleAYO . Чтобы у нее было много друзей, ведь она такая мимими &lt;3\\n',\n",
       " 'RT @veregijytaqo: У тебя есть ухажёр? Нет - мои уши не кто не жрёт :D\\n',\n",
       " 'Поприветствуем моего нового читателя @Alexey1789 ;)\\n',\n",
       " 'Теперь у меня есть частичка Сиднея :) #Sydney #SydneyOperaHouse http://t.co/agnto3CZEi\\n']"
      ]
     },
     "execution_count": 13,
     "metadata": {},
     "output_type": "execute_result"
    }
   ],
   "source": [
    "pos[:10]"
   ]
  },
  {
   "cell_type": "code",
   "execution_count": 74,
   "metadata": {},
   "outputs": [],
   "source": [
    "import re\n",
    "strin = re.compile('[а-яА-Я]+')\n",
    "pos_clear=[]\n",
    "pos_words=[]\n",
    "for j in range(1000): \n",
    "    res = re.findall(strin, pos[j])\n",
    "    pos_clear.append(' '.join(res))\n",
    "    pos_words.extend(res)\n",
    "neg_clear=[]\n",
    "neg_words=[]\n",
    "for j in range(1000):\n",
    "    res_ = re.findall(strin, neg[j])\n",
    "    neg_clear.append(' '.join(res_))\n",
    "    neg_words.extend(res_)"
   ]
  },
  {
   "cell_type": "code",
   "execution_count": 75,
   "metadata": {},
   "outputs": [
    {
     "name": "stdout",
     "output_type": "stream",
     "text": [
      "4056\n",
      "3035\n",
      "2920\n"
     ]
    }
   ],
   "source": [
    "pos_words = set(pos_words)\n",
    "print(len(pos_words))\n",
    "neg_words = set(neg_words)\n",
    "inter = pos_words.intersection(neg_words)\n",
    "pos_words = pos_words - inter\n",
    "neg_words = neg_words - inter\n",
    "print(len(pos_words))\n",
    "print(len(neg_words))"
   ]
  },
  {
   "cell_type": "code",
   "execution_count": 76,
   "metadata": {},
   "outputs": [
    {
     "name": "stdout",
     "output_type": "stream",
     "text": [
      "2000 2000\n"
     ]
    },
    {
     "data": {
      "text/html": [
       "<div>\n",
       "<style scoped>\n",
       "    .dataframe tbody tr th:only-of-type {\n",
       "        vertical-align: middle;\n",
       "    }\n",
       "\n",
       "    .dataframe tbody tr th {\n",
       "        vertical-align: top;\n",
       "    }\n",
       "\n",
       "    .dataframe thead th {\n",
       "        text-align: right;\n",
       "    }\n",
       "</style>\n",
       "<table border=\"1\" class=\"dataframe\">\n",
       "  <thead>\n",
       "    <tr style=\"text-align: right;\">\n",
       "      <th></th>\n",
       "      <th>tweets</th>\n",
       "      <th>ton</th>\n",
       "    </tr>\n",
       "  </thead>\n",
       "  <tbody>\n",
       "    <tr>\n",
       "      <th>0</th>\n",
       "      <td>Да все таки он немного похож на него Но мой ма...</td>\n",
       "      <td>1</td>\n",
       "    </tr>\n",
       "    <tr>\n",
       "      <th>1</th>\n",
       "      <td>Ну ты идиотка я испугалась за тебя</td>\n",
       "      <td>1</td>\n",
       "    </tr>\n",
       "    <tr>\n",
       "      <th>2</th>\n",
       "      <td>Кто то в углу сидит и погибает от голода а мы ...</td>\n",
       "      <td>1</td>\n",
       "    </tr>\n",
       "    <tr>\n",
       "      <th>3</th>\n",
       "      <td>Вот что значит страшилка</td>\n",
       "      <td>1</td>\n",
       "    </tr>\n",
       "    <tr>\n",
       "      <th>4</th>\n",
       "      <td>Но блин посмотрев все части у тебя создастся о...</td>\n",
       "      <td>1</td>\n",
       "    </tr>\n",
       "  </tbody>\n",
       "</table>\n",
       "</div>"
      ],
      "text/plain": [
       "                                              tweets ton\n",
       "0  Да все таки он немного похож на него Но мой ма...   1\n",
       "1                 Ну ты идиотка я испугалась за тебя   1\n",
       "2  Кто то в углу сидит и погибает от голода а мы ...   1\n",
       "3                           Вот что значит страшилка   1\n",
       "4  Но блин посмотрев все части у тебя создастся о...   1"
      ]
     },
     "execution_count": 76,
     "metadata": {},
     "output_type": "execute_result"
    }
   ],
   "source": [
    "import pandas as pd \n",
    "import numpy as np\n",
    "print(len(pos_clear+neg_clear), len(list('1'*1000)+list('0'*1000)))\n",
    "data = pd.DataFrame({'tweets': pos_clear+neg_clear, 'ton': list('1'*len(pos_clear))+list('0'*len(neg_clear))})\n",
    "data.head()"
   ]
  },
  {
   "cell_type": "code",
   "execution_count": 77,
   "metadata": {},
   "outputs": [
    {
     "data": {
      "text/html": [
       "<div>\n",
       "<style scoped>\n",
       "    .dataframe tbody tr th:only-of-type {\n",
       "        vertical-align: middle;\n",
       "    }\n",
       "\n",
       "    .dataframe tbody tr th {\n",
       "        vertical-align: top;\n",
       "    }\n",
       "\n",
       "    .dataframe thead th {\n",
       "        text-align: right;\n",
       "    }\n",
       "</style>\n",
       "<table border=\"1\" class=\"dataframe\">\n",
       "  <thead>\n",
       "    <tr style=\"text-align: right;\">\n",
       "      <th></th>\n",
       "      <th>tweets</th>\n",
       "      <th>ton</th>\n",
       "    </tr>\n",
       "  </thead>\n",
       "  <tbody>\n",
       "    <tr>\n",
       "      <th>1995</th>\n",
       "      <td>каждый новый день похож на предыдущий только д...</td>\n",
       "      <td>0</td>\n",
       "    </tr>\n",
       "    <tr>\n",
       "      <th>1996</th>\n",
       "      <td>Доктор сказал что по крайней мере два месяца п...</td>\n",
       "      <td>0</td>\n",
       "    </tr>\n",
       "    <tr>\n",
       "      <th>1997</th>\n",
       "      <td>задумка о том как написать что бы оно работало...</td>\n",
       "      <td>0</td>\n",
       "    </tr>\n",
       "    <tr>\n",
       "      <th>1998</th>\n",
       "      <td>В обласной центр на квартиру потому что на дан...</td>\n",
       "      <td>0</td>\n",
       "    </tr>\n",
       "    <tr>\n",
       "      <th>1999</th>\n",
       "      <td>Вчерашний ПВД на км оказался полным Назад ехал...</td>\n",
       "      <td>0</td>\n",
       "    </tr>\n",
       "  </tbody>\n",
       "</table>\n",
       "</div>"
      ],
      "text/plain": [
       "                                                 tweets ton\n",
       "1995  каждый новый день похож на предыдущий только д...   0\n",
       "1996  Доктор сказал что по крайней мере два месяца п...   0\n",
       "1997  задумка о том как написать что бы оно работало...   0\n",
       "1998  В обласной центр на квартиру потому что на дан...   0\n",
       "1999  Вчерашний ПВД на км оказался полным Назад ехал...   0"
      ]
     },
     "execution_count": 77,
     "metadata": {},
     "output_type": "execute_result"
    }
   ],
   "source": [
    "data.tail()"
   ]
  },
  {
   "cell_type": "code",
   "execution_count": 78,
   "metadata": {},
   "outputs": [
    {
     "data": {
      "text/html": [
       "<div>\n",
       "<style scoped>\n",
       "    .dataframe tbody tr th:only-of-type {\n",
       "        vertical-align: middle;\n",
       "    }\n",
       "\n",
       "    .dataframe tbody tr th {\n",
       "        vertical-align: top;\n",
       "    }\n",
       "\n",
       "    .dataframe thead th {\n",
       "        text-align: right;\n",
       "    }\n",
       "</style>\n",
       "<table border=\"1\" class=\"dataframe\">\n",
       "  <thead>\n",
       "    <tr style=\"text-align: right;\">\n",
       "      <th></th>\n",
       "      <th>tweets</th>\n",
       "      <th>ton</th>\n",
       "      <th>predict</th>\n",
       "    </tr>\n",
       "  </thead>\n",
       "  <tbody>\n",
       "    <tr>\n",
       "      <th>0</th>\n",
       "      <td>Да все таки он немного похож на него Но мой ма...</td>\n",
       "      <td>1</td>\n",
       "      <td>0.071429</td>\n",
       "    </tr>\n",
       "    <tr>\n",
       "      <th>1</th>\n",
       "      <td>Ну ты идиотка я испугалась за тебя</td>\n",
       "      <td>1</td>\n",
       "      <td>0.285714</td>\n",
       "    </tr>\n",
       "    <tr>\n",
       "      <th>2</th>\n",
       "      <td>Кто то в углу сидит и погибает от голода а мы ...</td>\n",
       "      <td>1</td>\n",
       "      <td>0.285714</td>\n",
       "    </tr>\n",
       "    <tr>\n",
       "      <th>3</th>\n",
       "      <td>Вот что значит страшилка</td>\n",
       "      <td>1</td>\n",
       "      <td>0.250000</td>\n",
       "    </tr>\n",
       "    <tr>\n",
       "      <th>4</th>\n",
       "      <td>Но блин посмотрев все части у тебя создастся о...</td>\n",
       "      <td>1</td>\n",
       "      <td>0.357143</td>\n",
       "    </tr>\n",
       "  </tbody>\n",
       "</table>\n",
       "</div>"
      ],
      "text/plain": [
       "                                              tweets ton   predict\n",
       "0  Да все таки он немного похож на него Но мой ма...   1  0.071429\n",
       "1                 Ну ты идиотка я испугалась за тебя   1  0.285714\n",
       "2  Кто то в углу сидит и погибает от голода а мы ...   1  0.285714\n",
       "3                           Вот что значит страшилка   1  0.250000\n",
       "4  Но блин посмотрев все части у тебя создастся о...   1  0.357143"
      ]
     },
     "execution_count": 78,
     "metadata": {},
     "output_type": "execute_result"
    }
   ],
   "source": [
    "def count(x):\n",
    "    s=0\n",
    "    for i in x.split(' '):\n",
    "        if i in pos_words:\n",
    "            s+=1\n",
    "        if i in neg_words:\n",
    "            s-=1\n",
    "    return s/len(x.split(' '))\n",
    "\n",
    "data['predict'] = data.tweets.apply(count)\n",
    "data.head()"
   ]
  },
  {
   "cell_type": "code",
   "execution_count": 86,
   "metadata": {},
   "outputs": [
    {
     "name": "stdout",
     "output_type": "stream",
     "text": [
      "acuracy:  0.9285 presicion:  1.0\n"
     ]
    }
   ],
   "source": [
    "TP = data[(data.predict>0) & (data.ton=='1')].shape[0]\n",
    "FP = data[(data.predict<0) & (data.ton=='1')].shape[0]\n",
    "TN = data[(data.predict<0) & (data.ton=='0')].shape[0]\n",
    "FN = data[(data.predict>0) & (data.ton=='0')].shape[0]\n",
    "print('acuracy: ', (TP+TN)/2000, 'presicion: ',TP/(TP+FP))"
   ]
  },
  {
   "cell_type": "code",
   "execution_count": null,
   "metadata": {},
   "outputs": [],
   "source": []
  }
 ],
 "metadata": {
  "kernelspec": {
   "display_name": "Python 3",
   "language": "python",
   "name": "python3"
  },
  "language_info": {
   "codemirror_mode": {
    "name": "ipython",
    "version": 3
   },
   "file_extension": ".py",
   "mimetype": "text/x-python",
   "name": "python",
   "nbconvert_exporter": "python",
   "pygments_lexer": "ipython3",
   "version": "3.6.7"
  }
 },
 "nbformat": 4,
 "nbformat_minor": 2
}
